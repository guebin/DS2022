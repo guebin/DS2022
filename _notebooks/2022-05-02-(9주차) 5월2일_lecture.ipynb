{
 "cells": [
  {
   "cell_type": "markdown",
   "id": "150d702d-62e0-4990-a341-bc149bde7cae",
   "metadata": {},
   "source": [
    "# (9주차) 5월2일 -- lecture\n",
    "\n",
    "- toc:true\n",
    "- branch: master\n",
    "- badges: true\n",
    "- comments: true\n",
    "- author: 최규빈"
   ]
  },
  {
   "cell_type": "markdown",
   "id": "7e0ffce7-1379-433b-88aa-06e79f99ea6a",
   "metadata": {
    "tags": []
   },
   "source": [
    "## import"
   ]
  },
  {
   "cell_type": "code",
   "execution_count": 1,
   "id": "327fb6aa-8045-4aa8-acf4-57424f9fd2f2",
   "metadata": {},
   "outputs": [],
   "source": [
    "import tensorflow as tf\n",
    "import matplotlib.pyplot as plt\n",
    "import numpy as np"
   ]
  },
  {
   "cell_type": "code",
   "execution_count": 2,
   "id": "c43254c6-2874-4c84-b132-466712dd1e13",
   "metadata": {},
   "outputs": [
    {
     "data": {
      "text/plain": [
       "[PhysicalDevice(name='/physical_device:CPU:0', device_type='CPU')]"
      ]
     },
     "execution_count": 2,
     "metadata": {},
     "output_type": "execute_result"
    }
   ],
   "source": [
    "tf.config.experimental.list_physical_devices()"
   ]
  },
  {
   "cell_type": "code",
   "execution_count": 3,
   "id": "c47c390b-1e8b-40ad-898c-d6f32bd26a5b",
   "metadata": {},
   "outputs": [],
   "source": [
    "import graphviz\n",
    "def gv(s): return graphviz.Source('digraph G{ rankdir=\"LR\"'+ s + ';}')"
   ]
  },
  {
   "cell_type": "markdown",
   "id": "f07acbe5-13f0-48e4-9bee-f37e4d8d98f2",
   "metadata": {
    "tags": []
   },
   "source": [
    "## 경사하강법과 확률적경사하강법"
   ]
  },
  {
   "cell_type": "markdown",
   "id": "82accb2a-4aba-4c6a-b0fa-4748cecc3b05",
   "metadata": {},
   "source": [
    "`-` 10개의 샘플이 있다고 가정. $\\{(x_i,y_i)\\}_{i=1}^{10}$"
   ]
  },
  {
   "cell_type": "markdown",
   "id": "686a5f46-4d83-408a-b6c4-5853e675a6c9",
   "metadata": {},
   "source": [
    "### ver1: 모든 샘플을 사용하여 slope계산"
   ]
  },
  {
   "cell_type": "markdown",
   "id": "520b8b0f-391d-4d60-91dc-6b92194d4363",
   "metadata": {},
   "source": [
    "(epoch1) $loss=\\sum_{i=1}^{10}(y_i-\\beta_0-\\beta_1x_i)^2 \\quad \\to \\quad slope \\quad \\to \\quad update$"
   ]
  },
  {
   "cell_type": "markdown",
   "id": "264dce34-67c9-4ce1-9f25-bcc0ab15e94a",
   "metadata": {},
   "source": [
    "(epoch2) $loss=\\sum_{i=1}^{10}(y_i-\\beta_0-\\beta_1x_i)^2 \\quad \\to \\quad slope \\quad \\to \\quad update$"
   ]
  },
  {
   "cell_type": "markdown",
   "id": "d777da58-9d8f-4157-a77f-d8c6caf81443",
   "metadata": {},
   "source": [
    "..."
   ]
  },
  {
   "cell_type": "markdown",
   "id": "c5b0914d-1645-493d-a51f-1df82b026312",
   "metadata": {},
   "source": [
    "### ver2: 하나의 샘플만 사용하여 slope계산 "
   ]
  },
  {
   "cell_type": "markdown",
   "id": "72120e79-8ce9-43c7-80a3-1e2605360767",
   "metadata": {},
   "source": [
    "(epoch1) \n",
    "- $loss=(y_1-\\beta_0-\\beta_1x_1)^2 \\quad \\to \\quad slope \\quad \\to \\quad update$\n",
    "- $loss=(y_2-\\beta_0-\\beta_1x_1)^2 \\quad \\to \\quad slope \\quad \\to \\quad update$\n",
    "- ...\n",
    "- $loss=(y_{10}-\\beta_0-\\beta_1x_{10})^2 \\quad \\to \\quad slope \\quad \\to \\quad update$"
   ]
  },
  {
   "cell_type": "markdown",
   "id": "8e45ca5b-9615-4614-a251-0443deb70831",
   "metadata": {},
   "source": [
    "(epoch2) \n",
    "- $loss=(y_1-\\beta_0-\\beta_1x_1)^2 \\quad \\to \\quad slope \\quad \\to \\quad update$\n",
    "- $loss=(y_2-\\beta_0-\\beta_1x_1)^2 \\quad \\to \\quad slope \\quad \\to \\quad update$\n",
    "- ...\n",
    "- $loss=(y_{10}-\\beta_0-\\beta_1x_{10})^2 \\quad \\to \\quad slope \\quad \\to \\quad update$"
   ]
  },
  {
   "cell_type": "markdown",
   "id": "210f2aa1-3da2-41d2-bac8-905c75220b03",
   "metadata": {},
   "source": [
    "..."
   ]
  },
  {
   "cell_type": "markdown",
   "id": "57e07bb4-d3f1-4629-b8aa-74c6dbd80a8e",
   "metadata": {},
   "source": [
    "### ver3: $m(\\leq n)$개의 샘플만 사용하여 slope계산"
   ]
  },
  {
   "cell_type": "markdown",
   "id": "72957d2a-6159-455b-a9f7-d0dc8ef2e18e",
   "metadata": {},
   "source": [
    "$m=3$이라고 하자. "
   ]
  },
  {
   "cell_type": "markdown",
   "id": "17711a71-0bda-443c-86ee-f2de201cc6cc",
   "metadata": {},
   "source": [
    "(epoch1) \n",
    "- $loss=\\sum_{i=1}^{3}(y_i-\\beta_0-\\beta_1x_i)^2 \\quad \\to \\quad slope \\quad \\to \\quad update$\n",
    "- $loss=\\sum_{i=4}^{6}(y_i-\\beta_0-\\beta_1x_i)^2 \\quad \\to \\quad slope \\quad \\to \\quad update$\n",
    "- $loss=\\sum_{i=7}^{9}(y_i-\\beta_0-\\beta_1x_i)^2 \\quad \\to \\quad slope \\quad \\to \\quad update$\n",
    "- $loss=(y_{10}-\\beta_0-\\beta_1x_{10})^2 \\quad \\to \\quad slope \\quad \\to \\quad update$"
   ]
  },
  {
   "cell_type": "markdown",
   "id": "2dc1fa34-a514-4442-8499-d722c5669018",
   "metadata": {},
   "source": [
    "(epoch2) \n",
    "- $loss=\\sum_{i=1}^{3}(y_i-\\beta_0-\\beta_1x_i)^2 \\quad \\to \\quad slope \\quad \\to \\quad update$\n",
    "- $loss=\\sum_{i=4}^{6}(y_i-\\beta_0-\\beta_1x_i)^2 \\quad \\to \\quad slope \\quad \\to \\quad update$\n",
    "- $loss=\\sum_{i=7}^{9}(y_i-\\beta_0-\\beta_1x_i)^2 \\quad \\to \\quad slope \\quad \\to \\quad update$\n",
    "- $loss=(y_{10}-\\beta_0-\\beta_1x_{10})^2 \\quad \\to \\quad slope \\quad \\to \\quad update$"
   ]
  },
  {
   "cell_type": "markdown",
   "id": "cf3ae2c2-be34-416f-ab7f-8d6d1899084f",
   "metadata": {},
   "source": [
    "..."
   ]
  },
  {
   "cell_type": "markdown",
   "id": "fa5a3830-f271-406e-b748-e45df9fe1076",
   "metadata": {},
   "source": [
    "### 용어의 정리 "
   ]
  },
  {
   "cell_type": "markdown",
   "id": "b3a464b9-aaef-4625-8533-cacc00559c9a",
   "metadata": {},
   "source": [
    "#### 옛날 (좀 더 엄밀)"
   ]
  },
  {
   "cell_type": "markdown",
   "id": "870b1c0b-8465-4e54-a8ef-c6dc21512919",
   "metadata": {},
   "source": [
    "`-` ver1: gradient descent, batch gradient descent \n"
   ]
  },
  {
   "cell_type": "markdown",
   "id": "f9b2a2ea-770a-439e-acb2-a5092f8f5687",
   "metadata": {},
   "source": [
    "`-` ver2: stochastic gradient descent"
   ]
  },
  {
   "cell_type": "markdown",
   "id": "7e0f292b-da41-47a5-8dea-6cfbc17e7b11",
   "metadata": {},
   "source": [
    "`-` ver3: mini-batch gradient descent, mini-batch stochastic gradient descent"
   ]
  },
  {
   "cell_type": "markdown",
   "id": "106c2364-be91-43e9-bf87-a9ad9209317c",
   "metadata": {},
   "source": [
    "#### 요즘 "
   ]
  },
  {
   "cell_type": "markdown",
   "id": "a03457f9-5a12-4240-8e46-8cb7a9ca6522",
   "metadata": {},
   "source": [
    "`-` ver1: gradient descent\n"
   ]
  },
  {
   "cell_type": "markdown",
   "id": "30369967-7ee8-46ba-abbc-ccf28df09cc5",
   "metadata": {},
   "source": [
    "`-` ver2: stochastic gradient descent with batch size = 1 "
   ]
  },
  {
   "cell_type": "markdown",
   "id": "aabfe7d2-d779-4b5f-ac6d-e2367f693835",
   "metadata": {},
   "source": [
    "`-` ver3: stochastic gradient descent \n",
    "- https://www.deeplearningbook.org/contents/optimization.html, 알고리즘 8-1 참고. "
   ]
  },
  {
   "cell_type": "markdown",
   "id": "1aa1ab0c-e4be-4462-a9af-b9375056f617",
   "metadata": {},
   "source": [
    "note: 이렇게 많이 쓰는 이유? ver1,2는 사실상 없는 방법이므로"
   ]
  },
  {
   "cell_type": "markdown",
   "id": "41b0806c-1312-40b4-ae45-1e7aa6e8eb95",
   "metadata": {},
   "source": [
    "### ver1,2,3 이외에 좀 더 지저분한 것들이 있다. "
   ]
  },
  {
   "cell_type": "markdown",
   "id": "ab033e1a-c1a8-46f1-acde-80595eb87c73",
   "metadata": {},
   "source": [
    "`-` ver2,3에서 샘플을 셔플할 수도 있다. "
   ]
  },
  {
   "cell_type": "markdown",
   "id": "b7b14707-101e-47ca-afa3-15bece9d3200",
   "metadata": {},
   "source": [
    "`-` ver3에서 일부 샘플이 학습에 참여 안하는 버전도 있다. "
   ]
  },
  {
   "cell_type": "markdown",
   "id": "473e8f92-b711-46c2-86ae-30202e3218ff",
   "metadata": {},
   "source": [
    "`-` 개인적 생각: 너무 더럽다 그냥.. (딱히 엄청난 효과가 있는것도 아니고 각 방법마다 이론이 있는것도 아님) "
   ]
  },
  {
   "cell_type": "markdown",
   "id": "1f96b101-074b-419f-961c-21bc7b2dec08",
   "metadata": {},
   "source": [
    "### Discussion "
   ]
  },
  {
   "cell_type": "markdown",
   "id": "82f26aa7-736b-41e0-9cd5-24525c6318c1",
   "metadata": {},
   "source": [
    "`-` 핵심개념 \n",
    "- **메모리사용량: ver1 > ver3 > ver2**\n",
    "- 계산속도: ver1 > ver3 > ver2 \n",
    "- local-min에 갇힘: ver1 > ver3 > ver2"
   ]
  },
  {
   "cell_type": "markdown",
   "id": "f20b36c8-ef09-46c6-8a05-2e0e31c84652",
   "metadata": {},
   "source": [
    "`-` 본질: GPU 메모리가 한정되어 있어서 ver1을 쓰지는 못한다. GPU 메모리를 가장 적게쓰는것은 ver2인데 이것은 너무 불안정하다. "
   ]
  },
  {
   "cell_type": "markdown",
   "id": "073482a8-ac5a-4eb1-a79c-45240454e597",
   "metadata": {},
   "source": [
    "`-` 틀리진 않지만 어색한 블로그 정리 내용들 \n",
    "- 경사하강법은 종종 국소최소점에 갇히는 문제가 있다. 이를 해결하기 위해서 등장한 방법이 확률적 경사하강법이다. --> 어쩌다 보니까 확률적 경사하강법이 더 잘 빠져나오는것 \n",
    "- 경사하강법은 계산시간이 오래걸린다. 계산을 빠르게 하기 위해서 등장한 방법이 확률적 경사하강법이다. --> 그렇기는 한데 최종적으로 얻는 결과는 무엇이 더 빠른지 모름 \n"
   ]
  },
  {
   "cell_type": "markdown",
   "id": "c824d653-8259-473a-a6ae-d704a4d0ec46",
   "metadata": {},
   "source": [
    "## fashion_mnist 모듈 "
   ]
  },
  {
   "cell_type": "markdown",
   "id": "a9994341-1fe6-466a-99b2-5f9dc7e6293e",
   "metadata": {},
   "source": [
    "### tf.keras.datasets.fashion_mnist.load_data()"
   ]
  },
  {
   "cell_type": "code",
   "execution_count": 4,
   "id": "2fcc9440-37f2-4599-a1d1-dee3bd814948",
   "metadata": {},
   "outputs": [
    {
     "data": {
      "text/plain": [
       "module"
      ]
     },
     "execution_count": 4,
     "metadata": {},
     "output_type": "execute_result"
    }
   ],
   "source": [
    "type(tf.keras.datasets.fashion_mnist)"
   ]
  },
  {
   "cell_type": "code",
   "execution_count": 5,
   "id": "89b1e183-34c3-4048-8914-5b24d6e730e0",
   "metadata": {},
   "outputs": [
    {
     "data": {
      "text/plain": [
       "function"
      ]
     },
     "execution_count": 5,
     "metadata": {},
     "output_type": "execute_result"
    }
   ],
   "source": [
    "type(tf.keras.datasets.fashion_mnist.load_data)"
   ]
  },
  {
   "cell_type": "markdown",
   "id": "e58529e6-3122-4aac-abbb-97b30527c24a",
   "metadata": {},
   "source": [
    "### 데이터생성 및 탐색"
   ]
  },
  {
   "cell_type": "markdown",
   "id": "32792d84-35c1-444a-a6a1-ccecd40b045a",
   "metadata": {},
   "source": [
    "`-` tf.keras.datasets.fashion_mnist.load_data()를 이용한 데이터 생성 "
   ]
  },
  {
   "cell_type": "code",
   "execution_count": 36,
   "id": "f0cc07e9-095f-431e-abdd-286bc448f902",
   "metadata": {},
   "outputs": [
    {
     "data": {
      "text/plain": [
       "\u001b[0;31mSignature:\u001b[0m \u001b[0mtf\u001b[0m\u001b[0;34m.\u001b[0m\u001b[0mkeras\u001b[0m\u001b[0;34m.\u001b[0m\u001b[0mdatasets\u001b[0m\u001b[0;34m.\u001b[0m\u001b[0mfashion_mnist\u001b[0m\u001b[0;34m.\u001b[0m\u001b[0mload_data\u001b[0m\u001b[0;34m(\u001b[0m\u001b[0;34m)\u001b[0m\u001b[0;34m\u001b[0m\u001b[0;34m\u001b[0m\u001b[0m\n",
       "\u001b[0;31mSource:\u001b[0m   \n",
       "\u001b[0;34m@\u001b[0m\u001b[0mkeras_export\u001b[0m\u001b[0;34m(\u001b[0m\u001b[0;34m'keras.datasets.fashion_mnist.load_data'\u001b[0m\u001b[0;34m)\u001b[0m\u001b[0;34m\u001b[0m\n",
       "\u001b[0;34m\u001b[0m\u001b[0;32mdef\u001b[0m \u001b[0mload_data\u001b[0m\u001b[0;34m(\u001b[0m\u001b[0;34m)\u001b[0m\u001b[0;34m:\u001b[0m\u001b[0;34m\u001b[0m\n",
       "\u001b[0;34m\u001b[0m  \u001b[0;34m\"\"\"Loads the Fashion-MNIST dataset.\u001b[0m\n",
       "\u001b[0;34m\u001b[0m\n",
       "\u001b[0;34m  This is a dataset of 60,000 28x28 grayscale images of 10 fashion categories,\u001b[0m\n",
       "\u001b[0;34m  along with a test set of 10,000 images. This dataset can be used as\u001b[0m\n",
       "\u001b[0;34m  a drop-in replacement for MNIST.\u001b[0m\n",
       "\u001b[0;34m\u001b[0m\n",
       "\u001b[0;34m  The classes are:\u001b[0m\n",
       "\u001b[0;34m\u001b[0m\n",
       "\u001b[0;34m  | Label | Description |\u001b[0m\n",
       "\u001b[0;34m  |:-----:|-------------|\u001b[0m\n",
       "\u001b[0;34m  |   0   | T-shirt/top |\u001b[0m\n",
       "\u001b[0;34m  |   1   | Trouser     |\u001b[0m\n",
       "\u001b[0;34m  |   2   | Pullover    |\u001b[0m\n",
       "\u001b[0;34m  |   3   | Dress       |\u001b[0m\n",
       "\u001b[0;34m  |   4   | Coat        |\u001b[0m\n",
       "\u001b[0;34m  |   5   | Sandal      |\u001b[0m\n",
       "\u001b[0;34m  |   6   | Shirt       |\u001b[0m\n",
       "\u001b[0;34m  |   7   | Sneaker     |\u001b[0m\n",
       "\u001b[0;34m  |   8   | Bag         |\u001b[0m\n",
       "\u001b[0;34m  |   9   | Ankle boot  |\u001b[0m\n",
       "\u001b[0;34m\u001b[0m\n",
       "\u001b[0;34m  Returns:\u001b[0m\n",
       "\u001b[0;34m    Tuple of NumPy arrays: `(x_train, y_train), (x_test, y_test)`.\u001b[0m\n",
       "\u001b[0;34m\u001b[0m\n",
       "\u001b[0;34m  **x_train**: uint8 NumPy array of grayscale image data with shapes\u001b[0m\n",
       "\u001b[0;34m    `(60000, 28, 28)`, containing the training data.\u001b[0m\n",
       "\u001b[0;34m\u001b[0m\n",
       "\u001b[0;34m  **y_train**: uint8 NumPy array of labels (integers in range 0-9)\u001b[0m\n",
       "\u001b[0;34m    with shape `(60000,)` for the training data.\u001b[0m\n",
       "\u001b[0;34m\u001b[0m\n",
       "\u001b[0;34m  **x_test**: uint8 NumPy array of grayscale image data with shapes\u001b[0m\n",
       "\u001b[0;34m    (10000, 28, 28), containing the test data.\u001b[0m\n",
       "\u001b[0;34m\u001b[0m\n",
       "\u001b[0;34m  **y_test**: uint8 NumPy array of labels (integers in range 0-9)\u001b[0m\n",
       "\u001b[0;34m    with shape `(10000,)` for the test data.\u001b[0m\n",
       "\u001b[0;34m\u001b[0m\n",
       "\u001b[0;34m  Example:\u001b[0m\n",
       "\u001b[0;34m\u001b[0m\n",
       "\u001b[0;34m  ```python\u001b[0m\n",
       "\u001b[0;34m  (x_train, y_train), (x_test, y_test) = fashion_mnist.load_data()\u001b[0m\n",
       "\u001b[0;34m  assert x_train.shape == (60000, 28, 28)\u001b[0m\n",
       "\u001b[0;34m  assert x_test.shape == (10000, 28, 28)\u001b[0m\n",
       "\u001b[0;34m  assert y_train.shape == (60000,)\u001b[0m\n",
       "\u001b[0;34m  assert y_test.shape == (10000,)\u001b[0m\n",
       "\u001b[0;34m  ```\u001b[0m\n",
       "\u001b[0;34m\u001b[0m\n",
       "\u001b[0;34m  License:\u001b[0m\n",
       "\u001b[0;34m    The copyright for Fashion-MNIST is held by Zalando SE.\u001b[0m\n",
       "\u001b[0;34m    Fashion-MNIST is licensed under the [MIT license](\u001b[0m\n",
       "\u001b[0;34m    https://github.com/zalandoresearch/fashion-mnist/blob/master/LICENSE).\u001b[0m\n",
       "\u001b[0;34m\u001b[0m\n",
       "\u001b[0;34m  \"\"\"\u001b[0m\u001b[0;34m\u001b[0m\n",
       "\u001b[0;34m\u001b[0m  \u001b[0mdirname\u001b[0m \u001b[0;34m=\u001b[0m \u001b[0mos\u001b[0m\u001b[0;34m.\u001b[0m\u001b[0mpath\u001b[0m\u001b[0;34m.\u001b[0m\u001b[0mjoin\u001b[0m\u001b[0;34m(\u001b[0m\u001b[0;34m'datasets'\u001b[0m\u001b[0;34m,\u001b[0m \u001b[0;34m'fashion-mnist'\u001b[0m\u001b[0;34m)\u001b[0m\u001b[0;34m\u001b[0m\n",
       "\u001b[0;34m\u001b[0m  \u001b[0mbase\u001b[0m \u001b[0;34m=\u001b[0m \u001b[0;34m'https://storage.googleapis.com/tensorflow/tf-keras-datasets/'\u001b[0m\u001b[0;34m\u001b[0m\n",
       "\u001b[0;34m\u001b[0m  \u001b[0mfiles\u001b[0m \u001b[0;34m=\u001b[0m \u001b[0;34m[\u001b[0m\u001b[0;34m\u001b[0m\n",
       "\u001b[0;34m\u001b[0m      \u001b[0;34m'train-labels-idx1-ubyte.gz'\u001b[0m\u001b[0;34m,\u001b[0m \u001b[0;34m'train-images-idx3-ubyte.gz'\u001b[0m\u001b[0;34m,\u001b[0m\u001b[0;34m\u001b[0m\n",
       "\u001b[0;34m\u001b[0m      \u001b[0;34m't10k-labels-idx1-ubyte.gz'\u001b[0m\u001b[0;34m,\u001b[0m \u001b[0;34m't10k-images-idx3-ubyte.gz'\u001b[0m\u001b[0;34m\u001b[0m\n",
       "\u001b[0;34m\u001b[0m  \u001b[0;34m]\u001b[0m\u001b[0;34m\u001b[0m\n",
       "\u001b[0;34m\u001b[0m\u001b[0;34m\u001b[0m\n",
       "\u001b[0;34m\u001b[0m  \u001b[0mpaths\u001b[0m \u001b[0;34m=\u001b[0m \u001b[0;34m[\u001b[0m\u001b[0;34m]\u001b[0m\u001b[0;34m\u001b[0m\n",
       "\u001b[0;34m\u001b[0m  \u001b[0;32mfor\u001b[0m \u001b[0mfname\u001b[0m \u001b[0;32min\u001b[0m \u001b[0mfiles\u001b[0m\u001b[0;34m:\u001b[0m\u001b[0;34m\u001b[0m\n",
       "\u001b[0;34m\u001b[0m    \u001b[0mpaths\u001b[0m\u001b[0;34m.\u001b[0m\u001b[0mappend\u001b[0m\u001b[0;34m(\u001b[0m\u001b[0mget_file\u001b[0m\u001b[0;34m(\u001b[0m\u001b[0mfname\u001b[0m\u001b[0;34m,\u001b[0m \u001b[0morigin\u001b[0m\u001b[0;34m=\u001b[0m\u001b[0mbase\u001b[0m \u001b[0;34m+\u001b[0m \u001b[0mfname\u001b[0m\u001b[0;34m,\u001b[0m \u001b[0mcache_subdir\u001b[0m\u001b[0;34m=\u001b[0m\u001b[0mdirname\u001b[0m\u001b[0;34m)\u001b[0m\u001b[0;34m)\u001b[0m\u001b[0;34m\u001b[0m\n",
       "\u001b[0;34m\u001b[0m\u001b[0;34m\u001b[0m\n",
       "\u001b[0;34m\u001b[0m  \u001b[0;32mwith\u001b[0m \u001b[0mgzip\u001b[0m\u001b[0;34m.\u001b[0m\u001b[0mopen\u001b[0m\u001b[0;34m(\u001b[0m\u001b[0mpaths\u001b[0m\u001b[0;34m[\u001b[0m\u001b[0;36m0\u001b[0m\u001b[0;34m]\u001b[0m\u001b[0;34m,\u001b[0m \u001b[0;34m'rb'\u001b[0m\u001b[0;34m)\u001b[0m \u001b[0;32mas\u001b[0m \u001b[0mlbpath\u001b[0m\u001b[0;34m:\u001b[0m\u001b[0;34m\u001b[0m\n",
       "\u001b[0;34m\u001b[0m    \u001b[0my_train\u001b[0m \u001b[0;34m=\u001b[0m \u001b[0mnp\u001b[0m\u001b[0;34m.\u001b[0m\u001b[0mfrombuffer\u001b[0m\u001b[0;34m(\u001b[0m\u001b[0mlbpath\u001b[0m\u001b[0;34m.\u001b[0m\u001b[0mread\u001b[0m\u001b[0;34m(\u001b[0m\u001b[0;34m)\u001b[0m\u001b[0;34m,\u001b[0m \u001b[0mnp\u001b[0m\u001b[0;34m.\u001b[0m\u001b[0muint8\u001b[0m\u001b[0;34m,\u001b[0m \u001b[0moffset\u001b[0m\u001b[0;34m=\u001b[0m\u001b[0;36m8\u001b[0m\u001b[0;34m)\u001b[0m\u001b[0;34m\u001b[0m\n",
       "\u001b[0;34m\u001b[0m\u001b[0;34m\u001b[0m\n",
       "\u001b[0;34m\u001b[0m  \u001b[0;32mwith\u001b[0m \u001b[0mgzip\u001b[0m\u001b[0;34m.\u001b[0m\u001b[0mopen\u001b[0m\u001b[0;34m(\u001b[0m\u001b[0mpaths\u001b[0m\u001b[0;34m[\u001b[0m\u001b[0;36m1\u001b[0m\u001b[0;34m]\u001b[0m\u001b[0;34m,\u001b[0m \u001b[0;34m'rb'\u001b[0m\u001b[0;34m)\u001b[0m \u001b[0;32mas\u001b[0m \u001b[0mimgpath\u001b[0m\u001b[0;34m:\u001b[0m\u001b[0;34m\u001b[0m\n",
       "\u001b[0;34m\u001b[0m    \u001b[0mx_train\u001b[0m \u001b[0;34m=\u001b[0m \u001b[0mnp\u001b[0m\u001b[0;34m.\u001b[0m\u001b[0mfrombuffer\u001b[0m\u001b[0;34m(\u001b[0m\u001b[0;34m\u001b[0m\n",
       "\u001b[0;34m\u001b[0m        \u001b[0mimgpath\u001b[0m\u001b[0;34m.\u001b[0m\u001b[0mread\u001b[0m\u001b[0;34m(\u001b[0m\u001b[0;34m)\u001b[0m\u001b[0;34m,\u001b[0m \u001b[0mnp\u001b[0m\u001b[0;34m.\u001b[0m\u001b[0muint8\u001b[0m\u001b[0;34m,\u001b[0m \u001b[0moffset\u001b[0m\u001b[0;34m=\u001b[0m\u001b[0;36m16\u001b[0m\u001b[0;34m)\u001b[0m\u001b[0;34m.\u001b[0m\u001b[0mreshape\u001b[0m\u001b[0;34m(\u001b[0m\u001b[0mlen\u001b[0m\u001b[0;34m(\u001b[0m\u001b[0my_train\u001b[0m\u001b[0;34m)\u001b[0m\u001b[0;34m,\u001b[0m \u001b[0;36m28\u001b[0m\u001b[0;34m,\u001b[0m \u001b[0;36m28\u001b[0m\u001b[0;34m)\u001b[0m\u001b[0;34m\u001b[0m\n",
       "\u001b[0;34m\u001b[0m\u001b[0;34m\u001b[0m\n",
       "\u001b[0;34m\u001b[0m  \u001b[0;32mwith\u001b[0m \u001b[0mgzip\u001b[0m\u001b[0;34m.\u001b[0m\u001b[0mopen\u001b[0m\u001b[0;34m(\u001b[0m\u001b[0mpaths\u001b[0m\u001b[0;34m[\u001b[0m\u001b[0;36m2\u001b[0m\u001b[0;34m]\u001b[0m\u001b[0;34m,\u001b[0m \u001b[0;34m'rb'\u001b[0m\u001b[0;34m)\u001b[0m \u001b[0;32mas\u001b[0m \u001b[0mlbpath\u001b[0m\u001b[0;34m:\u001b[0m\u001b[0;34m\u001b[0m\n",
       "\u001b[0;34m\u001b[0m    \u001b[0my_test\u001b[0m \u001b[0;34m=\u001b[0m \u001b[0mnp\u001b[0m\u001b[0;34m.\u001b[0m\u001b[0mfrombuffer\u001b[0m\u001b[0;34m(\u001b[0m\u001b[0mlbpath\u001b[0m\u001b[0;34m.\u001b[0m\u001b[0mread\u001b[0m\u001b[0;34m(\u001b[0m\u001b[0;34m)\u001b[0m\u001b[0;34m,\u001b[0m \u001b[0mnp\u001b[0m\u001b[0;34m.\u001b[0m\u001b[0muint8\u001b[0m\u001b[0;34m,\u001b[0m \u001b[0moffset\u001b[0m\u001b[0;34m=\u001b[0m\u001b[0;36m8\u001b[0m\u001b[0;34m)\u001b[0m\u001b[0;34m\u001b[0m\n",
       "\u001b[0;34m\u001b[0m\u001b[0;34m\u001b[0m\n",
       "\u001b[0;34m\u001b[0m  \u001b[0;32mwith\u001b[0m \u001b[0mgzip\u001b[0m\u001b[0;34m.\u001b[0m\u001b[0mopen\u001b[0m\u001b[0;34m(\u001b[0m\u001b[0mpaths\u001b[0m\u001b[0;34m[\u001b[0m\u001b[0;36m3\u001b[0m\u001b[0;34m]\u001b[0m\u001b[0;34m,\u001b[0m \u001b[0;34m'rb'\u001b[0m\u001b[0;34m)\u001b[0m \u001b[0;32mas\u001b[0m \u001b[0mimgpath\u001b[0m\u001b[0;34m:\u001b[0m\u001b[0;34m\u001b[0m\n",
       "\u001b[0;34m\u001b[0m    \u001b[0mx_test\u001b[0m \u001b[0;34m=\u001b[0m \u001b[0mnp\u001b[0m\u001b[0;34m.\u001b[0m\u001b[0mfrombuffer\u001b[0m\u001b[0;34m(\u001b[0m\u001b[0;34m\u001b[0m\n",
       "\u001b[0;34m\u001b[0m        \u001b[0mimgpath\u001b[0m\u001b[0;34m.\u001b[0m\u001b[0mread\u001b[0m\u001b[0;34m(\u001b[0m\u001b[0;34m)\u001b[0m\u001b[0;34m,\u001b[0m \u001b[0mnp\u001b[0m\u001b[0;34m.\u001b[0m\u001b[0muint8\u001b[0m\u001b[0;34m,\u001b[0m \u001b[0moffset\u001b[0m\u001b[0;34m=\u001b[0m\u001b[0;36m16\u001b[0m\u001b[0;34m)\u001b[0m\u001b[0;34m.\u001b[0m\u001b[0mreshape\u001b[0m\u001b[0;34m(\u001b[0m\u001b[0mlen\u001b[0m\u001b[0;34m(\u001b[0m\u001b[0my_test\u001b[0m\u001b[0;34m)\u001b[0m\u001b[0;34m,\u001b[0m \u001b[0;36m28\u001b[0m\u001b[0;34m,\u001b[0m \u001b[0;36m28\u001b[0m\u001b[0;34m)\u001b[0m\u001b[0;34m\u001b[0m\n",
       "\u001b[0;34m\u001b[0m\u001b[0;34m\u001b[0m\n",
       "\u001b[0;34m\u001b[0m  \u001b[0;32mreturn\u001b[0m \u001b[0;34m(\u001b[0m\u001b[0mx_train\u001b[0m\u001b[0;34m,\u001b[0m \u001b[0my_train\u001b[0m\u001b[0;34m)\u001b[0m\u001b[0;34m,\u001b[0m \u001b[0;34m(\u001b[0m\u001b[0mx_test\u001b[0m\u001b[0;34m,\u001b[0m \u001b[0my_test\u001b[0m\u001b[0;34m)\u001b[0m\u001b[0;34m\u001b[0m\u001b[0;34m\u001b[0m\u001b[0m\n",
       "\u001b[0;31mFile:\u001b[0m      ~/anaconda3/envs/tfcpu/lib/python3.9/site-packages/keras/datasets/fashion_mnist.py\n",
       "\u001b[0;31mType:\u001b[0m      function\n"
      ]
     },
     "metadata": {},
     "output_type": "display_data"
    }
   ],
   "source": [
    "tf.keras.datasets.fashion_mnist.load_data??"
   ]
  },
  {
   "cell_type": "markdown",
   "id": "5b730efc-fd11-4272-90ac-1bdd19edd44b",
   "metadata": {},
   "source": [
    "`-` 함수의 return값을 확인하면 (x_train, y_train), (x_test, y_test)로 결과를 받아야 코드가 예뻐짐을 알 수 있다. "
   ]
  },
  {
   "cell_type": "code",
   "execution_count": 37,
   "id": "98e9988d-5329-47cc-9c0f-849cb73c9ab1",
   "metadata": {},
   "outputs": [],
   "source": [
    "(x_train, y_train), (x_test, y_test) = tf.keras.datasets.fashion_mnist.load_data()"
   ]
  },
  {
   "cell_type": "markdown",
   "id": "a77dc0c3-8f1c-4de8-ab7d-6a4781ddc21f",
   "metadata": {},
   "source": [
    "`-` 데이터의 확인 "
   ]
  },
  {
   "cell_type": "code",
   "execution_count": 38,
   "id": "10010068-c895-4d2f-b8c7-70fdf4bad2f6",
   "metadata": {},
   "outputs": [
    {
     "data": {
      "text/plain": [
       "((60000, 28, 28), (60000,))"
      ]
     },
     "execution_count": 38,
     "metadata": {},
     "output_type": "execute_result"
    }
   ],
   "source": [
    "x_train.shape, y_train.shape"
   ]
  },
  {
   "cell_type": "markdown",
   "id": "bd5c1a2c-02bf-455b-84fa-1e9c537e1c47",
   "metadata": {},
   "source": [
    "- x는 60000개의 관측치(이미지의 수)를 가지고 있는듯 보인다. \n",
    "- 하나의 obs에 대한 x의 차원은 (28,28)이다. \n",
    "- 하나의 obs에 대한 y의 차원은 스칼라다. "
   ]
  },
  {
   "cell_type": "code",
   "execution_count": 39,
   "id": "836d7ba6-a3f1-4ed7-88b1-2c17b3e34712",
   "metadata": {},
   "outputs": [
    {
     "data": {
      "text/plain": [
       "((10000, 28, 28), (10000,))"
      ]
     },
     "execution_count": 39,
     "metadata": {},
     "output_type": "execute_result"
    }
   ],
   "source": [
    "x_test.shape, y_test.shape"
   ]
  },
  {
   "cell_type": "markdown",
   "id": "bd56841b-1a42-469b-a7b7-282a4c073f22",
   "metadata": {},
   "source": [
    "- train과 test의 비율을 6:1로 나눔 "
   ]
  },
  {
   "cell_type": "markdown",
   "id": "c6340c94-ea79-46e5-9c73-e478df23741f",
   "metadata": {},
   "source": [
    "`-` 하나의 관측치가 무엇을 의미할까? "
   ]
  },
  {
   "cell_type": "code",
   "execution_count": 40,
   "id": "819c2cc8-5d00-4513-bfdb-47000584f5c5",
   "metadata": {},
   "outputs": [
    {
     "data": {
      "text/plain": [
       "<matplotlib.image.AxesImage at 0x7fb760ad2a00>"
      ]
     },
     "execution_count": 40,
     "metadata": {},
     "output_type": "execute_result"
    },
    {
     "data": {
      "image/png": "[encoded data removed]",
      "text/plain": [
       "<Figure size 432x288 with 1 Axes>"
      ]
     },
     "metadata": {
      "needs_background": "light"
     },
     "output_type": "display_data"
    }
   ],
   "source": [
    "plt.imshow(x_train[0])"
   ]
  },
  {
   "cell_type": "markdown",
   "id": "edc046fb-d66e-4b1e-be13-61b527dc570b",
   "metadata": {},
   "source": [
    "- 신발?"
   ]
  },
  {
   "cell_type": "code",
   "execution_count": 41,
   "id": "3e225116-5d02-4110-9149-609a5ece72ec",
   "metadata": {},
   "outputs": [
    {
     "data": {
      "text/plain": [
       "9"
      ]
     },
     "execution_count": 41,
     "metadata": {},
     "output_type": "execute_result"
    }
   ],
   "source": [
    "y_train[0]"
   ]
  },
  {
   "cell_type": "markdown",
   "id": "4a1b251f-2cb1-407c-8501-996fca9fb682",
   "metadata": {},
   "source": [
    "- 신발이미지=x, 신발임의의미하는숫자9=y"
   ]
  },
  {
   "cell_type": "code",
   "execution_count": 11,
   "id": "abff1383-3e97-4206-8a9c-08dcf6a43475",
   "metadata": {},
   "outputs": [
    {
     "data": {
      "text/plain": [
       "(array([    0,    11,    15, ..., 59932, 59970, 59978]),)"
      ]
     },
     "execution_count": 11,
     "metadata": {},
     "output_type": "execute_result"
    }
   ],
   "source": [
    "np.where(y_train == 9)"
   ]
  },
  {
   "cell_type": "markdown",
   "id": "314444c4-6226-40ae-8961-b29e58d4b9c2",
   "metadata": {},
   "source": [
    "- y==9인 다른 obs조사 "
   ]
  },
  {
   "cell_type": "code",
   "execution_count": 12,
   "id": "8345523f-b3aa-4444-b763-7328d23429f2",
   "metadata": {},
   "outputs": [
    {
     "data": {
      "text/plain": [
       "<matplotlib.image.AxesImage at 0x7fb7684466a0>"
      ]
     },
     "execution_count": 12,
     "metadata": {},
     "output_type": "execute_result"
    },
    {
     "data": {
      "image/png": "[encoded data removed]",
      "text/plain": [
       "<Figure size 432x288 with 1 Axes>"
      ]
     },
     "metadata": {
      "needs_background": "light"
     },
     "output_type": "display_data"
    }
   ],
   "source": [
    "plt.imshow(x_train[11])"
   ]
  },
  {
   "cell_type": "markdown",
   "id": "db5d4dea-3b06-4058-93ca-9a34ee73bc0a",
   "metadata": {},
   "source": [
    "- obs0과 유사함"
   ]
  },
  {
   "cell_type": "code",
   "execution_count": 43,
   "id": "f99e8a81-2bc4-492c-8209-e75ca8de71bb",
   "metadata": {},
   "outputs": [
    {
     "data": {
      "text/plain": [
       "array([9, 0, 0, ..., 3, 0, 5], dtype=uint8)"
      ]
     },
     "execution_count": 43,
     "metadata": {},
     "output_type": "execute_result"
    }
   ],
   "source": [
    "y_train"
   ]
  },
  {
   "cell_type": "markdown",
   "id": "1890d715-a038-4ae4-a4ad-7aed7ac80ef5",
   "metadata": {},
   "source": [
    "### 데이터구조 "
   ]
  },
  {
   "cell_type": "code",
   "execution_count": 44,
   "id": "6aabff2b-0b2c-49d2-8cad-1e7ab8c60d9a",
   "metadata": {},
   "outputs": [
    {
     "data": {
      "text/plain": [
       "(60000, 28, 28)"
      ]
     },
     "execution_count": 44,
     "metadata": {},
     "output_type": "execute_result"
    }
   ],
   "source": [
    "x_train.shape"
   ]
  },
  {
   "cell_type": "markdown",
   "id": "1cc75430-30f4-4ff2-8500-e52375ed2330",
   "metadata": {},
   "source": [
    "`-` $\\bf{X}$: (n,28,28), 픽셀크기가 28$\\times$28 인 이미지 "
   ]
  },
  {
   "cell_type": "markdown",
   "id": "5e3d9657-7b8c-4daf-babb-5be0b470ff80",
   "metadata": {},
   "source": [
    "`-` ${\\bf y}$: (n,), 이미지에 대응하는 라벨 (0~9까지의 숫자로 되어있다) "
   ]
  },
  {
   "cell_type": "markdown",
   "id": "6df7878d-a027-4a0d-aa4d-287df84ca684",
   "metadata": {},
   "source": [
    "## 예제1"
   ]
  },
  {
   "cell_type": "markdown",
   "id": "46acce66-af19-4368-a663-079e5794821b",
   "metadata": {
    "tags": []
   },
   "source": [
    "### 데이터 정리 "
   ]
  },
  {
   "cell_type": "markdown",
   "id": "0758f3be-11e0-4b31-8f3f-ecea4bc2bb8c",
   "metadata": {},
   "source": [
    "`-` y=0,1에 대응하는 이미지만 정리하자. (우리가 배운건 로지스틱이니깐) "
   ]
  },
  {
   "cell_type": "markdown",
   "id": "f1607fa9-169a-46c1-9d05-301dc135bd6b",
   "metadata": {},
   "source": [
    "### 풀이1: 은닉층을 포함한 신경망  // epochs=100"
   ]
  },
  {
   "cell_type": "code",
   "execution_count": 15,
   "id": "89de916e-b83d-42d6-bd39-f5d3004d25c2",
   "metadata": {},
   "outputs": [
    {
     "data": {
      "image/svg+xml": [
       "<?xml version=\"1.0\" encoding=\"UTF-8\" standalone=\"no\"?>\n",
       "<!DOCTYPE svg PUBLIC \"-//W3C//DTD SVG 1.1//EN\"\n",
       " \"http://www.w3.org/Graphics/SVG/1.1/DTD/svg11.dtd\">\n",
       "<!-- Generated by graphviz version 3.0.0 (20220315.2325)\n",
       " -->\n",
       "<!-- Title: G Pages: 1 -->\n",
       "<svg width=\"383pt\" height=\"261pt\"\n",
       " viewBox=\"0.00 0.00 383.29 261.00\" xmlns=\"http://www.w3.org/2000/svg\" xmlns:xlink=\"http://www.w3.org/1999/xlink\">\n",
       "<g id=\"graph0\" class=\"graph\" transform=\"scale(1 1) rotate(0) translate(4 257)\">\n",
       "<title>G</title>\n",
       "<polygon fill=\"white\" stroke=\"transparent\" points=\"-4,4 -4,-257 379.29,-257 379.29,4 -4,4\"/>\n",
       "<g id=\"clust1\" class=\"cluster\">\n",
       "<title>cluster_1</title>\n",
       "<polygon fill=\"lightgrey\" stroke=\"lightgrey\" points=\"8,-8 8,-245 91.59,-245 91.59,-8 8,-8\"/>\n",
       "<text text-anchor=\"middle\" x=\"49.8\" y=\"-229.8\" font-family=\"Times,serif\" font-size=\"14.00\">Layer 0</text>\n",
       "</g>\n",
       "<g id=\"clust2\" class=\"cluster\">\n",
       "<title>cluster_2</title>\n",
       "<polygon fill=\"lightgrey\" stroke=\"lightgrey\" points=\"111.59,-8 111.59,-245 219.29,-245 219.29,-8 111.59,-8\"/>\n",
       "<text text-anchor=\"middle\" x=\"165.44\" y=\"-229.8\" font-family=\"Times,serif\" font-size=\"14.00\">Layer 1: relu</text>\n",
       "</g>\n",
       "<g id=\"clust3\" class=\"cluster\">\n",
       "<title>cluster_3</title>\n",
       "<polygon fill=\"lightgrey\" stroke=\"lightgrey\" points=\"239.29,-89 239.29,-164 375.29,-164 375.29,-89 239.29,-89\"/>\n",
       "<text text-anchor=\"middle\" x=\"307.29\" y=\"-148.8\" font-family=\"Times,serif\" font-size=\"14.00\">Layer 2: sigmoid</text>\n",
       "</g>\n",
       "<!-- x1 -->\n",
       "<g id=\"node1\" class=\"node\">\n",
       "<title>x1</title>\n",
       "<ellipse fill=\"none\" stroke=\"black\" cx=\"49.8\" cy=\"-196\" rx=\"27\" ry=\"18\"/>\n",
       "<text text-anchor=\"middle\" x=\"49.8\" y=\"-192.3\" font-family=\"Times,serif\" font-size=\"14.00\">x1</text>\n",
       "</g>\n",
       "<!-- node1 -->\n",
       "<g id=\"node5\" class=\"node\">\n",
       "<title>node1</title>\n",
       "<ellipse fill=\"none\" stroke=\"black\" cx=\"165.44\" cy=\"-196\" rx=\"38.99\" ry=\"18\"/>\n",
       "<text text-anchor=\"middle\" x=\"165.44\" y=\"-192.3\" font-family=\"Times,serif\" font-size=\"14.00\">node1</text>\n",
       "</g>\n",
       "<!-- x1&#45;&gt;node1 -->\n",
       "<g id=\"edge1\" class=\"edge\">\n",
       "<title>x1&#45;&gt;node1</title>\n",
       "<path fill=\"none\" stroke=\"black\" d=\"M76.87,-196C88.57,-196 102.75,-196 116.27,-196\"/>\n",
       "<polygon fill=\"black\" stroke=\"black\" points=\"116.42,-199.5 126.42,-196 116.42,-192.5 116.42,-199.5\"/>\n",
       "</g>\n",
       "<!-- node2 -->\n",
       "<g id=\"node6\" class=\"node\">\n",
       "<title>node2</title>\n",
       "<ellipse fill=\"none\" stroke=\"black\" cx=\"165.44\" cy=\"-142\" rx=\"38.99\" ry=\"18\"/>\n",
       "<text text-anchor=\"middle\" x=\"165.44\" y=\"-138.3\" font-family=\"Times,serif\" font-size=\"14.00\">node2</text>\n",
       "</g>\n",
       "<!-- x1&#45;&gt;node2 -->\n",
       "<g id=\"edge5\" class=\"edge\">\n",
       "<title>x1&#45;&gt;node2</title>\n",
       "<path fill=\"none\" stroke=\"black\" d=\"M72.17,-185.84C88.01,-178.32 109.97,-167.88 128.5,-159.08\"/>\n",
       "<polygon fill=\"black\" stroke=\"black\" points=\"130.01,-162.23 137.54,-154.78 127.01,-155.91 130.01,-162.23\"/>\n",
       "</g>\n",
       "<!-- ... -->\n",
       "<g id=\"node7\" class=\"node\">\n",
       "<title>...</title>\n",
       "<ellipse fill=\"none\" stroke=\"black\" cx=\"165.44\" cy=\"-88\" rx=\"27\" ry=\"18\"/>\n",
       "<text text-anchor=\"middle\" x=\"165.44\" y=\"-84.3\" font-family=\"Times,serif\" font-size=\"14.00\">...</text>\n",
       "</g>\n",
       "<!-- x1&#45;&gt;... -->\n",
       "<g id=\"edge9\" class=\"edge\">\n",
       "<title>x1&#45;&gt;...</title>\n",
       "<path fill=\"none\" stroke=\"black\" d=\"M66.12,-181.43C85.53,-163 119.12,-131.07 141.56,-109.74\"/>\n",
       "<polygon fill=\"black\" stroke=\"black\" points=\"144.16,-112.11 148.99,-102.68 139.33,-107.03 144.16,-112.11\"/>\n",
       "</g>\n",
       "<!-- node30 -->\n",
       "<g id=\"node8\" class=\"node\">\n",
       "<title>node30</title>\n",
       "<ellipse fill=\"none\" stroke=\"black\" cx=\"165.44\" cy=\"-34\" rx=\"44.69\" ry=\"18\"/>\n",
       "<text text-anchor=\"middle\" x=\"165.44\" y=\"-30.3\" font-family=\"Times,serif\" font-size=\"14.00\">node30</text>\n",
       "</g>\n",
       "<!-- x1&#45;&gt;node30 -->\n",
       "<g id=\"edge13\" class=\"edge\">\n",
       "<title>x1&#45;&gt;node30</title>\n",
       "<path fill=\"none\" stroke=\"black\" d=\"M62.11,-179.87C81.8,-151.81 122.52,-93.76 146.23,-59.97\"/>\n",
       "<polygon fill=\"black\" stroke=\"black\" points=\"149.27,-61.72 152.15,-51.52 143.54,-57.7 149.27,-61.72\"/>\n",
       "</g>\n",
       "<!-- x2 -->\n",
       "<g id=\"node2\" class=\"node\">\n",
       "<title>x2</title>\n",
       "<ellipse fill=\"none\" stroke=\"black\" cx=\"49.8\" cy=\"-142\" rx=\"27\" ry=\"18\"/>\n",
       "<text text-anchor=\"middle\" x=\"49.8\" y=\"-138.3\" font-family=\"Times,serif\" font-size=\"14.00\">x2</text>\n",
       "</g>\n",
       "<!-- x2&#45;&gt;node1 -->\n",
       "<g id=\"edge2\" class=\"edge\">\n",
       "<title>x2&#45;&gt;node1</title>\n",
       "<path fill=\"none\" stroke=\"black\" d=\"M72.17,-152.16C88.01,-159.68 109.97,-170.12 128.5,-178.92\"/>\n",
       "<polygon fill=\"black\" stroke=\"black\" points=\"127.01,-182.09 137.54,-183.22 130.01,-175.77 127.01,-182.09\"/>\n",
       "</g>\n",
       "<!-- x2&#45;&gt;node2 -->\n",
       "<g id=\"edge6\" class=\"edge\">\n",
       "<title>x2&#45;&gt;node2</title>\n",
       "<path fill=\"none\" stroke=\"black\" d=\"M76.87,-142C88.57,-142 102.75,-142 116.27,-142\"/>\n",
       "<polygon fill=\"black\" stroke=\"black\" points=\"116.42,-145.5 126.42,-142 116.42,-138.5 116.42,-145.5\"/>\n",
       "</g>\n",
       "<!-- x2&#45;&gt;... -->\n",
       "<g id=\"edge10\" class=\"edge\">\n",
       "<title>x2&#45;&gt;...</title>\n",
       "<path fill=\"none\" stroke=\"black\" d=\"M72.17,-131.84C89.52,-123.6 114.21,-111.87 133.69,-102.61\"/>\n",
       "<polygon fill=\"black\" stroke=\"black\" points=\"135.24,-105.75 142.77,-98.3 132.24,-99.43 135.24,-105.75\"/>\n",
       "</g>\n",
       "<!-- x2&#45;&gt;node30 -->\n",
       "<g id=\"edge14\" class=\"edge\">\n",
       "<title>x2&#45;&gt;node30</title>\n",
       "<path fill=\"none\" stroke=\"black\" d=\"M66.12,-127.43C84.98,-109.51 117.25,-78.84 139.66,-57.55\"/>\n",
       "<polygon fill=\"black\" stroke=\"black\" points=\"142.29,-59.88 147.13,-50.45 137.47,-54.8 142.29,-59.88\"/>\n",
       "</g>\n",
       "<!-- .. -->\n",
       "<g id=\"node3\" class=\"node\">\n",
       "<title>..</title>\n",
       "<ellipse fill=\"none\" stroke=\"black\" cx=\"49.8\" cy=\"-88\" rx=\"27\" ry=\"18\"/>\n",
       "<text text-anchor=\"middle\" x=\"49.8\" y=\"-84.3\" font-family=\"Times,serif\" font-size=\"14.00\">..</text>\n",
       "</g>\n",
       "<!-- ..&#45;&gt;node1 -->\n",
       "<g id=\"edge3\" class=\"edge\">\n",
       "<title>..&#45;&gt;node1</title>\n",
       "<path fill=\"none\" stroke=\"black\" d=\"M66.12,-102.57C85.09,-120.59 117.63,-151.51 140.04,-172.81\"/>\n",
       "<polygon fill=\"black\" stroke=\"black\" points=\"137.85,-175.56 147.51,-179.91 142.67,-170.48 137.85,-175.56\"/>\n",
       "</g>\n",
       "<!-- ..&#45;&gt;node2 -->\n",
       "<g id=\"edge7\" class=\"edge\">\n",
       "<title>..&#45;&gt;node2</title>\n",
       "<path fill=\"none\" stroke=\"black\" d=\"M72.17,-98.16C88.01,-105.68 109.97,-116.12 128.5,-124.92\"/>\n",
       "<polygon fill=\"black\" stroke=\"black\" points=\"127.01,-128.09 137.54,-129.22 130.01,-121.77 127.01,-128.09\"/>\n",
       "</g>\n",
       "<!-- ..&#45;&gt;... -->\n",
       "<g id=\"edge11\" class=\"edge\">\n",
       "<title>..&#45;&gt;...</title>\n",
       "<path fill=\"none\" stroke=\"black\" d=\"M76.87,-88C91.92,-88 111.09,-88 127.66,-88\"/>\n",
       "<polygon fill=\"black\" stroke=\"black\" points=\"128.1,-91.5 138.1,-88 128.1,-84.5 128.1,-91.5\"/>\n",
       "</g>\n",
       "<!-- ..&#45;&gt;node30 -->\n",
       "<g id=\"edge15\" class=\"edge\">\n",
       "<title>..&#45;&gt;node30</title>\n",
       "<path fill=\"none\" stroke=\"black\" d=\"M72.17,-77.84C87.5,-70.56 108.57,-60.55 126.7,-51.93\"/>\n",
       "<polygon fill=\"black\" stroke=\"black\" points=\"128.33,-55.03 135.86,-47.58 125.33,-48.71 128.33,-55.03\"/>\n",
       "</g>\n",
       "<!-- x784 -->\n",
       "<g id=\"node4\" class=\"node\">\n",
       "<title>x784</title>\n",
       "<ellipse fill=\"none\" stroke=\"black\" cx=\"49.8\" cy=\"-34\" rx=\"33.6\" ry=\"18\"/>\n",
       "<text text-anchor=\"middle\" x=\"49.8\" y=\"-30.3\" font-family=\"Times,serif\" font-size=\"14.00\">x784</text>\n",
       "</g>\n",
       "<!-- x784&#45;&gt;node1 -->\n",
       "<g id=\"edge4\" class=\"edge\">\n",
       "<title>x784&#45;&gt;node1</title>\n",
       "<path fill=\"none\" stroke=\"black\" d=\"M62.53,-50.73C82.42,-79.07 122.87,-136.74 146.38,-170.26\"/>\n",
       "<polygon fill=\"black\" stroke=\"black\" points=\"143.65,-172.46 152.26,-178.63 149.38,-168.44 143.65,-172.46\"/>\n",
       "</g>\n",
       "<!-- x784&#45;&gt;node2 -->\n",
       "<g id=\"edge8\" class=\"edge\">\n",
       "<title>x784&#45;&gt;node2</title>\n",
       "<path fill=\"none\" stroke=\"black\" d=\"M67.08,-49.47C86.18,-67.63 118.05,-97.91 140.09,-118.86\"/>\n",
       "<polygon fill=\"black\" stroke=\"black\" points=\"137.79,-121.5 147.45,-125.85 142.61,-116.42 137.79,-121.5\"/>\n",
       "</g>\n",
       "<!-- x784&#45;&gt;... -->\n",
       "<g id=\"edge12\" class=\"edge\">\n",
       "<title>x784&#45;&gt;...</title>\n",
       "<path fill=\"none\" stroke=\"black\" d=\"M75.46,-45.72C92.58,-53.85 115.51,-64.75 133.8,-73.44\"/>\n",
       "<polygon fill=\"black\" stroke=\"black\" points=\"132.36,-76.63 142.89,-77.76 135.36,-70.31 132.36,-76.63\"/>\n",
       "</g>\n",
       "<!-- x784&#45;&gt;node30 -->\n",
       "<g id=\"edge16\" class=\"edge\">\n",
       "<title>x784&#45;&gt;node30</title>\n",
       "<path fill=\"none\" stroke=\"black\" d=\"M83.67,-34C91.95,-34 101.07,-34 110.11,-34\"/>\n",
       "<polygon fill=\"black\" stroke=\"black\" points=\"110.23,-37.5 120.23,-34 110.23,-30.5 110.23,-37.5\"/>\n",
       "</g>\n",
       "<!-- y -->\n",
       "<g id=\"node9\" class=\"node\">\n",
       "<title>y</title>\n",
       "<ellipse fill=\"none\" stroke=\"black\" cx=\"307.29\" cy=\"-115\" rx=\"27\" ry=\"18\"/>\n",
       "<text text-anchor=\"middle\" x=\"307.29\" y=\"-111.3\" font-family=\"Times,serif\" font-size=\"14.00\">y</text>\n",
       "</g>\n",
       "<!-- node1&#45;&gt;y -->\n",
       "<g id=\"edge17\" class=\"edge\">\n",
       "<title>node1&#45;&gt;y</title>\n",
       "<path fill=\"none\" stroke=\"black\" d=\"M190.48,-182.08C214.55,-168.14 251.59,-146.68 277.28,-131.8\"/>\n",
       "<polygon fill=\"black\" stroke=\"black\" points=\"279.28,-134.69 286.18,-126.65 275.77,-128.63 279.28,-134.69\"/>\n",
       "</g>\n",
       "<!-- node2&#45;&gt;y -->\n",
       "<g id=\"edge18\" class=\"edge\">\n",
       "<title>node2&#45;&gt;y</title>\n",
       "<path fill=\"none\" stroke=\"black\" d=\"M201.73,-135.19C223.01,-131.08 250.01,-125.87 271.24,-121.77\"/>\n",
       "<polygon fill=\"black\" stroke=\"black\" points=\"272,-125.18 281.15,-119.85 270.67,-118.31 272,-125.18\"/>\n",
       "</g>\n",
       "<!-- ...&#45;&gt;y -->\n",
       "<g id=\"edge19\" class=\"edge\">\n",
       "<title>...&#45;&gt;y</title>\n",
       "<path fill=\"none\" stroke=\"black\" d=\"M191.77,-92.89C213.94,-97.17 246.39,-103.44 271.09,-108.2\"/>\n",
       "<polygon fill=\"black\" stroke=\"black\" points=\"270.67,-111.69 281.15,-110.15 271.99,-104.81 270.67,-111.69\"/>\n",
       "</g>\n",
       "<!-- node30&#45;&gt;y -->\n",
       "<g id=\"edge20\" class=\"edge\">\n",
       "<title>node30&#45;&gt;y</title>\n",
       "<path fill=\"none\" stroke=\"black\" d=\"M191.77,-48.67C215.88,-62.64 252.14,-83.64 277.38,-98.26\"/>\n",
       "<polygon fill=\"black\" stroke=\"black\" points=\"275.73,-101.34 286.13,-103.33 279.23,-95.29 275.73,-101.34\"/>\n",
       "</g>\n",
       "</g>\n",
       "</svg>\n"
      ],
      "text/plain": [
       "<graphviz.sources.Source at 0x7f1a002b1dc0>"
      ]
     },
     "execution_count": 15,
     "metadata": {},
     "output_type": "execute_result"
    }
   ],
   "source": [
    "#collapse\n",
    "gv('''\n",
    "splines=line\n",
    "subgraph cluster_1{\n",
    "    style=filled;\n",
    "    color=lightgrey;\n",
    "    \"x1\"\n",
    "    \"x2\"\n",
    "    \"..\"\n",
    "    \"x784\"\n",
    "    label = \"Layer 0\"\n",
    "}\n",
    "subgraph cluster_2{\n",
    "    style=filled;\n",
    "    color=lightgrey;\n",
    "    \"x1\" -> \"node1\"\n",
    "    \"x2\" -> \"node1\"\n",
    "    \"..\" -> \"node1\"\n",
    "    \n",
    "    \"x784\" -> \"node1\"\n",
    "    \"x1\" -> \"node2\"\n",
    "    \"x2\" -> \"node2\"\n",
    "    \"..\" -> \"node2\"\n",
    "    \"x784\" -> \"node2\"\n",
    "    \n",
    "    \"x1\" -> \"...\"\n",
    "    \"x2\" -> \"...\"\n",
    "    \"..\" -> \"...\"\n",
    "    \"x784\" -> \"...\"\n",
    "\n",
    "    \"x1\" -> \"node30\"\n",
    "    \"x2\" -> \"node30\"\n",
    "    \"..\" -> \"node30\"\n",
    "    \"x784\" -> \"node30\"\n",
    "\n",
    "\n",
    "    label = \"Layer 1: relu\"\n",
    "}\n",
    "subgraph cluster_3{\n",
    "    style=filled;\n",
    "    color=lightgrey;\n",
    "    \"node1\" -> \"y\"\n",
    "    \"node2\" -> \"y\"\n",
    "    \"...\" -> \"y\"\n",
    "    \"node30\" -> \"y\"\n",
    "    label = \"Layer 2: sigmoid\"\n",
    "}\n",
    "''')"
   ]
  },
  {
   "cell_type": "markdown",
   "id": "1e98a4d6-4b9a-4195-9637-d65833c75c86",
   "metadata": {},
   "source": [
    "### 풀이2: 옵티마이저 개선"
   ]
  },
  {
   "cell_type": "markdown",
   "id": "64ea3ada-597c-4dd4-bd25-09c7910b36e7",
   "metadata": {},
   "source": [
    "### 풀이3: 컴파일시 metrics=['accuracy'] 추가"
   ]
  },
  {
   "cell_type": "markdown",
   "id": "2c5714c2-9bb7-4b11-9d4f-a2785425eba5",
   "metadata": {
    "tags": []
   },
   "source": [
    "### 풀이4: 확률적경사하강법 이용 // epochs=10"
   ]
  },
  {
   "cell_type": "markdown",
   "id": "ed833dcb-a9a1-4716-8764-de8e928fe543",
   "metadata": {
    "tags": []
   },
   "source": [
    "## 예제2"
   ]
  },
  {
   "cell_type": "markdown",
   "id": "64bf2067-a90b-42c3-9933-19d9884b1711",
   "metadata": {},
   "source": [
    "### 데이터정리 "
   ]
  },
  {
   "cell_type": "markdown",
   "id": "766a5d48-88c5-4c60-805f-14559b203761",
   "metadata": {
    "tags": []
   },
   "source": [
    "### 풀이1: 아까 예제1 정도의 모델로! (ephocs=20)"
   ]
  },
  {
   "cell_type": "code",
   "execution_count": 54,
   "id": "be51830f-0d9f-44e2-88c8-8f5d9e75edac",
   "metadata": {},
   "outputs": [
    {
     "data": {
      "image/svg+xml": [
       "<?xml version=\"1.0\" encoding=\"UTF-8\" standalone=\"no\"?>\n",
       "<!DOCTYPE svg PUBLIC \"-//W3C//DTD SVG 1.1//EN\"\n",
       " \"http://www.w3.org/Graphics/SVG/1.1/DTD/svg11.dtd\">\n",
       "<!-- Generated by graphviz version 3.0.0 (20220315.2325)\n",
       " -->\n",
       "<!-- Title: G Pages: 1 -->\n",
       "<svg width=\"383pt\" height=\"261pt\"\n",
       " viewBox=\"0.00 0.00 383.18 261.00\" xmlns=\"http://www.w3.org/2000/svg\" xmlns:xlink=\"http://www.w3.org/1999/xlink\">\n",
       "<g id=\"graph0\" class=\"graph\" transform=\"scale(1 1) rotate(0) translate(4 257)\">\n",
       "<title>G</title>\n",
       "<polygon fill=\"white\" stroke=\"transparent\" points=\"-4,4 -4,-257 379.18,-257 379.18,4 -4,4\"/>\n",
       "<g id=\"clust1\" class=\"cluster\">\n",
       "<title>cluster_1</title>\n",
       "<polygon fill=\"lightgrey\" stroke=\"lightgrey\" points=\"8,-8 8,-245 91.59,-245 91.59,-8 8,-8\"/>\n",
       "<text text-anchor=\"middle\" x=\"49.8\" y=\"-229.8\" font-family=\"Times,serif\" font-size=\"14.00\">Layer 0</text>\n",
       "</g>\n",
       "<g id=\"clust2\" class=\"cluster\">\n",
       "<title>cluster_2</title>\n",
       "<polygon fill=\"lightgrey\" stroke=\"lightgrey\" points=\"111.59,-8 111.59,-245 219.29,-245 219.29,-8 111.59,-8\"/>\n",
       "<text text-anchor=\"middle\" x=\"165.44\" y=\"-229.8\" font-family=\"Times,serif\" font-size=\"14.00\">Layer 1: relu</text>\n",
       "</g>\n",
       "<g id=\"clust3\" class=\"cluster\">\n",
       "<title>cluster_3</title>\n",
       "<polygon fill=\"lightgrey\" stroke=\"lightgrey\" points=\"239.29,-35 239.29,-218 375.18,-218 375.18,-35 239.29,-35\"/>\n",
       "<text text-anchor=\"middle\" x=\"307.23\" y=\"-202.8\" font-family=\"Times,serif\" font-size=\"14.00\">Layer 2: sigmoid</text>\n",
       "</g>\n",
       "<!-- x1 -->\n",
       "<g id=\"node1\" class=\"node\">\n",
       "<title>x1</title>\n",
       "<ellipse fill=\"none\" stroke=\"black\" cx=\"49.8\" cy=\"-196\" rx=\"27\" ry=\"18\"/>\n",
       "<text text-anchor=\"middle\" x=\"49.8\" y=\"-192.3\" font-family=\"Times,serif\" font-size=\"14.00\">x1</text>\n",
       "</g>\n",
       "<!-- node1 -->\n",
       "<g id=\"node5\" class=\"node\">\n",
       "<title>node1</title>\n",
       "<ellipse fill=\"none\" stroke=\"black\" cx=\"165.44\" cy=\"-196\" rx=\"38.99\" ry=\"18\"/>\n",
       "<text text-anchor=\"middle\" x=\"165.44\" y=\"-192.3\" font-family=\"Times,serif\" font-size=\"14.00\">node1</text>\n",
       "</g>\n",
       "<!-- x1&#45;&gt;node1 -->\n",
       "<g id=\"edge1\" class=\"edge\">\n",
       "<title>x1&#45;&gt;node1</title>\n",
       "<path fill=\"none\" stroke=\"black\" d=\"M76.87,-196C88.57,-196 102.75,-196 116.27,-196\"/>\n",
       "<polygon fill=\"black\" stroke=\"black\" points=\"116.42,-199.5 126.42,-196 116.42,-192.5 116.42,-199.5\"/>\n",
       "</g>\n",
       "<!-- node2 -->\n",
       "<g id=\"node6\" class=\"node\">\n",
       "<title>node2</title>\n",
       "<ellipse fill=\"none\" stroke=\"black\" cx=\"165.44\" cy=\"-142\" rx=\"38.99\" ry=\"18\"/>\n",
       "<text text-anchor=\"middle\" x=\"165.44\" y=\"-138.3\" font-family=\"Times,serif\" font-size=\"14.00\">node2</text>\n",
       "</g>\n",
       "<!-- x1&#45;&gt;node2 -->\n",
       "<g id=\"edge5\" class=\"edge\">\n",
       "<title>x1&#45;&gt;node2</title>\n",
       "<path fill=\"none\" stroke=\"black\" d=\"M72.17,-185.84C88.01,-178.32 109.97,-167.88 128.5,-159.08\"/>\n",
       "<polygon fill=\"black\" stroke=\"black\" points=\"130.01,-162.23 137.54,-154.78 127.01,-155.91 130.01,-162.23\"/>\n",
       "</g>\n",
       "<!-- ... -->\n",
       "<g id=\"node7\" class=\"node\">\n",
       "<title>...</title>\n",
       "<ellipse fill=\"none\" stroke=\"black\" cx=\"165.44\" cy=\"-88\" rx=\"27\" ry=\"18\"/>\n",
       "<text text-anchor=\"middle\" x=\"165.44\" y=\"-84.3\" font-family=\"Times,serif\" font-size=\"14.00\">...</text>\n",
       "</g>\n",
       "<!-- x1&#45;&gt;... -->\n",
       "<g id=\"edge9\" class=\"edge\">\n",
       "<title>x1&#45;&gt;...</title>\n",
       "<path fill=\"none\" stroke=\"black\" d=\"M66.12,-181.43C85.53,-163 119.12,-131.07 141.56,-109.74\"/>\n",
       "<polygon fill=\"black\" stroke=\"black\" points=\"144.16,-112.11 148.99,-102.68 139.33,-107.03 144.16,-112.11\"/>\n",
       "</g>\n",
       "<!-- node30 -->\n",
       "<g id=\"node8\" class=\"node\">\n",
       "<title>node30</title>\n",
       "<ellipse fill=\"none\" stroke=\"black\" cx=\"165.44\" cy=\"-34\" rx=\"44.69\" ry=\"18\"/>\n",
       "<text text-anchor=\"middle\" x=\"165.44\" y=\"-30.3\" font-family=\"Times,serif\" font-size=\"14.00\">node30</text>\n",
       "</g>\n",
       "<!-- x1&#45;&gt;node30 -->\n",
       "<g id=\"edge13\" class=\"edge\">\n",
       "<title>x1&#45;&gt;node30</title>\n",
       "<path fill=\"none\" stroke=\"black\" d=\"M62.11,-179.87C81.8,-151.81 122.52,-93.76 146.23,-59.97\"/>\n",
       "<polygon fill=\"black\" stroke=\"black\" points=\"149.27,-61.72 152.15,-51.52 143.54,-57.7 149.27,-61.72\"/>\n",
       "</g>\n",
       "<!-- x2 -->\n",
       "<g id=\"node2\" class=\"node\">\n",
       "<title>x2</title>\n",
       "<ellipse fill=\"none\" stroke=\"black\" cx=\"49.8\" cy=\"-142\" rx=\"27\" ry=\"18\"/>\n",
       "<text text-anchor=\"middle\" x=\"49.8\" y=\"-138.3\" font-family=\"Times,serif\" font-size=\"14.00\">x2</text>\n",
       "</g>\n",
       "<!-- x2&#45;&gt;node1 -->\n",
       "<g id=\"edge2\" class=\"edge\">\n",
       "<title>x2&#45;&gt;node1</title>\n",
       "<path fill=\"none\" stroke=\"black\" d=\"M72.17,-152.16C88.01,-159.68 109.97,-170.12 128.5,-178.92\"/>\n",
       "<polygon fill=\"black\" stroke=\"black\" points=\"127.01,-182.09 137.54,-183.22 130.01,-175.77 127.01,-182.09\"/>\n",
       "</g>\n",
       "<!-- x2&#45;&gt;node2 -->\n",
       "<g id=\"edge6\" class=\"edge\">\n",
       "<title>x2&#45;&gt;node2</title>\n",
       "<path fill=\"none\" stroke=\"black\" d=\"M76.87,-142C88.57,-142 102.75,-142 116.27,-142\"/>\n",
       "<polygon fill=\"black\" stroke=\"black\" points=\"116.42,-145.5 126.42,-142 116.42,-138.5 116.42,-145.5\"/>\n",
       "</g>\n",
       "<!-- x2&#45;&gt;... -->\n",
       "<g id=\"edge10\" class=\"edge\">\n",
       "<title>x2&#45;&gt;...</title>\n",
       "<path fill=\"none\" stroke=\"black\" d=\"M72.17,-131.84C89.52,-123.6 114.21,-111.87 133.69,-102.61\"/>\n",
       "<polygon fill=\"black\" stroke=\"black\" points=\"135.24,-105.75 142.77,-98.3 132.24,-99.43 135.24,-105.75\"/>\n",
       "</g>\n",
       "<!-- x2&#45;&gt;node30 -->\n",
       "<g id=\"edge14\" class=\"edge\">\n",
       "<title>x2&#45;&gt;node30</title>\n",
       "<path fill=\"none\" stroke=\"black\" d=\"M66.12,-127.43C84.98,-109.51 117.25,-78.84 139.66,-57.55\"/>\n",
       "<polygon fill=\"black\" stroke=\"black\" points=\"142.29,-59.88 147.13,-50.45 137.47,-54.8 142.29,-59.88\"/>\n",
       "</g>\n",
       "<!-- .. -->\n",
       "<g id=\"node3\" class=\"node\">\n",
       "<title>..</title>\n",
       "<ellipse fill=\"none\" stroke=\"black\" cx=\"49.8\" cy=\"-88\" rx=\"27\" ry=\"18\"/>\n",
       "<text text-anchor=\"middle\" x=\"49.8\" y=\"-84.3\" font-family=\"Times,serif\" font-size=\"14.00\">..</text>\n",
       "</g>\n",
       "<!-- ..&#45;&gt;node1 -->\n",
       "<g id=\"edge3\" class=\"edge\">\n",
       "<title>..&#45;&gt;node1</title>\n",
       "<path fill=\"none\" stroke=\"black\" d=\"M66.12,-102.57C85.09,-120.59 117.63,-151.51 140.04,-172.81\"/>\n",
       "<polygon fill=\"black\" stroke=\"black\" points=\"137.85,-175.56 147.51,-179.91 142.67,-170.48 137.85,-175.56\"/>\n",
       "</g>\n",
       "<!-- ..&#45;&gt;node2 -->\n",
       "<g id=\"edge7\" class=\"edge\">\n",
       "<title>..&#45;&gt;node2</title>\n",
       "<path fill=\"none\" stroke=\"black\" d=\"M72.17,-98.16C88.01,-105.68 109.97,-116.12 128.5,-124.92\"/>\n",
       "<polygon fill=\"black\" stroke=\"black\" points=\"127.01,-128.09 137.54,-129.22 130.01,-121.77 127.01,-128.09\"/>\n",
       "</g>\n",
       "<!-- ..&#45;&gt;... -->\n",
       "<g id=\"edge11\" class=\"edge\">\n",
       "<title>..&#45;&gt;...</title>\n",
       "<path fill=\"none\" stroke=\"black\" d=\"M76.87,-88C91.92,-88 111.09,-88 127.66,-88\"/>\n",
       "<polygon fill=\"black\" stroke=\"black\" points=\"128.1,-91.5 138.1,-88 128.1,-84.5 128.1,-91.5\"/>\n",
       "</g>\n",
       "<!-- ..&#45;&gt;node30 -->\n",
       "<g id=\"edge15\" class=\"edge\">\n",
       "<title>..&#45;&gt;node30</title>\n",
       "<path fill=\"none\" stroke=\"black\" d=\"M72.17,-77.84C87.5,-70.56 108.57,-60.55 126.7,-51.93\"/>\n",
       "<polygon fill=\"black\" stroke=\"black\" points=\"128.33,-55.03 135.86,-47.58 125.33,-48.71 128.33,-55.03\"/>\n",
       "</g>\n",
       "<!-- x784 -->\n",
       "<g id=\"node4\" class=\"node\">\n",
       "<title>x784</title>\n",
       "<ellipse fill=\"none\" stroke=\"black\" cx=\"49.8\" cy=\"-34\" rx=\"33.6\" ry=\"18\"/>\n",
       "<text text-anchor=\"middle\" x=\"49.8\" y=\"-30.3\" font-family=\"Times,serif\" font-size=\"14.00\">x784</text>\n",
       "</g>\n",
       "<!-- x784&#45;&gt;node1 -->\n",
       "<g id=\"edge4\" class=\"edge\">\n",
       "<title>x784&#45;&gt;node1</title>\n",
       "<path fill=\"none\" stroke=\"black\" d=\"M62.53,-50.73C82.42,-79.07 122.87,-136.74 146.38,-170.26\"/>\n",
       "<polygon fill=\"black\" stroke=\"black\" points=\"143.65,-172.46 152.26,-178.63 149.38,-168.44 143.65,-172.46\"/>\n",
       "</g>\n",
       "<!-- x784&#45;&gt;node2 -->\n",
       "<g id=\"edge8\" class=\"edge\">\n",
       "<title>x784&#45;&gt;node2</title>\n",
       "<path fill=\"none\" stroke=\"black\" d=\"M67.08,-49.47C86.18,-67.63 118.05,-97.91 140.09,-118.86\"/>\n",
       "<polygon fill=\"black\" stroke=\"black\" points=\"137.79,-121.5 147.45,-125.85 142.61,-116.42 137.79,-121.5\"/>\n",
       "</g>\n",
       "<!-- x784&#45;&gt;... -->\n",
       "<g id=\"edge12\" class=\"edge\">\n",
       "<title>x784&#45;&gt;...</title>\n",
       "<path fill=\"none\" stroke=\"black\" d=\"M75.46,-45.72C92.58,-53.85 115.51,-64.75 133.8,-73.44\"/>\n",
       "<polygon fill=\"black\" stroke=\"black\" points=\"132.36,-76.63 142.89,-77.76 135.36,-70.31 132.36,-76.63\"/>\n",
       "</g>\n",
       "<!-- x784&#45;&gt;node30 -->\n",
       "<g id=\"edge16\" class=\"edge\">\n",
       "<title>x784&#45;&gt;node30</title>\n",
       "<path fill=\"none\" stroke=\"black\" d=\"M83.67,-34C91.95,-34 101.07,-34 110.11,-34\"/>\n",
       "<polygon fill=\"black\" stroke=\"black\" points=\"110.23,-37.5 120.23,-34 110.23,-30.5 110.23,-37.5\"/>\n",
       "</g>\n",
       "<!-- y10 -->\n",
       "<g id=\"node9\" class=\"node\">\n",
       "<title>y10</title>\n",
       "<ellipse fill=\"none\" stroke=\"black\" cx=\"307.23\" cy=\"-61\" rx=\"27.9\" ry=\"18\"/>\n",
       "<text text-anchor=\"middle\" x=\"307.23\" y=\"-57.3\" font-family=\"Times,serif\" font-size=\"14.00\">y10</text>\n",
       "</g>\n",
       "<!-- node1&#45;&gt;y10 -->\n",
       "<g id=\"edge17\" class=\"edge\">\n",
       "<title>node1&#45;&gt;y10</title>\n",
       "<path fill=\"none\" stroke=\"black\" d=\"M183.3,-179.72C208.39,-155.49 255.6,-109.89 283.65,-82.81\"/>\n",
       "<polygon fill=\"black\" stroke=\"black\" points=\"286.26,-85.16 291.02,-75.69 281.4,-80.12 286.26,-85.16\"/>\n",
       "</g>\n",
       "<!-- y1 -->\n",
       "<g id=\"node10\" class=\"node\">\n",
       "<title>y1</title>\n",
       "<ellipse fill=\"none\" stroke=\"black\" cx=\"307.23\" cy=\"-169\" rx=\"27\" ry=\"18\"/>\n",
       "<text text-anchor=\"middle\" x=\"307.23\" y=\"-165.3\" font-family=\"Times,serif\" font-size=\"14.00\">y1</text>\n",
       "</g>\n",
       "<!-- node1&#45;&gt;y1 -->\n",
       "<g id=\"edge21\" class=\"edge\">\n",
       "<title>node1&#45;&gt;y1</title>\n",
       "<path fill=\"none\" stroke=\"black\" d=\"M201.72,-189.19C222.99,-185.08 249.98,-179.87 271.2,-175.77\"/>\n",
       "<polygon fill=\"black\" stroke=\"black\" points=\"271.96,-179.19 281.11,-173.85 270.63,-172.31 271.96,-179.19\"/>\n",
       "</g>\n",
       "<!-- . -->\n",
       "<g id=\"node11\" class=\"node\">\n",
       "<title>.</title>\n",
       "<ellipse fill=\"none\" stroke=\"black\" cx=\"307.23\" cy=\"-115\" rx=\"27\" ry=\"18\"/>\n",
       "<text text-anchor=\"middle\" x=\"307.23\" y=\"-111.3\" font-family=\"Times,serif\" font-size=\"14.00\">.</text>\n",
       "</g>\n",
       "<!-- node1&#45;&gt;. -->\n",
       "<g id=\"edge25\" class=\"edge\">\n",
       "<title>node1&#45;&gt;.</title>\n",
       "<path fill=\"none\" stroke=\"black\" d=\"M190.47,-182.08C214.53,-168.14 251.56,-146.68 277.24,-131.8\"/>\n",
       "<polygon fill=\"black\" stroke=\"black\" points=\"279.24,-134.69 286.14,-126.65 275.73,-128.63 279.24,-134.69\"/>\n",
       "</g>\n",
       "<!-- node2&#45;&gt;y10 -->\n",
       "<g id=\"edge18\" class=\"edge\">\n",
       "<title>node2&#45;&gt;y10</title>\n",
       "<path fill=\"none\" stroke=\"black\" d=\"M190.47,-128.08C214.39,-114.22 251.13,-92.93 276.79,-78.06\"/>\n",
       "<polygon fill=\"black\" stroke=\"black\" points=\"278.8,-80.94 285.7,-72.9 275.29,-74.89 278.8,-80.94\"/>\n",
       "</g>\n",
       "<!-- node2&#45;&gt;y1 -->\n",
       "<g id=\"edge22\" class=\"edge\">\n",
       "<title>node2&#45;&gt;y1</title>\n",
       "<path fill=\"none\" stroke=\"black\" d=\"M201.72,-148.81C222.99,-152.92 249.98,-158.13 271.2,-162.23\"/>\n",
       "<polygon fill=\"black\" stroke=\"black\" points=\"270.63,-165.69 281.11,-164.15 271.96,-158.81 270.63,-165.69\"/>\n",
       "</g>\n",
       "<!-- node2&#45;&gt;. -->\n",
       "<g id=\"edge26\" class=\"edge\">\n",
       "<title>node2&#45;&gt;.</title>\n",
       "<path fill=\"none\" stroke=\"black\" d=\"M201.72,-135.19C222.99,-131.08 249.98,-125.87 271.2,-121.77\"/>\n",
       "<polygon fill=\"black\" stroke=\"black\" points=\"271.96,-125.19 281.11,-119.85 270.63,-118.31 271.96,-125.19\"/>\n",
       "</g>\n",
       "<!-- ...&#45;&gt;y10 -->\n",
       "<g id=\"edge19\" class=\"edge\">\n",
       "<title>...&#45;&gt;y10</title>\n",
       "<path fill=\"none\" stroke=\"black\" d=\"M191.76,-83.11C213.65,-78.88 245.56,-72.72 270.13,-67.97\"/>\n",
       "<polygon fill=\"black\" stroke=\"black\" points=\"271,-71.37 280.16,-66.04 269.68,-64.5 271,-71.37\"/>\n",
       "</g>\n",
       "<!-- ...&#45;&gt;y1 -->\n",
       "<g id=\"edge23\" class=\"edge\">\n",
       "<title>...&#45;&gt;y1</title>\n",
       "<path fill=\"none\" stroke=\"black\" d=\"M186.47,-99.61C210.34,-113.44 250.42,-136.66 277.57,-152.39\"/>\n",
       "<polygon fill=\"black\" stroke=\"black\" points=\"275.83,-155.43 286.24,-157.42 279.34,-149.37 275.83,-155.43\"/>\n",
       "</g>\n",
       "<!-- ...&#45;&gt;. -->\n",
       "<g id=\"edge27\" class=\"edge\">\n",
       "<title>...&#45;&gt;.</title>\n",
       "<path fill=\"none\" stroke=\"black\" d=\"M191.76,-92.89C213.92,-97.17 246.36,-103.44 271.05,-108.2\"/>\n",
       "<polygon fill=\"black\" stroke=\"black\" points=\"270.62,-111.69 281.11,-110.15 271.95,-104.81 270.62,-111.69\"/>\n",
       "</g>\n",
       "<!-- node30&#45;&gt;y10 -->\n",
       "<g id=\"edge20\" class=\"edge\">\n",
       "<title>node30&#45;&gt;y10</title>\n",
       "<path fill=\"none\" stroke=\"black\" d=\"M206.13,-41.66C226.24,-45.55 250.49,-50.23 270.09,-54.02\"/>\n",
       "<polygon fill=\"black\" stroke=\"black\" points=\"269.67,-57.5 280.15,-55.96 270.99,-50.63 269.67,-57.5\"/>\n",
       "</g>\n",
       "<!-- node30&#45;&gt;y1 -->\n",
       "<g id=\"edge24\" class=\"edge\">\n",
       "<title>node30&#45;&gt;y1</title>\n",
       "<path fill=\"none\" stroke=\"black\" d=\"M183.58,-50.55C208.77,-74.88 255.82,-120.32 283.75,-147.29\"/>\n",
       "<polygon fill=\"black\" stroke=\"black\" points=\"281.47,-149.95 291.09,-154.38 286.33,-144.91 281.47,-149.95\"/>\n",
       "</g>\n",
       "<!-- node30&#45;&gt;. -->\n",
       "<g id=\"edge28\" class=\"edge\">\n",
       "<title>node30&#45;&gt;.</title>\n",
       "<path fill=\"none\" stroke=\"black\" d=\"M191.76,-48.67C215.86,-62.64 252.11,-83.64 277.34,-98.26\"/>\n",
       "<polygon fill=\"black\" stroke=\"black\" points=\"275.68,-101.34 286.09,-103.33 279.19,-95.29 275.68,-101.34\"/>\n",
       "</g>\n",
       "</g>\n",
       "</svg>\n"
      ],
      "text/plain": [
       "<graphviz.sources.Source at 0x7f1a3f7e1490>"
      ]
     },
     "execution_count": 54,
     "metadata": {},
     "output_type": "execute_result"
    }
   ],
   "source": [
    "#collapse\n",
    "gv('''\n",
    "splines=line\n",
    "subgraph cluster_1{\n",
    "    style=filled;\n",
    "    color=lightgrey;\n",
    "    \"x1\"\n",
    "    \"x2\"\n",
    "    \"..\"\n",
    "    \"x784\"\n",
    "    label = \"Layer 0\"\n",
    "}\n",
    "subgraph cluster_2{\n",
    "    style=filled;\n",
    "    color=lightgrey;\n",
    "    \"x1\" -> \"node1\"\n",
    "    \"x2\" -> \"node1\"\n",
    "    \"..\" -> \"node1\"\n",
    "    \n",
    "    \"x784\" -> \"node1\"\n",
    "    \"x1\" -> \"node2\"\n",
    "    \"x2\" -> \"node2\"\n",
    "    \"..\" -> \"node2\"\n",
    "    \"x784\" -> \"node2\"\n",
    "    \n",
    "    \"x1\" -> \"...\"\n",
    "    \"x2\" -> \"...\"\n",
    "    \"..\" -> \"...\"\n",
    "    \"x784\" -> \"...\"\n",
    "\n",
    "    \"x1\" -> \"node30\"\n",
    "    \"x2\" -> \"node30\"\n",
    "    \"..\" -> \"node30\"\n",
    "    \"x784\" -> \"node30\"\n",
    "\n",
    "\n",
    "    label = \"Layer 1: relu\"\n",
    "}\n",
    "subgraph cluster_3{\n",
    "    style=filled;\n",
    "    color=lightgrey;\n",
    "\n",
    "    \"node1\" -> \"y10\"\n",
    "    \"node2\" -> \"y10\"\n",
    "    \"...\" -> \"y10\"\n",
    "    \"node30\" -> \"y10\"\n",
    "    \n",
    "    \"node1\" -> \"y1\"\n",
    "    \"node2\" -> \"y1\"\n",
    "    \"...\" -> \"y1\"\n",
    "    \"node30\" -> \"y1\"\n",
    "    \n",
    "    \"node1\" -> \".\"\n",
    "    \"node2\" -> \".\"\n",
    "    \"...\" -> \".\"\n",
    "    \"node30\" -> \".\"\n",
    "    \n",
    "    label = \"Layer 2: sigmoid\"\n",
    "}\n",
    "''')"
   ]
  },
  {
   "cell_type": "markdown",
   "id": "d6aa144b-c176-46f7-8519-1e20151d8494",
   "metadata": {
    "tags": []
   },
   "source": [
    "### 풀이2: 더 깊은 신경망 "
   ]
  },
  {
   "cell_type": "code",
   "execution_count": 55,
   "id": "ddfd000b-efc3-4e66-8428-8f5fa49770a8",
   "metadata": {},
   "outputs": [
    {
     "data": {
      "image/svg+xml": [
       "<?xml version=\"1.0\" encoding=\"UTF-8\" standalone=\"no\"?>\n",
       "<!DOCTYPE svg PUBLIC \"-//W3C//DTD SVG 1.1//EN\"\n",
       " \"http://www.w3.org/Graphics/SVG/1.1/DTD/svg11.dtd\">\n",
       "<!-- Generated by graphviz version 3.0.0 (20220315.2325)\n",
       " -->\n",
       "<!-- Title: G Pages: 1 -->\n",
       "<svg width=\"556pt\" height=\"261pt\"\n",
       " viewBox=\"0.00 0.00 556.27 261.00\" xmlns=\"http://www.w3.org/2000/svg\" xmlns:xlink=\"http://www.w3.org/1999/xlink\">\n",
       "<g id=\"graph0\" class=\"graph\" transform=\"scale(1 1) rotate(0) translate(4 257)\">\n",
       "<title>G</title>\n",
       "<polygon fill=\"white\" stroke=\"transparent\" points=\"-4,4 -4,-257 552.27,-257 552.27,4 -4,4\"/>\n",
       "<g id=\"clust1\" class=\"cluster\">\n",
       "<title>cluster_1</title>\n",
       "<polygon fill=\"lightgrey\" stroke=\"lightgrey\" points=\"8,-8 8,-245 91.59,-245 91.59,-8 8,-8\"/>\n",
       "<text text-anchor=\"middle\" x=\"49.8\" y=\"-229.8\" font-family=\"Times,serif\" font-size=\"14.00\">Layer 0</text>\n",
       "</g>\n",
       "<g id=\"clust2\" class=\"cluster\">\n",
       "<title>cluster_2</title>\n",
       "<polygon fill=\"lightgrey\" stroke=\"lightgrey\" points=\"111.59,-8 111.59,-245 228.99,-245 228.99,-8 111.59,-8\"/>\n",
       "<text text-anchor=\"middle\" x=\"170.29\" y=\"-229.8\" font-family=\"Times,serif\" font-size=\"14.00\">Layer 1: relu</text>\n",
       "</g>\n",
       "<g id=\"clust3\" class=\"cluster\">\n",
       "<title>cluster_3</title>\n",
       "<polygon fill=\"lightgrey\" stroke=\"lightgrey\" points=\"248.99,-8 248.99,-245 392.37,-245 392.37,-8 248.99,-8\"/>\n",
       "<text text-anchor=\"middle\" x=\"320.68\" y=\"-229.8\" font-family=\"Times,serif\" font-size=\"14.00\">Layer 2: relu</text>\n",
       "</g>\n",
       "<g id=\"clust4\" class=\"cluster\">\n",
       "<title>cluster_4</title>\n",
       "<polygon fill=\"lightgrey\" stroke=\"lightgrey\" points=\"412.37,-35 412.37,-218 548.27,-218 548.27,-35 412.37,-35\"/>\n",
       "<text text-anchor=\"middle\" x=\"480.32\" y=\"-202.8\" font-family=\"Times,serif\" font-size=\"14.00\">Layer 3: sigmoid</text>\n",
       "</g>\n",
       "<!-- x1 -->\n",
       "<g id=\"node1\" class=\"node\">\n",
       "<title>x1</title>\n",
       "<ellipse fill=\"none\" stroke=\"black\" cx=\"49.8\" cy=\"-196\" rx=\"27\" ry=\"18\"/>\n",
       "<text text-anchor=\"middle\" x=\"49.8\" y=\"-192.3\" font-family=\"Times,serif\" font-size=\"14.00\">x1</text>\n",
       "</g>\n",
       "<!-- node1 -->\n",
       "<g id=\"node5\" class=\"node\">\n",
       "<title>node1</title>\n",
       "<ellipse fill=\"none\" stroke=\"black\" cx=\"170.29\" cy=\"-196\" rx=\"38.99\" ry=\"18\"/>\n",
       "<text text-anchor=\"middle\" x=\"170.29\" y=\"-192.3\" font-family=\"Times,serif\" font-size=\"14.00\">node1</text>\n",
       "</g>\n",
       "<!-- x1&#45;&gt;node1 -->\n",
       "<g id=\"edge1\" class=\"edge\">\n",
       "<title>x1&#45;&gt;node1</title>\n",
       "<path fill=\"none\" stroke=\"black\" d=\"M76.8,-196C89.75,-196 105.84,-196 120.95,-196\"/>\n",
       "<polygon fill=\"black\" stroke=\"black\" points=\"121.2,-199.5 131.2,-196 121.2,-192.5 121.2,-199.5\"/>\n",
       "</g>\n",
       "<!-- node2 -->\n",
       "<g id=\"node6\" class=\"node\">\n",
       "<title>node2</title>\n",
       "<ellipse fill=\"none\" stroke=\"black\" cx=\"170.29\" cy=\"-142\" rx=\"38.99\" ry=\"18\"/>\n",
       "<text text-anchor=\"middle\" x=\"170.29\" y=\"-138.3\" font-family=\"Times,serif\" font-size=\"14.00\">node2</text>\n",
       "</g>\n",
       "<!-- x1&#45;&gt;node2 -->\n",
       "<g id=\"edge5\" class=\"edge\">\n",
       "<title>x1&#45;&gt;node2</title>\n",
       "<path fill=\"none\" stroke=\"black\" d=\"M72.53,-186.1C89.3,-178.46 112.87,-167.71 132.55,-158.74\"/>\n",
       "<polygon fill=\"black\" stroke=\"black\" points=\"134.21,-161.84 141.85,-154.5 131.3,-155.47 134.21,-161.84\"/>\n",
       "</g>\n",
       "<!-- ... -->\n",
       "<g id=\"node7\" class=\"node\">\n",
       "<title>...</title>\n",
       "<ellipse fill=\"none\" stroke=\"black\" cx=\"170.29\" cy=\"-88\" rx=\"27\" ry=\"18\"/>\n",
       "<text text-anchor=\"middle\" x=\"170.29\" y=\"-84.3\" font-family=\"Times,serif\" font-size=\"14.00\">...</text>\n",
       "</g>\n",
       "<!-- x1&#45;&gt;... -->\n",
       "<g id=\"edge9\" class=\"edge\">\n",
       "<title>x1&#45;&gt;...</title>\n",
       "<path fill=\"none\" stroke=\"black\" d=\"M66.78,-181.43C87.21,-162.81 122.74,-130.43 146.13,-109.11\"/>\n",
       "<polygon fill=\"black\" stroke=\"black\" points=\"148.53,-111.66 153.56,-102.33 143.81,-106.48 148.53,-111.66\"/>\n",
       "</g>\n",
       "<!-- node500 -->\n",
       "<g id=\"node8\" class=\"node\">\n",
       "<title>node500</title>\n",
       "<ellipse fill=\"none\" stroke=\"black\" cx=\"170.29\" cy=\"-34\" rx=\"50.89\" ry=\"18\"/>\n",
       "<text text-anchor=\"middle\" x=\"170.29\" y=\"-30.3\" font-family=\"Times,serif\" font-size=\"14.00\">node500</text>\n",
       "</g>\n",
       "<!-- x1&#45;&gt;node500 -->\n",
       "<g id=\"edge13\" class=\"edge\">\n",
       "<title>x1&#45;&gt;node500</title>\n",
       "<path fill=\"none\" stroke=\"black\" d=\"M62.59,-179.87C83.12,-151.81 125.58,-93.76 150.3,-59.97\"/>\n",
       "<polygon fill=\"black\" stroke=\"black\" points=\"153.39,-61.66 156.47,-51.52 147.74,-57.53 153.39,-61.66\"/>\n",
       "</g>\n",
       "<!-- x2 -->\n",
       "<g id=\"node2\" class=\"node\">\n",
       "<title>x2</title>\n",
       "<ellipse fill=\"none\" stroke=\"black\" cx=\"49.8\" cy=\"-142\" rx=\"27\" ry=\"18\"/>\n",
       "<text text-anchor=\"middle\" x=\"49.8\" y=\"-138.3\" font-family=\"Times,serif\" font-size=\"14.00\">x2</text>\n",
       "</g>\n",
       "<!-- x2&#45;&gt;node1 -->\n",
       "<g id=\"edge2\" class=\"edge\">\n",
       "<title>x2&#45;&gt;node1</title>\n",
       "<path fill=\"none\" stroke=\"black\" d=\"M72.53,-151.9C89.3,-159.54 112.87,-170.29 132.55,-179.26\"/>\n",
       "<polygon fill=\"black\" stroke=\"black\" points=\"131.3,-182.53 141.85,-183.5 134.21,-176.16 131.3,-182.53\"/>\n",
       "</g>\n",
       "<!-- x2&#45;&gt;node2 -->\n",
       "<g id=\"edge6\" class=\"edge\">\n",
       "<title>x2&#45;&gt;node2</title>\n",
       "<path fill=\"none\" stroke=\"black\" d=\"M76.8,-142C89.75,-142 105.84,-142 120.95,-142\"/>\n",
       "<polygon fill=\"black\" stroke=\"black\" points=\"121.2,-145.5 131.2,-142 121.2,-138.5 121.2,-145.5\"/>\n",
       "</g>\n",
       "<!-- x2&#45;&gt;... -->\n",
       "<g id=\"edge10\" class=\"edge\">\n",
       "<title>x2&#45;&gt;...</title>\n",
       "<path fill=\"none\" stroke=\"black\" d=\"M72.53,-132.1C90.87,-123.74 117.36,-111.66 137.99,-102.26\"/>\n",
       "<polygon fill=\"black\" stroke=\"black\" points=\"139.64,-105.36 147.29,-98.02 136.74,-98.99 139.64,-105.36\"/>\n",
       "</g>\n",
       "<!-- x2&#45;&gt;node500 -->\n",
       "<g id=\"edge14\" class=\"edge\">\n",
       "<title>x2&#45;&gt;node500</title>\n",
       "<path fill=\"none\" stroke=\"black\" d=\"M66.78,-127.43C86.41,-109.54 120,-78.93 143.35,-57.64\"/>\n",
       "<polygon fill=\"black\" stroke=\"black\" points=\"145.81,-60.14 150.84,-50.81 141.09,-54.96 145.81,-60.14\"/>\n",
       "</g>\n",
       "<!-- .. -->\n",
       "<g id=\"node3\" class=\"node\">\n",
       "<title>..</title>\n",
       "<ellipse fill=\"none\" stroke=\"black\" cx=\"49.8\" cy=\"-88\" rx=\"27\" ry=\"18\"/>\n",
       "<text text-anchor=\"middle\" x=\"49.8\" y=\"-84.3\" font-family=\"Times,serif\" font-size=\"14.00\">..</text>\n",
       "</g>\n",
       "<!-- ..&#45;&gt;node1 -->\n",
       "<g id=\"edge3\" class=\"edge\">\n",
       "<title>..&#45;&gt;node1</title>\n",
       "<path fill=\"none\" stroke=\"black\" d=\"M66.78,-102.57C86.64,-120.67 120.77,-151.78 144.15,-173.09\"/>\n",
       "<polygon fill=\"black\" stroke=\"black\" points=\"141.89,-175.76 151.64,-179.91 146.6,-170.59 141.89,-175.76\"/>\n",
       "</g>\n",
       "<!-- ..&#45;&gt;node2 -->\n",
       "<g id=\"edge7\" class=\"edge\">\n",
       "<title>..&#45;&gt;node2</title>\n",
       "<path fill=\"none\" stroke=\"black\" d=\"M72.53,-97.9C89.3,-105.54 112.87,-116.29 132.55,-125.26\"/>\n",
       "<polygon fill=\"black\" stroke=\"black\" points=\"131.3,-128.53 141.85,-129.5 134.21,-122.16 131.3,-128.53\"/>\n",
       "</g>\n",
       "<!-- ..&#45;&gt;... -->\n",
       "<g id=\"edge11\" class=\"edge\">\n",
       "<title>..&#45;&gt;...</title>\n",
       "<path fill=\"none\" stroke=\"black\" d=\"M76.8,-88C93.2,-88 114.63,-88 132.73,-88\"/>\n",
       "<polygon fill=\"black\" stroke=\"black\" points=\"132.94,-91.5 142.94,-88 132.94,-84.5 132.94,-91.5\"/>\n",
       "</g>\n",
       "<!-- ..&#45;&gt;node500 -->\n",
       "<g id=\"edge15\" class=\"edge\">\n",
       "<title>..&#45;&gt;node500</title>\n",
       "<path fill=\"none\" stroke=\"black\" d=\"M72.53,-78.1C88.31,-70.91 110.11,-60.97 129.02,-52.35\"/>\n",
       "<polygon fill=\"black\" stroke=\"black\" points=\"130.67,-55.44 138.32,-48.11 127.77,-49.08 130.67,-55.44\"/>\n",
       "</g>\n",
       "<!-- x784 -->\n",
       "<g id=\"node4\" class=\"node\">\n",
       "<title>x784</title>\n",
       "<ellipse fill=\"none\" stroke=\"black\" cx=\"49.8\" cy=\"-34\" rx=\"33.6\" ry=\"18\"/>\n",
       "<text text-anchor=\"middle\" x=\"49.8\" y=\"-30.3\" font-family=\"Times,serif\" font-size=\"14.00\">x784</text>\n",
       "</g>\n",
       "<!-- x784&#45;&gt;node1 -->\n",
       "<g id=\"edge4\" class=\"edge\">\n",
       "<title>x784&#45;&gt;node1</title>\n",
       "<path fill=\"none\" stroke=\"black\" d=\"M63.03,-50.73C83.77,-79.07 125.94,-136.74 150.46,-170.26\"/>\n",
       "<polygon fill=\"black\" stroke=\"black\" points=\"147.86,-172.63 156.59,-178.63 153.51,-168.49 147.86,-172.63\"/>\n",
       "</g>\n",
       "<!-- x784&#45;&gt;node2 -->\n",
       "<g id=\"edge8\" class=\"edge\">\n",
       "<title>x784&#45;&gt;node2</title>\n",
       "<path fill=\"none\" stroke=\"black\" d=\"M67.77,-49.47C87.69,-67.63 120.92,-97.91 143.9,-118.86\"/>\n",
       "<polygon fill=\"black\" stroke=\"black\" points=\"141.82,-121.7 151.57,-125.85 146.54,-116.53 141.82,-121.7\"/>\n",
       "</g>\n",
       "<!-- x784&#45;&gt;... -->\n",
       "<g id=\"edge12\" class=\"edge\">\n",
       "<title>x784&#45;&gt;...</title>\n",
       "<path fill=\"none\" stroke=\"black\" d=\"M75.93,-45.45C94.06,-53.72 118.66,-64.93 138.05,-73.77\"/>\n",
       "<polygon fill=\"black\" stroke=\"black\" points=\"136.83,-77.05 147.38,-78.02 139.74,-70.69 136.83,-77.05\"/>\n",
       "</g>\n",
       "<!-- x784&#45;&gt;node500 -->\n",
       "<g id=\"edge16\" class=\"edge\">\n",
       "<title>x784&#45;&gt;node500</title>\n",
       "<path fill=\"none\" stroke=\"black\" d=\"M83.8,-34C91.68,-34 100.33,-34 109.01,-34\"/>\n",
       "<polygon fill=\"black\" stroke=\"black\" points=\"109.17,-37.5 119.17,-34 109.17,-30.5 109.17,-37.5\"/>\n",
       "</g>\n",
       "<!-- node1(2) -->\n",
       "<g id=\"node9\" class=\"node\">\n",
       "<title>node1(2)</title>\n",
       "<ellipse fill=\"none\" stroke=\"black\" cx=\"320.68\" cy=\"-196\" rx=\"51.99\" ry=\"18\"/>\n",
       "<text text-anchor=\"middle\" x=\"320.68\" y=\"-192.3\" font-family=\"Times,serif\" font-size=\"14.00\">node1(2)</text>\n",
       "</g>\n",
       "<!-- node1&#45;&gt;node1(2) -->\n",
       "<g id=\"edge17\" class=\"edge\">\n",
       "<title>node1&#45;&gt;node1(2)</title>\n",
       "<path fill=\"none\" stroke=\"black\" d=\"M209.5,-196C224.37,-196 241.77,-196 258.3,-196\"/>\n",
       "<polygon fill=\"black\" stroke=\"black\" points=\"258.45,-199.5 268.45,-196 258.45,-192.5 258.45,-199.5\"/>\n",
       "</g>\n",
       "<!-- node2(2) -->\n",
       "<g id=\"node10\" class=\"node\">\n",
       "<title>node2(2)</title>\n",
       "<ellipse fill=\"none\" stroke=\"black\" cx=\"320.68\" cy=\"-142\" rx=\"51.99\" ry=\"18\"/>\n",
       "<text text-anchor=\"middle\" x=\"320.68\" y=\"-138.3\" font-family=\"Times,serif\" font-size=\"14.00\">node2(2)</text>\n",
       "</g>\n",
       "<!-- node1&#45;&gt;node2(2) -->\n",
       "<g id=\"edge21\" class=\"edge\">\n",
       "<title>node1&#45;&gt;node2(2)</title>\n",
       "<path fill=\"none\" stroke=\"black\" d=\"M201.32,-185.07C222.38,-177.41 250.91,-167.02 274.69,-158.37\"/>\n",
       "<polygon fill=\"black\" stroke=\"black\" points=\"276.01,-161.62 284.21,-154.91 273.62,-155.04 276.01,-161.62\"/>\n",
       "</g>\n",
       "<!-- .... -->\n",
       "<g id=\"node11\" class=\"node\">\n",
       "<title>....</title>\n",
       "<ellipse fill=\"none\" stroke=\"black\" cx=\"320.68\" cy=\"-88\" rx=\"27\" ry=\"18\"/>\n",
       "<text text-anchor=\"middle\" x=\"320.68\" y=\"-84.3\" font-family=\"Times,serif\" font-size=\"14.00\">....</text>\n",
       "</g>\n",
       "<!-- node1&#45;&gt;.... -->\n",
       "<g id=\"edge25\" class=\"edge\">\n",
       "<title>node1&#45;&gt;....</title>\n",
       "<path fill=\"none\" stroke=\"black\" d=\"M191.92,-180.98C218.34,-161.76 264.14,-128.42 293.13,-107.32\"/>\n",
       "<polygon fill=\"black\" stroke=\"black\" points=\"295.52,-109.91 301.55,-101.2 291.4,-104.25 295.52,-109.91\"/>\n",
       "</g>\n",
       "<!-- node500(2) -->\n",
       "<g id=\"node12\" class=\"node\">\n",
       "<title>node500(2)</title>\n",
       "<ellipse fill=\"none\" stroke=\"black\" cx=\"320.68\" cy=\"-34\" rx=\"63.89\" ry=\"18\"/>\n",
       "<text text-anchor=\"middle\" x=\"320.68\" y=\"-30.3\" font-family=\"Times,serif\" font-size=\"14.00\">node500(2)</text>\n",
       "</g>\n",
       "<!-- node1&#45;&gt;node500(2) -->\n",
       "<g id=\"edge29\" class=\"edge\">\n",
       "<title>node1&#45;&gt;node500(2)</title>\n",
       "<path fill=\"none\" stroke=\"black\" d=\"M186.33,-179.58C212.39,-151.13 266.07,-92.53 296.78,-59\"/>\n",
       "<polygon fill=\"black\" stroke=\"black\" points=\"299.53,-61.18 303.7,-51.45 294.36,-56.46 299.53,-61.18\"/>\n",
       "</g>\n",
       "<!-- node2&#45;&gt;node1(2) -->\n",
       "<g id=\"edge18\" class=\"edge\">\n",
       "<title>node2&#45;&gt;node1(2)</title>\n",
       "<path fill=\"none\" stroke=\"black\" d=\"M201.32,-152.93C222.38,-160.59 250.91,-170.98 274.69,-179.63\"/>\n",
       "<polygon fill=\"black\" stroke=\"black\" points=\"273.62,-182.96 284.21,-183.09 276.01,-176.38 273.62,-182.96\"/>\n",
       "</g>\n",
       "<!-- node2&#45;&gt;node2(2) -->\n",
       "<g id=\"edge22\" class=\"edge\">\n",
       "<title>node2&#45;&gt;node2(2)</title>\n",
       "<path fill=\"none\" stroke=\"black\" d=\"M209.5,-142C224.37,-142 241.77,-142 258.3,-142\"/>\n",
       "<polygon fill=\"black\" stroke=\"black\" points=\"258.45,-145.5 268.45,-142 258.45,-138.5 258.45,-145.5\"/>\n",
       "</g>\n",
       "<!-- node2&#45;&gt;.... -->\n",
       "<g id=\"edge26\" class=\"edge\">\n",
       "<title>node2&#45;&gt;....</title>\n",
       "<path fill=\"none\" stroke=\"black\" d=\"M201.32,-131.07C226.14,-122.04 261.33,-109.23 286.88,-99.93\"/>\n",
       "<polygon fill=\"black\" stroke=\"black\" points=\"288.3,-103.14 296.5,-96.43 285.91,-96.56 288.3,-103.14\"/>\n",
       "</g>\n",
       "<!-- node2&#45;&gt;node500(2) -->\n",
       "<g id=\"edge30\" class=\"edge\">\n",
       "<title>node2&#45;&gt;node500(2)</title>\n",
       "<path fill=\"none\" stroke=\"black\" d=\"M191.92,-126.98C216.86,-108.84 259.07,-78.11 288.11,-56.98\"/>\n",
       "<polygon fill=\"black\" stroke=\"black\" points=\"290.26,-59.74 296.29,-51.02 286.14,-54.08 290.26,-59.74\"/>\n",
       "</g>\n",
       "<!-- ...&#45;&gt;node1(2) -->\n",
       "<g id=\"edge19\" class=\"edge\">\n",
       "<title>...&#45;&gt;node1(2)</title>\n",
       "<path fill=\"none\" stroke=\"black\" d=\"M189.19,-101.03C213.88,-119 258.77,-151.67 288.9,-173.6\"/>\n",
       "<polygon fill=\"black\" stroke=\"black\" points=\"287.22,-176.7 297.36,-179.76 291.34,-171.04 287.22,-176.7\"/>\n",
       "</g>\n",
       "<!-- ...&#45;&gt;node2(2) -->\n",
       "<g id=\"edge23\" class=\"edge\">\n",
       "<title>...&#45;&gt;node2(2)</title>\n",
       "<path fill=\"none\" stroke=\"black\" d=\"M194.48,-96.44C215.89,-104.23 248.3,-116.02 274.78,-125.66\"/>\n",
       "<polygon fill=\"black\" stroke=\"black\" points=\"273.64,-128.97 284.23,-129.1 276.03,-122.39 273.64,-128.97\"/>\n",
       "</g>\n",
       "<!-- ...&#45;&gt;.... -->\n",
       "<g id=\"edge27\" class=\"edge\">\n",
       "<title>...&#45;&gt;....</title>\n",
       "<path fill=\"none\" stroke=\"black\" d=\"M197.48,-88C221.28,-88 256.62,-88 283.19,-88\"/>\n",
       "<polygon fill=\"black\" stroke=\"black\" points=\"283.25,-91.5 293.25,-88 283.25,-84.5 283.25,-91.5\"/>\n",
       "</g>\n",
       "<!-- ...&#45;&gt;node500(2) -->\n",
       "<g id=\"edge31\" class=\"edge\">\n",
       "<title>...&#45;&gt;node500(2)</title>\n",
       "<path fill=\"none\" stroke=\"black\" d=\"M194.48,-79.56C214.93,-72.12 245.41,-61.03 271.18,-51.65\"/>\n",
       "<polygon fill=\"black\" stroke=\"black\" points=\"272.59,-54.86 280.79,-48.15 270.19,-48.28 272.59,-54.86\"/>\n",
       "</g>\n",
       "<!-- node500&#45;&gt;node1(2) -->\n",
       "<g id=\"edge20\" class=\"edge\">\n",
       "<title>node500&#45;&gt;node1(2)</title>\n",
       "<path fill=\"none\" stroke=\"black\" d=\"M186.89,-51.03C213.2,-79.76 266.52,-137.97 296.98,-171.22\"/>\n",
       "<polygon fill=\"black\" stroke=\"black\" points=\"294.51,-173.7 303.84,-178.71 299.67,-168.97 294.51,-173.7\"/>\n",
       "</g>\n",
       "<!-- node500&#45;&gt;node2(2) -->\n",
       "<g id=\"edge24\" class=\"edge\">\n",
       "<title>node500&#45;&gt;node2(2)</title>\n",
       "<path fill=\"none\" stroke=\"black\" d=\"M193.5,-50.17C218.86,-68.62 260.48,-98.91 288.94,-119.62\"/>\n",
       "<polygon fill=\"black\" stroke=\"black\" points=\"287.17,-122.67 297.31,-125.72 291.29,-117.01 287.17,-122.67\"/>\n",
       "</g>\n",
       "<!-- node500&#45;&gt;.... -->\n",
       "<g id=\"edge28\" class=\"edge\">\n",
       "<title>node500&#45;&gt;....</title>\n",
       "<path fill=\"none\" stroke=\"black\" d=\"M206.46,-46.8C230.75,-55.64 262.86,-67.32 286.67,-75.99\"/>\n",
       "<polygon fill=\"black\" stroke=\"black\" points=\"285.73,-79.37 296.33,-79.5 288.12,-72.79 285.73,-79.37\"/>\n",
       "</g>\n",
       "<!-- node500&#45;&gt;node500(2) -->\n",
       "<g id=\"edge32\" class=\"edge\">\n",
       "<title>node500&#45;&gt;node500(2)</title>\n",
       "<path fill=\"none\" stroke=\"black\" d=\"M221.11,-34C229.34,-34 238.02,-34 246.68,-34\"/>\n",
       "<polygon fill=\"black\" stroke=\"black\" points=\"246.81,-37.5 256.81,-34 246.81,-30.5 246.81,-37.5\"/>\n",
       "</g>\n",
       "<!-- y10 -->\n",
       "<g id=\"node13\" class=\"node\">\n",
       "<title>y10</title>\n",
       "<ellipse fill=\"none\" stroke=\"black\" cx=\"480.32\" cy=\"-61\" rx=\"27.9\" ry=\"18\"/>\n",
       "<text text-anchor=\"middle\" x=\"480.32\" y=\"-57.3\" font-family=\"Times,serif\" font-size=\"14.00\">y10</text>\n",
       "</g>\n",
       "<!-- node1(2)&#45;&gt;y10 -->\n",
       "<g id=\"edge33\" class=\"edge\">\n",
       "<title>node1(2)&#45;&gt;y10</title>\n",
       "<path fill=\"none\" stroke=\"black\" d=\"M341.33,-179.18C370.12,-154.52 423.73,-108.61 454.98,-81.84\"/>\n",
       "<polygon fill=\"black\" stroke=\"black\" points=\"457.47,-84.32 462.79,-75.16 452.92,-79 457.47,-84.32\"/>\n",
       "</g>\n",
       "<!-- y1 -->\n",
       "<g id=\"node14\" class=\"node\">\n",
       "<title>y1</title>\n",
       "<ellipse fill=\"none\" stroke=\"black\" cx=\"480.32\" cy=\"-169\" rx=\"27\" ry=\"18\"/>\n",
       "<text text-anchor=\"middle\" x=\"480.32\" y=\"-165.3\" font-family=\"Times,serif\" font-size=\"14.00\">y1</text>\n",
       "</g>\n",
       "<!-- node1(2)&#45;&gt;y1 -->\n",
       "<g id=\"edge37\" class=\"edge\">\n",
       "<title>node1(2)&#45;&gt;y1</title>\n",
       "<path fill=\"none\" stroke=\"black\" d=\"M367.7,-188.12C392.02,-183.95 421.41,-178.92 443.93,-175.06\"/>\n",
       "<polygon fill=\"black\" stroke=\"black\" points=\"444.8,-178.46 454.06,-173.33 443.62,-171.56 444.8,-178.46\"/>\n",
       "</g>\n",
       "<!-- . -->\n",
       "<g id=\"node15\" class=\"node\">\n",
       "<title>.</title>\n",
       "<ellipse fill=\"none\" stroke=\"black\" cx=\"480.32\" cy=\"-115\" rx=\"27\" ry=\"18\"/>\n",
       "<text text-anchor=\"middle\" x=\"480.32\" y=\"-111.3\" font-family=\"Times,serif\" font-size=\"14.00\">.</text>\n",
       "</g>\n",
       "<!-- node1(2)&#45;&gt;. -->\n",
       "<g id=\"edge41\" class=\"edge\">\n",
       "<title>node1(2)&#45;&gt;.</title>\n",
       "<path fill=\"none\" stroke=\"black\" d=\"M350.59,-181.14C378.54,-166.78 420.72,-145.11 449.1,-130.53\"/>\n",
       "<polygon fill=\"black\" stroke=\"black\" points=\"450.86,-133.56 458.16,-125.87 447.66,-127.33 450.86,-133.56\"/>\n",
       "</g>\n",
       "<!-- node2(2)&#45;&gt;y10 -->\n",
       "<g id=\"edge34\" class=\"edge\">\n",
       "<title>node2(2)&#45;&gt;y10</title>\n",
       "<path fill=\"none\" stroke=\"black\" d=\"M350.59,-127.14C378.38,-112.86 420.24,-91.36 448.61,-76.78\"/>\n",
       "<polygon fill=\"black\" stroke=\"black\" points=\"450.39,-79.8 457.68,-72.12 447.19,-73.58 450.39,-79.8\"/>\n",
       "</g>\n",
       "<!-- node2(2)&#45;&gt;y1 -->\n",
       "<g id=\"edge38\" class=\"edge\">\n",
       "<title>node2(2)&#45;&gt;y1</title>\n",
       "<path fill=\"none\" stroke=\"black\" d=\"M367.7,-149.88C392.02,-154.05 421.41,-159.08 443.93,-162.94\"/>\n",
       "<polygon fill=\"black\" stroke=\"black\" points=\"443.62,-166.44 454.06,-164.67 444.8,-159.54 443.62,-166.44\"/>\n",
       "</g>\n",
       "<!-- node2(2)&#45;&gt;. -->\n",
       "<g id=\"edge42\" class=\"edge\">\n",
       "<title>node2(2)&#45;&gt;.</title>\n",
       "<path fill=\"none\" stroke=\"black\" d=\"M367.7,-134.12C392.02,-129.95 421.41,-124.92 443.93,-121.06\"/>\n",
       "<polygon fill=\"black\" stroke=\"black\" points=\"444.8,-124.46 454.06,-119.33 443.62,-117.56 444.8,-124.46\"/>\n",
       "</g>\n",
       "<!-- ....&#45;&gt;y10 -->\n",
       "<g id=\"edge35\" class=\"edge\">\n",
       "<title>....&#45;&gt;y10</title>\n",
       "<path fill=\"none\" stroke=\"black\" d=\"M347.01,-83.66C373.01,-79.21 413.72,-72.24 443.12,-67.2\"/>\n",
       "<polygon fill=\"black\" stroke=\"black\" points=\"443.74,-70.65 453,-65.51 442.56,-63.75 443.74,-70.65\"/>\n",
       "</g>\n",
       "<!-- ....&#45;&gt;y1 -->\n",
       "<g id=\"edge39\" class=\"edge\">\n",
       "<title>....&#45;&gt;y1</title>\n",
       "<path fill=\"none\" stroke=\"black\" d=\"M342.61,-98.76C369.94,-112.8 417.95,-137.46 449.19,-153.52\"/>\n",
       "<polygon fill=\"black\" stroke=\"black\" points=\"447.81,-156.74 458.3,-158.2 451.01,-150.52 447.81,-156.74\"/>\n",
       "</g>\n",
       "<!-- ....&#45;&gt;. -->\n",
       "<g id=\"edge43\" class=\"edge\">\n",
       "<title>....&#45;&gt;.</title>\n",
       "<path fill=\"none\" stroke=\"black\" d=\"M347.01,-92.34C373.32,-96.85 414.7,-103.93 444.17,-108.98\"/>\n",
       "<polygon fill=\"black\" stroke=\"black\" points=\"443.61,-112.43 454.06,-110.67 444.79,-105.53 443.61,-112.43\"/>\n",
       "</g>\n",
       "<!-- node500(2)&#45;&gt;y10 -->\n",
       "<g id=\"edge36\" class=\"edge\">\n",
       "<title>node500(2)&#45;&gt;y10</title>\n",
       "<path fill=\"none\" stroke=\"black\" d=\"M375.49,-43.22C397.82,-47.04 423.14,-51.38 443.18,-54.81\"/>\n",
       "<polygon fill=\"black\" stroke=\"black\" points=\"442.69,-58.28 453.14,-56.52 443.88,-51.38 442.69,-58.28\"/>\n",
       "</g>\n",
       "<!-- node500(2)&#45;&gt;y1 -->\n",
       "<g id=\"edge40\" class=\"edge\">\n",
       "<title>node500(2)&#45;&gt;y1</title>\n",
       "<path fill=\"none\" stroke=\"black\" d=\"M341.64,-51.1C370.55,-75.85 423.97,-121.6 455.09,-148.25\"/>\n",
       "<polygon fill=\"black\" stroke=\"black\" points=\"452.99,-151.06 462.86,-154.91 457.55,-145.74 452.99,-151.06\"/>\n",
       "</g>\n",
       "<!-- node500(2)&#45;&gt;. -->\n",
       "<g id=\"edge44\" class=\"edge\">\n",
       "<title>node500(2)&#45;&gt;.</title>\n",
       "<path fill=\"none\" stroke=\"black\" d=\"M352.45,-49.81C380.34,-64.14 421.22,-85.14 448.98,-99.41\"/>\n",
       "<polygon fill=\"black\" stroke=\"black\" points=\"447.71,-102.69 458.21,-104.15 450.91,-96.47 447.71,-102.69\"/>\n",
       "</g>\n",
       "</g>\n",
       "</svg>\n"
      ],
      "text/plain": [
       "<graphviz.sources.Source at 0x7f19dc632a30>"
      ]
     },
     "execution_count": 55,
     "metadata": {},
     "output_type": "execute_result"
    }
   ],
   "source": [
    "#collapse\n",
    "gv('''\n",
    "splines=line\n",
    "subgraph cluster_1{\n",
    "    style=filled;\n",
    "    color=lightgrey;\n",
    "    \"x1\"\n",
    "    \"x2\"\n",
    "    \"..\"\n",
    "    \"x784\"\n",
    "    label = \"Layer 0\"\n",
    "}\n",
    "subgraph cluster_2{\n",
    "    style=filled;\n",
    "    color=lightgrey;\n",
    "    \"x1\" -> \"node1\"\n",
    "    \"x2\" -> \"node1\"\n",
    "    \"..\" -> \"node1\"\n",
    "    \n",
    "    \"x784\" -> \"node1\"\n",
    "    \"x1\" -> \"node2\"\n",
    "    \"x2\" -> \"node2\"\n",
    "    \"..\" -> \"node2\"\n",
    "    \"x784\" -> \"node2\"\n",
    "    \n",
    "    \"x1\" -> \"...\"\n",
    "    \"x2\" -> \"...\"\n",
    "    \"..\" -> \"...\"\n",
    "    \"x784\" -> \"...\"\n",
    "\n",
    "    \"x1\" -> \"node500\"\n",
    "    \"x2\" -> \"node500\"\n",
    "    \"..\" -> \"node500\"\n",
    "    \"x784\" -> \"node500\"\n",
    "\n",
    "\n",
    "    label = \"Layer 1: relu\"\n",
    "}\n",
    "\n",
    "subgraph cluster_3{\n",
    "    style=filled;\n",
    "    color=lightgrey;\n",
    "\n",
    "    \"node1\" -> \"node1(2)\"\n",
    "    \"node2\" -> \"node1(2)\"\n",
    "    \"...\" -> \"node1(2)\"\n",
    "    \"node500\" -> \"node1(2)\"\n",
    "\n",
    "    \"node1\" -> \"node2(2)\"\n",
    "    \"node2\" -> \"node2(2)\"\n",
    "    \"...\" -> \"node2(2)\"\n",
    "    \"node500\" -> \"node2(2)\"\n",
    "    \n",
    "    \"node1\" -> \"....\"\n",
    "    \"node2\" -> \"....\"\n",
    "    \"...\" -> \"....\"\n",
    "    \"node500\" -> \"....\"\n",
    "    \n",
    "    \"node1\" -> \"node500(2)\"\n",
    "    \"node2\" -> \"node500(2)\"\n",
    "    \"...\" -> \"node500(2)\"\n",
    "    \"node500\" -> \"node500(2)\"\n",
    "\n",
    "    \n",
    "    label = \"Layer 2: relu\"\n",
    "}\n",
    "\n",
    "subgraph cluster_4{\n",
    "    style=filled;\n",
    "    color=lightgrey;\n",
    "\n",
    "    \"node1(2)\" -> \"y10\"\n",
    "    \"node2(2)\" -> \"y10\"\n",
    "    \"....\" -> \"y10\"\n",
    "    \"node500(2)\" -> \"y10\"\n",
    "    \n",
    "    \"node1(2)\" -> \"y1\"\n",
    "    \"node2(2)\" -> \"y1\"\n",
    "    \"....\" -> \"y1\"\n",
    "    \"node500(2)\" -> \"y1\"\n",
    "    \n",
    "    \"node1(2)\" -> \".\"\n",
    "    \"node2(2)\" -> \".\"\n",
    "    \"....\" -> \".\"\n",
    "    \"node500(2)\" -> \".\"\n",
    "    \n",
    "    label = \"Layer 3: sigmoid\"\n",
    "}\n",
    "''')"
   ]
  },
  {
   "cell_type": "markdown",
   "id": "e74a8f67-af1c-430c-a782-e597d26e4d68",
   "metadata": {},
   "source": [
    "### 데이터 다시 정리 (데이터 자체를 2D로 해석하자) "
   ]
  },
  {
   "cell_type": "markdown",
   "id": "0caa4b5e-877e-4723-aa1a-d61f7d98b7ac",
   "metadata": {},
   "source": [
    "`-` 데이터를 다시 정리 // X를 펼치치 않음 + 이미지의 차원을 (28,28,1)로 통일."
   ]
  },
  {
   "cell_type": "markdown",
   "id": "e0a17a01-dbbb-4934-ade0-bfb0df0cd74e",
   "metadata": {
    "tags": []
   },
   "source": [
    "### 풀이3: CNN"
   ]
  }
 ],
 "metadata": {
  "kernelspec": {
   "display_name": "Python 3",
   "language": "python",
   "name": "python3"
  },
  "language_info": {
   "codemirror_mode": {
    "name": "ipython",
    "version": 3
   },
   "file_extension": ".py",
   "mimetype": "text/x-python",
   "name": "python",
   "nbconvert_exporter": "python",
   "pygments_lexer": "ipython3",
   "version": "3.9.12"
  }
 },
 "nbformat": 4,
 "nbformat_minor": 5
}
