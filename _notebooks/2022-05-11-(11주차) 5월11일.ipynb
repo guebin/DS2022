{
 "cells": [
  {
   "cell_type": "markdown",
   "id": "d6c00e28-bc2b-44ae-8728-f42fd52845a3",
   "metadata": {
    "tags": []
   },
   "source": [
    "# (11주차) 5월11일\n",
    "\n",
    "- toc:true\n",
    "- branch: master\n",
    "- badges: true\n",
    "- comments: true\n",
    "- author: 최규빈"
   ]
  },
  {
   "cell_type": "markdown",
   "id": "5e933bac-cb50-4e6a-b78c-9fc0d946213e",
   "metadata": {},
   "source": [
    "## 강의영상 "
   ]
  },
  {
   "cell_type": "markdown",
   "id": "eb52b81b-c50e-4a70-b392-efb8242a8e31",
   "metadata": {},
   "source": [
    "### imports "
   ]
  },
  {
   "cell_type": "code",
   "execution_count": 3,
   "id": "a7acd440-7164-480d-a1f4-0bfa8024dd01",
   "metadata": {},
   "outputs": [],
   "source": [
    "import tensorflow as tf \n",
    "import tensorflow.experimental.numpy as tnp"
   ]
  },
  {
   "cell_type": "code",
   "execution_count": 4,
   "id": "bdb16c8e-0829-4a01-a136-1fcb86ebdfc5",
   "metadata": {},
   "outputs": [],
   "source": [
    "tnp.experimental_enable_numpy_behavior()"
   ]
  },
  {
   "cell_type": "code",
   "execution_count": 5,
   "id": "c582c669-68ff-4113-85e3-8bf1466f96f9",
   "metadata": {},
   "outputs": [],
   "source": [
    "import matplotlib.pyplot as plt"
   ]
  },
  {
   "cell_type": "markdown",
   "id": "82e471c8-3e98-44a3-b55b-98ebdcc00246",
   "metadata": {},
   "source": [
    "### 지난시간요약 "
   ]
  },
  {
   "cell_type": "markdown",
   "id": "994de195-bbbe-4384-a52b-0b9685cad9be",
   "metadata": {},
   "source": [
    "`-` 이미지자료의 정리 "
   ]
  },
  {
   "cell_type": "code",
   "execution_count": 6,
   "id": "4f2f68b9-3124-4a91-8c12-b1d52cb41cbd",
   "metadata": {},
   "outputs": [],
   "source": [
    "(x_train, y_train), (x_test, y_test) = tf.keras.datasets.fashion_mnist.load_data()"
   ]
  },
  {
   "cell_type": "code",
   "execution_count": 7,
   "id": "17361f88-7ba3-48e2-9aa9-0931dc7fee36",
   "metadata": {},
   "outputs": [
    {
     "name": "stderr",
     "output_type": "stream",
     "text": [
      "2022-05-11 11:24:50.148864: I tensorflow/stream_executor/cuda/cuda_gpu_executor.cc:939] successful NUMA node read from SysFS had negative value (-1), but there must be at least one NUMA node, so returning NUMA node zero\n"
     ]
    }
   ],
   "source": [
    "X = tf.constant(x_train.reshape(-1,28,28,1),dtype=tf.float64)\n",
    "y = tf.keras.utils.to_categorical(y_train)\n",
    "XX = tf.constant(x_test.reshape(-1,28,28,1),dtype=tf.float64)\n",
    "yy = tf.keras.utils.to_categorical(y_test)"
   ]
  },
  {
   "cell_type": "markdown",
   "id": "9a3d876d-417d-4d33-bbf4-717546c0c8dd",
   "metadata": {},
   "source": [
    "`-` net1,2"
   ]
  },
  {
   "cell_type": "code",
   "execution_count": 8,
   "id": "a691dd33-f7df-44ba-95d2-cd8248af840e",
   "metadata": {},
   "outputs": [
    {
     "name": "stdout",
     "output_type": "stream",
     "text": [
      "Epoch 1/10\n",
      "1875/1875 [==============================] - 2s 672us/step - loss: 2.5222 - accuracy: 0.4118\n",
      "Epoch 2/10\n",
      "1875/1875 [==============================] - 1s 646us/step - loss: 1.2225 - accuracy: 0.5041\n",
      "Epoch 3/10\n",
      "1875/1875 [==============================] - 1s 664us/step - loss: 1.0636 - accuracy: 0.5753\n",
      "Epoch 4/10\n",
      "1875/1875 [==============================] - 1s 656us/step - loss: 0.9505 - accuracy: 0.6101\n",
      "Epoch 5/10\n",
      "1875/1875 [==============================] - 1s 673us/step - loss: 0.8986 - accuracy: 0.6269\n",
      "Epoch 6/10\n",
      "1875/1875 [==============================] - 1s 671us/step - loss: 0.8434 - accuracy: 0.6557\n",
      "Epoch 7/10\n",
      "1875/1875 [==============================] - 1s 666us/step - loss: 0.8130 - accuracy: 0.6627\n",
      "Epoch 8/10\n",
      "1875/1875 [==============================] - 1s 669us/step - loss: 0.8015 - accuracy: 0.6631\n",
      "Epoch 9/10\n",
      "1875/1875 [==============================] - 1s 661us/step - loss: 0.7691 - accuracy: 0.6872\n",
      "Epoch 10/10\n",
      "1875/1875 [==============================] - 1s 651us/step - loss: 0.7338 - accuracy: 0.7060\n"
     ]
    },
    {
     "data": {
      "text/plain": [
       "<keras.callbacks.History at 0x7f39b81170a0>"
      ]
     },
     "execution_count": 8,
     "metadata": {},
     "output_type": "execute_result"
    }
   ],
   "source": [
    "tf.random.set_seed(43052)\n",
    "net1 = tf.keras.Sequential()\n",
    "net1.add(tf.keras.layers.Flatten())\n",
    "net1.add(tf.keras.layers.Dense(30,activation='relu'))\n",
    "net1.add(tf.keras.layers.Dense(10,activation='softmax'))\n",
    "net1.compile(loss=tf.losses.categorical_crossentropy,optimizer='adam',metrics='accuracy')\n",
    "net1.fit(X,y,epochs=10)"
   ]
  },
  {
   "cell_type": "code",
   "execution_count": 9,
   "id": "0f65b761-a071-4d7d-a991-e03c7bee2343",
   "metadata": {},
   "outputs": [
    {
     "name": "stdout",
     "output_type": "stream",
     "text": [
      "1875/1875 [==============================] - 1s 574us/step - loss: 0.6891 - accuracy: 0.7219\n"
     ]
    },
    {
     "data": {
      "text/plain": [
       "[0.6891106963157654, 0.7219333052635193]"
      ]
     },
     "execution_count": 9,
     "metadata": {},
     "output_type": "execute_result"
    }
   ],
   "source": [
    "net1.evaluate(X,y)"
   ]
  },
  {
   "cell_type": "code",
   "execution_count": 10,
   "id": "acec7835-6b7c-4190-b252-91e52d8f2c61",
   "metadata": {},
   "outputs": [
    {
     "name": "stdout",
     "output_type": "stream",
     "text": [
      "Epoch 1/10\n",
      "1875/1875 [==============================] - 2s 995us/step - loss: 1.1225 - accuracy: 0.7867\n",
      "Epoch 2/10\n",
      "1875/1875 [==============================] - 2s 991us/step - loss: 0.4597 - accuracy: 0.8358\n",
      "Epoch 3/10\n",
      "1875/1875 [==============================] - 2s 959us/step - loss: 0.4179 - accuracy: 0.8517\n",
      "Epoch 4/10\n",
      "1875/1875 [==============================] - 2s 1ms/step - loss: 0.3891 - accuracy: 0.8615\n",
      "Epoch 5/10\n",
      "1875/1875 [==============================] - 2s 913us/step - loss: 0.3731 - accuracy: 0.8694\n",
      "Epoch 6/10\n",
      "1875/1875 [==============================] - 2s 1ms/step - loss: 0.3654 - accuracy: 0.8709\n",
      "Epoch 7/10\n",
      "1875/1875 [==============================] - 2s 989us/step - loss: 0.3550 - accuracy: 0.8754\n",
      "Epoch 8/10\n",
      "1875/1875 [==============================] - 2s 1ms/step - loss: 0.3426 - accuracy: 0.8791\n",
      "Epoch 9/10\n",
      "1875/1875 [==============================] - 2s 1ms/step - loss: 0.3297 - accuracy: 0.8830\n",
      "Epoch 10/10\n",
      "1875/1875 [==============================] - 2s 957us/step - loss: 0.3220 - accuracy: 0.8853\n"
     ]
    },
    {
     "data": {
      "text/plain": [
       "<keras.callbacks.History at 0x7f39b05ccb80>"
      ]
     },
     "execution_count": 10,
     "metadata": {},
     "output_type": "execute_result"
    }
   ],
   "source": [
    "tf.random.set_seed(43052)\n",
    "net2 = tf.keras.Sequential()\n",
    "net2.add(tf.keras.layers.Flatten())\n",
    "net2.add(tf.keras.layers.Dense(500,activation='relu'))\n",
    "net2.add(tf.keras.layers.Dense(500,activation='relu'))\n",
    "net2.add(tf.keras.layers.Dense(500,activation='relu'))\n",
    "net2.add(tf.keras.layers.Dense(500,activation='relu'))\n",
    "net2.add(tf.keras.layers.Dense(10,activation='softmax'))\n",
    "net2.compile(loss=tf.losses.categorical_crossentropy,optimizer='adam',metrics='accuracy')\n",
    "net2.fit(X,y,epochs=10)"
   ]
  },
  {
   "cell_type": "code",
   "execution_count": 11,
   "id": "1d5fb508-b3f4-490b-bbf1-09001668f05a",
   "metadata": {},
   "outputs": [
    {
     "name": "stdout",
     "output_type": "stream",
     "text": [
      "313/313 [==============================] - 0s 804us/step - loss: 0.3845 - accuracy: 0.8724\n"
     ]
    },
    {
     "data": {
      "text/plain": [
       "[0.3844606578350067, 0.8723999857902527]"
      ]
     },
     "execution_count": 11,
     "metadata": {},
     "output_type": "execute_result"
    }
   ],
   "source": [
    "net2.evaluate(XX,yy)"
   ]
  },
  {
   "cell_type": "markdown",
   "id": "33681249-ff6d-455f-a2f2-48cf604c4b33",
   "metadata": {},
   "source": [
    "- DNN 아키텍처로는 한계가 있음"
   ]
  },
  {
   "cell_type": "markdown",
   "id": "f3ab18ff-5707-4efc-b3fd-b2f763985db9",
   "metadata": {},
   "source": [
    "`-` net3"
   ]
  },
  {
   "cell_type": "code",
   "execution_count": 12,
   "id": "026b8e0c-76ce-4bf3-938b-39e1644f9348",
   "metadata": {},
   "outputs": [
    {
     "name": "stdout",
     "output_type": "stream",
     "text": [
      "Epoch 1/10\n",
      "1875/1875 [==============================] - 3s 994us/step - loss: 0.7711 - accuracy: 0.8095\n",
      "Epoch 2/10\n",
      "1875/1875 [==============================] - 2s 942us/step - loss: 0.3586 - accuracy: 0.8726\n",
      "Epoch 3/10\n",
      "1875/1875 [==============================] - 2s 1ms/step - loss: 0.3145 - accuracy: 0.8875\n",
      "Epoch 4/10\n",
      "1875/1875 [==============================] - 2s 1ms/step - loss: 0.2935 - accuracy: 0.8938\n",
      "Epoch 5/10\n",
      "1875/1875 [==============================] - 2s 995us/step - loss: 0.2775 - accuracy: 0.8989\n",
      "Epoch 6/10\n",
      "1875/1875 [==============================] - 2s 1ms/step - loss: 0.2665 - accuracy: 0.9034\n",
      "Epoch 7/10\n",
      "1875/1875 [==============================] - 2s 959us/step - loss: 0.2582 - accuracy: 0.9060\n",
      "Epoch 8/10\n",
      "1875/1875 [==============================] - 2s 999us/step - loss: 0.2507 - accuracy: 0.9076\n",
      "Epoch 9/10\n",
      "1875/1875 [==============================] - 2s 991us/step - loss: 0.2425 - accuracy: 0.9114\n",
      "Epoch 10/10\n",
      "1875/1875 [==============================] - 2s 973us/step - loss: 0.2365 - accuracy: 0.9125\n"
     ]
    },
    {
     "data": {
      "text/plain": [
       "<keras.callbacks.History at 0x7f39b033f910>"
      ]
     },
     "execution_count": 12,
     "metadata": {},
     "output_type": "execute_result"
    }
   ],
   "source": [
    "tf.random.set_seed(43052)\n",
    "net3 = tf.keras.Sequential()\n",
    "net3.add(tf.keras.layers.Conv2D(30,(2,2),activation='relu'))\n",
    "net3.add(tf.keras.layers.MaxPool2D()) # net3.add(tf.keras.layers.MaxPool2D(pool_size=(2,2)))와 동일한 코드\n",
    "net3.add(tf.keras.layers.Conv2D(30,(2,2),activation='relu'))\n",
    "net3.add(tf.keras.layers.MaxPool2D())\n",
    "net3.add(tf.keras.layers.Flatten())\n",
    "net3.add(tf.keras.layers.Dense(10,activation='softmax'))\n",
    "net3.compile(loss=tf.losses.categorical_crossentropy,optimizer='adam',metrics='accuracy')\n",
    "net3.fit(X,y,epochs=10)"
   ]
  },
  {
   "cell_type": "code",
   "execution_count": 13,
   "id": "862f185b-1426-48d2-85ef-7b86edfe6485",
   "metadata": {},
   "outputs": [
    {
     "name": "stdout",
     "output_type": "stream",
     "text": [
      "313/313 [==============================] - 0s 820us/step - loss: 0.3313 - accuracy: 0.8830\n"
     ]
    },
    {
     "data": {
      "text/plain": [
       "[0.3313341736793518, 0.8830000162124634]"
      ]
     },
     "execution_count": 13,
     "metadata": {},
     "output_type": "execute_result"
    }
   ],
   "source": [
    "net3.evaluate(XX,yy)"
   ]
  },
  {
   "cell_type": "markdown",
   "id": "0d158a3c-11d3-4c4b-a852-8912f45e62df",
   "metadata": {},
   "source": [
    "- DNN의 한계를 가볍게 돌파함"
   ]
  },
  {
   "cell_type": "markdown",
   "id": "50402a1e-86dc-4e62-8b15-00f240129d64",
   "metadata": {},
   "source": [
    "`-` net3의 구조 감상"
   ]
  },
  {
   "cell_type": "code",
   "execution_count": 14,
   "id": "442e9e9a-5b16-4b91-a6c7-727fec21e86b",
   "metadata": {},
   "outputs": [
    {
     "data": {
      "text/plain": [
       "[<keras.layers.convolutional.Conv2D at 0x7f39b0565ae0>,\n",
       " <keras.layers.pooling.MaxPooling2D at 0x7f39b05645b0>,\n",
       " <keras.layers.convolutional.Conv2D at 0x7f39b05668c0>,\n",
       " <keras.layers.pooling.MaxPooling2D at 0x7f39b0564340>,\n",
       " <keras.layers.core.flatten.Flatten at 0x7f39c72a3f40>,\n",
       " <keras.layers.core.dense.Dense at 0x7f39b030eb00>]"
      ]
     },
     "execution_count": 14,
     "metadata": {},
     "output_type": "execute_result"
    }
   ],
   "source": [
    "net3.layers"
   ]
  },
  {
   "cell_type": "code",
   "execution_count": 15,
   "id": "b2b1e821-c201-473a-ad88-6a11b16b5c65",
   "metadata": {},
   "outputs": [],
   "source": [
    "cv1, mp1, cv2, mp2, flttn, d1 = net3.layers"
   ]
  },
  {
   "cell_type": "code",
   "execution_count": 16,
   "id": "d48fda4d-bda5-4311-9c12-67544ab741f9",
   "metadata": {},
   "outputs": [
    {
     "name": "stdout",
     "output_type": "stream",
     "text": [
      "(10000, 28, 28, 1)\n",
      "(10000, 27, 27, 30)\n",
      "(10000, 13, 13, 30)\n",
      "(10000, 12, 12, 30)\n",
      "(10000, 6, 6, 30)\n",
      "(10000, 1080)\n",
      "(10000, 10)\n"
     ]
    }
   ],
   "source": [
    "print(XX.shape) ## 이미지 (2D)\n",
    "print(cv1(XX).shape) ## 이미지 (2D)\n",
    "print(mp1(cv1(XX)).shape) ## 이미지 (2D)\n",
    "print(cv2(mp1(cv1(XX))).shape) ## 이미지 (2D) \n",
    "print(mp2(cv2(mp1(cv1(XX)))).shape) ## 이미지 (2D) \n",
    "print(flttn(mp2(cv2(mp1(cv1(XX))))).shape) ## 이미지를 펼친것 (1D) \n",
    "print(d1(flttn(mp2(cv2(mp1(cv1(XX)))))).shape) ## 이미지를 펼친것 (1D) "
   ]
  },
  {
   "cell_type": "markdown",
   "id": "61fec2ac-e975-4580-bc6e-a24849845ea1",
   "metadata": {},
   "source": [
    "- 복잡한거아냐?"
   ]
  },
  {
   "cell_type": "markdown",
   "id": "7a5521cf-4c70-4466-8248-e9557b0aeee2",
   "metadata": {},
   "source": [
    "`-` 파라메터 비교"
   ]
  },
  {
   "cell_type": "code",
   "execution_count": 17,
   "id": "d338eaf0-92f6-4b9c-a0bc-91b91b07e107",
   "metadata": {},
   "outputs": [
    {
     "name": "stdout",
     "output_type": "stream",
     "text": [
      "Model: \"sequential\"\n",
      "_________________________________________________________________\n",
      " Layer (type)                Output Shape              Param #   \n",
      "=================================================================\n",
      " flatten (Flatten)           (32, 784)                 0         \n",
      "                                                                 \n",
      " dense (Dense)               (32, 30)                  23550     \n",
      "                                                                 \n",
      " dense_1 (Dense)             (32, 10)                  310       \n",
      "                                                                 \n",
      "=================================================================\n",
      "Total params: 23,860\n",
      "Trainable params: 23,860\n",
      "Non-trainable params: 0\n",
      "_________________________________________________________________\n"
     ]
    }
   ],
   "source": [
    "net1.summary() ## 23,860"
   ]
  },
  {
   "cell_type": "code",
   "execution_count": 18,
   "id": "a794ad81-1893-4ce3-9a05-bd2716aff9a7",
   "metadata": {},
   "outputs": [
    {
     "name": "stdout",
     "output_type": "stream",
     "text": [
      "Model: \"sequential_1\"\n",
      "_________________________________________________________________\n",
      " Layer (type)                Output Shape              Param #   \n",
      "=================================================================\n",
      " flatten_1 (Flatten)         (None, 784)               0         \n",
      "                                                                 \n",
      " dense_2 (Dense)             (None, 500)               392500    \n",
      "                                                                 \n",
      " dense_3 (Dense)             (None, 500)               250500    \n",
      "                                                                 \n",
      " dense_4 (Dense)             (None, 500)               250500    \n",
      "                                                                 \n",
      " dense_5 (Dense)             (None, 500)               250500    \n",
      "                                                                 \n",
      " dense_6 (Dense)             (None, 10)                5010      \n",
      "                                                                 \n",
      "=================================================================\n",
      "Total params: 1,149,010\n",
      "Trainable params: 1,149,010\n",
      "Non-trainable params: 0\n",
      "_________________________________________________________________\n"
     ]
    }
   ],
   "source": [
    "net2.summary() # 1,149,010"
   ]
  },
  {
   "cell_type": "code",
   "execution_count": 19,
   "id": "8c751ef5-86c1-4a1b-9360-81a9b1d854f2",
   "metadata": {},
   "outputs": [
    {
     "name": "stdout",
     "output_type": "stream",
     "text": [
      "Model: \"sequential_2\"\n",
      "_________________________________________________________________\n",
      " Layer (type)                Output Shape              Param #   \n",
      "=================================================================\n",
      " conv2d (Conv2D)             (None, 27, 27, 30)        150       \n",
      "                                                                 \n",
      " max_pooling2d (MaxPooling2D  (None, 13, 13, 30)       0         \n",
      " )                                                               \n",
      "                                                                 \n",
      " conv2d_1 (Conv2D)           (None, 12, 12, 30)        3630      \n",
      "                                                                 \n",
      " max_pooling2d_1 (MaxPooling  (None, 6, 6, 30)         0         \n",
      " 2D)                                                             \n",
      "                                                                 \n",
      " flatten_2 (Flatten)         (None, 1080)              0         \n",
      "                                                                 \n",
      " dense_7 (Dense)             (None, 10)                10810     \n",
      "                                                                 \n",
      "=================================================================\n",
      "Total params: 14,590\n",
      "Trainable params: 14,590\n",
      "Non-trainable params: 0\n",
      "_________________________________________________________________\n"
     ]
    }
   ],
   "source": [
    "net3.summary() # 14,590"
   ]
  },
  {
   "cell_type": "code",
   "execution_count": 20,
   "id": "fd303548-f1d8-475f-b6ae-6fcc0839258e",
   "metadata": {},
   "outputs": [
    {
     "data": {
      "text/plain": [
       "0.6114836546521375"
      ]
     },
     "execution_count": 20,
     "metadata": {},
     "output_type": "execute_result"
    }
   ],
   "source": [
    "14590/23860"
   ]
  },
  {
   "cell_type": "code",
   "execution_count": 21,
   "id": "c11a540b-73f3-40cc-a2b3-974f9186098e",
   "metadata": {},
   "outputs": [
    {
     "data": {
      "text/plain": [
       "0.012697887746842934"
      ]
     },
     "execution_count": 21,
     "metadata": {},
     "output_type": "execute_result"
    }
   ],
   "source": [
    "14590/1149010"
   ]
  },
  {
   "cell_type": "markdown",
   "id": "5b5c25df-f55a-40b4-a209-0181ec8ce1e0",
   "metadata": {},
   "source": [
    "### 텐서플로우를 공부하기 좋은 교재 혹은 참고자료"
   ]
  },
  {
   "cell_type": "markdown",
   "id": "6c4313ac-9e4e-4ef2-9533-6d8f63079637",
   "metadata": {},
   "source": [
    "#### 텐서플로우 교재"
   ]
  },
  {
   "cell_type": "markdown",
   "id": "fd5c1278-a0bf-4830-8321-6fc52ebfa09b",
   "metadata": {},
   "source": [
    "`-` 교재1: http://www.kyobobook.co.kr/product/detailViewEng.laf?mallGb=ENG&ejkGb=ENG&barcode=9781838823412\n",
    "- 장점: 텐서플로우 2.0을 다룬 교재, 기본적 내용을 간략히 소개. 다양한 분야를 커버. \n",
    "- 단점: 내용이 조금 산만함 (잘 안읽힘). 코드가 예쁘지 않음. 글을 진짜 못씀. \n"
   ]
  },
  {
   "cell_type": "markdown",
   "id": "43bc74ba-7000-4b26-95cd-ead3e8fd933e",
   "metadata": {},
   "source": [
    "`-` 교재2: https://www.amazon.com/Advanced-Deep-Learning-TensorFlow-Keras/dp/1838821651/ref=pd_sbs_sccl_2_2/139-5369471-9501726?pd_rd_w=PLPU2&pf_rd_p=3676f086-9496-4fd7-8490-77cf7f43f846&pf_rd_r=019BZNCP8B6RHXPKXF0T&pd_rd_r=2dea359c-c5d4-4404-86d8-cb1f5f934607&pd_rd_wg=98kmk&pd_rd_i=1838821651&psc=1\n",
    "\n",
    "- 장점: 코드가 예쁘다. 예제가 잘 구성됨. 참신하다. 내용에 깊이가 있다. \n",
    "- 단점: 입문용 내용이 아예 없음"
   ]
  },
  {
   "cell_type": "markdown",
   "id": "dfb7ce33-5504-4241-b08f-dbdd01086cc2",
   "metadata": {},
   "source": [
    "`-` 교재3: 텐서플로 딥러닝 프로그래밍 (김동근/가메출판사) \n",
    "- 장점: 한글교재, 그래도 교재구성에 흐름이 있다. 공식문서의 가이드내용도 포함 (대부분은 튜토리얼 수준만 포함) \n",
    "- 단점: 공식문서내용 그냥 거의 그대로 베낌. "
   ]
  },
  {
   "cell_type": "markdown",
   "id": "db9f10f9-b20a-4b61-b9cd-a45fc632a1de",
   "metadata": {},
   "source": [
    "#### 공식홈페이지"
   ]
  },
  {
   "cell_type": "markdown",
   "id": "0527b486-88af-48f0-9fd0-a640e0fc3587",
   "metadata": {},
   "source": [
    "`-` 튜토리얼: https://www.tensorflow.org/tutorials?hl=ko\n",
    "- 탭눌러서 초보자~고급 모두 읽어보면 좋다.\n",
    "- 간단한 모형실습들 제공.\n",
    "- 대부분의 교재는 튜토리얼의 내용을 베껴서 출판한다. (외국교재도 포함!)"
   ]
  },
  {
   "cell_type": "markdown",
   "id": "3a483916-a4b1-4f1a-9e27-c4efdce2fb26",
   "metadata": {},
   "source": [
    "`-` 가이드: https://www.tensorflow.org/guide?hl=ko\n",
    "- 왜 파이토치가 아니고 텐서플로우를 써야하는가? 에 대한 대답들 \n",
    "- 모형에 대한 설명보다 프로그램 자체에 대한 이해도를 높여준다. "
   ]
  },
  {
   "cell_type": "markdown",
   "id": "d7ff230c-ed48-41b5-b47b-8fffe57c0818",
   "metadata": {},
   "source": [
    "`-` API: https://www.tensorflow.org/versions?hl=ko\n",
    "- tf의 다양한 모듈구조를 확인 \n",
    "- 파이썬에서 도움말 치면 나오는 것들 + $\\alpha$ \n",
    "- 교재에서 확인불가능한 아주 디테일한 부분까지 확인가능 "
   ]
  },
  {
   "cell_type": "markdown",
   "id": "1e2e28bf-3dcc-49e3-b8df-50734c7708e2",
   "metadata": {},
   "source": [
    "#### 텐서플로우가 아닌 그냥 딥러닝 이론교재 "
   ]
  },
  {
   "cell_type": "markdown",
   "id": "7f0570e2-cba9-4342-a4cc-6d953f1f5f26",
   "metadata": {},
   "source": [
    "`-` Deep Learning (이안굿펠로우): https://www.aladin.co.kr/shop/wproduct.aspx?ItemId=171345378\n",
    "- 장점: 그나마 잘 쓰여진 전통있는 교재, 교수님들 책꽃이에 하나씩 꼽혀있었음. 방대한 내용다룸. 깊이있음. 틀린것 없음. 무료\n",
    "- 단점: 번역이 쓰레기임. 내용이 너무 어려움. (이해를 하라고 쓴 설명이 아님) \n",
    "- 무료제공: https://www.deeplearningbook.org/"
   ]
  },
  {
   "cell_type": "markdown",
   "id": "05b7f072-13de-478e-beea-badec8656fe2",
   "metadata": {},
   "source": [
    "`-` 기계학습 (오일석) \n",
    "- 장점: 이해가 잘된다. 꽤 넓은 분야를 다룬다. 비교적 간단한 예제로 개념을 설명한다. "
   ]
  },
  {
   "cell_type": "markdown",
   "id": "129bb859-ff81-4fe8-9fe2-1353370009b6",
   "metadata": {},
   "source": [
    "### CNN의 시작: 알렉스넷"
   ]
  },
  {
   "cell_type": "markdown",
   "id": "6a690ae2-2e7d-47b3-a3ce-bf81ebc38e6e",
   "metadata": {},
   "source": [
    "`-` 만화: https://wedatalab.tistory.com/71"
   ]
  },
  {
   "cell_type": "markdown",
   "id": "a585e8fd-6363-48ba-aa66-755c14f9bd66",
   "metadata": {},
   "source": [
    "### 2d convolution "
   ]
  }
 ],
 "metadata": {
  "kernelspec": {
   "display_name": "Python 3 (ipykernel)",
   "language": "python",
   "name": "python3"
  },
  "language_info": {
   "codemirror_mode": {
    "name": "ipython",
    "version": 3
   },
   "file_extension": ".py",
   "mimetype": "text/x-python",
   "name": "python",
   "nbconvert_exporter": "python",
   "pygments_lexer": "ipython3",
   "version": "3.10.2"
  }
 },
 "nbformat": 4,
 "nbformat_minor": 5
}
