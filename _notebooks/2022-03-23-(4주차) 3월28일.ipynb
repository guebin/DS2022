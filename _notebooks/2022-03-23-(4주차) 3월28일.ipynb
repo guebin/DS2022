{
 "cells": [
  {
   "cell_type": "markdown",
   "id": "86846b86-4c88-4d88-acc4-0b38e7ecb4e2",
   "metadata": {},
   "source": [
    "# (4주차) 3월28일 -- draft\n",
    "\n",
    "- toc:true\n",
    "- branch: master\n",
    "- badges: true\n",
    "- comments: true\n",
    "- author: 최규빈"
   ]
  },
  {
   "cell_type": "markdown",
   "id": "3cae3ab0-bb83-454b-a3a4-7e60b9ce0e9f",
   "metadata": {},
   "source": [
    "### imports "
   ]
  },
  {
   "cell_type": "code",
   "execution_count": 1,
   "id": "7549a1fe-87d7-4bce-9eef-17a87e34a629",
   "metadata": {},
   "outputs": [],
   "source": [
    "import tensorflow as tf \n",
    "import numpy as np\n",
    "import matplotlib.pyplot as plt "
   ]
  },
  {
   "cell_type": "code",
   "execution_count": 2,
   "id": "77a9dab5-cb00-4f93-8cd7-4dc99868b56a",
   "metadata": {},
   "outputs": [],
   "source": [
    "import tensorflow.experimental.numpy as tnp "
   ]
  },
  {
   "cell_type": "code",
   "execution_count": 3,
   "id": "fcdc9d23-e7d9-46e1-8609-016846aa258e",
   "metadata": {},
   "outputs": [],
   "source": [
    "tnp.experimental_enable_numpy_behavior() "
   ]
  },
  {
   "cell_type": "markdown",
   "id": "f81d1e8a-9143-48e7-a181-34fe918dfea3",
   "metadata": {},
   "source": [
    "### 최적화문제 "
   ]
  },
  {
   "cell_type": "markdown",
   "id": "addef993-af15-41a2-a743-7e904895fcbd",
   "metadata": {},
   "source": [
    "`-` $loss=(\\frac{1}{2}\\beta-1)^2$를 최소하는 $\\beta$를 컴퓨터를 활용하여 구하는 문제를 생각해보자. (우리는 답을 알고 있긴 함 $\\beta=2$)"
   ]
  },
  {
   "cell_type": "markdown",
   "id": "b8be319c-c8ac-4663-a93b-1cbf233e101d",
   "metadata": {},
   "source": [
    "### 방법1: grid search"
   ]
  },
  {
   "cell_type": "markdown",
   "id": "972c0a0d-6f3a-461a-9ea6-2aa963d465a7",
   "metadata": {},
   "source": [
    "#### 그리드서치의 문제점 "
   ]
  },
  {
   "cell_type": "markdown",
   "id": "7e2912dc-c42f-4c7f-9229-17b2a84b9da8",
   "metadata": {},
   "source": [
    "`-` 비판1: [-10,10]이외에 해가 존재하면? \n",
    "- 이 예제의 경우는 운좋게 [-10,10]에서 해가 존재했음\n",
    "- 하지만 임의의 고정된 $x,y$에 대하여 $loss(\\beta)=(x\\beta-y)^2$ 의 형태의 해가 항상 [-10,10]에서 존재한다는 보장은 없음\n",
    "- 해결책: 더 넓게 많은 범위를 탐색하자? "
   ]
  },
  {
   "cell_type": "markdown",
   "id": "4b00adac-b658-4b8e-b440-f1ebe851444a",
   "metadata": {},
   "source": [
    "`-` 비판2: 효율적이지 않음\n",
    "- 알고리즘을 요약하면 결국 -10부터 10까지 작은 간격으로 조금씩 이동하며 loss를 조사하는 것이 grid search의 아이디어 \n",
    "- $\\to$ 생각해보니까 $\\beta=2$인 순간 $loss=(\\frac{1}{2}\\beta-1)^2=0$이 되어서 이것보다 작은 최소값은 존재하지 않는다(제곱은 항상 양수이어야 하므로)\n",
    "- $\\to$ 따라서 $\\beta=2$ 이후로는 탐색할 필요가 없다 "
   ]
  },
  {
   "cell_type": "markdown",
   "id": "f9d102c1-506c-46b4-9032-766c88b7cb2f",
   "metadata": {},
   "source": [
    "### 방법2: gradient descent"
   ]
  },
  {
   "cell_type": "markdown",
   "id": "b610d7bc-127a-4481-b656-0a4782c64a9c",
   "metadata": {},
   "source": [
    "#### 알고리즘"
   ]
  },
  {
   "cell_type": "markdown",
   "id": "5cd5f9b6-122c-4c4f-acf8-3e5ebaea3289",
   "metadata": {},
   "source": [
    "(1) 임의의 초기값을 선정하고 loss를 계산한다. \n",
    " - $\\beta=-5 \\to loss(-5)=(-5/2-1)^2=$"
   ]
  },
  {
   "cell_type": "markdown",
   "id": "4fab88fd-85f9-4942-a486-176ef0366ba3",
   "metadata": {},
   "source": [
    "(2) 임의의 초기값에서 좌우로 약간씩 이동해보고 loss를 계산한다.\n",
    " - 왼쪽으로 이동: $\\beta=-5.01,\\quad loss(5.01)=$\n",
    " - 오른쪽으로 이동: $\\beta=-4.99, \\quad loss(-4.99)=$ "
   ]
  },
  {
   "cell_type": "markdown",
   "id": "c9ef4bdf-2347-44d6-91a5-f5fb9d1c9ec7",
   "metadata": {},
   "source": [
    "(3) (2)의 결과를 보고 어느쪽으로 이동하는것이 유리한지 따져보고 `유리한 방향으로` 이동한다. \n",
    "- $\\beta=-4.99$ 로 이동 \n"
   ]
  },
  {
   "cell_type": "markdown",
   "id": "a452a67c-916c-4c0c-9797-f29cad059879",
   "metadata": {},
   "source": [
    "(4) (2)-(3) 의 과정을 반복한다. **왼쪽/오른쪽 모두 가봐도 유리한 지점이 없다면 알고리즘을 멈춘다.**"
   ]
  },
  {
   "cell_type": "markdown",
   "id": "4f8e3928-20a5-46fd-830c-19c818728fec",
   "metadata": {
    "tags": []
   },
   "source": [
    "#### 잠깐 알고리즘 감상 "
   ]
  },
  {
   "cell_type": "markdown",
   "id": "0298ddc9-838e-4d86-b1ac-7b0d69897a3a",
   "metadata": {},
   "source": [
    "`-` 알고리즘이 멈추는 지점은 $\\beta=2$이다. 왜냐하면 이경우 왼쪽으로 가도, 오른쪽으로 가도 현재 손실함수값보다 크기 때문. "
   ]
  },
  {
   "cell_type": "markdown",
   "id": "9b2a05e9-939e-4c70-a683-5f088d440e1e",
   "metadata": {},
   "source": [
    "`-` 이 알고리즘은 $loss=(x\\beta-y)^2$의 꼴에서 $[-10,10]$ 이외의 지점에 해가 존재하여도 적절하게 해를 찾을 것."
   ]
  },
  {
   "cell_type": "markdown",
   "id": "c8859934-8098-4bf5-be89-6548d7af5da6",
   "metadata": {},
   "source": [
    "`-` 또한 비효율적으로 $\\beta=2$ 이후에도 탐색을 반복하지 않는다. "
   ]
  },
  {
   "cell_type": "markdown",
   "id": "c56b07f1-af5b-4ede-8592-29b362123a07",
   "metadata": {},
   "source": [
    "`-` 알고리즘해석 "
   ]
  },
  {
   "cell_type": "markdown",
   "id": "dc21dda5-c4a5-4fc1-8064-0d8a7620fb16",
   "metadata": {},
   "source": [
    "#### 왼쪽/오른쪽중에 어디로 갈지 어떻게 판단하는 과정을 수식화?"
   ]
  },
  {
   "cell_type": "markdown",
   "id": "3d046b5c-61b0-4ab2-b849-75ed3c283a97",
   "metadata": {},
   "source": [
    "`-` 미분계수의 의미"
   ]
  },
  {
   "cell_type": "markdown",
   "id": "b48861c4-237c-4de9-a9d0-2e6eeb442546",
   "metadata": {},
   "source": [
    "`-` 수식화 "
   ]
  },
  {
   "cell_type": "markdown",
   "id": "c369ac70-3c3a-4a8c-8f27-4e2959f5923d",
   "metadata": {},
   "source": [
    "$$\\beta_{next} = \\begin{cases} \\beta_{old} - 0.01 & loss'(\\beta_{old})>0 \\\\ \\beta_{old} + 0.01 & loss'(\\beta_{old})<0  \\end{cases}$$"
   ]
  },
  {
   "cell_type": "markdown",
   "id": "86878ede-bd34-4eee-9421-120e9837905c",
   "metadata": {},
   "source": [
    "#### hoxy, 알고리즘을 좀 개선할수 있을까?"
   ]
  },
  {
   "cell_type": "markdown",
   "id": "a2b2fa0c-c4d1-4c2b-8085-f3f1fca5bc9b",
   "metadata": {},
   "source": [
    "`-` 동일하게 0.01씩 이동하는게 맞을까? "
   ]
  },
  {
   "cell_type": "code",
   "execution_count": 91,
   "id": "ee75db6f-8460-42e7-8420-3d6b28666f8f",
   "metadata": {},
   "outputs": [
    {
     "data": {
      "text/plain": [
       "[<matplotlib.lines.Line2D at 0x7f4b3023ada0>]"
      ]
     },
     "execution_count": 91,
     "metadata": {},
     "output_type": "execute_result"
    },
    {
     "data": {
      "image/png": "[encoded data removed]",
      "text/plain": [
       "<Figure size 432x288 with 1 Axes>"
      ]
     },
     "metadata": {
      "needs_background": "light"
     },
     "output_type": "display_data"
    }
   ],
   "source": [
    "plt.plot(beta,loss)"
   ]
  },
  {
   "cell_type": "markdown",
   "id": "1c9a7129-1594-44d0-9f8a-16640728284b",
   "metadata": {},
   "source": [
    "`-` 위의 그림에서 $\\beta=-10$ 일 경우의 접선의 기울기는 $-6$이고 $\\beta=-4$ 일때 접선의 기울기는 $-3$이다. \n",
    "\n",
    "$\\because loss = (0.5\\beta-1)^2 \\to loss' = 0.5\\beta-1$"
   ]
  },
  {
   "cell_type": "markdown",
   "id": "f8f445ad-55db-4850-83c6-9bbcec346aa6",
   "metadata": {},
   "source": [
    "`-` 아이디어"
   ]
  },
  {
   "cell_type": "markdown",
   "id": "eb303aaa-aaca-40f6-891e-92f75f7d7f1e",
   "metadata": {},
   "source": [
    "`-` 아이디어를 수식화하자!"
   ]
  },
  {
   "cell_type": "markdown",
   "id": "a768bded-6668-4200-89fc-85c7ca2c05dc",
   "metadata": {},
   "source": [
    "$$\\beta_{next} \\leftarrow \\beta_{old} -\\alpha \\left[\\frac{\\partial}{\\partial \\beta} loss(\\beta)\\right]_{\\beta=\\beta_{old}}$$"
   ]
  },
  {
   "cell_type": "markdown",
   "id": "08fe0afe-1f70-4a1e-acde-6f44545dc442",
   "metadata": {},
   "source": [
    "- 아까 수식이랑 좀 다르다?\n",
    "- $\\alpha$의 가정 \n",
    "- $\\alpha$의 의미: \n",
    "- $\\alpha$의 설정: "
   ]
  },
  {
   "cell_type": "markdown",
   "id": "2caaa51f-8d6b-44df-8de0-200603960555",
   "metadata": {},
   "source": [
    "(개선한 알고리즘을 이용한 풀이) "
   ]
  },
  {
   "cell_type": "markdown",
   "id": "641193c8-07e5-45bf-96d3-d5ddd718b08b",
   "metadata": {},
   "source": [
    "**iter1:** beta=-10 출발"
   ]
  },
  {
   "cell_type": "markdown",
   "id": "753a6477-d0c4-4b4c-b3c0-86283c7ecfad",
   "metadata": {},
   "source": [
    "- 왜 tf.Variable의 메소드에 assign_add, assign_sub 정도만 있는지? \n",
    "- persistenct도 왜 디폴트가 False인지? "
   ]
  },
  {
   "cell_type": "markdown",
   "id": "216417d2-65ee-433f-8074-2ecc778bbe92",
   "metadata": {},
   "source": [
    "**iter2**"
   ]
  },
  {
   "cell_type": "markdown",
   "id": "b8e16aa0-d8bf-40a8-8c0f-0365d020e4c9",
   "metadata": {},
   "source": [
    "**for문**"
   ]
  },
  {
   "cell_type": "markdown",
   "id": "79a62a41-0150-4f1e-83e0-afb329aa2b01",
   "metadata": {},
   "source": [
    "#### 학습률 "
   ]
  },
  {
   "cell_type": "markdown",
   "id": "807ada34-d43b-41d9-9fae-41f68ff8b7ab",
   "metadata": {},
   "source": [
    "`-` 목표: 아래의 학습과정을 시각화해보자. "
   ]
  },
  {
   "cell_type": "markdown",
   "id": "228e01fe-6e57-4e6e-a1fb-c26d927b46ff",
   "metadata": {},
   "source": [
    "##### **[시각화코드 예비학습]**"
   ]
  },
  {
   "cell_type": "markdown",
   "id": "951654b6-2d71-4816-be31-9426bb0a02ac",
   "metadata": {},
   "source": [
    "`-` 환경설정"
   ]
  },
  {
   "cell_type": "code",
   "execution_count": 22,
   "id": "85605520-59fd-4da7-b582-99c46c4e24e1",
   "metadata": {},
   "outputs": [],
   "source": [
    "plt.rcParams[\"animation.html\"]=\"jshtml\""
   ]
  },
  {
   "cell_type": "code",
   "execution_count": 23,
   "id": "bce6c800-4f44-4ce2-a4b6-ffa1f5ab5da8",
   "metadata": {},
   "outputs": [],
   "source": [
    "from matplotlib import animation "
   ]
  },
  {
   "cell_type": "markdown",
   "id": "5c6758ae-a0a6-41ce-b9ef-b1935074d95f",
   "metadata": {},
   "source": [
    "`-` 도화지와 네모틀 생성 "
   ]
  },
  {
   "cell_type": "markdown",
   "id": "3a0b5d35-4256-42e7-89f4-f86f0ce58a03",
   "metadata": {},
   "source": [
    "`-` 도화지와 네모는 포함관계에 있음. "
   ]
  },
  {
   "cell_type": "markdown",
   "id": "594952c3-edce-44fa-b872-47a540f94b36",
   "metadata": {},
   "source": [
    "`-` 그래서 도화지를 출력하면 네모틀도 알아서 출력됨 (네모틀이 없다면 도화지 출력시 아무것도 출력되지 않음) "
   ]
  },
  {
   "cell_type": "markdown",
   "id": "af26cdde-39da-4756-aeea-1952405cadca",
   "metadata": {},
   "source": [
    "`-` 네모틀(ax)의 특수기능(=메소드)중에는 plot이 있음. 이것은 또 어떤 오브젝트를 생성함 "
   ]
  },
  {
   "cell_type": "markdown",
   "id": "57457ea8-e122-43d4-881f-3a7d4a69a529",
   "metadata": {},
   "source": [
    "`-` pnts 오브젝트: x,y data를 변경해보자. "
   ]
  },
  {
   "cell_type": "markdown",
   "id": "89fc3442-a123-4248-b154-bb06ecf78d8f",
   "metadata": {},
   "source": [
    "`-` 에니매이션"
   ]
  },
  {
   "cell_type": "markdown",
   "id": "e5884e71-7678-42f2-9ae0-0ffcf6f44146",
   "metadata": {},
   "source": [
    "예비학습끝 "
   ]
  },
  {
   "cell_type": "markdown",
   "id": "6da17891-71e0-4d1a-83ce-153353b518fd",
   "metadata": {},
   "source": [
    "`-` 다시 학습과정 시각화 문제로 돌아오자. "
   ]
  },
  {
   "cell_type": "markdown",
   "id": "6adcdb40-f232-4a7e-9839-c15a795029e8",
   "metadata": {},
   "source": [
    "`-` 만약에 beta_lst = [-10,-9,-8] 순으로 업데이트 되었다면 아래와 같이 시각화 가능 "
   ]
  },
  {
   "cell_type": "markdown",
   "id": "40594991-6c80-4ca2-8282-a10a2edbcd2c",
   "metadata": {},
   "source": [
    "`-` 학습과정을 beta_lst, loss_lst로 저장하자. "
   ]
  },
  {
   "cell_type": "markdown",
   "id": "d1e5d9fc-49c6-4fe7-9e3a-a5cda2256fb8",
   "metadata": {},
   "source": [
    "`-` 최종결과 "
   ]
  },
  {
   "cell_type": "markdown",
   "id": "f856ac5b-7fda-42a3-bb2e-f60da0b00cc1",
   "metadata": {},
   "source": [
    "`-` alpha를 조정한다!! ($\\alpha=0.1$)"
   ]
  },
  {
   "cell_type": "markdown",
   "id": "207ae24b-4f07-4478-94f7-434b681cbddc",
   "metadata": {},
   "source": [
    "`-` alpha를 더 크게하면? ($\\alpha=1$)"
   ]
  },
  {
   "cell_type": "markdown",
   "id": "01249549-9281-416a-8563-b48a5e0d501e",
   "metadata": {},
   "source": [
    "`-` alpha는 학습속도를 의미함. $\\to$ 빨리배우는게 좋으니까 학습률이 크면 무조건 좋은거아닌가? $\\to$ 아니에용"
   ]
  },
  {
   "cell_type": "markdown",
   "id": "ea69f106-723c-46e2-9163-14f25458817e",
   "metadata": {},
   "source": [
    "(예시1) 너무 큰 학습률의 비효율성 ($\\alpha=3.9$)"
   ]
  },
  {
   "cell_type": "markdown",
   "id": "0f8d4a7f-191c-4b95-804c-6cde2e4cdf0c",
   "metadata": {},
   "source": [
    "(예시2) 너무 큰 학습률의 위험성 ($\\alpha=4.05$)"
   ]
  },
  {
   "cell_type": "markdown",
   "id": "4c005e87-1589-45a3-8e62-0d62a9d56a08",
   "metadata": {},
   "source": [
    "### 방법3: tf.keras.optimizers를 이용 "
   ]
  },
  {
   "cell_type": "markdown",
   "id": "c46093aa-8801-4a20-8019-67cb89172514",
   "metadata": {},
   "source": [
    "`-` 수식 $\\beta_{next} \\leftarrow \\beta_{old} -\\alpha \\left[\\frac{\\partial}{\\partial \\beta} loss(\\beta)\\right]_{\\beta=\\beta_{old}}$ 을 모를때!"
   ]
  },
  {
   "cell_type": "markdown",
   "id": "6784ee72-d97a-4114-b198-03add29e1dfb",
   "metadata": {},
   "source": [
    "`-` 정확한 수식은 모르지만 이상한 초기 $\\beta$ 를 점점 update해서 **그럴듯한** $\\beta$로 만드는 느낌은 기억함. \n",
    "- 그럴듯한 = 최적의"
   ]
  },
  {
   "cell_type": "markdown",
   "id": "c5495e51-1c1c-41ab-9c06-cd30473797a9",
   "metadata": {},
   "source": [
    "`-` 그리고 그 방법이 미분을 이용한다는 것도 기억함! "
   ]
  },
  {
   "cell_type": "markdown",
   "id": "90428edc-43a1-46f0-8bf3-206d4f918aa2",
   "metadata": {},
   "source": [
    "`-` 그럼 아래와 같은 기능을 수행하는 옵티마이저라는 물체(object)를 만들자! \n",
    "- 옵티마이저: ($\\beta^{old}$, $\\beta^{old}$에서의 미분값) $\\to$ $\\beta^{new}$"
   ]
  },
  {
   "cell_type": "markdown",
   "id": "35bc7034-635c-4d9c-bbd9-9a56641e44e9",
   "metadata": {},
   "source": [
    "`-` 이 물체는 현재 아무것도 모르는 상태임 (뭘 최적화 하는지도 모름) "
   ]
  },
  {
   "cell_type": "markdown",
   "id": "67525024-80e2-40bc-baf0-09afc75afc19",
   "metadata": {},
   "source": [
    "`-` 옵티마이저에 전달할 값을 정리하자. 그러니까 (1) $\\beta^{old}$와 (2) $\\beta^{old}$의 미분값. "
   ]
  },
  {
   "cell_type": "markdown",
   "id": "f7a00595-ea22-48e0-898b-6ce5e1c64d93",
   "metadata": {},
   "source": [
    "`-` **iter1:** 옵티마이저에 값을 전달해보자. 전달방식이 좀 까다로운데 반드시 아래와 같은 형태로 전달해야한다. \n",
    "- (beta_old, beta)의 pair를 만든다. (순서가 바뀌면 안된다.) \n",
    "- pair들의 list를 전달한다. "
   ]
  },
  {
   "cell_type": "markdown",
   "id": "55019d3e-9810-4f01-93f4-11c4dde6b4c1",
   "metadata": {},
   "source": [
    "`-` **iter2**: "
   ]
  }
 ],
 "metadata": {
  "kernelspec": {
   "display_name": "Python 3 (ipykernel)",
   "language": "python",
   "name": "python3"
  },
  "language_info": {
   "codemirror_mode": {
    "name": "ipython",
    "version": 3
   },
   "file_extension": ".py",
   "mimetype": "text/x-python",
   "name": "python",
   "nbconvert_exporter": "python",
   "pygments_lexer": "ipython3",
   "version": "3.10.0"
  }
 },
 "nbformat": 4,
 "nbformat_minor": 5
}
