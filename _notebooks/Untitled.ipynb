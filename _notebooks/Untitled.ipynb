{
 "cells": [
  {
   "cell_type": "markdown",
   "id": "d2b40212-0858-42a8-b112-40d63cc69a37",
   "metadata": {
    "tags": []
   },
   "source": [
    "# (11주차) 5월18일\n",
    "\n",
    "- toc:true\n",
    "- branch: master\n",
    "- badges: true\n",
    "- comments: true\n",
    "- author: 최규빈"
   ]
  },
  {
   "cell_type": "markdown",
   "id": "61eb7cad-75e2-4b24-951d-f4918950ac34",
   "metadata": {},
   "source": [
    "### Import"
   ]
  },
  {
   "cell_type": "code",
   "execution_count": 2,
   "id": "bbe4cd2e-8a9a-4815-a77d-ff3f32a2973e",
   "metadata": {},
   "outputs": [],
   "source": [
    "import tensorflow as tf\n",
    "import tensorflow.experimental.numpy as tnp"
   ]
  },
  {
   "cell_type": "code",
   "execution_count": 3,
   "id": "6abf6b4c-dc43-4a96-8424-61321d2d6379",
   "metadata": {},
   "outputs": [],
   "source": [
    "import numpy as np"
   ]
  },
  {
   "cell_type": "code",
   "execution_count": 4,
   "id": "ccb950aa-4d20-41e8-a22e-e7fa737fb53b",
   "metadata": {},
   "outputs": [],
   "source": [
    "import matplotlib.pyplot as plt"
   ]
  },
  {
   "cell_type": "code",
   "execution_count": 5,
   "id": "c3ecdb10-20bc-4411-9903-a27c5315e4d6",
   "metadata": {},
   "outputs": [],
   "source": [
    "tnp.experimental_enable_numpy_behavior()"
   ]
  },
  {
   "cell_type": "markdown",
   "id": "f7fdb602-9ef6-4f2a-941b-6cadc251e071",
   "metadata": {},
   "source": [
    "### CONV의 역할"
   ]
  },
  {
   "cell_type": "markdown",
   "id": "30f14a53-95b3-491c-acc3-8352146e46ce",
   "metadata": {},
   "source": [
    "`-` 데이터생성 (그냥 흑백대비 데이터)"
   ]
  },
  {
   "cell_type": "code",
   "execution_count": 7,
   "id": "a136ede7-c268-4a39-8299-d9e67aaa01d2",
   "metadata": {},
   "outputs": [
    {
     "data": {
      "text/plain": [
       "<tf.Tensor: shape=(50, 25), dtype=float64, numpy=\n",
       "array([[10., 10., 10., ..., 10., 10., 10.],\n",
       "       [10., 10., 10., ..., 10., 10., 10.],\n",
       "       [10., 10., 10., ..., 10., 10., 10.],\n",
       "       ...,\n",
       "       [10., 10., 10., ..., 10., 10., 10.],\n",
       "       [10., 10., 10., ..., 10., 10., 10.],\n",
       "       [10., 10., 10., ..., 10., 10., 10.]])>"
      ]
     },
     "execution_count": 7,
     "metadata": {},
     "output_type": "execute_result"
    }
   ],
   "source": [
    "_X1 = tnp.ones([50,25])*10 \n",
    "_X1"
   ]
  },
  {
   "cell_type": "code",
   "execution_count": 8,
   "id": "0cde5530-b257-4295-a06b-4a8751c4dbc8",
   "metadata": {},
   "outputs": [
    {
     "data": {
      "text/plain": [
       "<tf.Tensor: shape=(50, 25), dtype=float64, numpy=\n",
       "array([[0., 0., 0., ..., 0., 0., 0.],\n",
       "       [0., 0., 0., ..., 0., 0., 0.],\n",
       "       [0., 0., 0., ..., 0., 0., 0.],\n",
       "       ...,\n",
       "       [0., 0., 0., ..., 0., 0., 0.],\n",
       "       [0., 0., 0., ..., 0., 0., 0.],\n",
       "       [0., 0., 0., ..., 0., 0., 0.]])>"
      ]
     },
     "execution_count": 8,
     "metadata": {},
     "output_type": "execute_result"
    }
   ],
   "source": [
    "_X2 = tnp.zeros([50,25])*10 \n",
    "_X2"
   ]
  },
  {
   "cell_type": "code",
   "execution_count": 9,
   "id": "659e3ad2-ae9f-4bf3-97af-f0c77d42941a",
   "metadata": {},
   "outputs": [
    {
     "data": {
      "text/plain": [
       "<tf.Tensor: shape=(50, 50), dtype=float64, numpy=\n",
       "array([[10., 10., 10., ...,  0.,  0.,  0.],\n",
       "       [10., 10., 10., ...,  0.,  0.,  0.],\n",
       "       [10., 10., 10., ...,  0.,  0.,  0.],\n",
       "       ...,\n",
       "       [10., 10., 10., ...,  0.,  0.,  0.],\n",
       "       [10., 10., 10., ...,  0.,  0.,  0.],\n",
       "       [10., 10., 10., ...,  0.,  0.,  0.]])>"
      ]
     },
     "execution_count": 9,
     "metadata": {},
     "output_type": "execute_result"
    }
   ],
   "source": [
    "tf.concat([_X1,_X2],axis=1)"
   ]
  },
  {
   "cell_type": "code",
   "execution_count": 15,
   "id": "f67e204a-fabf-4400-bf9a-5b68532aa167",
   "metadata": {},
   "outputs": [
    {
     "data": {
      "text/plain": [
       "<tf.Tensor: shape=(50, 50), dtype=float64, numpy=\n",
       "array([[-0.30380244,  0.06484819,  0.60069937, ..., -0.49237769,\n",
       "         1.72552047,  0.32319886],\n",
       "       [-0.1442766 ,  0.32071132,  0.27135225, ...,  0.12584098,\n",
       "         1.77500838,  0.30678486],\n",
       "       [-0.98493241,  0.70428041, -0.10798709, ..., -0.07145503,\n",
       "         0.11185082,  1.4473293 ],\n",
       "       ...,\n",
       "       [ 0.41430467, -0.67483518, -0.46844066, ...,  0.76154689,\n",
       "        -1.60328529, -0.37098601],\n",
       "       [-1.65297477, -1.45893833, -1.7887122 , ..., -0.81344932,\n",
       "        -0.21032504, -0.53206832],\n",
       "       [-0.2352507 , -0.77675024, -2.01329394, ..., -1.41071477,\n",
       "        -1.20259288,  0.07060629]])>"
      ]
     },
     "execution_count": 15,
     "metadata": {},
     "output_type": "execute_result"
    }
   ],
   "source": [
    "_noise = tnp.random.randn(50*50).reshape(50,50)\n",
    "_noise"
   ]
  },
  {
   "cell_type": "code",
   "execution_count": 16,
   "id": "b15355f9-81ae-44b6-9a36-c6b8ac8764ca",
   "metadata": {},
   "outputs": [],
   "source": [
    "XXX = tf.concat([_X1,_X2],axis=1) + _noise"
   ]
  },
  {
   "cell_type": "code",
   "execution_count": 24,
   "id": "b83117e0-e6e8-4c1a-8e2f-336b7949fb72",
   "metadata": {},
   "outputs": [],
   "source": [
    "XXX=XXX.reshape(1,50,50,1)"
   ]
  },
  {
   "cell_type": "code",
   "execution_count": 25,
   "id": "05757850-6e0c-4e4b-88ce-4409f0211630",
   "metadata": {},
   "outputs": [
    {
     "data": {
      "text/plain": [
       "<matplotlib.image.AxesImage at 0x7f6769d77f10>"
      ]
     },
     "execution_count": 25,
     "metadata": {},
     "output_type": "execute_result"
    },
    {
     "data": {
      "image/png": "[encoded data removed]",
      "text/plain": [
       "<Figure size 432x288 with 1 Axes>"
      ]
     },
     "metadata": {
      "needs_background": "light"
     },
     "output_type": "display_data"
    }
   ],
   "source": [
    "plt.imshow(XXX.reshape(50,50),cmap='gray')"
   ]
  },
  {
   "cell_type": "markdown",
   "id": "c15c5ad0-f4a1-4e1f-ac72-2b2f2d897a18",
   "metadata": {},
   "source": [
    "`-` conv layer 생성 "
   ]
  },
  {
   "cell_type": "code",
   "execution_count": 26,
   "id": "96150896-e551-49c1-89a1-896850c3bcc6",
   "metadata": {},
   "outputs": [],
   "source": [
    "conv = tf.keras.layers.Conv2D(2,(2,2)) "
   ]
  },
  {
   "cell_type": "code",
   "execution_count": 27,
   "id": "1cda2c5c-dde0-4333-9adf-d008678302ed",
   "metadata": {},
   "outputs": [
    {
     "data": {
      "text/plain": [
       "[]"
      ]
     },
     "execution_count": 27,
     "metadata": {},
     "output_type": "execute_result"
    }
   ],
   "source": [
    "conv.weights # 처음에는 가중치가 없음 "
   ]
  },
  {
   "cell_type": "code",
   "execution_count": 31,
   "id": "d102e864-c9c8-413f-9ebe-5db93a72a9b4",
   "metadata": {},
   "outputs": [
    {
     "data": {
      "text/plain": [
       "[<tf.Variable 'conv2d_1/kernel:0' shape=(2, 2, 1, 2) dtype=float32, numpy=\n",
       " array([[[[ 0.06554878,  0.39761645]],\n",
       " \n",
       "         [[-0.4267348 , -0.376472  ]]],\n",
       " \n",
       " \n",
       "        [[[ 0.2653011 ,  0.42274743]],\n",
       " \n",
       "         [[ 0.4461723 , -0.6650867 ]]]], dtype=float32)>,\n",
       " <tf.Variable 'conv2d_1/bias:0' shape=(2,) dtype=float32, numpy=array([0., 0.], dtype=float32)>]"
      ]
     },
     "execution_count": 31,
     "metadata": {},
     "output_type": "execute_result"
    }
   ],
   "source": [
    "conv(XXX) # 가중치를 만들기 위해서 XXX를 conv에 한번 통과시킴\n",
    "conv.weights # 이제 가중치가 생김"
   ]
  },
  {
   "cell_type": "markdown",
   "id": "565ee9dd-c335-4968-81b8-48d3f3ab1225",
   "metadata": {},
   "source": [
    "`-` 가중치의 값을 확인해보자. "
   ]
  },
  {
   "cell_type": "code",
   "execution_count": 34,
   "id": "0049afe0-08f6-47d1-9aa5-fef917b3eb18",
   "metadata": {},
   "outputs": [
    {
     "data": {
      "text/plain": [
       "<tf.Variable 'conv2d_1/kernel:0' shape=(2, 2, 1, 2) dtype=float32, numpy=\n",
       "array([[[[ 0.06554878,  0.39761645]],\n",
       "\n",
       "        [[-0.4267348 , -0.376472  ]]],\n",
       "\n",
       "\n",
       "       [[[ 0.2653011 ,  0.42274743]],\n",
       "\n",
       "        [[ 0.4461723 , -0.6650867 ]]]], dtype=float32)>"
      ]
     },
     "execution_count": 34,
     "metadata": {},
     "output_type": "execute_result"
    }
   ],
   "source": [
    "conv.weights[0] # kernel에 해당하는것 "
   ]
  },
  {
   "cell_type": "code",
   "execution_count": 35,
   "id": "ae055f6e-c890-4d52-8d75-63a79506e388",
   "metadata": {},
   "outputs": [
    {
     "data": {
      "text/plain": [
       "<tf.Variable 'conv2d_1/bias:0' shape=(2,) dtype=float32, numpy=array([0., 0.], dtype=float32)>"
      ]
     },
     "execution_count": 35,
     "metadata": {},
     "output_type": "execute_result"
    }
   ],
   "source": [
    "conv.weights[1] # bias에 해당하는것 "
   ]
  },
  {
   "cell_type": "markdown",
   "id": "fed40049-9687-4bf5-b841-c73b84ddf40b",
   "metadata": {},
   "source": [
    "`-` 필터값을 원하는 것으로 변경해보자. "
   ]
  },
  {
   "cell_type": "code",
   "execution_count": 40,
   "id": "3a8f20b3-9961-4fa5-bc58-279cf5163af4",
   "metadata": {},
   "outputs": [],
   "source": [
    "w0 = [[0.25,0.25],[0.25,0.25]] # 잡티를 제거하는 효과를 준다. \n",
    "w1 = [[-1.0,1.0],[-1.0,1.0]] # 경계를 찾기 좋아보이는 필터이다. (엣지검출)"
   ]
  },
  {
   "cell_type": "code",
   "execution_count": 45,
   "id": "e93d74ab-f11c-494b-abd4-f7cfb5e96fd3",
   "metadata": {},
   "outputs": [
    {
     "data": {
      "text/plain": [
       "array([[[[ 0.25, -1.  ]],\n",
       "\n",
       "        [[ 0.25,  1.  ]]],\n",
       "\n",
       "\n",
       "       [[[ 0.25, -1.  ]],\n",
       "\n",
       "        [[ 0.25,  1.  ]]]])"
      ]
     },
     "execution_count": 45,
     "metadata": {},
     "output_type": "execute_result"
    }
   ],
   "source": [
    "w=np.concatenate([np.array(w0).reshape(2,2,1,1),np.array(w1).reshape(2,2,1,1)],axis=-1)\n",
    "w"
   ]
  },
  {
   "cell_type": "code",
   "execution_count": 47,
   "id": "1f6535b5-35eb-4a21-b2d3-1cce84b57371",
   "metadata": {},
   "outputs": [
    {
     "data": {
      "text/plain": [
       "array([0., 0.])"
      ]
     },
     "execution_count": 47,
     "metadata": {},
     "output_type": "execute_result"
    }
   ],
   "source": [
    "b= np.array([0.0,0.0])\n",
    "b"
   ]
  },
  {
   "cell_type": "code",
   "execution_count": 50,
   "id": "8b97a3d3-ad63-478f-afda-2498f3093583",
   "metadata": {},
   "outputs": [
    {
     "data": {
      "text/plain": [
       "[array([[[[ 0.25, -1.  ]],\n",
       " \n",
       "         [[ 0.25,  1.  ]]],\n",
       " \n",
       " \n",
       "        [[[ 0.25, -1.  ]],\n",
       " \n",
       "         [[ 0.25,  1.  ]]]], dtype=float32),\n",
       " array([0., 0.], dtype=float32)]"
      ]
     },
     "execution_count": 50,
     "metadata": {},
     "output_type": "execute_result"
    }
   ],
   "source": [
    "conv.set_weights([w,b])\n",
    "conv.get_weights()"
   ]
  },
  {
   "cell_type": "markdown",
   "id": "f01709f4-0d48-459a-bcbd-dcadc54a8329",
   "metadata": {},
   "source": [
    "- 첫번째는 평균을 구하는 필터, \n",
    "- 두번째는 엣지를 검출하는 필터 "
   ]
  },
  {
   "cell_type": "markdown",
   "id": "adf51eeb-3d82-4277-8d41-fe15a84cb7a9",
   "metadata": {},
   "source": [
    "`-` 필터를 넣은 결과를 확인 "
   ]
  },
  {
   "cell_type": "code",
   "execution_count": 61,
   "id": "f4efe99b-cd97-4690-921b-59539391f204",
   "metadata": {},
   "outputs": [
    {
     "data": {
      "text/plain": [
       "<tf.Tensor: shape=(1, 49, 49), dtype=float32, numpy=\n",
       "array([[[ 9.984369  , 10.314403  , 10.114662  , ..., -0.2716803 ,\n",
       "          0.78349805,  1.032628  ],\n",
       "        [ 9.973946  , 10.29709   , 10.011451  , ..., -0.78137755,\n",
       "          0.4853113 ,  0.91024333],\n",
       "        [ 9.694317  , 10.180944  , 10.165418  , ..., -1.1441237 ,\n",
       "         -0.10771888,  0.0131253 ],\n",
       "        ...,\n",
       "        [ 9.950029  ,  9.197831  ,  9.421099  , ...,  0.2848997 ,\n",
       "         -0.24674678, -0.35682005],\n",
       "        [ 9.156889  ,  8.902268  ,  9.352164  , ...,  0.01892059,\n",
       "         -0.46637818, -0.67916614],\n",
       "        [ 8.969021  ,  8.490577  ,  9.140195  , ..., -0.2541374 ,\n",
       "         -0.9092705 , -0.46859497]]], dtype=float32)>"
      ]
     },
     "execution_count": 61,
     "metadata": {},
     "output_type": "execute_result"
    }
   ],
   "source": [
    "XXX0=conv(XXX)[...,0] # 채널0\n",
    "XXX0"
   ]
  },
  {
   "cell_type": "code",
   "execution_count": 62,
   "id": "9b484b2a-2aef-440a-a3e1-2c770b90b7db",
   "metadata": {},
   "outputs": [
    {
     "data": {
      "text/plain": [
       "<tf.Tensor: shape=(1, 49, 49), dtype=float32, numpy=\n",
       "array([[[ 0.8336382 ,  0.48649216, -1.2854509 , ...,  0.35364777,\n",
       "          3.8670654 , -2.8705451 ],\n",
       "        [ 2.1542006 , -0.8616276 , -0.28092575, ...,  3.2342823 ,\n",
       "          1.8324732 , -0.13274503],\n",
       "        [ 2.0953035 , -0.14879417,  0.08668804, ...,  5.0843253 ,\n",
       "         -0.93870586,  1.4220824 ],\n",
       "        ...,\n",
       "        [-1.498992  , -1.5097971 ,  2.4028683 , ...,  1.3495452 ,\n",
       "         -3.4761312 ,  3.0358381 ],\n",
       "        [-0.89510345, -0.12337971,  1.9229631 , ..., -0.17948717,\n",
       "         -1.7617078 ,  0.910556  ],\n",
       "        [-0.3474636 , -1.5663171 ,  4.1647916 , ..., -3.4317784 ,\n",
       "          0.81124616,  0.9514559 ]]], dtype=float32)>"
      ]
     },
     "execution_count": 62,
     "metadata": {},
     "output_type": "execute_result"
    }
   ],
   "source": [
    "XXX1=conv(XXX)[...,1] # 채널1\n",
    "XXX1"
   ]
  },
  {
   "cell_type": "markdown",
   "id": "a88756d7-f602-4e39-a9ed-2f75f4e3708b",
   "metadata": {},
   "source": [
    "`-` 각 채널을 시각화 "
   ]
  },
  {
   "cell_type": "code",
   "execution_count": 55,
   "id": "63047052-b937-49ef-a72d-ad4e187ff218",
   "metadata": {},
   "outputs": [
    {
     "data": {
      "image/png": "[encoded data removed]",
      "text/plain": [
       "<Figure size 432x288 with 4 Axes>"
      ]
     },
     "metadata": {
      "needs_background": "light"
     },
     "output_type": "display_data"
    }
   ],
   "source": [
    "fig, ((ax1,ax2),(ax3,ax4)) = plt.subplots(2,2)"
   ]
  },
  {
   "cell_type": "code",
   "execution_count": 58,
   "id": "af6f9e2e-b8b8-43fa-bd5d-6db98c64df92",
   "metadata": {},
   "outputs": [
    {
     "data": {
      "text/plain": [
       "<matplotlib.image.AxesImage at 0x7f67684b5720>"
      ]
     },
     "execution_count": 58,
     "metadata": {},
     "output_type": "execute_result"
    }
   ],
   "source": [
    "ax1.imshow(XXX.reshape(50,50),cmap='gray')"
   ]
  },
  {
   "cell_type": "code",
   "execution_count": 63,
   "id": "57127387-e222-454b-92e7-c28f5585c863",
   "metadata": {},
   "outputs": [
    {
     "data": {
      "text/plain": [
       "<matplotlib.image.AxesImage at 0x7f67684b47c0>"
      ]
     },
     "execution_count": 63,
     "metadata": {},
     "output_type": "execute_result"
    }
   ],
   "source": [
    "ax3.imshow(XXX0.reshape(49,49),cmap='gray')"
   ]
  },
  {
   "cell_type": "code",
   "execution_count": 64,
   "id": "40cd3093-6491-433a-bb8e-3d4cb7803705",
   "metadata": {},
   "outputs": [
    {
     "data": {
      "text/plain": [
       "<matplotlib.image.AxesImage at 0x7f67684b72e0>"
      ]
     },
     "execution_count": 64,
     "metadata": {},
     "output_type": "execute_result"
    }
   ],
   "source": [
    "ax4.imshow(XXX1.reshape(49,49),cmap='gray')"
   ]
  },
  {
   "cell_type": "code",
   "execution_count": 65,
   "id": "aef72875-cd23-4ec9-a16d-0d28a4c6938d",
   "metadata": {},
   "outputs": [
    {
     "data": {
      "image/png": "[encoded data removed]",
      "text/plain": [
       "<Figure size 432x288 with 4 Axes>"
      ]
     },
     "execution_count": 65,
     "metadata": {},
     "output_type": "execute_result"
    }
   ],
   "source": [
    "fig"
   ]
  },
  {
   "cell_type": "markdown",
   "id": "67f78f12-24c1-425a-ace9-3f3e8e796107",
   "metadata": {},
   "source": [
    "- 2사분면: 원래이미지 \n",
    "- 3사분면: 원래이미지 -> 평균을 의미하는 conv적용 \n",
    "- 4사분면: 원래이미지 -> 엣지를 검출하는 conv적용"
   ]
  },
  {
   "cell_type": "markdown",
   "id": "699f9e79-38c1-447f-a262-ffb43d30d691",
   "metadata": {},
   "source": [
    "`-` conv(XXX)의 각 채널에 한번더 conv를 통과시켜보자"
   ]
  },
  {
   "cell_type": "code",
   "execution_count": 74,
   "id": "979c1126-f689-4aed-aa66-67ec6d9d49c3",
   "metadata": {},
   "outputs": [
    {
     "data": {
      "text/plain": [
       "<tf.Tensor: shape=(1, 48, 48), dtype=float32, numpy=\n",
       "array([[[ 1.01424513e+01,  1.01844015e+01,  9.86733055e+00, ...,\n",
       "         -4.99692082e-01,  5.39378747e-02,  8.02920163e-01],\n",
       "        [ 1.00365734e+01,  1.01637259e+01,  1.02149420e+01, ...,\n",
       "         -7.43912578e-01, -3.86977196e-01,  3.25240284e-01],\n",
       "        [ 9.74410343e+00,  1.01362820e+01,  1.04401426e+01, ...,\n",
       "         -8.01947534e-01, -6.61381423e-01, -1.04143508e-01],\n",
       "        ...,\n",
       "        [ 9.49301243e+00,  9.22852516e+00,  9.76124573e+00, ...,\n",
       "         -3.70009184e-01, -2.82902658e-01, -3.20988595e-01],\n",
       "        [ 9.30175495e+00,  9.21834087e+00,  9.71927547e+00, ...,\n",
       "         -1.98229820e-01, -1.02326170e-01, -4.37277794e-01],\n",
       "        [ 8.87968922e+00,  8.97130108e+00,  9.59087849e+00, ...,\n",
       "         -5.38469851e-03, -4.02716398e-01, -6.30852461e-01]]],\n",
       "      dtype=float32)>"
      ]
     },
     "execution_count": 74,
     "metadata": {},
     "output_type": "execute_result"
    }
   ],
   "source": [
    "conv(XXX0.reshape(1,49,49,1))[...,0] ### XXX0 -> 평균필터 <=> XXX -> 평균필터 -> 평균필터 \n",
    "conv(XXX0.reshape(1,49,49,1))[...,1] ### XXX0 -> 엣지필터 <=> XXX -> 평균필터 -> 엣지필터 \n",
    "conv(XXX1.reshape(1,49,49,1))[...,0] ### XXX1 -> 평균필터 <=> XXX -> 엣지필터 -> 평균필터 \n",
    "conv(XXX1.reshape(1,49,49,1))[...,1] ### XXX1 -> 엣지필터 <=> XXX -> 엣지필터 -> 엣지필터 "
   ]
  },
  {
   "cell_type": "code",
   "execution_count": 75,
   "id": "a1dc91b5-66df-46af-85b3-3ed945523236",
   "metadata": {},
   "outputs": [
    {
     "data": {
      "image/png": "[encoded data removed]",
      "text/plain": [
       "<Figure size 432x288 with 12 Axes>"
      ]
     },
     "metadata": {
      "needs_background": "light"
     },
     "output_type": "display_data"
    }
   ],
   "source": [
    "fig,ax =plt.subplots(3,4)"
   ]
  },
  {
   "cell_type": "code",
   "execution_count": 82,
   "id": "cffe76d3-09bd-431f-937c-f16d53536927",
   "metadata": {},
   "outputs": [
    {
     "data": {
      "text/plain": [
       "<matplotlib.image.AxesImage at 0x7f61a4265540>"
      ]
     },
     "execution_count": 82,
     "metadata": {},
     "output_type": "execute_result"
    }
   ],
   "source": [
    "ax[0][0].imshow(XXX.reshape(50,50),cmap='gray') # 원래이미지"
   ]
  },
  {
   "cell_type": "code",
   "execution_count": 89,
   "id": "41c31608-a60f-4e44-9e01-ab7a1d90f3ad",
   "metadata": {},
   "outputs": [
    {
     "data": {
      "text/plain": [
       "<matplotlib.image.AxesImage at 0x7f61a429b880>"
      ]
     },
     "execution_count": 89,
     "metadata": {},
     "output_type": "execute_result"
    }
   ],
   "source": [
    "ax[1][0].imshow(XXX0.reshape(49,49),cmap='gray') # 원래이미지 -> 평균필터 \n",
    "ax[1][2].imshow(XXX1.reshape(49,49),cmap='gray') # 원래이미지 -> 엣지필터"
   ]
  },
  {
   "cell_type": "code",
   "execution_count": 92,
   "id": "33ba58a4-a253-419a-b76d-95255ffaf0b2",
   "metadata": {},
   "outputs": [
    {
     "data": {
      "text/plain": [
       "<matplotlib.image.AxesImage at 0x7f61a415e380>"
      ]
     },
     "execution_count": 92,
     "metadata": {},
     "output_type": "execute_result"
    }
   ],
   "source": [
    "ax[2][0].imshow(conv(XXX0.reshape(1,49,49,1))[...,0].reshape(48,48),cmap='gray') # 원래이미지 -> 평균필터 \n",
    "ax[2][1].imshow(conv(XXX0.reshape(1,49,49,1))[...,1].reshape(48,48),cmap='gray') # 원래이미지 -> 엣지필터\n",
    "ax[2][2].imshow(conv(XXX1.reshape(1,49,49,1))[...,0].reshape(48,48),cmap='gray') # 원래이미지 -> 평균필터 \n",
    "ax[2][3].imshow(conv(XXX1.reshape(1,49,49,1))[...,1].reshape(48,48),cmap='gray') # 원래이미지 -> 엣지필터"
   ]
  },
  {
   "cell_type": "code",
   "execution_count": 96,
   "id": "a0ec80ec-30f8-45e5-b07c-9d61e5e1bff7",
   "metadata": {},
   "outputs": [
    {
     "data": {
      "image/png": "[encoded data removed]",
      "text/plain": [
       "<Figure size 1152x576 with 12 Axes>"
      ]
     },
     "execution_count": 96,
     "metadata": {},
     "output_type": "execute_result"
    }
   ],
   "source": [
    "fig.set_figheight(8)\n",
    "fig.set_figwidth(16)\n",
    "fig.tight_layout()\n",
    "fig"
   ]
  },
  {
   "cell_type": "markdown",
   "id": "0e599c36-fe2b-4edd-aab4-1275efc95d86",
   "metadata": {},
   "source": [
    "`-` 요약 \n",
    "- conv의 weight에 따라서 엣지를 검출하는 필터가 만들어지기도 하고 스무딩의 역할을 하는 필터가 만들어지기도 한다. 그리고 우리는 의미를 알 수 없지만 어떠한 역할을 하는 필터가 만들어질 것이다. \n",
    "- 이것들을 조합하다보면 우연히 이미지를 분류하기에 유리한 특징을 뽑아내는 weight가 맞춰질 수도 있겠다. \n",
    "- 채널수를 많이 만들고 다양한 웨이트조합을 실험하다보면 보다 복잡한 이미지의 특징을 추출할 수도 있을 것이다? \n",
    "- 컨볼루션 레이어의 역할 = 이미지의 특징을 추출하는 역할 "
   ]
  },
  {
   "cell_type": "markdown",
   "id": "e277767a-fedc-4734-9bca-3f66c92d329f",
   "metadata": {},
   "source": [
    "`-` 참고: 스트라이드, 패딩\n",
    "- 스트라이드: 윈도우가 1칸씩 이동하는 것이 아니라 2~3칸씩 이동함 \n",
    "- 패딩: 이미지의 가장자리에 정당한 값을 넣어서 (예를들어 0) 컨볼루션을 수행. 따라서 컨볼루션 연산 이후에도 이미지의 크기가 줄어들지 않도록 방지한다. "
   ]
  },
  {
   "cell_type": "markdown",
   "id": "b38c4598-2993-43db-abdf-0cbf14c5e8a7",
   "metadata": {},
   "source": [
    "### MAXPOOL"
   ]
  },
  {
   "cell_type": "markdown",
   "id": "c529693a-1ad7-4c4e-924d-2dd0b65d4d3c",
   "metadata": {},
   "source": [
    "`-` 기본적역할: 이미지의 크기를 줄이는 것 \n",
    "- 이미지의의 크기를 줄여야하는 이유? 어차피 최종적으로 10차원으로 줄어야하므로 \n",
    "- 이미지의 크기를 줄이면서도 동시에 아주 크리티컬한 특징은 손실없이 유지하고 싶다~"
   ]
  },
  {
   "cell_type": "markdown",
   "id": "5ac2a2b1-cba8-415d-b2ac-d7bbdf182b9c",
   "metadata": {},
   "source": [
    "`-` 점점 작은 이미지가 되면서 중요한 특징들은 살아남지만 그렇지 않으면 죽는다. (캐리커쳐 느낌)"
   ]
  },
  {
   "cell_type": "markdown",
   "id": "2de4ed8a-a5b0-44cf-8d7b-2772c20546fe",
   "metadata": {},
   "source": [
    "`-` 평균이 아니라 max를 쓴 이유는? 그냥 평균보다 나을것이라고 생각했음.. \n",
    "- 그런데 사실은 꼭 그렇지만은 않아서 최근에는 꼭 맥스풀링을 고집하진 않는 추세 (평균풀링도 많이씀) "
   ]
  },
  {
   "cell_type": "markdown",
   "id": "51d85d2a-6d1f-4b6d-b6bf-8d0648f284b2",
   "metadata": {},
   "source": [
    "### CNN 아키텍처의 표현방법"
   ]
  },
  {
   "cell_type": "markdown",
   "id": "1644b5e7-247e-4897-82a3-cfb2e757c511",
   "metadata": {},
   "source": [
    "`-` 아래와 같이 아키텍처의 다이어그램형태로 표현하고 굳이 노드별로 이미지를 그리진 않음"
   ]
  },
  {
   "cell_type": "markdown",
   "id": "528bacab-2434-4012-8bfa-35846169a682",
   "metadata": {},
   "source": [
    "![](https://upload.wikimedia.org/wikipedia/commons/thumb/c/cc/Comparison_image_neural_networks.svg/2560px-Comparison_image_neural_networks.svg.png)"
   ]
  },
  {
   "cell_type": "markdown",
   "id": "22c03da0-36e9-4250-9f38-ef2d2b94b236",
   "metadata": {},
   "source": [
    "`-` 물론 아래와 같이 그리는 경우도 있음"
   ]
  },
  {
   "cell_type": "markdown",
   "id": "bef64621-c0b4-44f8-b496-23f9d24895c1",
   "metadata": {},
   "source": [
    "![](https://editor.analyticsvidhya.com/uploads/90650dnn2.jpeg)"
   ]
  },
  {
   "cell_type": "markdown",
   "id": "8637cfb3-6536-437f-9492-d104ecb682c7",
   "metadata": {},
   "source": [
    "### Discusstion about CNN "
   ]
  },
  {
   "cell_type": "markdown",
   "id": "2e5a788a-5b03-4f6f-a443-8398ce15d138",
   "metadata": {},
   "source": [
    "`-` 격자형태로 배열된 자료를 처리하는데 특화된 신경망이다. \n",
    "- 시계열 (1차원격자), 이미지 (2차원격자)"
   ]
  },
  {
   "cell_type": "markdown",
   "id": "83e65d0d-3eae-49ff-b357-45f04eaf2c08",
   "metadata": {},
   "source": [
    "`-` 실제응용에서 엄청난 성공을 거두었다. "
   ]
  },
  {
   "cell_type": "markdown",
   "id": "b5d12788-d52c-44d1-9938-8e7d44096a1a",
   "metadata": {},
   "source": [
    "`-` 이름의 유래는 컨볼루션이라는 수학적 연산을 사용했기 때문 \n",
    "- 컨볼루션은 조금 특별한 선형변환이다. "
   ]
  },
  {
   "cell_type": "markdown",
   "id": "d7c84dbc-0e0d-45c6-bb7d-75061eab592e",
   "metadata": {},
   "source": [
    "`-` 신경과학의 원리가 심층학습에 영향을 미친 사례이다. "
   ]
  },
  {
   "cell_type": "markdown",
   "id": "a77c1a4b-2547-4f54-858f-33ae19e95b32",
   "metadata": {},
   "source": [
    "### CNN의 모티브"
   ]
  },
  {
   "cell_type": "markdown",
   "id": "a5f09ed5-32e5-4c1e-bc37-147f7c5e14a4",
   "metadata": {},
   "source": [
    "`-` 희소성 + 매개변수의 공유\n",
    "- 다소 철학적인 모티브임 \n",
    "- 희소성: 이미지를 분석하여 특징을 뽑아낼때 부분부분의 특징만 뽑으면 된다는 의미 \n",
    "- 매개변수의 공유: 한 채널에는 하나의 역할을 하는 커널을 설계하면 된다는 의미 (스무딩이든 엣징이든). 즉 어떤지역은 스무딩, 어떤지역은 엣징을 할 필요가 없이 한채널에서는 엣징만, 다른채널에서는 스무딩만 수행한뒤 여러채널을 조합해서 이해하면 된다. "
   ]
  },
  {
   "cell_type": "markdown",
   "id": "a7dfd4af-3966-4090-89ca-fe47addfeaf1",
   "metadata": {},
   "source": [
    "`-` 매개변수 공유효과로 인해서 파라메터가 확 줄어든다. "
   ]
  },
  {
   "cell_type": "markdown",
   "id": "1ff4322f-88d1-491a-b858-3bb35b533cf9",
   "metadata": {},
   "source": [
    "(예시) (1,6,6,1) -> (1,5,5,2) \n",
    "- MLP방식이면 (36,50) 의 차원을 가진 매트릭스가 필요함 => 1800개의 매개변수 필요\n",
    "- CNN은 8개의 매개변수 필요"
   ]
  },
  {
   "cell_type": "markdown",
   "id": "577aaf7c-e673-4fca-8968-d75a32ff7bbe",
   "metadata": {},
   "source": [
    "### CNN 신경망의 기본구조 "
   ]
  },
  {
   "cell_type": "markdown",
   "id": "3788524b-7054-4c9d-ba28-8503251461b4",
   "metadata": {},
   "source": [
    "`-` 기본유닛 \n",
    "- conv - activation - pooling\n",
    "- conv - conv - activation - pooling"
   ]
  },
  {
   "cell_type": "markdown",
   "id": "0242adef-47ba-4eb1-8dea-99f952c27be0",
   "metadata": {},
   "source": [
    "### 숙제 "
   ]
  },
  {
   "cell_type": "markdown",
   "id": "6d689fa8-0fa9-401b-922c-d0114c2c59b8",
   "metadata": {},
   "source": [
    "`-` 아래와 같은 이미지의 edge를 찾아내는 (2,2) conv 필터를 설계하라. (코드구현없이 답만써도 무방) "
   ]
  },
  {
   "cell_type": "code",
   "execution_count": 121,
   "id": "7ff5eac2-d764-415d-a944-d2af1f712c03",
   "metadata": {},
   "outputs": [
    {
     "data": {
      "text/plain": [
       "<matplotlib.image.AxesImage at 0x7f61a055ba00>"
      ]
     },
     "execution_count": 121,
     "metadata": {},
     "output_type": "execute_result"
    },
    {
     "data": {
      "image/png": "[encoded data removed]",
      "text/plain": [
       "<Figure size 432x288 with 1 Axes>"
      ]
     },
     "metadata": {
      "needs_background": "light"
     },
     "output_type": "display_data"
    }
   ],
   "source": [
    "plt.imshow(XXX.reshape(50,50).T,cmap='gray')"
   ]
  },
  {
   "cell_type": "code",
   "execution_count": null,
   "id": "88fba5bf-6565-4752-a147-12571cb8489e",
   "metadata": {},
   "outputs": [],
   "source": []
  }
 ],
 "metadata": {
  "kernelspec": {
   "display_name": "Python 3 (ipykernel)",
   "language": "python",
   "name": "python3"
  },
  "language_info": {
   "codemirror_mode": {
    "name": "ipython",
    "version": 3
   },
   "file_extension": ".py",
   "mimetype": "text/x-python",
   "name": "python",
   "nbconvert_exporter": "python",
   "pygments_lexer": "ipython3",
   "version": "3.10.2"
  }
 },
 "nbformat": 4,
 "nbformat_minor": 5
}
