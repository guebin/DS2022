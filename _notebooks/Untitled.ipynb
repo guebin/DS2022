{
 "cells": [
  {
   "cell_type": "markdown",
   "id": "e8809dfd-9f28-4be3-ba52-822d297d777a",
   "metadata": {},
   "source": [
    "# (5주차) 3월30일 -- draft\n",
    "\n",
    "- toc:true\n",
    "- branch: master\n",
    "- badges: true\n",
    "- comments: true\n",
    "- author: 최규빈"
   ]
  },
  {
   "cell_type": "markdown",
   "id": "95868225-8405-4bc3-8855-bb57ab466966",
   "metadata": {},
   "source": [
    "### 강의영상 \n",
    "\n",
    "> youtube: "
   ]
  },
  {
   "cell_type": "markdown",
   "id": "ea093d98-e476-4de2-9ff5-7b98f7d621e2",
   "metadata": {},
   "source": [
    "### imports "
   ]
  },
  {
   "cell_type": "code",
   "execution_count": 1,
   "id": "4ec7ad60-84d4-4b61-88d0-5f83872be0be",
   "metadata": {},
   "outputs": [],
   "source": [
    "import tensorflow as tf \n",
    "import numpy as np\n",
    "import matplotlib.pyplot as plt "
   ]
  },
  {
   "cell_type": "code",
   "execution_count": 2,
   "id": "9691fb34-384f-4317-9437-998e8219cf8a",
   "metadata": {},
   "outputs": [],
   "source": [
    "import tensorflow.experimental.numpy as tnp "
   ]
  },
  {
   "cell_type": "code",
   "execution_count": 3,
   "id": "2b368af7-2aac-4028-97e2-a83e7196c7dd",
   "metadata": {},
   "outputs": [],
   "source": [
    "tnp.experimental_enable_numpy_behavior() "
   ]
  },
  {
   "cell_type": "markdown",
   "id": "3f4677a4-dba0-4274-96b5-a51a892026c9",
   "metadata": {},
   "source": [
    "### 최적화의 문제 "
   ]
  },
  {
   "cell_type": "code",
   "execution_count": null,
   "id": "25616e6e-774e-491a-9ba3-c4253ddce88d",
   "metadata": {},
   "outputs": [],
   "source": [
    "tf"
   ]
  },
  {
   "cell_type": "code",
   "execution_count": null,
   "id": "7303afe1-daf7-466d-bf92-1c7b7d50f818",
   "metadata": {},
   "outputs": [],
   "source": []
  }
 ],
 "metadata": {
  "kernelspec": {
   "display_name": "Python 3 (ipykernel)",
   "language": "python",
   "name": "python3"
  },
  "language_info": {
   "codemirror_mode": {
    "name": "ipython",
    "version": 3
   },
   "file_extension": ".py",
   "mimetype": "text/x-python",
   "name": "python",
   "nbconvert_exporter": "python",
   "pygments_lexer": "ipython3",
   "version": "3.10.0"
  }
 },
 "nbformat": 4,
 "nbformat_minor": 5
}
