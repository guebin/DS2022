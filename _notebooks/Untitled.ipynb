{
 "cells": [
  {
   "cell_type": "markdown",
   "id": "e00653f7-3571-4b63-84ea-e46b61b173cb",
   "metadata": {},
   "source": [
    "# conv2d"
   ]
  },
  {
   "cell_type": "markdown",
   "id": "94f9be08-9f0f-4d6b-ab2b-46713ef700c9",
   "metadata": {
    "tags": []
   },
   "source": [
    "### tf.keras.layers.Convolution2D"
   ]
  },
  {
   "cell_type": "code",
   "execution_count": 64,
   "id": "d96d526b-eff1-47a3-9081-22877e608495",
   "metadata": {},
   "outputs": [],
   "source": [
    "import tensorflow as tf \n",
    "import tensorflow.experimental.numpy as tnp "
   ]
  },
  {
   "cell_type": "code",
   "execution_count": 65,
   "id": "2acae176-82a9-4d34-a64c-4fa0f708bf52",
   "metadata": {},
   "outputs": [],
   "source": [
    "import numpy as np"
   ]
  },
  {
   "cell_type": "code",
   "execution_count": 66,
   "id": "f97610fd-4ffd-4167-a7d1-8b56773472bf",
   "metadata": {},
   "outputs": [],
   "source": [
    "tf.experimental.numpy.experimental_enable_numpy_behavior()"
   ]
  },
  {
   "cell_type": "markdown",
   "id": "ff2349dd-155d-4c61-b99d-c0c62b4e10a7",
   "metadata": {
    "tags": []
   },
   "source": [
    "### errors"
   ]
  },
  {
   "cell_type": "code",
   "execution_count": null,
   "id": "78bc184a-7eb6-47a9-9429-52a72009b5ae",
   "metadata": {},
   "outputs": [],
   "source": []
  },
  {
   "cell_type": "markdown",
   "id": "05234220-c3b9-4edb-836e-246ea58e0c0c",
   "metadata": {},
   "source": [
    "### test1"
   ]
  },
  {
   "cell_type": "code",
   "execution_count": null,
   "id": "f1d7f4f3-8f29-4f5c-b2a7-c352a531a27d",
   "metadata": {},
   "outputs": [],
   "source": []
  },
  {
   "cell_type": "code",
   "execution_count": null,
   "id": "ffb5a89c-110b-4d3b-b587-0be3110a56f1",
   "metadata": {},
   "outputs": [],
   "source": []
  },
  {
   "cell_type": "markdown",
   "id": "145a3e73-9358-48c4-87f0-7f86c9cd0003",
   "metadata": {},
   "source": [
    "### tf.keras.layers.Conv2D(1,kernel_size=(2,2)) 요약"
   ]
  },
  {
   "cell_type": "markdown",
   "id": "2789ffc1-9216-49fe-9cc6-86de4f7724c0",
   "metadata": {},
   "source": [
    "`-` 요약"
   ]
  },
  {
   "cell_type": "markdown",
   "id": "b03c7635-e951-4db8-bd92-3a545cef0eb4",
   "metadata": {},
   "source": [
    "(1) size=(2,2)인 윈도우를 만듬. \n",
    "\n",
    "(2) XXX에 윈도우를 통과시켜서 (2,2)크기의 sub XXX 를 얻음. sub XXX의 각 원소에 conv2d.weights[0]의 각 원소를 element-wise하게 곱한다. \n",
    "\n",
    "(3) (2)의 결과를 모두 더한다. 그리고 그 결과에 다시 conv2d.weights[1]을 수행 \n",
    "\n",
    "(4) 윈도우를 이동시키면서 반복!"
   ]
  },
  {
   "cell_type": "code",
   "execution_count": null,
   "id": "62fe21c0-339b-44e0-b5d9-89bba01bace5",
   "metadata": {},
   "outputs": [],
   "source": []
  },
  {
   "cell_type": "markdown",
   "id": "9f6723cd-2db2-4210-8a7a-58a59c6ffd76",
   "metadata": {},
   "source": [
    "### test2"
   ]
  },
  {
   "cell_type": "markdown",
   "id": "c5c27bb4-9f8f-4ba3-847d-f8bcb0e3edfd",
   "metadata": {},
   "source": [
    "`-` XXX의 관측치가 여러개라면? "
   ]
  },
  {
   "cell_type": "code",
   "execution_count": null,
   "id": "5497335a-6a42-4b3c-a02d-ff5507ddb8e1",
   "metadata": {},
   "outputs": [],
   "source": []
  },
  {
   "cell_type": "code",
   "execution_count": null,
   "id": "3814a1d2-9464-4c1b-aeff-e3ddbb08781f",
   "metadata": {},
   "outputs": [],
   "source": []
  },
  {
   "cell_type": "markdown",
   "id": "d0b2b7e8-6fe6-48fb-996c-19d6207bbd32",
   "metadata": {
    "tags": []
   },
   "source": [
    "### test3 "
   ]
  },
  {
   "cell_type": "markdown",
   "id": "a1dec608-c3af-415d-9d1d-dc37d44f8690",
   "metadata": {},
   "source": [
    "`-` 윈도우의 크기가 (3,3)이라면? "
   ]
  },
  {
   "cell_type": "code",
   "execution_count": null,
   "id": "8d4f5109-d2e4-4c27-8839-a1992c720614",
   "metadata": {},
   "outputs": [],
   "source": []
  },
  {
   "cell_type": "code",
   "execution_count": null,
   "id": "001b5522-f5e3-4f3d-bcc3-6cc2d0f0e424",
   "metadata": {},
   "outputs": [],
   "source": []
  },
  {
   "cell_type": "markdown",
   "id": "9b2ec0e2-6d73-47bb-9fc1-d31797446bde",
   "metadata": {},
   "source": [
    "### test4 "
   ]
  },
  {
   "cell_type": "markdown",
   "id": "71cacab5-3b59-4ecf-8c02-0dc19c71ba54",
   "metadata": {},
   "source": [
    "![](https://github.com/guebin/2021BDA/blob/master/_notebooks/2021-11-04-conv.png?raw=true)"
   ]
  },
  {
   "cell_type": "code",
   "execution_count": null,
   "id": "637bd425-a229-44dc-bdf2-30a6709eb63c",
   "metadata": {},
   "outputs": [],
   "source": []
  },
  {
   "cell_type": "code",
   "execution_count": null,
   "id": "104a3d5e-4d14-424f-9d20-77804ae81e8e",
   "metadata": {},
   "outputs": [],
   "source": []
  },
  {
   "cell_type": "markdown",
   "id": "c69c37de-9107-45d5-9c7c-67f2a8617233",
   "metadata": {
    "tags": []
   },
   "source": [
    "### test5"
   ]
  },
  {
   "cell_type": "markdown",
   "id": "31f00dc2-059b-42de-b41f-59b2f10cbdeb",
   "metadata": {},
   "source": [
    "`-` conv2의 채널이 여러개라면? "
   ]
  },
  {
   "cell_type": "code",
   "execution_count": null,
   "id": "3cbb1b23-9ad7-4197-88c0-ca7503206754",
   "metadata": {},
   "outputs": [],
   "source": []
  },
  {
   "cell_type": "code",
   "execution_count": null,
   "id": "629216fc-438a-4803-95be-f5a2bc77e419",
   "metadata": {},
   "outputs": [],
   "source": []
  },
  {
   "cell_type": "markdown",
   "id": "c9a86516-be5d-47cd-aa2c-9bfc3d8e33c4",
   "metadata": {
    "tags": []
   },
   "source": [
    "### test6 "
   ]
  },
  {
   "cell_type": "markdown",
   "id": "e70ac936-cf6f-425d-ade4-bd903fb0af02",
   "metadata": {},
   "source": [
    "`-` X의 채널도 여러개이고, conv2의 채널도 여러개라면? "
   ]
  },
  {
   "cell_type": "code",
   "execution_count": null,
   "id": "0421fcb9-cc82-4f8c-b2a2-7dcf40b73d42",
   "metadata": {},
   "outputs": [],
   "source": []
  },
  {
   "cell_type": "code",
   "execution_count": null,
   "id": "7d23577e-e3b0-4e35-b6b3-aa55743ec3b7",
   "metadata": {},
   "outputs": [],
   "source": []
  }
 ],
 "metadata": {
  "kernelspec": {
   "display_name": "Python 3 (ipykernel)",
   "language": "python",
   "name": "python3"
  },
  "language_info": {
   "codemirror_mode": {
    "name": "ipython",
    "version": 3
   },
   "file_extension": ".py",
   "mimetype": "text/x-python",
   "name": "python",
   "nbconvert_exporter": "python",
   "pygments_lexer": "ipython3",
   "version": "3.10.2"
  }
 },
 "nbformat": 4,
 "nbformat_minor": 5
}
