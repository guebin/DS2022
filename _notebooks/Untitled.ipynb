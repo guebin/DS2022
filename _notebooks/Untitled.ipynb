{
 "cells": [
  {
   "cell_type": "markdown",
   "id": "eb52b81b-c50e-4a70-b392-efb8242a8e31",
   "metadata": {},
   "source": [
    "### imports "
   ]
  },
  {
   "cell_type": "code",
   "execution_count": 1,
   "id": "a7acd440-7164-480d-a1f4-0bfa8024dd01",
   "metadata": {},
   "outputs": [],
   "source": [
    "import tensorflow as tf \n",
    "import tensorflow.experimental.numpy as tnp"
   ]
  },
  {
   "cell_type": "code",
   "execution_count": 2,
   "id": "bdb16c8e-0829-4a01-a136-1fcb86ebdfc5",
   "metadata": {},
   "outputs": [],
   "source": [
    "tnp.experimental_enable_numpy_behavior()"
   ]
  },
  {
   "cell_type": "code",
   "execution_count": 3,
   "id": "c582c669-68ff-4113-85e3-8bf1466f96f9",
   "metadata": {},
   "outputs": [],
   "source": [
    "import matplotlib.pyplot as plt"
   ]
  },
  {
   "cell_type": "markdown",
   "id": "82e471c8-3e98-44a3-b55b-98ebdcc00246",
   "metadata": {},
   "source": [
    "### 지난시간요약 "
   ]
  },
  {
   "cell_type": "markdown",
   "id": "994de195-bbbe-4384-a52b-0b9685cad9be",
   "metadata": {},
   "source": [
    "`-` 이미지자료의 정리 "
   ]
  },
  {
   "cell_type": "code",
   "execution_count": 6,
   "id": "4f2f68b9-3124-4a91-8c12-b1d52cb41cbd",
   "metadata": {},
   "outputs": [],
   "source": [
    "(x_train, y_train), (x_test, y_test) = tf.keras.datasets.fashion_mnist.load_data()"
   ]
  },
  {
   "cell_type": "code",
   "execution_count": 7,
   "id": "17361f88-7ba3-48e2-9aa9-0931dc7fee36",
   "metadata": {},
   "outputs": [],
   "source": [
    "X = tf.constant(x_train.reshape(-1,28,28,1),dtype=tf.float64)\n",
    "y = tf.keras.utils.to_categorical(y_train)\n",
    "XX = tf.constant(x_test.reshape(-1,28,28,1),dtype=tf.float64)\n",
    "yy = tf.keras.utils.to_categorical(y_test)"
   ]
  },
  {
   "cell_type": "markdown",
   "id": "9a3d876d-417d-4d33-bbf4-717546c0c8dd",
   "metadata": {},
   "source": [
    "`-` net1,2"
   ]
  },
  {
   "cell_type": "code",
   "execution_count": 14,
   "id": "a691dd33-f7df-44ba-95d2-cd8248af840e",
   "metadata": {},
   "outputs": [
    {
     "name": "stdout",
     "output_type": "stream",
     "text": [
      "Epoch 1/10\n",
      "1875/1875 [==============================] - 1s 663us/step - loss: 2.5237 - accuracy: 0.4094\n",
      "Epoch 2/10\n",
      "1875/1875 [==============================] - 1s 658us/step - loss: 1.1877 - accuracy: 0.5228\n",
      "Epoch 3/10\n",
      "1875/1875 [==============================] - 1s 673us/step - loss: 1.0028 - accuracy: 0.5973\n",
      "Epoch 4/10\n",
      "1875/1875 [==============================] - 1s 671us/step - loss: 0.9433 - accuracy: 0.6128\n",
      "Epoch 5/10\n",
      "1875/1875 [==============================] - 1s 646us/step - loss: 0.8976 - accuracy: 0.6265\n",
      "Epoch 6/10\n",
      "1875/1875 [==============================] - 1s 652us/step - loss: 0.8482 - accuracy: 0.6517\n",
      "Epoch 7/10\n",
      "1875/1875 [==============================] - 1s 634us/step - loss: 0.8150 - accuracy: 0.6595\n",
      "Epoch 8/10\n",
      "1875/1875 [==============================] - 1s 674us/step - loss: 0.7879 - accuracy: 0.6726\n",
      "Epoch 9/10\n",
      "1875/1875 [==============================] - 1s 648us/step - loss: 0.7502 - accuracy: 0.6967\n",
      "Epoch 10/10\n",
      "1875/1875 [==============================] - 1s 658us/step - loss: 0.7026 - accuracy: 0.7193\n"
     ]
    },
    {
     "data": {
      "text/plain": [
       "<keras.callbacks.History at 0x7f1eb07a4d00>"
      ]
     },
     "execution_count": 14,
     "metadata": {},
     "output_type": "execute_result"
    }
   ],
   "source": [
    "tf.random.set_seed(43052)\n",
    "net1 = tf.keras.Sequential()\n",
    "net1.add(tf.keras.layers.Flatten())\n",
    "net1.add(tf.keras.layers.Dense(30,activation='relu'))\n",
    "net1.add(tf.keras.layers.Dense(10,activation='softmax'))\n",
    "net1.compile(loss=tf.losses.categorical_crossentropy,optimizer='adam',metrics='accuracy')\n",
    "net1.fit(X,y,epochs=10)"
   ]
  },
  {
   "cell_type": "code",
   "execution_count": 18,
   "id": "0f65b761-a071-4d7d-a991-e03c7bee2343",
   "metadata": {},
   "outputs": [
    {
     "name": "stdout",
     "output_type": "stream",
     "text": [
      "1875/1875 [==============================] - 1s 595us/step - loss: 0.6623 - accuracy: 0.7284\n"
     ]
    },
    {
     "data": {
      "text/plain": [
       "[0.6623389720916748, 0.7283999919891357]"
      ]
     },
     "execution_count": 18,
     "metadata": {},
     "output_type": "execute_result"
    }
   ],
   "source": [
    "net1.evaluate(X,y)"
   ]
  },
  {
   "cell_type": "code",
   "execution_count": 15,
   "id": "acec7835-6b7c-4190-b252-91e52d8f2c61",
   "metadata": {},
   "outputs": [
    {
     "name": "stdout",
     "output_type": "stream",
     "text": [
      "Epoch 1/10\n",
      "1875/1875 [==============================] - 2s 1ms/step - loss: 1.1244 - accuracy: 0.7858\n",
      "Epoch 2/10\n",
      "1875/1875 [==============================] - 2s 1ms/step - loss: 0.4613 - accuracy: 0.8363\n",
      "Epoch 3/10\n",
      "1875/1875 [==============================] - 2s 1ms/step - loss: 0.4159 - accuracy: 0.8532\n",
      "Epoch 4/10\n",
      "1875/1875 [==============================] - 2s 1ms/step - loss: 0.3925 - accuracy: 0.8610\n",
      "Epoch 5/10\n",
      "1875/1875 [==============================] - 2s 1ms/step - loss: 0.3802 - accuracy: 0.8665\n",
      "Epoch 6/10\n",
      "1875/1875 [==============================] - 2s 1ms/step - loss: 0.3560 - accuracy: 0.8739\n",
      "Epoch 7/10\n",
      "1875/1875 [==============================] - 2s 994us/step - loss: 0.3463 - accuracy: 0.8770\n",
      "Epoch 8/10\n",
      "1875/1875 [==============================] - 2s 1ms/step - loss: 0.3352 - accuracy: 0.8823\n",
      "Epoch 9/10\n",
      "1875/1875 [==============================] - 2s 1ms/step - loss: 0.3249 - accuracy: 0.8841\n",
      "Epoch 10/10\n",
      "1875/1875 [==============================] - 2s 988us/step - loss: 0.3178 - accuracy: 0.8864\n"
     ]
    },
    {
     "data": {
      "text/plain": [
       "<keras.callbacks.History at 0x7f1e9c3fd0c0>"
      ]
     },
     "execution_count": 15,
     "metadata": {},
     "output_type": "execute_result"
    }
   ],
   "source": [
    "tf.random.set_seed(43052)\n",
    "net2 = tf.keras.Sequential()\n",
    "net2.add(tf.keras.layers.Flatten())\n",
    "net2.add(tf.keras.layers.Dense(500,activation='relu'))\n",
    "net2.add(tf.keras.layers.Dense(500,activation='relu'))\n",
    "net2.add(tf.keras.layers.Dense(500,activation='relu'))\n",
    "net2.add(tf.keras.layers.Dense(500,activation='relu'))\n",
    "net2.add(tf.keras.layers.Dense(10,activation='softmax'))\n",
    "net2.compile(loss=tf.losses.categorical_crossentropy,optimizer='adam',metrics='accuracy')\n",
    "net2.fit(X,y,epochs=10)"
   ]
  },
  {
   "cell_type": "code",
   "execution_count": 17,
   "id": "1d5fb508-b3f4-490b-bbf1-09001668f05a",
   "metadata": {},
   "outputs": [
    {
     "name": "stdout",
     "output_type": "stream",
     "text": [
      "313/313 [==============================] - 1s 853us/step - loss: 0.4175 - accuracy: 0.8596\n"
     ]
    },
    {
     "data": {
      "text/plain": [
       "[0.41747069358825684, 0.8596000075340271]"
      ]
     },
     "execution_count": 17,
     "metadata": {},
     "output_type": "execute_result"
    }
   ],
   "source": [
    "net2.evaluate(XX,yy)"
   ]
  },
  {
   "cell_type": "markdown",
   "id": "33681249-ff6d-455f-a2f2-48cf604c4b33",
   "metadata": {},
   "source": [
    "- DNN 아키텍처로는 한계가 있음"
   ]
  },
  {
   "cell_type": "markdown",
   "id": "f3ab18ff-5707-4efc-b3fd-b2f763985db9",
   "metadata": {},
   "source": [
    "`-` net3"
   ]
  },
  {
   "cell_type": "code",
   "execution_count": 31,
   "id": "026b8e0c-76ce-4bf3-938b-39e1644f9348",
   "metadata": {},
   "outputs": [
    {
     "name": "stdout",
     "output_type": "stream",
     "text": [
      "Epoch 1/10\n",
      "1875/1875 [==============================] - 2s 1ms/step - loss: 0.7712 - accuracy: 0.8098\n",
      "Epoch 2/10\n",
      "1875/1875 [==============================] - 2s 1ms/step - loss: 0.3581 - accuracy: 0.8719\n",
      "Epoch 3/10\n",
      "1875/1875 [==============================] - 2s 942us/step - loss: 0.3141 - accuracy: 0.8868\n",
      "Epoch 4/10\n",
      "1875/1875 [==============================] - 2s 965us/step - loss: 0.2945 - accuracy: 0.8932\n",
      "Epoch 5/10\n",
      "1875/1875 [==============================] - 2s 961us/step - loss: 0.2778 - accuracy: 0.8992\n",
      "Epoch 6/10\n",
      "1875/1875 [==============================] - 2s 1ms/step - loss: 0.2677 - accuracy: 0.9023\n",
      "Epoch 7/10\n",
      "1875/1875 [==============================] - 2s 1ms/step - loss: 0.2594 - accuracy: 0.9053\n",
      "Epoch 8/10\n",
      "1875/1875 [==============================] - 2s 1ms/step - loss: 0.2471 - accuracy: 0.9087\n",
      "Epoch 9/10\n",
      "1875/1875 [==============================] - 2s 1ms/step - loss: 0.2424 - accuracy: 0.9111\n",
      "Epoch 10/10\n",
      "1875/1875 [==============================] - 2s 1ms/step - loss: 0.2352 - accuracy: 0.9134\n"
     ]
    },
    {
     "data": {
      "text/plain": [
       "<keras.callbacks.History at 0x7f1ee41c2260>"
      ]
     },
     "execution_count": 31,
     "metadata": {},
     "output_type": "execute_result"
    }
   ],
   "source": [
    "tf.random.set_seed(43052)\n",
    "net3 = tf.keras.Sequential()\n",
    "net3.add(tf.keras.layers.Conv2D(30,(2,2),activation='relu'))\n",
    "net3.add(tf.keras.layers.MaxPool2D()) # net3.add(tf.keras.layers.MaxPool2D(pool_size=(2,2)))와 동일한 코드\n",
    "net3.add(tf.keras.layers.Conv2D(30,(2,2),activation='relu'))\n",
    "net3.add(tf.keras.layers.MaxPool2D())\n",
    "net3.add(tf.keras.layers.Flatten())\n",
    "net3.add(tf.keras.layers.Dense(10,activation='softmax'))\n",
    "net3.compile(loss=tf.losses.categorical_crossentropy,optimizer='adam',metrics='accuracy')\n",
    "net3.fit(X,y,epochs=10)"
   ]
  },
  {
   "cell_type": "code",
   "execution_count": 32,
   "id": "862f185b-1426-48d2-85ef-7b86edfe6485",
   "metadata": {},
   "outputs": [
    {
     "name": "stdout",
     "output_type": "stream",
     "text": [
      "313/313 [==============================] - 0s 859us/step - loss: 0.3382 - accuracy: 0.8819\n"
     ]
    },
    {
     "data": {
      "text/plain": [
       "[0.33816835284233093, 0.8819000124931335]"
      ]
     },
     "execution_count": 32,
     "metadata": {},
     "output_type": "execute_result"
    }
   ],
   "source": [
    "net3.evaluate(XX,yy)"
   ]
  },
  {
   "cell_type": "markdown",
   "id": "0d158a3c-11d3-4c4b-a852-8912f45e62df",
   "metadata": {},
   "source": [
    "- DNN의 한계를 가볍게 돌파함"
   ]
  },
  {
   "cell_type": "markdown",
   "id": "50402a1e-86dc-4e62-8b15-00f240129d64",
   "metadata": {},
   "source": [
    "`-` net3의 구조 감상"
   ]
  },
  {
   "cell_type": "code",
   "execution_count": 33,
   "id": "442e9e9a-5b16-4b91-a6c7-727fec21e86b",
   "metadata": {},
   "outputs": [
    {
     "data": {
      "text/plain": [
       "[<keras.layers.convolutional.Conv2D at 0x7f1f56c10550>,\n",
       " <keras.layers.pooling.MaxPooling2D at 0x7f1f54ee74f0>,\n",
       " <keras.layers.convolutional.Conv2D at 0x7f1f54ee7e20>,\n",
       " <keras.layers.pooling.MaxPooling2D at 0x7f1f56c10820>,\n",
       " <keras.layers.core.flatten.Flatten at 0x7f1ee4156710>,\n",
       " <keras.layers.core.dense.Dense at 0x7f1f55c34ee0>]"
      ]
     },
     "execution_count": 33,
     "metadata": {},
     "output_type": "execute_result"
    }
   ],
   "source": [
    "net3.layers"
   ]
  },
  {
   "cell_type": "code",
   "execution_count": 34,
   "id": "b2b1e821-c201-473a-ad88-6a11b16b5c65",
   "metadata": {},
   "outputs": [],
   "source": [
    "cv1, mp1, cv2, mp2, flttn, d1 = net3.layers"
   ]
  },
  {
   "cell_type": "code",
   "execution_count": 43,
   "id": "d48fda4d-bda5-4311-9c12-67544ab741f9",
   "metadata": {},
   "outputs": [
    {
     "name": "stdout",
     "output_type": "stream",
     "text": [
      "(10000, 28, 28, 1)\n",
      "(10000, 27, 27, 30)\n",
      "(10000, 13, 13, 30)\n",
      "(10000, 12, 12, 30)\n",
      "(10000, 6, 6, 30)\n",
      "(10000, 1080)\n",
      "(10000, 10)\n"
     ]
    }
   ],
   "source": [
    "print(XX.shape) ## 이미지 (2D)\n",
    "print(cv1(XX).shape) ## 이미지 (2D)\n",
    "print(mp1(cv1(XX)).shape) ## 이미지 (2D)\n",
    "print(cv2(mp1(cv1(XX))).shape) ## 이미지 (2D) \n",
    "print(mp2(cv2(mp1(cv1(XX)))).shape) ## 이미지 (2D) \n",
    "print(flttn(mp2(cv2(mp1(cv1(XX))))).shape) ## 이미지를 펼친것 (1D) \n",
    "print(d1(flttn(mp2(cv2(mp1(cv1(XX)))))).shape) ## 이미지를 펼친것 (1D) "
   ]
  },
  {
   "cell_type": "markdown",
   "id": "61fec2ac-e975-4580-bc6e-a24849845ea1",
   "metadata": {},
   "source": [
    "- 복잡한거아냐?"
   ]
  },
  {
   "cell_type": "markdown",
   "id": "7a5521cf-4c70-4466-8248-e9557b0aeee2",
   "metadata": {},
   "source": [
    "`-` 파라메터 비교"
   ]
  },
  {
   "cell_type": "code",
   "execution_count": 44,
   "id": "d338eaf0-92f6-4b9c-a0bc-91b91b07e107",
   "metadata": {},
   "outputs": [
    {
     "name": "stdout",
     "output_type": "stream",
     "text": [
      "Model: \"sequential_5\"\n",
      "_________________________________________________________________\n",
      " Layer (type)                Output Shape              Param #   \n",
      "=================================================================\n",
      " flatten_2 (Flatten)         (32, 784)                 0         \n",
      "                                                                 \n",
      " dense_9 (Dense)             (32, 30)                  23550     \n",
      "                                                                 \n",
      " dense_10 (Dense)            (32, 10)                  310       \n",
      "                                                                 \n",
      "=================================================================\n",
      "Total params: 23,860\n",
      "Trainable params: 23,860\n",
      "Non-trainable params: 0\n",
      "_________________________________________________________________\n"
     ]
    }
   ],
   "source": [
    "net1.summary() ## 23,860"
   ]
  },
  {
   "cell_type": "code",
   "execution_count": 46,
   "id": "a794ad81-1893-4ce3-9a05-bd2716aff9a7",
   "metadata": {},
   "outputs": [
    {
     "name": "stdout",
     "output_type": "stream",
     "text": [
      "Model: \"sequential_6\"\n",
      "_________________________________________________________________\n",
      " Layer (type)                Output Shape              Param #   \n",
      "=================================================================\n",
      " flatten_3 (Flatten)         (None, 784)               0         \n",
      "                                                                 \n",
      " dense_11 (Dense)            (None, 500)               392500    \n",
      "                                                                 \n",
      " dense_12 (Dense)            (None, 500)               250500    \n",
      "                                                                 \n",
      " dense_13 (Dense)            (None, 500)               250500    \n",
      "                                                                 \n",
      " dense_14 (Dense)            (None, 500)               250500    \n",
      "                                                                 \n",
      " dense_15 (Dense)            (None, 10)                5010      \n",
      "                                                                 \n",
      "=================================================================\n",
      "Total params: 1,149,010\n",
      "Trainable params: 1,149,010\n",
      "Non-trainable params: 0\n",
      "_________________________________________________________________\n"
     ]
    }
   ],
   "source": [
    "net2.summary() # 1,149,010"
   ]
  },
  {
   "cell_type": "code",
   "execution_count": 48,
   "id": "8c751ef5-86c1-4a1b-9360-81a9b1d854f2",
   "metadata": {},
   "outputs": [
    {
     "name": "stdout",
     "output_type": "stream",
     "text": [
      "Model: \"sequential_10\"\n",
      "_________________________________________________________________\n",
      " Layer (type)                Output Shape              Param #   \n",
      "=================================================================\n",
      " conv2d_4 (Conv2D)           (None, 27, 27, 30)        150       \n",
      "                                                                 \n",
      " max_pooling2d_4 (MaxPooling  (None, 13, 13, 30)       0         \n",
      " 2D)                                                             \n",
      "                                                                 \n",
      " conv2d_5 (Conv2D)           (None, 12, 12, 30)        3630      \n",
      "                                                                 \n",
      " max_pooling2d_5 (MaxPooling  (None, 6, 6, 30)         0         \n",
      " 2D)                                                             \n",
      "                                                                 \n",
      " flatten_6 (Flatten)         (None, 1080)              0         \n",
      "                                                                 \n",
      " dense_18 (Dense)            (None, 10)                10810     \n",
      "                                                                 \n",
      "=================================================================\n",
      "Total params: 14,590\n",
      "Trainable params: 14,590\n",
      "Non-trainable params: 0\n",
      "_________________________________________________________________\n"
     ]
    }
   ],
   "source": [
    "net3.summary() # 14,590"
   ]
  },
  {
   "cell_type": "code",
   "execution_count": 49,
   "id": "fd303548-f1d8-475f-b6ae-6fcc0839258e",
   "metadata": {},
   "outputs": [
    {
     "data": {
      "text/plain": [
       "0.6114836546521375"
      ]
     },
     "execution_count": 49,
     "metadata": {},
     "output_type": "execute_result"
    }
   ],
   "source": [
    "14590/23860"
   ]
  },
  {
   "cell_type": "code",
   "execution_count": 50,
   "id": "c11a540b-73f3-40cc-a2b3-974f9186098e",
   "metadata": {},
   "outputs": [
    {
     "data": {
      "text/plain": [
       "0.012697887746842934"
      ]
     },
     "execution_count": 50,
     "metadata": {},
     "output_type": "execute_result"
    }
   ],
   "source": [
    "14590/1149010"
   ]
  }
 ],
 "metadata": {
  "kernelspec": {
   "display_name": "Python 3 (ipykernel)",
   "language": "python",
   "name": "python3"
  },
  "language_info": {
   "codemirror_mode": {
    "name": "ipython",
    "version": 3
   },
   "file_extension": ".py",
   "mimetype": "text/x-python",
   "name": "python",
   "nbconvert_exporter": "python",
   "pygments_lexer": "ipython3",
   "version": "3.10.2"
  }
 },
 "nbformat": 4,
 "nbformat_minor": 5
}
