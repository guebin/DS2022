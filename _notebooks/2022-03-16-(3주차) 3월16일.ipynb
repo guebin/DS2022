{
 "cells": [
  {
   "cell_type": "markdown",
   "id": "904c2d8f-accf-4a4a-86b3-e9a6361ba29a",
   "metadata": {},
   "source": [
    "# (3주차) 3월16일 - draft\n",
    "\n",
    "- toc:true\n",
    "- branch: master\n",
    "- badges: true\n",
    "- comments: true\n",
    "- author: 최규빈"
   ]
  },
  {
   "cell_type": "markdown",
   "id": "cdc4da3d-9aaa-4a1a-ac19-5070c0a4cbf8",
   "metadata": {},
   "source": [
    "### import "
   ]
  },
  {
   "cell_type": "code",
   "execution_count": 1,
   "id": "e18d4288-4668-45c2-a66f-5bb76f5b9ca2",
   "metadata": {},
   "outputs": [],
   "source": [
    "import tensorflow as tf\n",
    "import numpy as np"
   ]
  },
  {
   "cell_type": "code",
   "execution_count": 3,
   "id": "c4a78936-73df-4a20-8041-0d76aa07fd0f",
   "metadata": {},
   "outputs": [
    {
     "data": {
      "text/plain": [
       "[PhysicalDevice(name='/physical_device:GPU:0', device_type='GPU')]"
      ]
     },
     "execution_count": 3,
     "metadata": {},
     "output_type": "execute_result"
    }
   ],
   "source": [
    "tf.config.experimental.list_physical_devices('GPU')"
   ]
  },
  {
   "cell_type": "markdown",
   "id": "1f7d8172-8b82-4777-b922-aa46ea9e5a48",
   "metadata": {},
   "source": [
    "### tf.constant "
   ]
  },
  {
   "cell_type": "markdown",
   "id": "327eb735-9f41-40d5-8837-1ff630860b58",
   "metadata": {},
   "source": [
    "#### 선언고급 "
   ]
  },
  {
   "cell_type": "markdown",
   "id": "4d19d06b-5b7c-487a-8363-e234993c7394",
   "metadata": {},
   "source": [
    "`-` 대각행렬선언 "
   ]
  },
  {
   "cell_type": "code",
   "execution_count": 4,
   "id": "920952c1-8aee-4b8a-95ae-a82ba7cd0785",
   "metadata": {},
   "outputs": [
    {
     "data": {
      "text/plain": [
       "<tf.Tensor: shape=(3, 3), dtype=int64, numpy=\n",
       "array([[1, 0, 0],\n",
       "       [0, 2, 0],\n",
       "       [0, 0, 3]])>"
      ]
     },
     "execution_count": 4,
     "metadata": {},
     "output_type": "execute_result"
    }
   ],
   "source": [
    "tf.constant(np.diag([1,2,3]))"
   ]
  },
  {
   "cell_type": "markdown",
   "id": "a17f479b-2b76-499e-a2c9-ea211d111bae",
   "metadata": {},
   "source": [
    "`-` 1만 포함한 텐서를 만들고 싶음 "
   ]
  },
  {
   "cell_type": "code",
   "execution_count": 5,
   "id": "f5c260e9-ae25-46d6-90f1-bb70c423a2fd",
   "metadata": {},
   "outputs": [
    {
     "data": {
      "text/plain": [
       "<tf.Tensor: shape=(3, 4), dtype=float32, numpy=\n",
       "array([[1., 1., 1., 1.],\n",
       "       [1., 1., 1., 1.],\n",
       "       [1., 1., 1., 1.]], dtype=float32)>"
      ]
     },
     "execution_count": 5,
     "metadata": {},
     "output_type": "execute_result"
    }
   ],
   "source": [
    "tf.ones([3,4])"
   ]
  },
  {
   "cell_type": "code",
   "execution_count": 6,
   "id": "0cbaade8-b1f2-4680-82fe-c8c59de83d6d",
   "metadata": {},
   "outputs": [
    {
     "data": {
      "text/plain": [
       "<tf.Tensor: shape=(3, 4), dtype=int32, numpy=\n",
       "array([[1, 1, 1, 1],\n",
       "       [1, 1, 1, 1],\n",
       "       [1, 1, 1, 1]], dtype=int32)>"
      ]
     },
     "execution_count": 6,
     "metadata": {},
     "output_type": "execute_result"
    }
   ],
   "source": [
    "tf.reshape(tf.constant([1]*12),(3,4))"
   ]
  },
  {
   "cell_type": "markdown",
   "id": "c50dcd00-60d8-4a80-a8b7-7def053f4ce0",
   "metadata": {},
   "source": [
    "`-` 0만 포함한 텐서를 만들고 싶음 "
   ]
  },
  {
   "cell_type": "code",
   "execution_count": 10,
   "id": "f1666709-9504-44b2-bce2-f47e7fd155bf",
   "metadata": {},
   "outputs": [
    {
     "data": {
      "text/plain": [
       "<tf.Tensor: shape=(3, 3), dtype=float32, numpy=\n",
       "array([[0., 0., 0.],\n",
       "       [0., 0., 0.],\n",
       "       [0., 0., 0.]], dtype=float32)>"
      ]
     },
     "execution_count": 10,
     "metadata": {},
     "output_type": "execute_result"
    }
   ],
   "source": [
    "tf.zeros((3,3))"
   ]
  },
  {
   "cell_type": "markdown",
   "id": "fac52db4-c53c-417a-9a36-aec29f055e4c",
   "metadata": {},
   "source": [
    "`-` 배열선언 "
   ]
  },
  {
   "cell_type": "code",
   "execution_count": 18,
   "id": "9884097a-c733-410d-8cd8-7494291a6c04",
   "metadata": {},
   "outputs": [
    {
     "data": {
      "text/plain": [
       "<tf.Tensor: shape=(12,), dtype=int32, numpy=array([ 0,  1,  2,  3,  4,  5,  6,  7,  8,  9, 10, 11], dtype=int32)>"
      ]
     },
     "execution_count": 18,
     "metadata": {},
     "output_type": "execute_result"
    }
   ],
   "source": [
    "tf.constant(range(12))"
   ]
  },
  {
   "cell_type": "code",
   "execution_count": 21,
   "id": "cc586f9d-1227-459d-81a8-d8d59776d169",
   "metadata": {},
   "outputs": [
    {
     "data": {
      "text/plain": [
       "<tf.Tensor: shape=(4,), dtype=int32, numpy=array([2, 3, 4, 5], dtype=int32)>"
      ]
     },
     "execution_count": 21,
     "metadata": {},
     "output_type": "execute_result"
    }
   ],
   "source": [
    "tf.constant(range(2,6)) # 2,3,4,5"
   ]
  },
  {
   "cell_type": "code",
   "execution_count": 23,
   "id": "a20550c3-1482-4a14-ab01-0b5f84a46283",
   "metadata": {},
   "outputs": [
    {
     "data": {
      "text/plain": [
       "<tf.Tensor: shape=(7,), dtype=int32, numpy=array([ 2,  5,  8, 11, 14, 17, 20], dtype=int32)>"
      ]
     },
     "execution_count": 23,
     "metadata": {},
     "output_type": "execute_result"
    }
   ],
   "source": [
    "tf.constant(range(2,21,3))"
   ]
  },
  {
   "cell_type": "code",
   "execution_count": 24,
   "id": "681eaee9-dc97-44ce-82a0-dd03ac8510c5",
   "metadata": {},
   "outputs": [
    {
     "data": {
      "text/plain": [
       "<tf.Tensor: shape=(14,), dtype=float64, numpy=\n",
       "array([0.        , 0.07692308, 0.15384615, 0.23076923, 0.30769231,\n",
       "       0.38461538, 0.46153846, 0.53846154, 0.61538462, 0.69230769,\n",
       "       0.76923077, 0.84615385, 0.92307692, 1.        ])>"
      ]
     },
     "execution_count": 24,
     "metadata": {},
     "output_type": "execute_result"
    }
   ],
   "source": [
    "tf.linspace(0,1,14)"
   ]
  },
  {
   "cell_type": "code",
   "execution_count": 25,
   "id": "d103dd43-48aa-4a41-9aca-c26af48525a1",
   "metadata": {},
   "outputs": [
    {
     "data": {
      "text/plain": [
       "<tf.Tensor: shape=(14,), dtype=float64, numpy=\n",
       "array([-1.        ,  0.61538462,  2.23076923,  3.84615385,  5.46153846,\n",
       "        7.07692308,  8.69230769, 10.30769231, 11.92307692, 13.53846154,\n",
       "       15.15384615, 16.76923077, 18.38461538, 20.        ])>"
      ]
     },
     "execution_count": 25,
     "metadata": {},
     "output_type": "execute_result"
    }
   ],
   "source": [
    "tf.linspace(-1,20,14)"
   ]
  },
  {
   "cell_type": "code",
   "execution_count": 30,
   "id": "5dcd4521-9f13-4d25-9f8f-7eeea7aad5fa",
   "metadata": {},
   "outputs": [
    {
     "data": {
      "text/plain": [
       "<tf.Tensor: shape=(14, 2), dtype=float64, numpy=\n",
       "array([[ 0.        , -1.        ],\n",
       "       [ 0.07692308,  0.61538462],\n",
       "       [ 0.15384615,  2.23076923],\n",
       "       [ 0.23076923,  3.84615385],\n",
       "       [ 0.30769231,  5.46153846],\n",
       "       [ 0.38461538,  7.07692308],\n",
       "       [ 0.46153846,  8.69230769],\n",
       "       [ 0.53846154, 10.30769231],\n",
       "       [ 0.61538462, 11.92307692],\n",
       "       [ 0.69230769, 13.53846154],\n",
       "       [ 0.76923077, 15.15384615],\n",
       "       [ 0.84615385, 16.76923077],\n",
       "       [ 0.92307692, 18.38461538],\n",
       "       [ 1.        , 20.        ]])>"
      ]
     },
     "execution_count": 30,
     "metadata": {},
     "output_type": "execute_result"
    }
   ],
   "source": [
    "tf.linspace([0,-1],[1,20],14,axis=0) # axis=0은 생략가능 "
   ]
  },
  {
   "cell_type": "code",
   "execution_count": 28,
   "id": "e4e12f69-0c95-4e81-a178-61bec9c3cb16",
   "metadata": {},
   "outputs": [
    {
     "data": {
      "text/plain": [
       "<tf.Tensor: shape=(2, 14), dtype=float64, numpy=\n",
       "array([[ 0.        ,  0.07692308,  0.15384615,  0.23076923,  0.30769231,\n",
       "         0.38461538,  0.46153846,  0.53846154,  0.61538462,  0.69230769,\n",
       "         0.76923077,  0.84615385,  0.92307692,  1.        ],\n",
       "       [-1.        ,  0.61538462,  2.23076923,  3.84615385,  5.46153846,\n",
       "         7.07692308,  8.69230769, 10.30769231, 11.92307692, 13.53846154,\n",
       "        15.15384615, 16.76923077, 18.38461538, 20.        ]])>"
      ]
     },
     "execution_count": 28,
     "metadata": {},
     "output_type": "execute_result"
    }
   ],
   "source": [
    "tf.linspace([0,-1],[1,20],14,axis=1)"
   ]
  },
  {
   "cell_type": "markdown",
   "id": "3d0db10e-7c76-4d28-aff9-5e5db5f2ed0b",
   "metadata": {},
   "source": [
    "`-` 랜덤"
   ]
  },
  {
   "cell_type": "code",
   "execution_count": 31,
   "id": "8661895e-4c90-4e12-9007-3da023d49bf5",
   "metadata": {},
   "outputs": [
    {
     "data": {
      "text/plain": [
       "<tf.Tensor: shape=(3, 3), dtype=float32, numpy=\n",
       "array([[-1.5421661 , -1.5808113 ,  1.1388296 ],\n",
       "       [-2.6040976 ,  1.0960393 ,  0.02348358],\n",
       "       [-0.53655666,  1.2877383 , -0.17504291]], dtype=float32)>"
      ]
     },
     "execution_count": 31,
     "metadata": {},
     "output_type": "execute_result"
    }
   ],
   "source": [
    "tf.random.normal([3,3])"
   ]
  },
  {
   "cell_type": "code",
   "execution_count": 32,
   "id": "2df63e45-c007-452c-994d-cb9209f1fbc4",
   "metadata": {},
   "outputs": [
    {
     "data": {
      "text/plain": [
       "<tf.Tensor: shape=(10,), dtype=float32, numpy=\n",
       "array([ 0.32824913,  0.01634766,  1.157158  ,  0.60476935, -0.03189921,\n",
       "        1.0994794 ,  0.7413038 , -0.6990549 , -1.6825281 , -1.2637503 ],\n",
       "      dtype=float32)>"
      ]
     },
     "execution_count": 32,
     "metadata": {},
     "output_type": "execute_result"
    }
   ],
   "source": [
    "tf.random.normal([10])"
   ]
  },
  {
   "cell_type": "code",
   "execution_count": 33,
   "id": "70229ca6-4eba-4b7f-a29e-f9e20950445c",
   "metadata": {},
   "outputs": [
    {
     "data": {
      "text/plain": [
       "<tf.Tensor: shape=(3, 3), dtype=float32, numpy=\n",
       "array([[0.04361665, 0.17482626, 0.50426793],\n",
       "       [0.71013105, 0.6988857 , 0.49747908],\n",
       "       [0.74961853, 0.6538025 , 0.09697211]], dtype=float32)>"
      ]
     },
     "execution_count": 33,
     "metadata": {},
     "output_type": "execute_result"
    }
   ],
   "source": [
    "tf.random.uniform([3,3])"
   ]
  },
  {
   "cell_type": "code",
   "execution_count": 37,
   "id": "1035289e-cab0-4d1f-914c-c39ca164a1e0",
   "metadata": {},
   "outputs": [
    {
     "data": {
      "text/plain": [
       "array([-0.53429023,  1.13505005, -1.43100272, -2.13399699, -1.05582216,\n",
       "       -1.61879362, -0.11808444,  0.87534624,  2.64117769, -0.8208995 ])"
      ]
     },
     "execution_count": 37,
     "metadata": {},
     "output_type": "execute_result"
    }
   ],
   "source": [
    "np.random.randn(10)"
   ]
  },
  {
   "cell_type": "code",
   "execution_count": 39,
   "id": "b166f099-7cf7-4a86-b9f1-6eae07ba1d13",
   "metadata": {},
   "outputs": [
    {
     "ename": "AttributeError",
     "evalue": "module 'tensorflow._api.v2.random' has no attribute 'randn'",
     "output_type": "error",
     "traceback": [
      "\u001b[0;31m---------------------------------------------------------------------------\u001b[0m",
      "\u001b[0;31mAttributeError\u001b[0m                            Traceback (most recent call last)",
      "Input \u001b[0;32mIn [39]\u001b[0m, in \u001b[0;36m<cell line: 1>\u001b[0;34m()\u001b[0m\n\u001b[0;32m----> 1\u001b[0m \u001b[43mtf\u001b[49m\u001b[38;5;241;43m.\u001b[39;49m\u001b[43mrandom\u001b[49m\u001b[38;5;241;43m.\u001b[39;49m\u001b[43mrandn\u001b[49m(\u001b[38;5;241m10\u001b[39m)\n",
      "\u001b[0;31mAttributeError\u001b[0m: module 'tensorflow._api.v2.random' has no attribute 'randn'"
     ]
    }
   ],
   "source": [
    "tf.random.randn(10)"
   ]
  },
  {
   "cell_type": "markdown",
   "id": "2d0f27b7-688e-437a-856a-7ebb6d6a4a27",
   "metadata": {},
   "source": [
    "#### tf.concat "
   ]
  },
  {
   "cell_type": "markdown",
   "id": "99881a84-4590-4b56-b0e5-855b93946c86",
   "metadata": {},
   "source": [
    "`-` (2,1) concat (2,1) => (2,2)\n",
    "- 두번쨰축이 1에서 2로 바뀌네? // axis=1 "
   ]
  },
  {
   "cell_type": "code",
   "execution_count": 41,
   "id": "481f8af8-dd76-4f1a-abea-934fbc9ef114",
   "metadata": {},
   "outputs": [],
   "source": [
    "a=tf.constant([[1],[2]])\n",
    "b=tf.constant([[3],[4]])"
   ]
  },
  {
   "cell_type": "code",
   "execution_count": 46,
   "id": "db8be9bb-68b8-4e9a-82b2-1268a973a599",
   "metadata": {},
   "outputs": [
    {
     "data": {
      "text/plain": [
       "<tf.Tensor: shape=(2, 2), dtype=int32, numpy=\n",
       "array([[1, 3],\n",
       "       [2, 4]], dtype=int32)>"
      ]
     },
     "execution_count": 46,
     "metadata": {},
     "output_type": "execute_result"
    }
   ],
   "source": [
    "tf.concat([a,b],axis=1)"
   ]
  },
  {
   "cell_type": "markdown",
   "id": "e5cc6d17-0a41-490a-9658-8261ff692a4d",
   "metadata": {},
   "source": [
    "`-` (2,1) concat (2,1) => (4,1)\n",
    "- 첫번쨰 축이 바뀜 // axis=0 "
   ]
  },
  {
   "cell_type": "code",
   "execution_count": 47,
   "id": "f0c07266-13eb-4822-ba3f-8b1469a8cd81",
   "metadata": {},
   "outputs": [],
   "source": [
    "a=tf.constant([[1],[2]])\n",
    "b=tf.constant([[3],[4]])"
   ]
  },
  {
   "cell_type": "code",
   "execution_count": 48,
   "id": "ea89dc90-9f5b-4855-b5ec-76502bea1963",
   "metadata": {},
   "outputs": [
    {
     "data": {
      "text/plain": [
       "<tf.Tensor: shape=(4, 1), dtype=int32, numpy=\n",
       "array([[1],\n",
       "       [2],\n",
       "       [3],\n",
       "       [4]], dtype=int32)>"
      ]
     },
     "execution_count": 48,
     "metadata": {},
     "output_type": "execute_result"
    }
   ],
   "source": [
    "tf.concat([a,b],axis=0)"
   ]
  },
  {
   "cell_type": "markdown",
   "id": "ead04cfc-dd38-4722-bda3-d5f157b7c092",
   "metadata": {},
   "source": [
    "`-` (1,2) concat (1,2) => (2,2) `\n",
    "- 첫번쨰축// axis=0"
   ]
  },
  {
   "cell_type": "code",
   "execution_count": 49,
   "id": "b5a3b3e6-f8ae-4e52-a4b6-025cf9e23267",
   "metadata": {},
   "outputs": [],
   "source": [
    "a=tf.constant([[1,2]])\n",
    "b=tf.constant([[3,4]])"
   ]
  },
  {
   "cell_type": "code",
   "execution_count": 51,
   "id": "6b8a6e59-bf27-42fc-98b3-29051cf54e04",
   "metadata": {},
   "outputs": [
    {
     "data": {
      "text/plain": [
       "<tf.Tensor: shape=(2, 2), dtype=int32, numpy=\n",
       "array([[1, 2],\n",
       "       [3, 4]], dtype=int32)>"
      ]
     },
     "execution_count": 51,
     "metadata": {},
     "output_type": "execute_result"
    }
   ],
   "source": [
    "tf.concat([a,b],axis=0)"
   ]
  },
  {
   "cell_type": "markdown",
   "id": "056a1333-d2a2-4081-a4a6-64cd40889410",
   "metadata": {},
   "source": [
    "`-` (1,2) concat (1,2) => (1,4) `\n",
    "- 두번쨰축// axis=1"
   ]
  },
  {
   "cell_type": "code",
   "execution_count": 53,
   "id": "f1658c1d-3725-4696-ab3d-9945688b626c",
   "metadata": {},
   "outputs": [],
   "source": [
    "a=tf.constant([[1,2]])\n",
    "b=tf.constant([[3,4]])"
   ]
  },
  {
   "cell_type": "code",
   "execution_count": 54,
   "id": "cf416f19-190c-47db-aa95-0f048adacc3e",
   "metadata": {},
   "outputs": [
    {
     "data": {
      "text/plain": [
       "<tf.Tensor: shape=(1, 4), dtype=int32, numpy=array([[1, 2, 3, 4]], dtype=int32)>"
      ]
     },
     "execution_count": 54,
     "metadata": {},
     "output_type": "execute_result"
    }
   ],
   "source": [
    "tf.concat([a,b],axis=1)"
   ]
  },
  {
   "cell_type": "markdown",
   "id": "67ca3011-68fb-4c31-bfdf-76fb84e9f7ee",
   "metadata": {},
   "source": [
    "`-` (2,2,3) concat (2,2,3) => (4,2,3) \n",
    "- 첫번쨰축 // axis=0"
   ]
  },
  {
   "cell_type": "code",
   "execution_count": 59,
   "id": "011de802-bd3e-4f08-8210-919fe85d0e28",
   "metadata": {},
   "outputs": [
    {
     "data": {
      "text/plain": [
       "(<tf.Tensor: shape=(2, 2, 3), dtype=int32, numpy=\n",
       " array([[[ 0,  1,  2],\n",
       "         [ 3,  4,  5]],\n",
       " \n",
       "        [[ 6,  7,  8],\n",
       "         [ 9, 10, 11]]], dtype=int32)>,\n",
       " <tf.Tensor: shape=(2, 2, 3), dtype=int32, numpy=\n",
       " array([[[  0,  -1,  -2],\n",
       "         [ -3,  -4,  -5]],\n",
       " \n",
       "        [[ -6,  -7,  -8],\n",
       "         [ -9, -10, -11]]], dtype=int32)>)"
      ]
     },
     "execution_count": 59,
     "metadata": {},
     "output_type": "execute_result"
    }
   ],
   "source": [
    "a=tf.reshape(tf.constant(range(12)),(2,2,3))\n",
    "b=-a\n",
    "a,b"
   ]
  },
  {
   "cell_type": "code",
   "execution_count": 60,
   "id": "e90e287a-5ea8-4834-adcf-309713eaf7af",
   "metadata": {},
   "outputs": [
    {
     "data": {
      "text/plain": [
       "<tf.Tensor: shape=(4, 2, 3), dtype=int32, numpy=\n",
       "array([[[  0,   1,   2],\n",
       "        [  3,   4,   5]],\n",
       "\n",
       "       [[  6,   7,   8],\n",
       "        [  9,  10,  11]],\n",
       "\n",
       "       [[  0,  -1,  -2],\n",
       "        [ -3,  -4,  -5]],\n",
       "\n",
       "       [[ -6,  -7,  -8],\n",
       "        [ -9, -10, -11]]], dtype=int32)>"
      ]
     },
     "execution_count": 60,
     "metadata": {},
     "output_type": "execute_result"
    }
   ],
   "source": [
    "tf.concat([a,b],axis=0)"
   ]
  },
  {
   "cell_type": "markdown",
   "id": "dc5c81d8-3053-4883-926b-ab4d289c40f6",
   "metadata": {},
   "source": [
    "`-` (2,2,3) concat (2,2,3) => (2,4,3) \n",
    "- 두번쨰축 // axis=1"
   ]
  },
  {
   "cell_type": "code",
   "execution_count": 61,
   "id": "14f26cdf-a15f-40eb-bdf0-c4791606f5fc",
   "metadata": {},
   "outputs": [
    {
     "data": {
      "text/plain": [
       "(<tf.Tensor: shape=(2, 2, 3), dtype=int32, numpy=\n",
       " array([[[ 0,  1,  2],\n",
       "         [ 3,  4,  5]],\n",
       " \n",
       "        [[ 6,  7,  8],\n",
       "         [ 9, 10, 11]]], dtype=int32)>,\n",
       " <tf.Tensor: shape=(2, 2, 3), dtype=int32, numpy=\n",
       " array([[[  0,  -1,  -2],\n",
       "         [ -3,  -4,  -5]],\n",
       " \n",
       "        [[ -6,  -7,  -8],\n",
       "         [ -9, -10, -11]]], dtype=int32)>)"
      ]
     },
     "execution_count": 61,
     "metadata": {},
     "output_type": "execute_result"
    }
   ],
   "source": [
    "a=tf.reshape(tf.constant(range(12)),(2,2,3))\n",
    "b=-a\n",
    "a,b"
   ]
  },
  {
   "cell_type": "code",
   "execution_count": 62,
   "id": "141f31bb-c0b6-4bcd-92ef-98a108af2428",
   "metadata": {},
   "outputs": [
    {
     "data": {
      "text/plain": [
       "<tf.Tensor: shape=(2, 4, 3), dtype=int32, numpy=\n",
       "array([[[  0,   1,   2],\n",
       "        [  3,   4,   5],\n",
       "        [  0,  -1,  -2],\n",
       "        [ -3,  -4,  -5]],\n",
       "\n",
       "       [[  6,   7,   8],\n",
       "        [  9,  10,  11],\n",
       "        [ -6,  -7,  -8],\n",
       "        [ -9, -10, -11]]], dtype=int32)>"
      ]
     },
     "execution_count": 62,
     "metadata": {},
     "output_type": "execute_result"
    }
   ],
   "source": [
    "tf.concat([a,b],axis=1)"
   ]
  },
  {
   "cell_type": "markdown",
   "id": "b6933c10-e75d-446e-9ef0-05f70dec9743",
   "metadata": {},
   "source": [
    "`-` (2,2,3) concat (2,2,3) => (2,2,6) \n",
    "- 세번쨰축 // axis=2, axis = -1 "
   ]
  },
  {
   "cell_type": "code",
   "execution_count": 63,
   "id": "a5fcf02e-f40d-4d0d-9085-feb7eaf2ba74",
   "metadata": {},
   "outputs": [
    {
     "data": {
      "text/plain": [
       "(<tf.Tensor: shape=(2, 2, 3), dtype=int32, numpy=\n",
       " array([[[ 0,  1,  2],\n",
       "         [ 3,  4,  5]],\n",
       " \n",
       "        [[ 6,  7,  8],\n",
       "         [ 9, 10, 11]]], dtype=int32)>,\n",
       " <tf.Tensor: shape=(2, 2, 3), dtype=int32, numpy=\n",
       " array([[[  0,  -1,  -2],\n",
       "         [ -3,  -4,  -5]],\n",
       " \n",
       "        [[ -6,  -7,  -8],\n",
       "         [ -9, -10, -11]]], dtype=int32)>)"
      ]
     },
     "execution_count": 63,
     "metadata": {},
     "output_type": "execute_result"
    }
   ],
   "source": [
    "a=tf.reshape(tf.constant(range(12)),(2,2,3))\n",
    "b=-a\n",
    "a,b"
   ]
  },
  {
   "cell_type": "code",
   "execution_count": 73,
   "id": "850e994e-71a4-4768-bb03-5325f6e8b74e",
   "metadata": {},
   "outputs": [
    {
     "data": {
      "text/plain": [
       "<tf.Tensor: shape=(2, 2, 6), dtype=int32, numpy=\n",
       "array([[[  0,   1,   2,   0,  -1,  -2],\n",
       "        [  3,   4,   5,  -3,  -4,  -5]],\n",
       "\n",
       "       [[  6,   7,   8,  -6,  -7,  -8],\n",
       "        [  9,  10,  11,  -9, -10, -11]]], dtype=int32)>"
      ]
     },
     "execution_count": 73,
     "metadata": {},
     "output_type": "execute_result"
    }
   ],
   "source": [
    "tf.concat([a,b],axis=-1)"
   ]
  },
  {
   "cell_type": "markdown",
   "id": "734986c0-2321-4346-9a72-042e159aebec",
   "metadata": {},
   "source": [
    "`-` (4,) concat (4,) => (8,)\n",
    "- 첫번쨰 축 "
   ]
  },
  {
   "cell_type": "code",
   "execution_count": 75,
   "id": "ba918f80-74a3-49ad-8d9b-ff0943679560",
   "metadata": {},
   "outputs": [
    {
     "data": {
      "text/plain": [
       "(<tf.Tensor: shape=(4,), dtype=int32, numpy=array([1, 2, 3, 4], dtype=int32)>,\n",
       " <tf.Tensor: shape=(4,), dtype=int32, numpy=array([-1, -2, -3, -4], dtype=int32)>)"
      ]
     },
     "execution_count": 75,
     "metadata": {},
     "output_type": "execute_result"
    }
   ],
   "source": [
    "a=tf.constant([1,2,3,4])\n",
    "b=-a\n",
    "a,b"
   ]
  },
  {
   "cell_type": "code",
   "execution_count": 76,
   "id": "656eacd4-c911-43da-a07f-30220a16b92c",
   "metadata": {},
   "outputs": [
    {
     "data": {
      "text/plain": [
       "<tf.Tensor: shape=(8,), dtype=int32, numpy=array([ 1,  2,  3,  4, -1, -2, -3, -4], dtype=int32)>"
      ]
     },
     "execution_count": 76,
     "metadata": {},
     "output_type": "execute_result"
    }
   ],
   "source": [
    "tf.concat([a,b],axis=0)"
   ]
  },
  {
   "cell_type": "markdown",
   "id": "2c7853c6-b47a-4639-9332-e3ad535ca280",
   "metadata": {},
   "source": [
    "`-` (4,) concat (4,) => (4,2) "
   ]
  },
  {
   "cell_type": "code",
   "execution_count": 77,
   "id": "e8fad062-1d6f-4445-98d1-e516d274e20b",
   "metadata": {},
   "outputs": [
    {
     "data": {
      "text/plain": [
       "(<tf.Tensor: shape=(4,), dtype=int32, numpy=array([1, 2, 3, 4], dtype=int32)>,\n",
       " <tf.Tensor: shape=(4,), dtype=int32, numpy=array([-1, -2, -3, -4], dtype=int32)>)"
      ]
     },
     "execution_count": 77,
     "metadata": {},
     "output_type": "execute_result"
    }
   ],
   "source": [
    "a=tf.constant([1,2,3,4])\n",
    "b=-a\n",
    "a,b"
   ]
  },
  {
   "cell_type": "code",
   "execution_count": 78,
   "id": "09181414-5024-4bfe-b0bf-8c559b5e97fe",
   "metadata": {},
   "outputs": [
    {
     "ename": "InvalidArgumentError",
     "evalue": "ConcatOp : Expected concatenating dimensions in the range [-1, 1), but got 1 [Op:ConcatV2] name: concat",
     "output_type": "error",
     "traceback": [
      "\u001b[0;31m---------------------------------------------------------------------------\u001b[0m",
      "\u001b[0;31mInvalidArgumentError\u001b[0m                      Traceback (most recent call last)",
      "Input \u001b[0;32mIn [78]\u001b[0m, in \u001b[0;36m<cell line: 1>\u001b[0;34m()\u001b[0m\n\u001b[0;32m----> 1\u001b[0m \u001b[43mtf\u001b[49m\u001b[38;5;241;43m.\u001b[39;49m\u001b[43mconcat\u001b[49m\u001b[43m(\u001b[49m\u001b[43m[\u001b[49m\u001b[43ma\u001b[49m\u001b[43m,\u001b[49m\u001b[43mb\u001b[49m\u001b[43m]\u001b[49m\u001b[43m,\u001b[49m\u001b[43maxis\u001b[49m\u001b[38;5;241;43m=\u001b[39;49m\u001b[38;5;241;43m1\u001b[39;49m\u001b[43m)\u001b[49m\n",
      "File \u001b[0;32m~/anaconda3/envs/py310/lib/python3.10/site-packages/tensorflow/python/util/traceback_utils.py:153\u001b[0m, in \u001b[0;36mfilter_traceback.<locals>.error_handler\u001b[0;34m(*args, **kwargs)\u001b[0m\n\u001b[1;32m    151\u001b[0m \u001b[38;5;28;01mexcept\u001b[39;00m \u001b[38;5;167;01mException\u001b[39;00m \u001b[38;5;28;01mas\u001b[39;00m e:\n\u001b[1;32m    152\u001b[0m   filtered_tb \u001b[38;5;241m=\u001b[39m _process_traceback_frames(e\u001b[38;5;241m.\u001b[39m__traceback__)\n\u001b[0;32m--> 153\u001b[0m   \u001b[38;5;28;01mraise\u001b[39;00m e\u001b[38;5;241m.\u001b[39mwith_traceback(filtered_tb) \u001b[38;5;28;01mfrom\u001b[39;00m \u001b[38;5;28mNone\u001b[39m\n\u001b[1;32m    154\u001b[0m \u001b[38;5;28;01mfinally\u001b[39;00m:\n\u001b[1;32m    155\u001b[0m   \u001b[38;5;28;01mdel\u001b[39;00m filtered_tb\n",
      "File \u001b[0;32m~/anaconda3/envs/py310/lib/python3.10/site-packages/tensorflow/python/framework/ops.py:7107\u001b[0m, in \u001b[0;36mraise_from_not_ok_status\u001b[0;34m(e, name)\u001b[0m\n\u001b[1;32m   7105\u001b[0m \u001b[38;5;28;01mdef\u001b[39;00m \u001b[38;5;21mraise_from_not_ok_status\u001b[39m(e, name):\n\u001b[1;32m   7106\u001b[0m   e\u001b[38;5;241m.\u001b[39mmessage \u001b[38;5;241m+\u001b[39m\u001b[38;5;241m=\u001b[39m (\u001b[38;5;124m\"\u001b[39m\u001b[38;5;124m name: \u001b[39m\u001b[38;5;124m\"\u001b[39m \u001b[38;5;241m+\u001b[39m name \u001b[38;5;28;01mif\u001b[39;00m name \u001b[38;5;129;01mis\u001b[39;00m \u001b[38;5;129;01mnot\u001b[39;00m \u001b[38;5;28;01mNone\u001b[39;00m \u001b[38;5;28;01melse\u001b[39;00m \u001b[38;5;124m\"\u001b[39m\u001b[38;5;124m\"\u001b[39m)\n\u001b[0;32m-> 7107\u001b[0m   \u001b[38;5;28;01mraise\u001b[39;00m core\u001b[38;5;241m.\u001b[39m_status_to_exception(e) \u001b[38;5;28;01mfrom\u001b[39;00m \u001b[38;5;28mNone\u001b[39m\n",
      "\u001b[0;31mInvalidArgumentError\u001b[0m: ConcatOp : Expected concatenating dimensions in the range [-1, 1), but got 1 [Op:ConcatV2] name: concat"
     ]
    }
   ],
   "source": [
    "tf.concat([a,b],axis=1)"
   ]
  },
  {
   "cell_type": "markdown",
   "id": "3fa04d2e-1187-40d0-8d72-b27af9dc7f09",
   "metadata": {},
   "source": [
    "- tf.concat은 차원을 증가시키면서 결합해주는것은 아니다. "
   ]
  },
  {
   "cell_type": "markdown",
   "id": "fd8402bf-ccef-414e-a574-22524b02b593",
   "metadata": {},
   "source": [
    "#### tf.stack "
   ]
  },
  {
   "cell_type": "markdown",
   "id": "b98badc4-e8ee-4f98-8707-1cb6dedd14d3",
   "metadata": {},
   "source": [
    "`-` (4) stack (4) => (4,2) \n",
    "- (4,) stack (4,) => (4,2) // 두번째 축이 비어있다고 인식"
   ]
  },
  {
   "cell_type": "code",
   "execution_count": 94,
   "id": "1a870d15-6d65-482d-a88c-4112760b87cf",
   "metadata": {},
   "outputs": [
    {
     "data": {
      "text/plain": [
       "(<tf.Tensor: shape=(4,), dtype=int32, numpy=array([1, 2, 3, 4], dtype=int32)>,\n",
       " <tf.Tensor: shape=(4,), dtype=int32, numpy=array([-1, -2, -3, -4], dtype=int32)>)"
      ]
     },
     "execution_count": 94,
     "metadata": {},
     "output_type": "execute_result"
    }
   ],
   "source": [
    "a=tf.constant([1,2,3,4])\n",
    "b=-a\n",
    "a,b"
   ]
  },
  {
   "cell_type": "code",
   "execution_count": 95,
   "id": "49538172-2b20-41c7-ad2c-461506eed1bf",
   "metadata": {},
   "outputs": [
    {
     "data": {
      "text/plain": [
       "<tf.Tensor: shape=(4, 2), dtype=int32, numpy=\n",
       "array([[ 1, -1],\n",
       "       [ 2, -2],\n",
       "       [ 3, -3],\n",
       "       [ 4, -4]], dtype=int32)>"
      ]
     },
     "execution_count": 95,
     "metadata": {},
     "output_type": "execute_result"
    }
   ],
   "source": [
    "tf.stack([a,b],axis=1)"
   ]
  },
  {
   "cell_type": "markdown",
   "id": "efb41560-094f-4310-aa99-6bdff2479677",
   "metadata": {},
   "source": [
    "`-` (4) stack (4) => (2,4) \n",
    "- (,4) stack (,4) => (2,4) // 첫번째 축이 비어있다고 인식"
   ]
  },
  {
   "cell_type": "code",
   "execution_count": 96,
   "id": "d904069b-49f3-4d01-980d-de6956a514f4",
   "metadata": {},
   "outputs": [
    {
     "data": {
      "text/plain": [
       "(<tf.Tensor: shape=(4,), dtype=int32, numpy=array([1, 2, 3, 4], dtype=int32)>,\n",
       " <tf.Tensor: shape=(4,), dtype=int32, numpy=array([-1, -2, -3, -4], dtype=int32)>)"
      ]
     },
     "execution_count": 96,
     "metadata": {},
     "output_type": "execute_result"
    }
   ],
   "source": [
    "a=tf.constant([1,2,3,4])\n",
    "b=-a\n",
    "a,b"
   ]
  },
  {
   "cell_type": "code",
   "execution_count": 97,
   "id": "777c759a-02b8-4437-b6bf-95475052fe8f",
   "metadata": {},
   "outputs": [
    {
     "data": {
      "text/plain": [
       "<tf.Tensor: shape=(2, 4), dtype=int32, numpy=\n",
       "array([[ 1,  2,  3,  4],\n",
       "       [-1, -2, -3, -4]], dtype=int32)>"
      ]
     },
     "execution_count": 97,
     "metadata": {},
     "output_type": "execute_result"
    }
   ],
   "source": [
    "tf.stack([a,b],axis=0)"
   ]
  },
  {
   "cell_type": "markdown",
   "id": "2b359a20-edeb-4b53-a98e-fa85a66d2008",
   "metadata": {},
   "source": [
    "`-` (2,3,4,5) stack (2,3,4,5) => (2,2,3,4,5) \n",
    "- 첫번째축이 비어있다고 인식 "
   ]
  },
  {
   "cell_type": "code",
   "execution_count": 101,
   "id": "6d40541a-d9b1-43d9-9341-9f13161bb13f",
   "metadata": {},
   "outputs": [],
   "source": [
    "a=tf.reshape(tf.constant(range(2*3*4*5)),(2,3,4,5))\n",
    "b=-a"
   ]
  },
  {
   "cell_type": "code",
   "execution_count": 102,
   "id": "217970b0-f37b-425a-ab0b-4cfae696f533",
   "metadata": {},
   "outputs": [
    {
     "data": {
      "text/plain": [
       "<tf.Tensor: shape=(2, 2, 3, 4, 5), dtype=int32, numpy=\n",
       "array([[[[[   0,    1,    2,    3,    4],\n",
       "          [   5,    6,    7,    8,    9],\n",
       "          [  10,   11,   12,   13,   14],\n",
       "          [  15,   16,   17,   18,   19]],\n",
       "\n",
       "         [[  20,   21,   22,   23,   24],\n",
       "          [  25,   26,   27,   28,   29],\n",
       "          [  30,   31,   32,   33,   34],\n",
       "          [  35,   36,   37,   38,   39]],\n",
       "\n",
       "         [[  40,   41,   42,   43,   44],\n",
       "          [  45,   46,   47,   48,   49],\n",
       "          [  50,   51,   52,   53,   54],\n",
       "          [  55,   56,   57,   58,   59]]],\n",
       "\n",
       "\n",
       "        [[[  60,   61,   62,   63,   64],\n",
       "          [  65,   66,   67,   68,   69],\n",
       "          [  70,   71,   72,   73,   74],\n",
       "          [  75,   76,   77,   78,   79]],\n",
       "\n",
       "         [[  80,   81,   82,   83,   84],\n",
       "          [  85,   86,   87,   88,   89],\n",
       "          [  90,   91,   92,   93,   94],\n",
       "          [  95,   96,   97,   98,   99]],\n",
       "\n",
       "         [[ 100,  101,  102,  103,  104],\n",
       "          [ 105,  106,  107,  108,  109],\n",
       "          [ 110,  111,  112,  113,  114],\n",
       "          [ 115,  116,  117,  118,  119]]]],\n",
       "\n",
       "\n",
       "\n",
       "       [[[[   0,   -1,   -2,   -3,   -4],\n",
       "          [  -5,   -6,   -7,   -8,   -9],\n",
       "          [ -10,  -11,  -12,  -13,  -14],\n",
       "          [ -15,  -16,  -17,  -18,  -19]],\n",
       "\n",
       "         [[ -20,  -21,  -22,  -23,  -24],\n",
       "          [ -25,  -26,  -27,  -28,  -29],\n",
       "          [ -30,  -31,  -32,  -33,  -34],\n",
       "          [ -35,  -36,  -37,  -38,  -39]],\n",
       "\n",
       "         [[ -40,  -41,  -42,  -43,  -44],\n",
       "          [ -45,  -46,  -47,  -48,  -49],\n",
       "          [ -50,  -51,  -52,  -53,  -54],\n",
       "          [ -55,  -56,  -57,  -58,  -59]]],\n",
       "\n",
       "\n",
       "        [[[ -60,  -61,  -62,  -63,  -64],\n",
       "          [ -65,  -66,  -67,  -68,  -69],\n",
       "          [ -70,  -71,  -72,  -73,  -74],\n",
       "          [ -75,  -76,  -77,  -78,  -79]],\n",
       "\n",
       "         [[ -80,  -81,  -82,  -83,  -84],\n",
       "          [ -85,  -86,  -87,  -88,  -89],\n",
       "          [ -90,  -91,  -92,  -93,  -94],\n",
       "          [ -95,  -96,  -97,  -98,  -99]],\n",
       "\n",
       "         [[-100, -101, -102, -103, -104],\n",
       "          [-105, -106, -107, -108, -109],\n",
       "          [-110, -111, -112, -113, -114],\n",
       "          [-115, -116, -117, -118, -119]]]]], dtype=int32)>"
      ]
     },
     "execution_count": 102,
     "metadata": {},
     "output_type": "execute_result"
    }
   ],
   "source": [
    "tf.stack([a,b],axis=0)"
   ]
  },
  {
   "cell_type": "markdown",
   "id": "18c0d1fc-b171-4b99-b30b-1cb471d81eb1",
   "metadata": {},
   "source": [
    "`-` (2,3,4,5) stack (2,3,4,5) => (2,2,3,4,5) \n",
    "- 두번째축이 비어있다고 인식 \n",
    "- (2, ,3,4,5) stack (2, ,3,4,5) \n",
    "- (2,2,3,4,5) "
   ]
  },
  {
   "cell_type": "code",
   "execution_count": 103,
   "id": "db349762-68a6-4e73-9954-af65b3bee056",
   "metadata": {},
   "outputs": [],
   "source": [
    "a=tf.reshape(tf.constant(range(2*3*4*5)),(2,3,4,5))\n",
    "b=-a"
   ]
  },
  {
   "cell_type": "code",
   "execution_count": 104,
   "id": "c99330ff-73cd-46bb-bf79-c3b48c81e4fd",
   "metadata": {},
   "outputs": [
    {
     "data": {
      "text/plain": [
       "<tf.Tensor: shape=(2, 2, 3, 4, 5), dtype=int32, numpy=\n",
       "array([[[[[   0,    1,    2,    3,    4],\n",
       "          [   5,    6,    7,    8,    9],\n",
       "          [  10,   11,   12,   13,   14],\n",
       "          [  15,   16,   17,   18,   19]],\n",
       "\n",
       "         [[  20,   21,   22,   23,   24],\n",
       "          [  25,   26,   27,   28,   29],\n",
       "          [  30,   31,   32,   33,   34],\n",
       "          [  35,   36,   37,   38,   39]],\n",
       "\n",
       "         [[  40,   41,   42,   43,   44],\n",
       "          [  45,   46,   47,   48,   49],\n",
       "          [  50,   51,   52,   53,   54],\n",
       "          [  55,   56,   57,   58,   59]]],\n",
       "\n",
       "\n",
       "        [[[   0,   -1,   -2,   -3,   -4],\n",
       "          [  -5,   -6,   -7,   -8,   -9],\n",
       "          [ -10,  -11,  -12,  -13,  -14],\n",
       "          [ -15,  -16,  -17,  -18,  -19]],\n",
       "\n",
       "         [[ -20,  -21,  -22,  -23,  -24],\n",
       "          [ -25,  -26,  -27,  -28,  -29],\n",
       "          [ -30,  -31,  -32,  -33,  -34],\n",
       "          [ -35,  -36,  -37,  -38,  -39]],\n",
       "\n",
       "         [[ -40,  -41,  -42,  -43,  -44],\n",
       "          [ -45,  -46,  -47,  -48,  -49],\n",
       "          [ -50,  -51,  -52,  -53,  -54],\n",
       "          [ -55,  -56,  -57,  -58,  -59]]]],\n",
       "\n",
       "\n",
       "\n",
       "       [[[[  60,   61,   62,   63,   64],\n",
       "          [  65,   66,   67,   68,   69],\n",
       "          [  70,   71,   72,   73,   74],\n",
       "          [  75,   76,   77,   78,   79]],\n",
       "\n",
       "         [[  80,   81,   82,   83,   84],\n",
       "          [  85,   86,   87,   88,   89],\n",
       "          [  90,   91,   92,   93,   94],\n",
       "          [  95,   96,   97,   98,   99]],\n",
       "\n",
       "         [[ 100,  101,  102,  103,  104],\n",
       "          [ 105,  106,  107,  108,  109],\n",
       "          [ 110,  111,  112,  113,  114],\n",
       "          [ 115,  116,  117,  118,  119]]],\n",
       "\n",
       "\n",
       "        [[[ -60,  -61,  -62,  -63,  -64],\n",
       "          [ -65,  -66,  -67,  -68,  -69],\n",
       "          [ -70,  -71,  -72,  -73,  -74],\n",
       "          [ -75,  -76,  -77,  -78,  -79]],\n",
       "\n",
       "         [[ -80,  -81,  -82,  -83,  -84],\n",
       "          [ -85,  -86,  -87,  -88,  -89],\n",
       "          [ -90,  -91,  -92,  -93,  -94],\n",
       "          [ -95,  -96,  -97,  -98,  -99]],\n",
       "\n",
       "         [[-100, -101, -102, -103, -104],\n",
       "          [-105, -106, -107, -108, -109],\n",
       "          [-110, -111, -112, -113, -114],\n",
       "          [-115, -116, -117, -118, -119]]]]], dtype=int32)>"
      ]
     },
     "execution_count": 104,
     "metadata": {},
     "output_type": "execute_result"
    }
   ],
   "source": [
    "tf.stack([a,b],axis=1)"
   ]
  },
  {
   "cell_type": "markdown",
   "id": "e48efb37-8b69-4288-a5ea-11cfc3f547d4",
   "metadata": {},
   "source": [
    "`-` (2,3,4,5) stack (2,3,4,5) => (2,3,4,5,2) \n",
    "- 마지막축이 비어있다고 인식 \n",
    "- (2,3,4,5,) stack (2,3,4,5,) \n",
    "- (2,3,4,5,2) "
   ]
  },
  {
   "cell_type": "code",
   "execution_count": 105,
   "id": "e912964f-9a73-4363-b5f7-3dcdc588c3f5",
   "metadata": {},
   "outputs": [],
   "source": [
    "a=tf.reshape(tf.constant(range(2*3*4*5)),(2,3,4,5))\n",
    "b=-a"
   ]
  },
  {
   "cell_type": "code",
   "execution_count": 107,
   "id": "6c9a9553-2b19-415c-a44e-a088ccb98ddd",
   "metadata": {},
   "outputs": [
    {
     "ename": "SyntaxError",
     "evalue": "invalid syntax (2132380834.py, line 1)",
     "output_type": "error",
     "traceback": [
      "\u001b[0;36m  Input \u001b[0;32mIn [107]\u001b[0;36m\u001b[0m\n\u001b[0;31m    tf.stack([a,b],axis=??) ## 숙제\u001b[0m\n\u001b[0m                        ^\u001b[0m\n\u001b[0;31mSyntaxError\u001b[0m\u001b[0;31m:\u001b[0m invalid syntax\n"
     ]
    }
   ],
   "source": [
    "tf.stack([a,b],axis=??) ## 숙제 "
   ]
  },
  {
   "cell_type": "code",
   "execution_count": null,
   "id": "38deb8e4-d3cf-446e-ae5a-cc4ca1a33392",
   "metadata": {},
   "outputs": [],
   "source": []
  },
  {
   "cell_type": "markdown",
   "id": "d314cfb7-f3f1-496d-b5cb-ac6f57eaa503",
   "metadata": {},
   "source": [
    "### tnp"
   ]
  },
  {
   "cell_type": "markdown",
   "id": "75da99d4-9cec-4192-9da4-2f74dee35361",
   "metadata": {},
   "source": [
    "(불만1) reshape"
   ]
  },
  {
   "cell_type": "markdown",
   "id": "1f3c3ea0-6821-467f-95b1-51413e48a631",
   "metadata": {},
   "source": [
    "(불만2) transpose "
   ]
  },
  {
   "cell_type": "markdown",
   "id": "a3cb9a04-356d-44b9-a1cc-4f26a6aed215",
   "metadata": {},
   "source": [
    "(불만3) 암묵적형변환"
   ]
  },
  {
   "cell_type": "markdown",
   "id": "a8394012-8409-4a11-ba99-a5d79a819589",
   "metadata": {},
   "source": [
    "(불만4) 집계함수"
   ]
  },
  {
   "cell_type": "markdown",
   "id": "7885c76a-bedc-45ad-b16f-145c1326d2b9",
   "metadata": {},
   "source": [
    "(불만5) random.randn.. "
   ]
  },
  {
   "cell_type": "markdown",
   "id": "de010dbc-4294-4a4f-a861-c13799fe1eb6",
   "metadata": {},
   "source": [
    "#### tnp 사용방법 (불만해결방법)"
   ]
  },
  {
   "cell_type": "markdown",
   "id": "a7e4538a-52ff-4f84-8ac9-5381e0970fef",
   "metadata": {},
   "source": [
    "#### 선언고급"
   ]
  },
  {
   "cell_type": "markdown",
   "id": "c1a84f81-fff4-4a5a-b8b2-8045ba3943fe",
   "metadata": {},
   "source": [
    "#### 타입"
   ]
  },
  {
   "cell_type": "markdown",
   "id": "bb759864-ef75-4ba0-9a11-d10cca6669f3",
   "metadata": {},
   "source": [
    "#### tf.contant로 만들어도 마치 넘파이인듯 쓰는 기능들"
   ]
  },
  {
   "cell_type": "markdown",
   "id": "8426767e-976c-4e35-a390-7f2943ec4e8d",
   "metadata": {},
   "source": [
    "#### 그렇지만 np.array는 아님 "
   ]
  }
 ],
 "metadata": {
  "kernelspec": {
   "display_name": "Python 3 (ipykernel)",
   "language": "python",
   "name": "python3"
  },
  "language_info": {
   "codemirror_mode": {
    "name": "ipython",
    "version": 3
   },
   "file_extension": ".py",
   "mimetype": "text/x-python",
   "name": "python",
   "nbconvert_exporter": "python",
   "pygments_lexer": "ipython3",
   "version": "3.10.0"
  }
 },
 "nbformat": 4,
 "nbformat_minor": 5
}
