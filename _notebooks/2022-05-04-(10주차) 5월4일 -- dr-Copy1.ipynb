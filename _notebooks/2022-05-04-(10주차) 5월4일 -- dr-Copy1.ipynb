{
 "cells": [
  {
   "cell_type": "markdown",
   "id": "97beba88-9ac2-42a0-9650-047c21030bfb",
   "metadata": {},
   "source": [
    "# (10주차) 5월4일 -- draft\n",
    "\n",
    "- toc:true\n",
    "- branch: master\n",
    "- badges: true\n",
    "- comments: true\n",
    "- author: 최규빈"
   ]
  },
  {
   "cell_type": "code",
   "execution_count": 1,
   "id": "1edd3beb-83e4-4b0c-b983-af9088934041",
   "metadata": {},
   "outputs": [],
   "source": [
    "import tensorflow as tf\n",
    "import matplotlib.pyplot as plt\n",
    "import numpy as np\n",
    "import tensorflow.experimental.numpy as tnp"
   ]
  },
  {
   "cell_type": "code",
   "execution_count": 2,
   "id": "e61bdf67-7ab5-4547-9543-866f90e35352",
   "metadata": {},
   "outputs": [
    {
     "data": {
      "text/plain": [
       "[PhysicalDevice(name='/physical_device:CPU:0', device_type='CPU')]"
      ]
     },
     "execution_count": 2,
     "metadata": {},
     "output_type": "execute_result"
    }
   ],
   "source": [
    "tf.config.experimental.list_physical_devices()"
   ]
  },
  {
   "cell_type": "code",
   "execution_count": 3,
   "id": "a9ce7f36-1c67-4073-b199-1f3de7575778",
   "metadata": {},
   "outputs": [],
   "source": [
    "import graphviz\n",
    "def gv(s): return graphviz.Source('digraph G{ rankdir=\"LR\"'+ s + ';}')"
   ]
  },
  {
   "cell_type": "markdown",
   "id": "286672c2-7f0e-4f36-91b0-38d32f5eed2d",
   "metadata": {},
   "source": [
    "### 로지스틱 모형 (1) "
   ]
  },
  {
   "cell_type": "markdown",
   "id": "97e376a7-e3d3-47b3-98f7-48805fc721f6",
   "metadata": {},
   "source": [
    "`-` 스칼라버전"
   ]
  },
  {
   "cell_type": "markdown",
   "id": "52882ef8-0b4f-4dea-9aff-f29b07569677",
   "metadata": {},
   "source": [
    "$y_i \\propto b + w_1 x_{1,i} + \\dots + w_{784}x_{784,i} $"
   ]
  },
  {
   "cell_type": "markdown",
   "id": "ba4cc4ac-550d-437f-935f-bb346648c519",
   "metadata": {},
   "source": [
    "$y_i \\approx \\text{sigmoid}(b + w_1 x_{1,i} + \\dots + w_{784}x_{784,i})= \\frac{\\exp(b + w_1 x_{1,i} + \\dots + w_{784}x_{784,i})}{1+\\exp(b + w_1 x_{1,i} + \\dots + w_{784}x_{784,i})} $"
   ]
  },
  {
   "cell_type": "markdown",
   "id": "46df0568-2a7a-4ffc-a321-b56871b3aff4",
   "metadata": {},
   "source": [
    "`-` 벡터버전"
   ]
  },
  {
   "cell_type": "markdown",
   "id": "e444e262-0249-458b-95dc-eb620a0e9457",
   "metadata": {},
   "source": [
    "${\\boldsymbol y} \\propto {\\bf X}{\\bf W} + b$ \n",
    "\n",
    "- ${\\bf X}$: (n,784) matrix \n",
    "- ${\\boldsymbol y}$: (n,1) matrix\n",
    "- ${\\bf W}$: (784,1) matrix\n",
    "- $b$: (1,1) matrix\n",
    "- `+` 는 브로드캐스팅"
   ]
  },
  {
   "cell_type": "markdown",
   "id": "d56be9d3-f1b4-419a-bf77-d478f5feac0f",
   "metadata": {},
   "source": [
    "${\\boldsymbol y} \\approx \\text{sigmoid}({\\bf X}{\\bf W} + b) = \\frac{\\exp({\\bf XW} +b)}{1+\\exp({\\bf XW} +b)}$ \n",
    "\n",
    "- `+`, `exp`는 브로드캐스팅 "
   ]
  },
  {
   "cell_type": "markdown",
   "id": "9771d5f8-a605-4ed4-b9bc-a5700fa1cf38",
   "metadata": {},
   "source": [
    "`-` $\\boldsymbol{y}$를 설명하는 본질: ${\\bf X}{\\bf W}+ b$이 값이 큰 row 일수록 대응하는 $\\boldsymbol{y}$의 row 값은 1"
   ]
  },
  {
   "cell_type": "markdown",
   "id": "8a59d465-5ea0-4443-b6b8-04a87a23c305",
   "metadata": {},
   "source": [
    "### 로지스틱의 모형 (2) "
   ]
  },
  {
   "cell_type": "markdown",
   "id": "70b1e4f3-7493-470a-9146-10ad946bd877",
   "metadata": {},
   "source": [
    "`-` 또 다른 모형 "
   ]
  },
  {
   "cell_type": "markdown",
   "id": "b24f01de-a7b7-4db5-bf35-4f0ef13bf02e",
   "metadata": {},
   "source": [
    "${\\bf Y} \\propto {\\bf X}{\\bf W} + {\\boldsymbol b}$ \n",
    "\n",
    "- ${\\bf X}$: (n,784) matrix \n",
    "- ${\\bf Y}$: (n,2) matrix\n",
    "- ${\\bf W}$: (784,2) matrix\n",
    "- ${\\boldsymbol b}$: (1,2) matrix\n",
    "- `+` 는 브로드캐스팅"
   ]
  },
  {
   "cell_type": "markdown",
   "id": "453b35b5-ceab-45f0-9924-1e20b9158995",
   "metadata": {},
   "source": [
    "$[{\\boldsymbol y}_1 ~ {\\boldsymbol y}_2] \\propto  {\\bf X} [{\\bf W}_1 {\\bf W}_2] + [b_1 ~ b_2]= [ {\\bf X}{\\bf W}_1  ~ {\\bf X}{\\bf W}_2] + [b_1 ~ b_2]$"
   ]
  },
  {
   "cell_type": "markdown",
   "id": "d3f7dbd9-74d9-46f3-82c4-be0cffea301d",
   "metadata": {},
   "source": [
    "${\\boldsymbol y}_1 \\propto  {\\bf X} {\\bf W}_1 + b_1 \\\\ {\\boldsymbol y}_2 \\propto  {\\bf X} {\\bf W}_2 + b_2$ \n"
   ]
  },
  {
   "cell_type": "markdown",
   "id": "9ea3c112-5056-4729-8bfb-045154add7c7",
   "metadata": {},
   "source": [
    "`-` 본질? ${\\bf X}{\\bf W}_1 +b_1$이 큰 row 일 수록 대응하는 $\\boldsymbol{y}_1$의 row 값이 1이다. 또한 ${\\bf X}{\\bf W}_2 +b_2$이 큰 row 일 수록 대응하는 $\\boldsymbol{y}_2$의 row 값이 1이다. "
   ]
  },
  {
   "cell_type": "markdown",
   "id": "423a3c13-ab35-4aad-af83-63961ba83608",
   "metadata": {},
   "source": [
    "`-` 질문: ${\\bf X}{\\bf W}_1 +b_1$의 값이 500인 row가 있고, 그때 대응하는 ${\\bf X}{\\bf W}_2 +b_2$의 값은 200이라면? 대응하는 $\\boldsymbol{y}_1, \\boldsymbol{y}_2$의 row값은 어떠한가? \n",
    "- [0,0]\n",
    "- [0,1]\n",
    "- [1,0]\n",
    "- [1,1]"
   ]
  },
  {
   "cell_type": "markdown",
   "id": "8d7975f7-60ef-4be1-8bf1-22c59c923c90",
   "metadata": {},
   "source": [
    "`-` 활성화함수 "
   ]
  },
  {
   "cell_type": "markdown",
   "id": "0c1dc3d6-5a81-40a9-bc0c-c04fc6d8b735",
   "metadata": {},
   "source": [
    "$[{\\boldsymbol y}_1 ~ {\\boldsymbol y}_2] \\propto {\\bf X}{\\bf W} + \\boldsymbol{b} = [ {\\bf X}{\\bf W}_1+b_1  ~ {\\bf X}{\\bf W}_2 +b_2] $ "
   ]
  },
  {
   "cell_type": "markdown",
   "id": "57112571-e57c-4472-b240-d58f572813fa",
   "metadata": {},
   "source": [
    "$[{\\boldsymbol y}_1 ~ {\\boldsymbol y}_2] \\approx  \\big[ \\frac{\\exp({\\bf X}{\\bf W}_1+b_1)}{\\exp({\\bf X}{\\bf W}_1+b_1)+\\exp({\\bf X}{\\bf W}_2+b_2)}  ~~ \\frac{\\exp({\\bf X}{\\bf W}_2+b_2)}{\\exp({\\bf X}{\\bf W}_1+b_1)+\\exp({\\bf X}{\\bf W}_2+b_2)}  \\big] $ "
   ]
  },
  {
   "cell_type": "markdown",
   "id": "41669116-278d-4dd6-a25b-1fed1949c457",
   "metadata": {},
   "source": [
    "${\\boldsymbol y} \\approx \\text{softmax}({\\bf X}{\\bf W} + {\\boldsymbol b})$ "
   ]
  },
  {
   "cell_type": "markdown",
   "id": "fe0ee939-65ff-4a6d-b993-17b7f9fb151a",
   "metadata": {},
   "source": [
    "### 모형의 비교"
   ]
  },
  {
   "cell_type": "markdown",
   "id": "472e477f-1e23-4eb5-bce5-d351af1cacd8",
   "metadata": {},
   "source": [
    "`-` 수식장난 \n",
    "$$\\frac{\\exp(\\beta_0+\\beta_1 x_i)}{1+\\exp(\\beta_0+\\beta_1x_i)}=\\frac{\\exp(\\beta_0+\\beta_1 x_i)}{e^0+exp(\\beta_0+\\beta_1x_i)}$$"
   ]
  },
  {
   "cell_type": "markdown",
   "id": "4436ea56-c16b-4511-ba7f-4d06da30783f",
   "metadata": {},
   "source": [
    "`-` 통찰 \n",
    "- 모형2: ${\\bf X}{\\bf W}_1 +b_1$ 와 ${\\bf X}{\\bf W}_2 +b_2$ 의 크기를 비교하고 확률 결정\n",
    "- 모형1: ${\\bf X}{\\bf W} +b$와 $0$의 크기를 비교하고 확률 결정 (${\\bf X}{\\bf W} +b$의 row값이 양수이면 1로 예측하고 음수이면 0으로 예측 "
   ]
  },
  {
   "cell_type": "markdown",
   "id": "97c4bf48-b5c2-4775-9827-bb16632323b2",
   "metadata": {},
   "source": [
    "`-` 파라메터의 수 "
   ]
  },
  {
   "cell_type": "markdown",
   "id": "b3d096cb-6cce-480e-83d4-ed31cd80d90b",
   "metadata": {},
   "source": [
    "`-` 표현력"
   ]
  },
  {
   "cell_type": "markdown",
   "id": "7577cb65-71b0-45f2-ae0f-c4814990c523",
   "metadata": {},
   "source": [
    "- note: $\\big(\\frac{e^{300}}{e^{300}+e^{500}},\\frac{e^{500}}{e^{300}+e^{500}}\\big) =\\big( \\frac{e^{0}}{e^{0}+e^{200}}, \\frac{e^{200}}{e^{0}+e^{200}}\\big)$"
   ]
  },
  {
   "cell_type": "markdown",
   "id": "838b8158-e356-4730-9213-d1ba0d745b49",
   "metadata": {},
   "source": [
    "`-` 확장성 "
   ]
  },
  {
   "cell_type": "markdown",
   "id": "39f74052-5108-47ed-a0df-92a304eab7a4",
   "metadata": {},
   "source": [
    "### 분류할 클래스가 2개 이상일 경우 신경망 모형의 설계 "
   ]
  },
  {
   "cell_type": "markdown",
   "id": "8b9f1d0e-f7c5-467c-83c8-3c4ea48c781a",
   "metadata": {},
   "source": [
    "`-` y의 모양 "
   ]
  },
  {
   "cell_type": "markdown",
   "id": "4c47baef-ec59-40fb-82b9-243def01a1cc",
   "metadata": {},
   "source": [
    "`-` 활성화함수의 선택 "
   ]
  },
  {
   "cell_type": "markdown",
   "id": "5ad22ed8-d048-49d6-aa2e-9e128e016a8f",
   "metadata": {},
   "source": [
    "`-` 손실함수의 선택 "
   ]
  },
  {
   "cell_type": "markdown",
   "id": "2617c64a-af9c-4611-98d1-930d80bcd02e",
   "metadata": {},
   "source": [
    "### Fashion_MNIST 다중분류 "
   ]
  },
  {
   "cell_type": "code",
   "execution_count": 4,
   "id": "6bb7ee41-ca60-4c7a-9296-e8018e5488d6",
   "metadata": {},
   "outputs": [],
   "source": [
    "(x_train, y_train), (x_test, y_test) = tf.keras.datasets.fashion_mnist.load_data()"
   ]
  },
  {
   "cell_type": "markdown",
   "id": "0b5948cc-79e9-4e50-bffd-ebbffe97218e",
   "metadata": {},
   "source": [
    "`-` 시도1"
   ]
  },
  {
   "cell_type": "code",
   "execution_count": 5,
   "id": "3f05a263-a6bb-4b22-9505-30c99b8d6fde",
   "metadata": {},
   "outputs": [],
   "source": [
    "X = x_train.reshape(-1,28*28)\n",
    "y = tf.keras.utils.to_categorical(y_train)\n",
    "XX = x_test.reshape(-1,28*28)\n",
    "yy = tf.keras.utils.to_categorical(y_test)"
   ]
  },
  {
   "cell_type": "code",
   "execution_count": 6,
   "id": "a1b48353-a3ea-483e-9f87-f83e37e3b252",
   "metadata": {},
   "outputs": [
    {
     "data": {
      "image/svg+xml": [
       "<?xml version=\"1.0\" encoding=\"UTF-8\" standalone=\"no\"?>\n",
       "<!DOCTYPE svg PUBLIC \"-//W3C//DTD SVG 1.1//EN\"\n",
       " \"http://www.w3.org/Graphics/SVG/1.1/DTD/svg11.dtd\">\n",
       "<!-- Generated by graphviz version 3.0.0 (20220315.2325)\n",
       " -->\n",
       "<!-- Title: G Pages: 1 -->\n",
       "<svg width=\"383pt\" height=\"261pt\"\n",
       " viewBox=\"0.00 0.00 383.18 261.00\" xmlns=\"http://www.w3.org/2000/svg\" xmlns:xlink=\"http://www.w3.org/1999/xlink\">\n",
       "<g id=\"graph0\" class=\"graph\" transform=\"scale(1 1) rotate(0) translate(4 257)\">\n",
       "<title>G</title>\n",
       "<polygon fill=\"white\" stroke=\"transparent\" points=\"-4,4 -4,-257 379.18,-257 379.18,4 -4,4\"/>\n",
       "<g id=\"clust1\" class=\"cluster\">\n",
       "<title>cluster_1</title>\n",
       "<polygon fill=\"lightgrey\" stroke=\"lightgrey\" points=\"8,-8 8,-245 91.59,-245 91.59,-8 8,-8\"/>\n",
       "<text text-anchor=\"middle\" x=\"49.8\" y=\"-229.8\" font-family=\"Times,serif\" font-size=\"14.00\">Layer 0</text>\n",
       "</g>\n",
       "<g id=\"clust2\" class=\"cluster\">\n",
       "<title>cluster_2</title>\n",
       "<polygon fill=\"lightgrey\" stroke=\"lightgrey\" points=\"111.59,-8 111.59,-245 219.29,-245 219.29,-8 111.59,-8\"/>\n",
       "<text text-anchor=\"middle\" x=\"165.44\" y=\"-229.8\" font-family=\"Times,serif\" font-size=\"14.00\">Layer 1: relu</text>\n",
       "</g>\n",
       "<g id=\"clust3\" class=\"cluster\">\n",
       "<title>cluster_3</title>\n",
       "<polygon fill=\"lightgrey\" stroke=\"lightgrey\" points=\"239.29,-35 239.29,-218 375.18,-218 375.18,-35 239.29,-35\"/>\n",
       "<text text-anchor=\"middle\" x=\"307.23\" y=\"-202.8\" font-family=\"Times,serif\" font-size=\"14.00\">Layer 2: sigmoid</text>\n",
       "</g>\n",
       "<!-- x1 -->\n",
       "<g id=\"node1\" class=\"node\">\n",
       "<title>x1</title>\n",
       "<ellipse fill=\"none\" stroke=\"black\" cx=\"49.8\" cy=\"-196\" rx=\"27\" ry=\"18\"/>\n",
       "<text text-anchor=\"middle\" x=\"49.8\" y=\"-192.3\" font-family=\"Times,serif\" font-size=\"14.00\">x1</text>\n",
       "</g>\n",
       "<!-- node1 -->\n",
       "<g id=\"node5\" class=\"node\">\n",
       "<title>node1</title>\n",
       "<ellipse fill=\"none\" stroke=\"black\" cx=\"165.44\" cy=\"-196\" rx=\"38.99\" ry=\"18\"/>\n",
       "<text text-anchor=\"middle\" x=\"165.44\" y=\"-192.3\" font-family=\"Times,serif\" font-size=\"14.00\">node1</text>\n",
       "</g>\n",
       "<!-- x1&#45;&gt;node1 -->\n",
       "<g id=\"edge1\" class=\"edge\">\n",
       "<title>x1&#45;&gt;node1</title>\n",
       "<path fill=\"none\" stroke=\"black\" d=\"M76.87,-196C88.57,-196 102.75,-196 116.27,-196\"/>\n",
       "<polygon fill=\"black\" stroke=\"black\" points=\"116.42,-199.5 126.42,-196 116.42,-192.5 116.42,-199.5\"/>\n",
       "</g>\n",
       "<!-- node2 -->\n",
       "<g id=\"node6\" class=\"node\">\n",
       "<title>node2</title>\n",
       "<ellipse fill=\"none\" stroke=\"black\" cx=\"165.44\" cy=\"-142\" rx=\"38.99\" ry=\"18\"/>\n",
       "<text text-anchor=\"middle\" x=\"165.44\" y=\"-138.3\" font-family=\"Times,serif\" font-size=\"14.00\">node2</text>\n",
       "</g>\n",
       "<!-- x1&#45;&gt;node2 -->\n",
       "<g id=\"edge5\" class=\"edge\">\n",
       "<title>x1&#45;&gt;node2</title>\n",
       "<path fill=\"none\" stroke=\"black\" d=\"M72.17,-185.84C88.01,-178.32 109.97,-167.88 128.5,-159.08\"/>\n",
       "<polygon fill=\"black\" stroke=\"black\" points=\"130.01,-162.23 137.54,-154.78 127.01,-155.91 130.01,-162.23\"/>\n",
       "</g>\n",
       "<!-- ... -->\n",
       "<g id=\"node7\" class=\"node\">\n",
       "<title>...</title>\n",
       "<ellipse fill=\"none\" stroke=\"black\" cx=\"165.44\" cy=\"-88\" rx=\"27\" ry=\"18\"/>\n",
       "<text text-anchor=\"middle\" x=\"165.44\" y=\"-84.3\" font-family=\"Times,serif\" font-size=\"14.00\">...</text>\n",
       "</g>\n",
       "<!-- x1&#45;&gt;... -->\n",
       "<g id=\"edge9\" class=\"edge\">\n",
       "<title>x1&#45;&gt;...</title>\n",
       "<path fill=\"none\" stroke=\"black\" d=\"M66.12,-181.43C85.53,-163 119.12,-131.07 141.56,-109.74\"/>\n",
       "<polygon fill=\"black\" stroke=\"black\" points=\"144.16,-112.11 148.99,-102.68 139.33,-107.03 144.16,-112.11\"/>\n",
       "</g>\n",
       "<!-- node30 -->\n",
       "<g id=\"node8\" class=\"node\">\n",
       "<title>node30</title>\n",
       "<ellipse fill=\"none\" stroke=\"black\" cx=\"165.44\" cy=\"-34\" rx=\"44.69\" ry=\"18\"/>\n",
       "<text text-anchor=\"middle\" x=\"165.44\" y=\"-30.3\" font-family=\"Times,serif\" font-size=\"14.00\">node30</text>\n",
       "</g>\n",
       "<!-- x1&#45;&gt;node30 -->\n",
       "<g id=\"edge13\" class=\"edge\">\n",
       "<title>x1&#45;&gt;node30</title>\n",
       "<path fill=\"none\" stroke=\"black\" d=\"M62.11,-179.87C81.8,-151.81 122.52,-93.76 146.23,-59.97\"/>\n",
       "<polygon fill=\"black\" stroke=\"black\" points=\"149.27,-61.72 152.15,-51.52 143.54,-57.7 149.27,-61.72\"/>\n",
       "</g>\n",
       "<!-- x2 -->\n",
       "<g id=\"node2\" class=\"node\">\n",
       "<title>x2</title>\n",
       "<ellipse fill=\"none\" stroke=\"black\" cx=\"49.8\" cy=\"-142\" rx=\"27\" ry=\"18\"/>\n",
       "<text text-anchor=\"middle\" x=\"49.8\" y=\"-138.3\" font-family=\"Times,serif\" font-size=\"14.00\">x2</text>\n",
       "</g>\n",
       "<!-- x2&#45;&gt;node1 -->\n",
       "<g id=\"edge2\" class=\"edge\">\n",
       "<title>x2&#45;&gt;node1</title>\n",
       "<path fill=\"none\" stroke=\"black\" d=\"M72.17,-152.16C88.01,-159.68 109.97,-170.12 128.5,-178.92\"/>\n",
       "<polygon fill=\"black\" stroke=\"black\" points=\"127.01,-182.09 137.54,-183.22 130.01,-175.77 127.01,-182.09\"/>\n",
       "</g>\n",
       "<!-- x2&#45;&gt;node2 -->\n",
       "<g id=\"edge6\" class=\"edge\">\n",
       "<title>x2&#45;&gt;node2</title>\n",
       "<path fill=\"none\" stroke=\"black\" d=\"M76.87,-142C88.57,-142 102.75,-142 116.27,-142\"/>\n",
       "<polygon fill=\"black\" stroke=\"black\" points=\"116.42,-145.5 126.42,-142 116.42,-138.5 116.42,-145.5\"/>\n",
       "</g>\n",
       "<!-- x2&#45;&gt;... -->\n",
       "<g id=\"edge10\" class=\"edge\">\n",
       "<title>x2&#45;&gt;...</title>\n",
       "<path fill=\"none\" stroke=\"black\" d=\"M72.17,-131.84C89.52,-123.6 114.21,-111.87 133.69,-102.61\"/>\n",
       "<polygon fill=\"black\" stroke=\"black\" points=\"135.24,-105.75 142.77,-98.3 132.24,-99.43 135.24,-105.75\"/>\n",
       "</g>\n",
       "<!-- x2&#45;&gt;node30 -->\n",
       "<g id=\"edge14\" class=\"edge\">\n",
       "<title>x2&#45;&gt;node30</title>\n",
       "<path fill=\"none\" stroke=\"black\" d=\"M66.12,-127.43C84.98,-109.51 117.25,-78.84 139.66,-57.55\"/>\n",
       "<polygon fill=\"black\" stroke=\"black\" points=\"142.29,-59.88 147.13,-50.45 137.47,-54.8 142.29,-59.88\"/>\n",
       "</g>\n",
       "<!-- .. -->\n",
       "<g id=\"node3\" class=\"node\">\n",
       "<title>..</title>\n",
       "<ellipse fill=\"none\" stroke=\"black\" cx=\"49.8\" cy=\"-88\" rx=\"27\" ry=\"18\"/>\n",
       "<text text-anchor=\"middle\" x=\"49.8\" y=\"-84.3\" font-family=\"Times,serif\" font-size=\"14.00\">..</text>\n",
       "</g>\n",
       "<!-- ..&#45;&gt;node1 -->\n",
       "<g id=\"edge3\" class=\"edge\">\n",
       "<title>..&#45;&gt;node1</title>\n",
       "<path fill=\"none\" stroke=\"black\" d=\"M66.12,-102.57C85.09,-120.59 117.63,-151.51 140.04,-172.81\"/>\n",
       "<polygon fill=\"black\" stroke=\"black\" points=\"137.85,-175.56 147.51,-179.91 142.67,-170.48 137.85,-175.56\"/>\n",
       "</g>\n",
       "<!-- ..&#45;&gt;node2 -->\n",
       "<g id=\"edge7\" class=\"edge\">\n",
       "<title>..&#45;&gt;node2</title>\n",
       "<path fill=\"none\" stroke=\"black\" d=\"M72.17,-98.16C88.01,-105.68 109.97,-116.12 128.5,-124.92\"/>\n",
       "<polygon fill=\"black\" stroke=\"black\" points=\"127.01,-128.09 137.54,-129.22 130.01,-121.77 127.01,-128.09\"/>\n",
       "</g>\n",
       "<!-- ..&#45;&gt;... -->\n",
       "<g id=\"edge11\" class=\"edge\">\n",
       "<title>..&#45;&gt;...</title>\n",
       "<path fill=\"none\" stroke=\"black\" d=\"M76.87,-88C91.92,-88 111.09,-88 127.66,-88\"/>\n",
       "<polygon fill=\"black\" stroke=\"black\" points=\"128.1,-91.5 138.1,-88 128.1,-84.5 128.1,-91.5\"/>\n",
       "</g>\n",
       "<!-- ..&#45;&gt;node30 -->\n",
       "<g id=\"edge15\" class=\"edge\">\n",
       "<title>..&#45;&gt;node30</title>\n",
       "<path fill=\"none\" stroke=\"black\" d=\"M72.17,-77.84C87.5,-70.56 108.57,-60.55 126.7,-51.93\"/>\n",
       "<polygon fill=\"black\" stroke=\"black\" points=\"128.33,-55.03 135.86,-47.58 125.33,-48.71 128.33,-55.03\"/>\n",
       "</g>\n",
       "<!-- x784 -->\n",
       "<g id=\"node4\" class=\"node\">\n",
       "<title>x784</title>\n",
       "<ellipse fill=\"none\" stroke=\"black\" cx=\"49.8\" cy=\"-34\" rx=\"33.6\" ry=\"18\"/>\n",
       "<text text-anchor=\"middle\" x=\"49.8\" y=\"-30.3\" font-family=\"Times,serif\" font-size=\"14.00\">x784</text>\n",
       "</g>\n",
       "<!-- x784&#45;&gt;node1 -->\n",
       "<g id=\"edge4\" class=\"edge\">\n",
       "<title>x784&#45;&gt;node1</title>\n",
       "<path fill=\"none\" stroke=\"black\" d=\"M62.53,-50.73C82.42,-79.07 122.87,-136.74 146.38,-170.26\"/>\n",
       "<polygon fill=\"black\" stroke=\"black\" points=\"143.65,-172.46 152.26,-178.63 149.38,-168.44 143.65,-172.46\"/>\n",
       "</g>\n",
       "<!-- x784&#45;&gt;node2 -->\n",
       "<g id=\"edge8\" class=\"edge\">\n",
       "<title>x784&#45;&gt;node2</title>\n",
       "<path fill=\"none\" stroke=\"black\" d=\"M67.08,-49.47C86.18,-67.63 118.05,-97.91 140.09,-118.86\"/>\n",
       "<polygon fill=\"black\" stroke=\"black\" points=\"137.79,-121.5 147.45,-125.85 142.61,-116.42 137.79,-121.5\"/>\n",
       "</g>\n",
       "<!-- x784&#45;&gt;... -->\n",
       "<g id=\"edge12\" class=\"edge\">\n",
       "<title>x784&#45;&gt;...</title>\n",
       "<path fill=\"none\" stroke=\"black\" d=\"M75.46,-45.72C92.58,-53.85 115.51,-64.75 133.8,-73.44\"/>\n",
       "<polygon fill=\"black\" stroke=\"black\" points=\"132.36,-76.63 142.89,-77.76 135.36,-70.31 132.36,-76.63\"/>\n",
       "</g>\n",
       "<!-- x784&#45;&gt;node30 -->\n",
       "<g id=\"edge16\" class=\"edge\">\n",
       "<title>x784&#45;&gt;node30</title>\n",
       "<path fill=\"none\" stroke=\"black\" d=\"M83.67,-34C91.95,-34 101.07,-34 110.11,-34\"/>\n",
       "<polygon fill=\"black\" stroke=\"black\" points=\"110.23,-37.5 120.23,-34 110.23,-30.5 110.23,-37.5\"/>\n",
       "</g>\n",
       "<!-- y10 -->\n",
       "<g id=\"node9\" class=\"node\">\n",
       "<title>y10</title>\n",
       "<ellipse fill=\"none\" stroke=\"black\" cx=\"307.23\" cy=\"-61\" rx=\"27.9\" ry=\"18\"/>\n",
       "<text text-anchor=\"middle\" x=\"307.23\" y=\"-57.3\" font-family=\"Times,serif\" font-size=\"14.00\">y10</text>\n",
       "</g>\n",
       "<!-- node1&#45;&gt;y10 -->\n",
       "<g id=\"edge17\" class=\"edge\">\n",
       "<title>node1&#45;&gt;y10</title>\n",
       "<path fill=\"none\" stroke=\"black\" d=\"M183.3,-179.72C208.39,-155.49 255.6,-109.89 283.65,-82.81\"/>\n",
       "<polygon fill=\"black\" stroke=\"black\" points=\"286.26,-85.16 291.02,-75.69 281.4,-80.12 286.26,-85.16\"/>\n",
       "</g>\n",
       "<!-- y1 -->\n",
       "<g id=\"node10\" class=\"node\">\n",
       "<title>y1</title>\n",
       "<ellipse fill=\"none\" stroke=\"black\" cx=\"307.23\" cy=\"-169\" rx=\"27\" ry=\"18\"/>\n",
       "<text text-anchor=\"middle\" x=\"307.23\" y=\"-165.3\" font-family=\"Times,serif\" font-size=\"14.00\">y1</text>\n",
       "</g>\n",
       "<!-- node1&#45;&gt;y1 -->\n",
       "<g id=\"edge21\" class=\"edge\">\n",
       "<title>node1&#45;&gt;y1</title>\n",
       "<path fill=\"none\" stroke=\"black\" d=\"M201.72,-189.19C222.99,-185.08 249.98,-179.87 271.2,-175.77\"/>\n",
       "<polygon fill=\"black\" stroke=\"black\" points=\"271.96,-179.19 281.11,-173.85 270.63,-172.31 271.96,-179.19\"/>\n",
       "</g>\n",
       "<!-- . -->\n",
       "<g id=\"node11\" class=\"node\">\n",
       "<title>.</title>\n",
       "<ellipse fill=\"none\" stroke=\"black\" cx=\"307.23\" cy=\"-115\" rx=\"27\" ry=\"18\"/>\n",
       "<text text-anchor=\"middle\" x=\"307.23\" y=\"-111.3\" font-family=\"Times,serif\" font-size=\"14.00\">.</text>\n",
       "</g>\n",
       "<!-- node1&#45;&gt;. -->\n",
       "<g id=\"edge25\" class=\"edge\">\n",
       "<title>node1&#45;&gt;.</title>\n",
       "<path fill=\"none\" stroke=\"black\" d=\"M190.47,-182.08C214.53,-168.14 251.56,-146.68 277.24,-131.8\"/>\n",
       "<polygon fill=\"black\" stroke=\"black\" points=\"279.24,-134.69 286.14,-126.65 275.73,-128.63 279.24,-134.69\"/>\n",
       "</g>\n",
       "<!-- node2&#45;&gt;y10 -->\n",
       "<g id=\"edge18\" class=\"edge\">\n",
       "<title>node2&#45;&gt;y10</title>\n",
       "<path fill=\"none\" stroke=\"black\" d=\"M190.47,-128.08C214.39,-114.22 251.13,-92.93 276.79,-78.06\"/>\n",
       "<polygon fill=\"black\" stroke=\"black\" points=\"278.8,-80.94 285.7,-72.9 275.29,-74.89 278.8,-80.94\"/>\n",
       "</g>\n",
       "<!-- node2&#45;&gt;y1 -->\n",
       "<g id=\"edge22\" class=\"edge\">\n",
       "<title>node2&#45;&gt;y1</title>\n",
       "<path fill=\"none\" stroke=\"black\" d=\"M201.72,-148.81C222.99,-152.92 249.98,-158.13 271.2,-162.23\"/>\n",
       "<polygon fill=\"black\" stroke=\"black\" points=\"270.63,-165.69 281.11,-164.15 271.96,-158.81 270.63,-165.69\"/>\n",
       "</g>\n",
       "<!-- node2&#45;&gt;. -->\n",
       "<g id=\"edge26\" class=\"edge\">\n",
       "<title>node2&#45;&gt;.</title>\n",
       "<path fill=\"none\" stroke=\"black\" d=\"M201.72,-135.19C222.99,-131.08 249.98,-125.87 271.2,-121.77\"/>\n",
       "<polygon fill=\"black\" stroke=\"black\" points=\"271.96,-125.19 281.11,-119.85 270.63,-118.31 271.96,-125.19\"/>\n",
       "</g>\n",
       "<!-- ...&#45;&gt;y10 -->\n",
       "<g id=\"edge19\" class=\"edge\">\n",
       "<title>...&#45;&gt;y10</title>\n",
       "<path fill=\"none\" stroke=\"black\" d=\"M191.76,-83.11C213.65,-78.88 245.56,-72.72 270.13,-67.97\"/>\n",
       "<polygon fill=\"black\" stroke=\"black\" points=\"271,-71.37 280.16,-66.04 269.68,-64.5 271,-71.37\"/>\n",
       "</g>\n",
       "<!-- ...&#45;&gt;y1 -->\n",
       "<g id=\"edge23\" class=\"edge\">\n",
       "<title>...&#45;&gt;y1</title>\n",
       "<path fill=\"none\" stroke=\"black\" d=\"M186.47,-99.61C210.34,-113.44 250.42,-136.66 277.57,-152.39\"/>\n",
       "<polygon fill=\"black\" stroke=\"black\" points=\"275.83,-155.43 286.24,-157.42 279.34,-149.37 275.83,-155.43\"/>\n",
       "</g>\n",
       "<!-- ...&#45;&gt;. -->\n",
       "<g id=\"edge27\" class=\"edge\">\n",
       "<title>...&#45;&gt;.</title>\n",
       "<path fill=\"none\" stroke=\"black\" d=\"M191.76,-92.89C213.92,-97.17 246.36,-103.44 271.05,-108.2\"/>\n",
       "<polygon fill=\"black\" stroke=\"black\" points=\"270.62,-111.69 281.11,-110.15 271.95,-104.81 270.62,-111.69\"/>\n",
       "</g>\n",
       "<!-- node30&#45;&gt;y10 -->\n",
       "<g id=\"edge20\" class=\"edge\">\n",
       "<title>node30&#45;&gt;y10</title>\n",
       "<path fill=\"none\" stroke=\"black\" d=\"M206.13,-41.66C226.24,-45.55 250.49,-50.23 270.09,-54.02\"/>\n",
       "<polygon fill=\"black\" stroke=\"black\" points=\"269.67,-57.5 280.15,-55.96 270.99,-50.63 269.67,-57.5\"/>\n",
       "</g>\n",
       "<!-- node30&#45;&gt;y1 -->\n",
       "<g id=\"edge24\" class=\"edge\">\n",
       "<title>node30&#45;&gt;y1</title>\n",
       "<path fill=\"none\" stroke=\"black\" d=\"M183.58,-50.55C208.77,-74.88 255.82,-120.32 283.75,-147.29\"/>\n",
       "<polygon fill=\"black\" stroke=\"black\" points=\"281.47,-149.95 291.09,-154.38 286.33,-144.91 281.47,-149.95\"/>\n",
       "</g>\n",
       "<!-- node30&#45;&gt;. -->\n",
       "<g id=\"edge28\" class=\"edge\">\n",
       "<title>node30&#45;&gt;.</title>\n",
       "<path fill=\"none\" stroke=\"black\" d=\"M191.76,-48.67C215.86,-62.64 252.11,-83.64 277.34,-98.26\"/>\n",
       "<polygon fill=\"black\" stroke=\"black\" points=\"275.68,-101.34 286.09,-103.33 279.19,-95.29 275.68,-101.34\"/>\n",
       "</g>\n",
       "</g>\n",
       "</svg>\n"
      ],
      "text/plain": [
       "<graphviz.sources.Source at 0x7f4d1c3f1e80>"
      ]
     },
     "execution_count": 6,
     "metadata": {},
     "output_type": "execute_result"
    }
   ],
   "source": [
    "#collapse\n",
    "gv('''\n",
    "splines=line\n",
    "subgraph cluster_1{\n",
    "    style=filled;\n",
    "    color=lightgrey;\n",
    "    \"x1\"\n",
    "    \"x2\"\n",
    "    \"..\"\n",
    "    \"x784\"\n",
    "    label = \"Layer 0\"\n",
    "}\n",
    "subgraph cluster_2{\n",
    "    style=filled;\n",
    "    color=lightgrey;\n",
    "    \"x1\" -> \"node1\"\n",
    "    \"x2\" -> \"node1\"\n",
    "    \"..\" -> \"node1\"\n",
    "    \n",
    "    \"x784\" -> \"node1\"\n",
    "    \"x1\" -> \"node2\"\n",
    "    \"x2\" -> \"node2\"\n",
    "    \"..\" -> \"node2\"\n",
    "    \"x784\" -> \"node2\"\n",
    "    \n",
    "    \"x1\" -> \"...\"\n",
    "    \"x2\" -> \"...\"\n",
    "    \"..\" -> \"...\"\n",
    "    \"x784\" -> \"...\"\n",
    "\n",
    "    \"x1\" -> \"node30\"\n",
    "    \"x2\" -> \"node30\"\n",
    "    \"..\" -> \"node30\"\n",
    "    \"x784\" -> \"node30\"\n",
    "\n",
    "\n",
    "    label = \"Layer 1: relu\"\n",
    "}\n",
    "subgraph cluster_3{\n",
    "    style=filled;\n",
    "    color=lightgrey;\n",
    "\n",
    "    \"node1\" -> \"y10\"\n",
    "    \"node2\" -> \"y10\"\n",
    "    \"...\" -> \"y10\"\n",
    "    \"node30\" -> \"y10\"\n",
    "    \n",
    "    \"node1\" -> \"y1\"\n",
    "    \"node2\" -> \"y1\"\n",
    "    \"...\" -> \"y1\"\n",
    "    \"node30\" -> \"y1\"\n",
    "    \n",
    "    \"node1\" -> \".\"\n",
    "    \"node2\" -> \".\"\n",
    "    \"...\" -> \".\"\n",
    "    \"node30\" -> \".\"\n",
    "    \n",
    "    label = \"Layer 2: sigmoid\"\n",
    "}\n",
    "''')"
   ]
  },
  {
   "cell_type": "code",
   "execution_count": 7,
   "id": "7f169e58-78c5-408b-ae2f-541dc83f3d4a",
   "metadata": {
    "scrolled": true,
    "tags": []
   },
   "outputs": [
    {
     "name": "stdout",
     "output_type": "stream",
     "text": [
      "Epoch 1/20\n",
      "50/50 [==============================] - 1s 4ms/step - loss: 32.5636 - accuracy: 0.3732\n",
      "Epoch 2/20\n",
      "50/50 [==============================] - 0s 3ms/step - loss: 2.4426 - accuracy: 0.3876\n",
      "Epoch 3/20\n",
      "50/50 [==============================] - 0s 3ms/step - loss: 1.9157 - accuracy: 0.3830\n",
      "Epoch 4/20\n",
      "50/50 [==============================] - 0s 4ms/step - loss: 1.7747 - accuracy: 0.4075\n",
      "Epoch 5/20\n",
      "50/50 [==============================] - 0s 3ms/step - loss: 1.6499 - accuracy: 0.4506\n",
      "Epoch 6/20\n",
      "50/50 [==============================] - 0s 4ms/step - loss: 1.5429 - accuracy: 0.4854\n",
      "Epoch 7/20\n",
      "50/50 [==============================] - 0s 3ms/step - loss: 1.4646 - accuracy: 0.4987\n",
      "Epoch 8/20\n",
      "50/50 [==============================] - 0s 4ms/step - loss: 1.3988 - accuracy: 0.5224\n",
      "Epoch 9/20\n",
      "50/50 [==============================] - 0s 4ms/step - loss: 1.3393 - accuracy: 0.5462\n",
      "Epoch 10/20\n",
      "50/50 [==============================] - 0s 3ms/step - loss: 1.2876 - accuracy: 0.5537\n",
      "Epoch 11/20\n",
      "50/50 [==============================] - 0s 4ms/step - loss: 1.2507 - accuracy: 0.5610\n",
      "Epoch 12/20\n",
      "50/50 [==============================] - 0s 4ms/step - loss: 1.2187 - accuracy: 0.5704\n",
      "Epoch 13/20\n",
      "50/50 [==============================] - 0s 3ms/step - loss: 1.1909 - accuracy: 0.5724\n",
      "Epoch 14/20\n",
      "50/50 [==============================] - 0s 4ms/step - loss: 1.1661 - accuracy: 0.5767\n",
      "Epoch 15/20\n",
      "50/50 [==============================] - 0s 4ms/step - loss: 1.1448 - accuracy: 0.5807\n",
      "Epoch 16/20\n",
      "50/50 [==============================] - 0s 3ms/step - loss: 1.1248 - accuracy: 0.5847\n",
      "Epoch 17/20\n",
      "50/50 [==============================] - 0s 4ms/step - loss: 1.1038 - accuracy: 0.5895\n",
      "Epoch 18/20\n",
      "50/50 [==============================] - 0s 3ms/step - loss: 1.0868 - accuracy: 0.5917\n",
      "Epoch 19/20\n",
      "50/50 [==============================] - 0s 4ms/step - loss: 1.0720 - accuracy: 0.5945\n",
      "Epoch 20/20\n",
      "50/50 [==============================] - 0s 3ms/step - loss: 1.0525 - accuracy: 0.6013\n"
     ]
    },
    {
     "data": {
      "text/plain": [
       "<keras.callbacks.History at 0x7f4d1c2c3e80>"
      ]
     },
     "execution_count": 7,
     "metadata": {},
     "output_type": "execute_result"
    }
   ],
   "source": [
    "#collapse_output\n",
    "tf.random.set_seed(43052)\n",
    "net = tf.keras.Sequential() \n",
    "net.add(tf.keras.layers.Dense(30,activation='relu'))\n",
    "net.add(tf.keras.layers.Dense(10,activation='softmax'))\n",
    "net.compile(optimizer='adam',loss=tf.losses.categorical_crossentropy,metrics=['accuracy'])\n",
    "net.fit(X,y,epochs=20,batch_size=1200) "
   ]
  },
  {
   "cell_type": "code",
   "execution_count": 8,
   "id": "1caa435b-1578-4cd9-84b6-ddaf16f902e5",
   "metadata": {},
   "outputs": [
    {
     "name": "stdout",
     "output_type": "stream",
     "text": [
      "313/313 [==============================] - 1s 1ms/step - loss: 1.0973 - accuracy: 0.6055\n"
     ]
    },
    {
     "data": {
      "text/plain": [
       "[1.0972779989242554, 0.6054999828338623]"
      ]
     },
     "execution_count": 8,
     "metadata": {},
     "output_type": "execute_result"
    }
   ],
   "source": [
    "net.evaluate(XX,yy)"
   ]
  },
  {
   "cell_type": "markdown",
   "id": "4893636e-f568-4e17-8c12-b3825be71f4a",
   "metadata": {},
   "source": [
    "`-` 시도2"
   ]
  },
  {
   "cell_type": "code",
   "execution_count": 9,
   "id": "0375e29e-f1f3-4541-aea0-a9933b855971",
   "metadata": {
    "scrolled": true,
    "tags": []
   },
   "outputs": [
    {
     "name": "stdout",
     "output_type": "stream",
     "text": [
      "Epoch 1/20\n",
      "50/50 [==============================] - 2s 20ms/step - loss: 21.2273 - accuracy: 0.6484\n",
      "Epoch 2/20\n",
      "50/50 [==============================] - 1s 20ms/step - loss: 0.8976 - accuracy: 0.8034\n",
      "Epoch 3/20\n",
      "50/50 [==============================] - 1s 20ms/step - loss: 0.6332 - accuracy: 0.8268\n",
      "Epoch 4/20\n",
      "50/50 [==============================] - 1s 20ms/step - loss: 0.5325 - accuracy: 0.8411\n",
      "Epoch 5/20\n",
      "50/50 [==============================] - 1s 21ms/step - loss: 0.4544 - accuracy: 0.8558\n",
      "Epoch 6/20\n",
      "50/50 [==============================] - 1s 20ms/step - loss: 0.3942 - accuracy: 0.8694\n",
      "Epoch 7/20\n",
      "50/50 [==============================] - 1s 21ms/step - loss: 0.3768 - accuracy: 0.8735\n",
      "Epoch 8/20\n",
      "50/50 [==============================] - 1s 21ms/step - loss: 0.3319 - accuracy: 0.8849\n",
      "Epoch 9/20\n",
      "50/50 [==============================] - 1s 21ms/step - loss: 0.3122 - accuracy: 0.8901\n",
      "Epoch 10/20\n",
      "50/50 [==============================] - 1s 20ms/step - loss: 0.2780 - accuracy: 0.9005\n",
      "Epoch 11/20\n",
      "50/50 [==============================] - 1s 20ms/step - loss: 0.2625 - accuracy: 0.9050\n",
      "Epoch 12/20\n",
      "50/50 [==============================] - 1s 21ms/step - loss: 0.2443 - accuracy: 0.9113\n",
      "Epoch 13/20\n",
      "50/50 [==============================] - 1s 21ms/step - loss: 0.2348 - accuracy: 0.9150\n",
      "Epoch 14/20\n",
      "50/50 [==============================] - 1s 20ms/step - loss: 0.2167 - accuracy: 0.9212\n",
      "Epoch 15/20\n",
      "50/50 [==============================] - 1s 20ms/step - loss: 0.2113 - accuracy: 0.9232\n",
      "Epoch 16/20\n",
      "50/50 [==============================] - 1s 21ms/step - loss: 0.1964 - accuracy: 0.9284\n",
      "Epoch 17/20\n",
      "50/50 [==============================] - 1s 21ms/step - loss: 0.1793 - accuracy: 0.9346\n",
      "Epoch 18/20\n",
      "50/50 [==============================] - 1s 20ms/step - loss: 0.1707 - accuracy: 0.9383\n",
      "Epoch 19/20\n",
      "50/50 [==============================] - 1s 21ms/step - loss: 0.1663 - accuracy: 0.9394\n",
      "Epoch 20/20\n",
      "50/50 [==============================] - 1s 20ms/step - loss: 0.1519 - accuracy: 0.9449\n"
     ]
    },
    {
     "data": {
      "text/plain": [
       "<keras.callbacks.History at 0x7f4d10347ca0>"
      ]
     },
     "execution_count": 9,
     "metadata": {},
     "output_type": "execute_result"
    }
   ],
   "source": [
    "#collapse_output\n",
    "tf.random.set_seed(43052)\n",
    "net_dnn = tf.keras.Sequential() \n",
    "net_dnn.add(tf.keras.layers.Dense(500,activation='relu'))\n",
    "net_dnn.add(tf.keras.layers.Dense(500,activation='relu'))\n",
    "net_dnn.add(tf.keras.layers.Dense(500,activation='relu'))\n",
    "net_dnn.add(tf.keras.layers.Dense(10,activation='softmax'))\n",
    "net_dnn.compile(optimizer='adam',loss=tf.losses.categorical_crossentropy,metrics=['accuracy'])\n",
    "net_dnn.fit(X,y,epochs=20,batch_size=1200) "
   ]
  },
  {
   "cell_type": "code",
   "execution_count": 10,
   "id": "23c7e6c1-3c52-4307-ac1b-58a39be16eb0",
   "metadata": {},
   "outputs": [
    {
     "name": "stdout",
     "output_type": "stream",
     "text": [
      "313/313 [==============================] - 1s 2ms/step - loss: 0.4641 - accuracy: 0.8627\n"
     ]
    },
    {
     "data": {
      "text/plain": [
       "[0.4640596807003021, 0.8626999855041504]"
      ]
     },
     "execution_count": 10,
     "metadata": {},
     "output_type": "execute_result"
    }
   ],
   "source": [
    "net_dnn.evaluate(XX,yy)"
   ]
  },
  {
   "cell_type": "markdown",
   "id": "d7416978-08c0-4e47-8a6d-c5658d336a47",
   "metadata": {},
   "source": [
    "`-` 시도3"
   ]
  },
  {
   "cell_type": "code",
   "execution_count": 11,
   "id": "cb4b14ed-7d15-4c31-957d-2c048fbad2fb",
   "metadata": {},
   "outputs": [],
   "source": [
    "_X = tf.constant(X.reshape(-1,28,28,1),dtype=tf.float64)\n",
    "_XX = tf.constant(XX.reshape(-1,28,28,1),dtype=tf.float64)"
   ]
  },
  {
   "cell_type": "code",
   "execution_count": 12,
   "id": "c755f189-84ec-4a03-a11b-6310334b2f7d",
   "metadata": {},
   "outputs": [
    {
     "name": "stdout",
     "output_type": "stream",
     "text": [
      "Epoch 1/20\n",
      "50/50 [==============================] - 10s 179ms/step - loss: 6.2941 - accuracy: 0.5016\n",
      "Epoch 2/20\n",
      "50/50 [==============================] - 9s 182ms/step - loss: 0.9204 - accuracy: 0.7147\n",
      "Epoch 3/20\n",
      "50/50 [==============================] - 9s 189ms/step - loss: 0.6900 - accuracy: 0.7737\n",
      "Epoch 4/20\n",
      "50/50 [==============================] - 9s 183ms/step - loss: 0.5733 - accuracy: 0.8053\n",
      "Epoch 5/20\n",
      "50/50 [==============================] - 9s 180ms/step - loss: 0.5029 - accuracy: 0.8270\n",
      "Epoch 6/20\n",
      "50/50 [==============================] - 9s 179ms/step - loss: 0.4567 - accuracy: 0.8410\n",
      "Epoch 7/20\n",
      "50/50 [==============================] - 9s 182ms/step - loss: 0.4264 - accuracy: 0.8498\n",
      "Epoch 8/20\n",
      "50/50 [==============================] - 9s 179ms/step - loss: 0.4057 - accuracy: 0.8567\n",
      "Epoch 9/20\n",
      "50/50 [==============================] - 8s 160ms/step - loss: 0.3901 - accuracy: 0.8627\n",
      "Epoch 10/20\n",
      "50/50 [==============================] - 5s 97ms/step - loss: 0.3768 - accuracy: 0.8658\n",
      "Epoch 11/20\n",
      "50/50 [==============================] - 5s 96ms/step - loss: 0.3627 - accuracy: 0.8708\n",
      "Epoch 12/20\n",
      "50/50 [==============================] - 5s 96ms/step - loss: 0.3539 - accuracy: 0.8730\n",
      "Epoch 13/20\n",
      "50/50 [==============================] - 5s 96ms/step - loss: 0.3431 - accuracy: 0.8769\n",
      "Epoch 14/20\n",
      "50/50 [==============================] - 5s 96ms/step - loss: 0.3356 - accuracy: 0.8789\n",
      "Epoch 15/20\n",
      "50/50 [==============================] - 5s 96ms/step - loss: 0.3296 - accuracy: 0.8807\n",
      "Epoch 16/20\n",
      "50/50 [==============================] - 5s 96ms/step - loss: 0.3224 - accuracy: 0.8833\n",
      "Epoch 17/20\n",
      "50/50 [==============================] - 5s 96ms/step - loss: 0.3144 - accuracy: 0.8859\n",
      "Epoch 18/20\n",
      "50/50 [==============================] - 5s 96ms/step - loss: 0.3111 - accuracy: 0.8873\n",
      "Epoch 19/20\n",
      "50/50 [==============================] - 5s 96ms/step - loss: 0.3023 - accuracy: 0.8908\n",
      "Epoch 20/20\n",
      "50/50 [==============================] - 5s 96ms/step - loss: 0.2979 - accuracy: 0.8924\n"
     ]
    },
    {
     "data": {
      "text/plain": [
       "<keras.callbacks.History at 0x7f4d10243370>"
      ]
     },
     "execution_count": 12,
     "metadata": {},
     "output_type": "execute_result"
    }
   ],
   "source": [
    "#collapse_output\n",
    "tf.random.set_seed(43052)\n",
    "net_cnn = tf.keras.Sequential()\n",
    "net_cnn.add(tf.keras.layers.Convolution2D(30,(5,5),activation='relu'))\n",
    "net_cnn.add(tf.keras.layers.MaxPool2D())\n",
    "net_cnn.add(tf.keras.layers.Convolution2D(30,(5,5),activation='relu'))\n",
    "net_cnn.add(tf.keras.layers.MaxPool2D())\n",
    "net_cnn.add(tf.keras.layers.Flatten())\n",
    "net_cnn.add(tf.keras.layers.Dense(10,activation='softmax'))\n",
    "net_cnn.compile(optimizer='adam',loss=tf.losses.categorical_crossentropy,metrics=['accuracy']) \n",
    "net_cnn.fit(_X,y,epochs=20,batch_size=1200) "
   ]
  },
  {
   "cell_type": "code",
   "execution_count": 13,
   "id": "8f043ad2-746a-4153-a792-c777c52a7a51",
   "metadata": {},
   "outputs": [
    {
     "name": "stdout",
     "output_type": "stream",
     "text": [
      "313/313 [==============================] - 0s 999us/step - loss: 0.3915 - accuracy: 0.8639\n"
     ]
    },
    {
     "data": {
      "text/plain": [
       "[0.3914777934551239, 0.8639000058174133]"
      ]
     },
     "execution_count": 13,
     "metadata": {},
     "output_type": "execute_result"
    }
   ],
   "source": [
    "net_cnn.evaluate(_XX,yy)"
   ]
  },
  {
   "cell_type": "markdown",
   "id": "284f06de-5a82-47f5-a57e-457287f4f8d7",
   "metadata": {},
   "source": [
    "`-` 시도1,2,3 비교"
   ]
  },
  {
   "cell_type": "code",
   "execution_count": 14,
   "id": "dab9e323-56bf-4783-afb9-c6b4a905be87",
   "metadata": {},
   "outputs": [
    {
     "name": "stdout",
     "output_type": "stream",
     "text": [
      "Model: \"sequential\"\n",
      "_________________________________________________________________\n",
      " Layer (type)                Output Shape              Param #   \n",
      "=================================================================\n",
      " dense (Dense)               (None, 30)                23550     \n",
      "                                                                 \n",
      " dense_1 (Dense)             (None, 10)                310       \n",
      "                                                                 \n",
      "=================================================================\n",
      "Total params: 23,860\n",
      "Trainable params: 23,860\n",
      "Non-trainable params: 0\n",
      "_________________________________________________________________\n"
     ]
    }
   ],
   "source": [
    "net.summary()"
   ]
  },
  {
   "cell_type": "code",
   "execution_count": 15,
   "id": "fb74476f-d817-4951-b189-2136f8c3f3f9",
   "metadata": {},
   "outputs": [
    {
     "name": "stdout",
     "output_type": "stream",
     "text": [
      "Model: \"sequential_1\"\n",
      "_________________________________________________________________\n",
      " Layer (type)                Output Shape              Param #   \n",
      "=================================================================\n",
      " dense_2 (Dense)             (None, 500)               392500    \n",
      "                                                                 \n",
      " dense_3 (Dense)             (None, 500)               250500    \n",
      "                                                                 \n",
      " dense_4 (Dense)             (None, 500)               250500    \n",
      "                                                                 \n",
      " dense_5 (Dense)             (None, 10)                5010      \n",
      "                                                                 \n",
      "=================================================================\n",
      "Total params: 898,510\n",
      "Trainable params: 898,510\n",
      "Non-trainable params: 0\n",
      "_________________________________________________________________\n"
     ]
    }
   ],
   "source": [
    "net_dnn.summary()"
   ]
  },
  {
   "cell_type": "code",
   "execution_count": 16,
   "id": "a94d02a0-ef99-4790-81dc-cdc09451e4a0",
   "metadata": {},
   "outputs": [
    {
     "name": "stdout",
     "output_type": "stream",
     "text": [
      "Model: \"sequential_2\"\n",
      "_________________________________________________________________\n",
      " Layer (type)                Output Shape              Param #   \n",
      "=================================================================\n",
      " conv2d (Conv2D)             (None, 24, 24, 30)        780       \n",
      "                                                                 \n",
      " max_pooling2d (MaxPooling2D  (None, 12, 12, 30)       0         \n",
      " )                                                               \n",
      "                                                                 \n",
      " conv2d_1 (Conv2D)           (None, 8, 8, 30)          22530     \n",
      "                                                                 \n",
      " max_pooling2d_1 (MaxPooling  (None, 4, 4, 30)         0         \n",
      " 2D)                                                             \n",
      "                                                                 \n",
      " flatten (Flatten)           (None, 480)               0         \n",
      "                                                                 \n",
      " dense_6 (Dense)             (None, 10)                4810      \n",
      "                                                                 \n",
      "=================================================================\n",
      "Total params: 28,120\n",
      "Trainable params: 28,120\n",
      "Non-trainable params: 0\n",
      "_________________________________________________________________\n"
     ]
    }
   ],
   "source": [
    "net_cnn.summary()"
   ]
  }
 ],
 "metadata": {
  "kernelspec": {
   "display_name": "Python 3",
   "language": "python",
   "name": "python3"
  },
  "language_info": {
   "codemirror_mode": {
    "name": "ipython",
    "version": 3
   },
   "file_extension": ".py",
   "mimetype": "text/x-python",
   "name": "python",
   "nbconvert_exporter": "python",
   "pygments_lexer": "ipython3",
   "version": "3.9.12"
  }
 },
 "nbformat": 4,
 "nbformat_minor": 5
}
