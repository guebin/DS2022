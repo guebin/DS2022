{
 "cells": [
  {
   "cell_type": "markdown",
   "id": "97beba88-9ac2-42a0-9650-047c21030bfb",
   "metadata": {},
   "source": [
    "# (10주차) 5월4일 -- draft\n",
    "\n",
    "- toc:true\n",
    "- branch: master\n",
    "- badges: true\n",
    "- comments: true\n",
    "- author: 최규빈"
   ]
  },
  {
   "cell_type": "code",
   "execution_count": 1,
   "id": "1edd3beb-83e4-4b0c-b983-af9088934041",
   "metadata": {},
   "outputs": [],
   "source": [
    "import tensorflow as tf\n",
    "import matplotlib.pyplot as plt\n",
    "import numpy as np\n",
    "import tensorflow.experimental.numpy as tnp"
   ]
  },
  {
   "cell_type": "code",
   "execution_count": 2,
   "id": "e61bdf67-7ab5-4547-9543-866f90e35352",
   "metadata": {},
   "outputs": [
    {
     "data": {
      "text/plain": [
       "[PhysicalDevice(name='/physical_device:CPU:0', device_type='CPU')]"
      ]
     },
     "execution_count": 2,
     "metadata": {},
     "output_type": "execute_result"
    }
   ],
   "source": [
    "tf.config.experimental.list_physical_devices()"
   ]
  },
  {
   "cell_type": "code",
   "execution_count": 3,
   "id": "a9ce7f36-1c67-4073-b199-1f3de7575778",
   "metadata": {},
   "outputs": [],
   "source": [
    "import graphviz\n",
    "def gv(s): return graphviz.Source('digraph G{ rankdir=\"LR\"'+ s + ';}')"
   ]
  },
  {
   "cell_type": "markdown",
   "id": "286672c2-7f0e-4f36-91b0-38d32f5eed2d",
   "metadata": {},
   "source": [
    "### 로지스틱 복습 "
   ]
  },
  {
   "cell_type": "markdown",
   "id": "97e376a7-e3d3-47b3-98f7-48805fc721f6",
   "metadata": {},
   "source": [
    "`-` "
   ]
  },
  {
   "cell_type": "markdown",
   "id": "52882ef8-0b4f-4dea-9aff-f29b07569677",
   "metadata": {},
   "source": [
    "$y_i \\propto w_0 + w_1 x_{1,i} + \\dots + w_{784}x_{784,i} $"
   ]
  },
  {
   "cell_type": "markdown",
   "id": "ba4cc4ac-550d-437f-935f-bb346648c519",
   "metadata": {},
   "source": [
    "$y_i \\approx \\text{sigmoid}(w_0 + w_1 x_{1,i} + \\dots + w_{784}x_{784,i})= \\frac{\\exp(w_0 + w_1 x_{1,i} + \\dots + w_{784}x_{784,i})}{1+\\exp(w_0 + w_1 x_{1,i} + \\dots + w_{784}x_{784,i})} $"
   ]
  },
  {
   "cell_type": "markdown",
   "id": "46df0568-2a7a-4ffc-a321-b56871b3aff4",
   "metadata": {},
   "source": [
    "`-` "
   ]
  },
  {
   "cell_type": "markdown",
   "id": "e444e262-0249-458b-95dc-eb620a0e9457",
   "metadata": {},
   "source": [
    "${\\boldsymbol y} \\propto {\\bf X}{\\bf W} + {\\boldsymbol b}$ \n",
    "\n",
    "- ${\\bf X}$: (n,784) matrix \n",
    "- ${\\boldsymbol y}$: (n,1) matrix\n",
    "- ${\\bf W}$: (784,1) matrix"
   ]
  },
  {
   "cell_type": "markdown",
   "id": "ff03706a-1b5c-4a29-8425-4c5010d3e163",
   "metadata": {},
   "source": [
    "${\\boldsymbol y} \\approx \\text{sigmoid}({\\bf X}{\\bf W} + {\\boldsymbol b}) = \\frac{\\exp(\\bf XW +b)}{1+\\exp(\\bf XW +b)}$ "
   ]
  },
  {
   "cell_type": "markdown",
   "id": "9771d5f8-a605-4ed4-b9bc-a5700fa1cf38",
   "metadata": {},
   "source": [
    "`-` $y$를 설명하는 본질: ${\\bf X}{\\bf W}+ \\boldsymbol{b}$"
   ]
  },
  {
   "cell_type": "markdown",
   "id": "8a59d465-5ea0-4443-b6b8-04a87a23c305",
   "metadata": {},
   "source": [
    "### 로지스틱의 모형 (2) "
   ]
  },
  {
   "cell_type": "markdown",
   "id": "70b1e4f3-7493-470a-9146-10ad946bd877",
   "metadata": {},
   "source": [
    "`-` 또 다른 모형 "
   ]
  },
  {
   "cell_type": "markdown",
   "id": "b24f01de-a7b7-4db5-bf35-4f0ef13bf02e",
   "metadata": {},
   "source": [
    "${\\bf Y} \\propto {\\bf X}{\\bf W} + {\\boldsymbol b}$ \n",
    "\n",
    "- ${\\bf X}$: (n,784) matrix \n",
    "- ${\\bf Y}$: (n,2) matrix\n",
    "- ${\\bf W}$: (784,2) matrix"
   ]
  },
  {
   "cell_type": "markdown",
   "id": "453b35b5-ceab-45f0-9924-1e20b9158995",
   "metadata": {},
   "source": [
    "$[{\\boldsymbol y}_1 ~ {\\boldsymbol y}_2] \\propto  {\\bf X} [{\\bf W}_1 {\\bf W}_2] + \\boldsymbol{b}$ "
   ]
  },
  {
   "cell_type": "code",
   "execution_count": null,
   "id": "4cc38f5d-2cae-427d-8841-2052868db62b",
   "metadata": {},
   "outputs": [],
   "source": []
  },
  {
   "cell_type": "markdown",
   "id": "41669116-278d-4dd6-a25b-1fed1949c457",
   "metadata": {},
   "source": [
    "${\\boldsymbol y} \\approx \\text{sigmoid}({\\bf X}{\\bf W} + {\\boldsymbol b})$ "
   ]
  },
  {
   "cell_type": "code",
   "execution_count": null,
   "id": "8c80cab4-7d70-4026-9d85-048e09a6512c",
   "metadata": {},
   "outputs": [],
   "source": []
  },
  {
   "cell_type": "code",
   "execution_count": null,
   "id": "5eff12c5-247d-4c16-88f5-b518ada6ba8a",
   "metadata": {},
   "outputs": [],
   "source": []
  },
  {
   "cell_type": "code",
   "execution_count": null,
   "id": "944df0a6-176a-4b08-9817-de076313b594",
   "metadata": {},
   "outputs": [],
   "source": []
  },
  {
   "cell_type": "code",
   "execution_count": null,
   "id": "6f499a7a-af41-4623-a8bd-cbc58a3a70c5",
   "metadata": {},
   "outputs": [],
   "source": []
  },
  {
   "cell_type": "code",
   "execution_count": null,
   "id": "fb5ce524-cd94-44d1-a425-254a1648c3fb",
   "metadata": {},
   "outputs": [],
   "source": []
  }
 ],
 "metadata": {
  "kernelspec": {
   "display_name": "Python 3",
   "language": "python",
   "name": "python3"
  },
  "language_info": {
   "codemirror_mode": {
    "name": "ipython",
    "version": 3
   },
   "file_extension": ".py",
   "mimetype": "text/x-python",
   "name": "python",
   "nbconvert_exporter": "python",
   "pygments_lexer": "ipython3",
   "version": "3.9.12"
  }
 },
 "nbformat": 4,
 "nbformat_minor": 5
}
