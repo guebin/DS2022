{
 "cells": [
  {
   "cell_type": "markdown",
   "id": "97beba88-9ac2-42a0-9650-047c21030bfb",
   "metadata": {},
   "source": [
    "# (10주차) 5월4일\n",
    "\n",
    "- toc:true\n",
    "- branch: master\n",
    "- badges: true\n",
    "- comments: true\n",
    "- author: 최규빈"
   ]
  },
  {
   "cell_type": "code",
   "execution_count": 1,
   "id": "1edd3beb-83e4-4b0c-b983-af9088934041",
   "metadata": {},
   "outputs": [],
   "source": [
    "import tensorflow as tf\n",
    "import matplotlib.pyplot as plt\n",
    "import numpy as np\n",
    "import tensorflow.experimental.numpy as tnp"
   ]
  },
  {
   "cell_type": "code",
   "execution_count": 2,
   "id": "e61bdf67-7ab5-4547-9543-866f90e35352",
   "metadata": {},
   "outputs": [
    {
     "name": "stderr",
     "output_type": "stream",
     "text": [
      "2022-05-06 10:37:51.868820: I tensorflow/stream_executor/cuda/cuda_gpu_executor.cc:939] successful NUMA node read from SysFS had negative value (-1), but there must be at least one NUMA node, so returning NUMA node zero\n"
     ]
    },
    {
     "data": {
      "text/plain": [
       "[PhysicalDevice(name='/physical_device:CPU:0', device_type='CPU'),\n",
       " PhysicalDevice(name='/physical_device:GPU:0', device_type='GPU')]"
      ]
     },
     "execution_count": 2,
     "metadata": {},
     "output_type": "execute_result"
    }
   ],
   "source": [
    "tf.config.experimental.list_physical_devices()"
   ]
  },
  {
   "cell_type": "code",
   "execution_count": 3,
   "id": "a9ce7f36-1c67-4073-b199-1f3de7575778",
   "metadata": {},
   "outputs": [],
   "source": [
    "import graphviz\n",
    "def gv(s): return graphviz.Source('digraph G{ rankdir=\"LR\"'+ s + ';}')"
   ]
  },
  {
   "cell_type": "markdown",
   "id": "286672c2-7f0e-4f36-91b0-38d32f5eed2d",
   "metadata": {},
   "source": [
    "### 로지스틱 모형 (1): 활성화함수로 sigmoid 선택"
   ]
  },
  {
   "cell_type": "markdown",
   "id": "a7374371-bce1-4524-904b-333aeb0df3ab",
   "metadata": {},
   "source": [
    "`-` 기본버전은 아래와 같다 "
   ]
  },
  {
   "cell_type": "markdown",
   "id": "102f5a26-ebdd-47b1-8034-8d527756a242",
   "metadata": {},
   "source": [
    "$$y_i \\approx \\text{sigmoid}(b + w_1 x_{1,i} + \\dots + w_{784}x_{784,i})= \\frac{\\exp(b + w_1 x_{1,i} + \\dots + w_{784}x_{784,i})}{1+\\exp(b + w_1 x_{1,i} + \\dots + w_{784}x_{784,i})}$$"
   ]
  },
  {
   "cell_type": "markdown",
   "id": "46df0568-2a7a-4ffc-a321-b56871b3aff4",
   "metadata": {},
   "source": [
    "`-` 벡터버전은 아래와 같다. "
   ]
  },
  {
   "cell_type": "markdown",
   "id": "d56be9d3-f1b4-419a-bf77-d478f5feac0f",
   "metadata": {},
   "source": [
    "$${\\boldsymbol y} \\approx \\text{sigmoid}({\\bf X}{\\bf W} + b) = \\frac{\\exp({\\bf XW} +b)}{1+\\exp({\\bf XW} +b)}$$ "
   ]
  },
  {
   "cell_type": "markdown",
   "id": "054767b6-1053-495a-bd5d-3315b7f4bcb2",
   "metadata": {},
   "source": [
    "`-` 벡터버전에 익숙해지도록 하자. 벡터버전에 사용된 차원 및 연산을 정리하면 아래와 같다. \n",
    "\n",
    "- ${\\bf X}$: (n,784) matrix \n",
    "\n",
    "- ${\\boldsymbol y}$: (n,1) matrix\n",
    "\n",
    "- ${\\bf W}$: (784,1) matrix\n",
    "\n",
    "- $b$: (1,1) matrix\n",
    "\n",
    "- `+`, `exp` 는 브로드캐스팅"
   ]
  },
  {
   "cell_type": "markdown",
   "id": "8903e561-1357-4e81-8b33-b69602a41ee2",
   "metadata": {},
   "source": [
    "### 로지스틱 모형 (2): 활성화함수로 softmax 선택"
   ]
  },
  {
   "cell_type": "markdown",
   "id": "70b1e4f3-7493-470a-9146-10ad946bd877",
   "metadata": {},
   "source": [
    "`-` $y_i=0 \\text{ or } 1$ 대신에 $\\boldsymbol{y}_i=[y_{i1},y_{i2}]= [1,0] \\text { or } [0,1]$와 같이 코딩하면 어떠할까? (즉 원핫인코딩을 한다면?) "
   ]
  },
  {
   "cell_type": "markdown",
   "id": "c8b05046-505d-4b93-8ef2-d023abf4ae49",
   "metadata": {},
   "source": [
    "`-` 활성화 함수를 취하기 전의 버전은 아래와 같이 볼 수 있다. \n",
    "\n",
    "$$[{\\boldsymbol y}_1 ~ {\\boldsymbol y}_2] \\propto  [ {\\bf X}{\\bf W}_1  ~ {\\bf X}{\\bf W}_2] + [b_1 ~ b_2]= {\\bf X} [{\\bf W}_1 {\\bf W}_2] + [b_1 ~ b_2]= {\\bf X}{\\bf W} + {\\boldsymbol b}$$\n",
    "    \n",
    "여기에서 매트릭스 및 연산의 차원을 정리하면 아래와 같다. \n",
    "\n",
    "- ${\\bf X}$: (n,784) matrix \n",
    "\n",
    "- ${\\boldsymbol y}_1,{\\boldsymbol y}_2$: (n,1) matrix\n",
    "\n",
    "- ${\\boldsymbol y}:=[{\\boldsymbol y}_1~ {\\boldsymbol y}_2]$: (n,2) matrix\n",
    "\n",
    "- ${\\bf W}_1$, ${\\bf W}_2$: (784,1) matrix\n",
    "\n",
    "- ${\\bf W}:=[{\\bf W}_1~ {\\bf W}_2]$: (784,2) matrix\n",
    "\n",
    "- $b_1,b_2$: (1,1) matrix\n",
    "\n",
    "- $\\boldsymbol{b}:= [b_1 ~b_2] $: (1,2) matrix\n",
    "\n",
    "- `+` 는 브로드캐스팅\n",
    "\n"
   ]
  },
  {
   "cell_type": "markdown",
   "id": "e7cfddf1-c94a-40d0-b2d5-0a4cbb609e30",
   "metadata": {},
   "source": [
    "`-` 즉 로지스틱 모형 (1)의 형태를 겹쳐놓은 형태로 해석할 수 있음. 따라서 ${\\bf X} {\\bf W}_1 + b_1$와 ${\\bf X} {\\bf W}_2 + b_2$의 row값이 클수록 ${\\boldsymbol y}_1$와 ${\\boldsymbol y}_2$의 row값이 1이어야 함 \n",
    "\n",
    "- ${\\boldsymbol y}_1 \\propto  {\\bf X} {\\bf W}_1 + b_1$ $\\to$ ${\\bf X} {\\bf W}_1 + b_1$의 row값이 클수록 $\\boldsymbol{y}_1$의 row 값이 1이라면 모형계수를 잘 추정한것 \n",
    "- ${\\boldsymbol y}_2 \\propto  {\\bf X} {\\bf W}_2 + b_2$ $\\to$ ${\\bf X} {\\bf W}_2 + b_2$의 row값이 클수록 $\\boldsymbol{y}_2$의 row 값을 1이라면 모형계수를 잘 추정한것\n"
   ]
  },
  {
   "cell_type": "markdown",
   "id": "423a3c13-ab35-4aad-af83-63961ba83608",
   "metadata": {},
   "source": [
    "`-` (문제) ${\\bf X}{\\bf W}_1 +b_1$의 값이 500, ${\\bf X}{\\bf W}_2 +b_2$의 값이 200 인 row가 있다고 하자. 대응하는 $\\boldsymbol{y}_1, \\boldsymbol{y}_2$의 row값은 얼마로 적합되어야 하는가? \n",
    "\n",
    "(1) $[0,0]$\n",
    "\n",
    "(2) $[0,1]$\n",
    "\n",
    "(3) $[1,0]$ <-- 이게 답이다!\n",
    "\n",
    "(4) $[1,1]$"
   ]
  },
  {
   "cell_type": "markdown",
   "id": "b4e2ab82-70c4-48c0-9f41-0d83709d3207",
   "metadata": {},
   "source": [
    "> note: 둘다 0 혹은 둘다 1로 적합할수는 없으니까 (1), (4)는 제외한다. ${\\bf X}{\\bf W}_1 +b_1$의 값이 ${\\bf X}{\\bf W}_2 +b_2$의 값보다 크므로 (3)번이 합리적임 "
   ]
  },
  {
   "cell_type": "markdown",
   "id": "8d7975f7-60ef-4be1-8bf1-22c59c923c90",
   "metadata": {},
   "source": [
    "`-` **목표:** 위와 같은 문제의 답을 유도해주는 활성화함수를 설계하자. 즉 합리적인 $\\hat{\\boldsymbol{y}}_1,\\hat{\\boldsymbol{y}}_2$를 구해주는 활성화 함수를 설계해보자. 이를 위해서는 아래의 사항들이 충족되어야 한다. \n",
    "\n",
    "(1) $\\hat{\\boldsymbol{y}}_1+\\hat{\\boldsymbol{y}}_2={\\bf 1}$ 이어야 한다. (확률의 총합은 1이니까!)\n",
    "\n",
    "(2) $\\hat{\\boldsymbol{y}}_1$와 $\\hat{\\boldsymbol{y}}_2$를 각각 따로해석하면 로지스틱처럼 되면 좋겠다. "
   ]
  },
  {
   "cell_type": "markdown",
   "id": "e0fb187f-3ad4-47e1-a427-14564f522110",
   "metadata": {},
   "source": [
    "`-` 아래와 같은 활성화 함수를 도입하면 어떨까? "
   ]
  },
  {
   "cell_type": "markdown",
   "id": "57112571-e57c-4472-b240-d58f572813fa",
   "metadata": {},
   "source": [
    "$[\\hat{{\\boldsymbol y}}_1 ~ \\hat{{\\boldsymbol y}}_2] = \\big[ \\frac{\\exp({\\bf X}\\hat{{\\bf W}}_1+\\hat{b}_1)}{\\exp({\\bf X}\\hat{{\\bf W}}_1+\\hat{b}_1)+\\exp({\\bf X}\\hat{{\\bf W}}_2+\\hat{b}_2)}  ~~ \\frac{\\exp({\\bf X}\\hat{{\\bf W}}_2+\\hat{b}_2)}{\\exp({\\bf X}\\hat{{\\bf W}}_1+\\hat{b}_1)+\\exp({\\bf X}\\hat{{\\bf W}}_2+\\hat{b}_2)}  \\big] $ "
   ]
  },
  {
   "cell_type": "markdown",
   "id": "41669116-278d-4dd6-a25b-1fed1949c457",
   "metadata": {},
   "source": [
    "${\\boldsymbol y} \\approx \\text{softmax}({\\bf X}{\\bf W} + {\\boldsymbol b})$ "
   ]
  },
  {
   "cell_type": "markdown",
   "id": "fe0ee939-65ff-4a6d-b993-17b7f9fb151a",
   "metadata": {},
   "source": [
    "### 모형의 비교"
   ]
  },
  {
   "cell_type": "markdown",
   "id": "472e477f-1e23-4eb5-bce5-d351af1cacd8",
   "metadata": {},
   "source": [
    "`-` 수식장난 \n",
    "$$\\frac{\\exp(\\beta_0+\\beta_1 x_i)}{1+\\exp(\\beta_0+\\beta_1x_i)}=\\frac{\\exp(\\beta_0+\\beta_1 x_i)}{e^0+exp(\\beta_0+\\beta_1x_i)}$$"
   ]
  },
  {
   "cell_type": "markdown",
   "id": "4436ea56-c16b-4511-ba7f-4d06da30783f",
   "metadata": {},
   "source": [
    "`-` 통찰 \n",
    "- 모형2: ${\\bf X}{\\bf W}_1 +b_1$ 와 ${\\bf X}{\\bf W}_2 +b_2$ 의 크기를 비교하고 확률 결정\n",
    "- 모형1: ${\\bf X}{\\bf W} +b$와 $0$의 크기를 비교하고 확률 결정 (${\\bf X}{\\bf W} +b$의 row값이 양수이면 1로 예측하고 음수이면 0으로 예측 "
   ]
  },
  {
   "cell_type": "markdown",
   "id": "97c4bf48-b5c2-4775-9827-bb16632323b2",
   "metadata": {},
   "source": [
    "`-` 파라메터의 수 "
   ]
  },
  {
   "cell_type": "markdown",
   "id": "b3d096cb-6cce-480e-83d4-ed31cd80d90b",
   "metadata": {},
   "source": [
    "`-` 표현력"
   ]
  },
  {
   "cell_type": "markdown",
   "id": "7577cb65-71b0-45f2-ae0f-c4814990c523",
   "metadata": {},
   "source": [
    "- note: $\\big(\\frac{e^{300}}{e^{300}+e^{500}},\\frac{e^{500}}{e^{300}+e^{500}}\\big) =\\big( \\frac{e^{0}}{e^{0}+e^{200}}, \\frac{e^{200}}{e^{0}+e^{200}}\\big)$"
   ]
  },
  {
   "cell_type": "markdown",
   "id": "838b8158-e356-4730-9213-d1ba0d745b49",
   "metadata": {},
   "source": [
    "`-` 확장성 "
   ]
  },
  {
   "cell_type": "markdown",
   "id": "39f74052-5108-47ed-a0df-92a304eab7a4",
   "metadata": {},
   "source": [
    "### 분류할 클래스가 3개 이상일 경우 신경망 모형의 설계 "
   ]
  },
  {
   "cell_type": "markdown",
   "id": "8b9f1d0e-f7c5-467c-83c8-3c4ea48c781a",
   "metadata": {},
   "source": [
    "`-` y의 모양: [0 1 0 0 0 ] "
   ]
  },
  {
   "cell_type": "markdown",
   "id": "4c47baef-ec59-40fb-82b9-243def01a1cc",
   "metadata": {},
   "source": [
    "`-` 활성화함수의 선택: softmax "
   ]
  },
  {
   "cell_type": "markdown",
   "id": "5ad22ed8-d048-49d6-aa2e-9e128e016a8f",
   "metadata": {},
   "source": [
    "`-` 손실함수의 선택: cross entropy"
   ]
  },
  {
   "cell_type": "markdown",
   "id": "2617c64a-af9c-4611-98d1-930d80bcd02e",
   "metadata": {},
   "source": [
    "### Fashion_MNIST 다중분류 "
   ]
  },
  {
   "cell_type": "markdown",
   "id": "0b5948cc-79e9-4e50-bffd-ebbffe97218e",
   "metadata": {},
   "source": [
    "`-` 시도1"
   ]
  },
  {
   "cell_type": "code",
   "execution_count": 9,
   "id": "a1b48353-a3ea-483e-9f87-f83e37e3b252",
   "metadata": {},
   "outputs": [
    {
     "data": {
      "image/svg+xml": [
       "<?xml version=\"1.0\" encoding=\"UTF-8\" standalone=\"no\"?>\n",
       "<!DOCTYPE svg PUBLIC \"-//W3C//DTD SVG 1.1//EN\"\n",
       " \"http://www.w3.org/Graphics/SVG/1.1/DTD/svg11.dtd\">\n",
       "<!-- Generated by graphviz version 3.0.0 (20220315.2325)\n",
       " -->\n",
       "<!-- Title: G Pages: 1 -->\n",
       "<svg width=\"384pt\" height=\"261pt\"\n",
       " viewBox=\"0.00 0.00 384.18 261.00\" xmlns=\"http://www.w3.org/2000/svg\" xmlns:xlink=\"http://www.w3.org/1999/xlink\">\n",
       "<g id=\"graph0\" class=\"graph\" transform=\"scale(1 1) rotate(0) translate(4 257)\">\n",
       "<title>G</title>\n",
       "<polygon fill=\"white\" stroke=\"transparent\" points=\"-4,4 -4,-257 380.18,-257 380.18,4 -4,4\"/>\n",
       "<g id=\"clust1\" class=\"cluster\">\n",
       "<title>cluster_1</title>\n",
       "<polygon fill=\"lightgrey\" stroke=\"lightgrey\" points=\"8,-8 8,-245 91.59,-245 91.59,-8 8,-8\"/>\n",
       "<text text-anchor=\"middle\" x=\"49.8\" y=\"-229.8\" font-family=\"Times,serif\" font-size=\"14.00\">Layer 0</text>\n",
       "</g>\n",
       "<g id=\"clust2\" class=\"cluster\">\n",
       "<title>cluster_2</title>\n",
       "<polygon fill=\"lightgrey\" stroke=\"lightgrey\" points=\"111.59,-8 111.59,-245 219.29,-245 219.29,-8 111.59,-8\"/>\n",
       "<text text-anchor=\"middle\" x=\"165.44\" y=\"-229.8\" font-family=\"Times,serif\" font-size=\"14.00\">Layer 1: relu</text>\n",
       "</g>\n",
       "<g id=\"clust3\" class=\"cluster\">\n",
       "<title>cluster_3</title>\n",
       "<polygon fill=\"lightgrey\" stroke=\"lightgrey\" points=\"239.29,-35 239.29,-218 376.18,-218 376.18,-35 239.29,-35\"/>\n",
       "<text text-anchor=\"middle\" x=\"307.73\" y=\"-202.8\" font-family=\"Times,serif\" font-size=\"14.00\">Layer 2: softmax</text>\n",
       "</g>\n",
       "<!-- x1 -->\n",
       "<g id=\"node1\" class=\"node\">\n",
       "<title>x1</title>\n",
       "<ellipse fill=\"none\" stroke=\"black\" cx=\"49.8\" cy=\"-196\" rx=\"27\" ry=\"18\"/>\n",
       "<text text-anchor=\"middle\" x=\"49.8\" y=\"-192.3\" font-family=\"Times,serif\" font-size=\"14.00\">x1</text>\n",
       "</g>\n",
       "<!-- node1 -->\n",
       "<g id=\"node5\" class=\"node\">\n",
       "<title>node1</title>\n",
       "<ellipse fill=\"none\" stroke=\"black\" cx=\"165.44\" cy=\"-196\" rx=\"38.99\" ry=\"18\"/>\n",
       "<text text-anchor=\"middle\" x=\"165.44\" y=\"-192.3\" font-family=\"Times,serif\" font-size=\"14.00\">node1</text>\n",
       "</g>\n",
       "<!-- x1&#45;&gt;node1 -->\n",
       "<g id=\"edge1\" class=\"edge\">\n",
       "<title>x1&#45;&gt;node1</title>\n",
       "<path fill=\"none\" stroke=\"black\" d=\"M76.87,-196C88.57,-196 102.75,-196 116.27,-196\"/>\n",
       "<polygon fill=\"black\" stroke=\"black\" points=\"116.42,-199.5 126.42,-196 116.42,-192.5 116.42,-199.5\"/>\n",
       "</g>\n",
       "<!-- node2 -->\n",
       "<g id=\"node6\" class=\"node\">\n",
       "<title>node2</title>\n",
       "<ellipse fill=\"none\" stroke=\"black\" cx=\"165.44\" cy=\"-142\" rx=\"38.99\" ry=\"18\"/>\n",
       "<text text-anchor=\"middle\" x=\"165.44\" y=\"-138.3\" font-family=\"Times,serif\" font-size=\"14.00\">node2</text>\n",
       "</g>\n",
       "<!-- x1&#45;&gt;node2 -->\n",
       "<g id=\"edge5\" class=\"edge\">\n",
       "<title>x1&#45;&gt;node2</title>\n",
       "<path fill=\"none\" stroke=\"black\" d=\"M72.17,-185.84C88.01,-178.32 109.97,-167.88 128.5,-159.08\"/>\n",
       "<polygon fill=\"black\" stroke=\"black\" points=\"130.01,-162.23 137.54,-154.78 127.01,-155.91 130.01,-162.23\"/>\n",
       "</g>\n",
       "<!-- ... -->\n",
       "<g id=\"node7\" class=\"node\">\n",
       "<title>...</title>\n",
       "<ellipse fill=\"none\" stroke=\"black\" cx=\"165.44\" cy=\"-88\" rx=\"27\" ry=\"18\"/>\n",
       "<text text-anchor=\"middle\" x=\"165.44\" y=\"-84.3\" font-family=\"Times,serif\" font-size=\"14.00\">...</text>\n",
       "</g>\n",
       "<!-- x1&#45;&gt;... -->\n",
       "<g id=\"edge9\" class=\"edge\">\n",
       "<title>x1&#45;&gt;...</title>\n",
       "<path fill=\"none\" stroke=\"black\" d=\"M66.12,-181.43C85.53,-163 119.12,-131.07 141.56,-109.74\"/>\n",
       "<polygon fill=\"black\" stroke=\"black\" points=\"144.16,-112.11 148.99,-102.68 139.33,-107.03 144.16,-112.11\"/>\n",
       "</g>\n",
       "<!-- node30 -->\n",
       "<g id=\"node8\" class=\"node\">\n",
       "<title>node30</title>\n",
       "<ellipse fill=\"none\" stroke=\"black\" cx=\"165.44\" cy=\"-34\" rx=\"44.69\" ry=\"18\"/>\n",
       "<text text-anchor=\"middle\" x=\"165.44\" y=\"-30.3\" font-family=\"Times,serif\" font-size=\"14.00\">node30</text>\n",
       "</g>\n",
       "<!-- x1&#45;&gt;node30 -->\n",
       "<g id=\"edge13\" class=\"edge\">\n",
       "<title>x1&#45;&gt;node30</title>\n",
       "<path fill=\"none\" stroke=\"black\" d=\"M62.11,-179.87C81.8,-151.81 122.52,-93.76 146.23,-59.97\"/>\n",
       "<polygon fill=\"black\" stroke=\"black\" points=\"149.27,-61.72 152.15,-51.52 143.54,-57.7 149.27,-61.72\"/>\n",
       "</g>\n",
       "<!-- x2 -->\n",
       "<g id=\"node2\" class=\"node\">\n",
       "<title>x2</title>\n",
       "<ellipse fill=\"none\" stroke=\"black\" cx=\"49.8\" cy=\"-142\" rx=\"27\" ry=\"18\"/>\n",
       "<text text-anchor=\"middle\" x=\"49.8\" y=\"-138.3\" font-family=\"Times,serif\" font-size=\"14.00\">x2</text>\n",
       "</g>\n",
       "<!-- x2&#45;&gt;node1 -->\n",
       "<g id=\"edge2\" class=\"edge\">\n",
       "<title>x2&#45;&gt;node1</title>\n",
       "<path fill=\"none\" stroke=\"black\" d=\"M72.17,-152.16C88.01,-159.68 109.97,-170.12 128.5,-178.92\"/>\n",
       "<polygon fill=\"black\" stroke=\"black\" points=\"127.01,-182.09 137.54,-183.22 130.01,-175.77 127.01,-182.09\"/>\n",
       "</g>\n",
       "<!-- x2&#45;&gt;node2 -->\n",
       "<g id=\"edge6\" class=\"edge\">\n",
       "<title>x2&#45;&gt;node2</title>\n",
       "<path fill=\"none\" stroke=\"black\" d=\"M76.87,-142C88.57,-142 102.75,-142 116.27,-142\"/>\n",
       "<polygon fill=\"black\" stroke=\"black\" points=\"116.42,-145.5 126.42,-142 116.42,-138.5 116.42,-145.5\"/>\n",
       "</g>\n",
       "<!-- x2&#45;&gt;... -->\n",
       "<g id=\"edge10\" class=\"edge\">\n",
       "<title>x2&#45;&gt;...</title>\n",
       "<path fill=\"none\" stroke=\"black\" d=\"M72.17,-131.84C89.52,-123.6 114.21,-111.87 133.69,-102.61\"/>\n",
       "<polygon fill=\"black\" stroke=\"black\" points=\"135.24,-105.75 142.77,-98.3 132.24,-99.43 135.24,-105.75\"/>\n",
       "</g>\n",
       "<!-- x2&#45;&gt;node30 -->\n",
       "<g id=\"edge14\" class=\"edge\">\n",
       "<title>x2&#45;&gt;node30</title>\n",
       "<path fill=\"none\" stroke=\"black\" d=\"M66.12,-127.43C84.98,-109.51 117.25,-78.84 139.66,-57.55\"/>\n",
       "<polygon fill=\"black\" stroke=\"black\" points=\"142.29,-59.88 147.13,-50.45 137.47,-54.8 142.29,-59.88\"/>\n",
       "</g>\n",
       "<!-- .. -->\n",
       "<g id=\"node3\" class=\"node\">\n",
       "<title>..</title>\n",
       "<ellipse fill=\"none\" stroke=\"black\" cx=\"49.8\" cy=\"-88\" rx=\"27\" ry=\"18\"/>\n",
       "<text text-anchor=\"middle\" x=\"49.8\" y=\"-84.3\" font-family=\"Times,serif\" font-size=\"14.00\">..</text>\n",
       "</g>\n",
       "<!-- ..&#45;&gt;node1 -->\n",
       "<g id=\"edge3\" class=\"edge\">\n",
       "<title>..&#45;&gt;node1</title>\n",
       "<path fill=\"none\" stroke=\"black\" d=\"M66.12,-102.57C85.09,-120.59 117.63,-151.51 140.04,-172.81\"/>\n",
       "<polygon fill=\"black\" stroke=\"black\" points=\"137.85,-175.56 147.51,-179.91 142.67,-170.48 137.85,-175.56\"/>\n",
       "</g>\n",
       "<!-- ..&#45;&gt;node2 -->\n",
       "<g id=\"edge7\" class=\"edge\">\n",
       "<title>..&#45;&gt;node2</title>\n",
       "<path fill=\"none\" stroke=\"black\" d=\"M72.17,-98.16C88.01,-105.68 109.97,-116.12 128.5,-124.92\"/>\n",
       "<polygon fill=\"black\" stroke=\"black\" points=\"127.01,-128.09 137.54,-129.22 130.01,-121.77 127.01,-128.09\"/>\n",
       "</g>\n",
       "<!-- ..&#45;&gt;... -->\n",
       "<g id=\"edge11\" class=\"edge\">\n",
       "<title>..&#45;&gt;...</title>\n",
       "<path fill=\"none\" stroke=\"black\" d=\"M76.87,-88C91.92,-88 111.09,-88 127.66,-88\"/>\n",
       "<polygon fill=\"black\" stroke=\"black\" points=\"128.1,-91.5 138.1,-88 128.1,-84.5 128.1,-91.5\"/>\n",
       "</g>\n",
       "<!-- ..&#45;&gt;node30 -->\n",
       "<g id=\"edge15\" class=\"edge\">\n",
       "<title>..&#45;&gt;node30</title>\n",
       "<path fill=\"none\" stroke=\"black\" d=\"M72.17,-77.84C87.5,-70.56 108.57,-60.55 126.7,-51.93\"/>\n",
       "<polygon fill=\"black\" stroke=\"black\" points=\"128.33,-55.03 135.86,-47.58 125.33,-48.71 128.33,-55.03\"/>\n",
       "</g>\n",
       "<!-- x784 -->\n",
       "<g id=\"node4\" class=\"node\">\n",
       "<title>x784</title>\n",
       "<ellipse fill=\"none\" stroke=\"black\" cx=\"49.8\" cy=\"-34\" rx=\"33.6\" ry=\"18\"/>\n",
       "<text text-anchor=\"middle\" x=\"49.8\" y=\"-30.3\" font-family=\"Times,serif\" font-size=\"14.00\">x784</text>\n",
       "</g>\n",
       "<!-- x784&#45;&gt;node1 -->\n",
       "<g id=\"edge4\" class=\"edge\">\n",
       "<title>x784&#45;&gt;node1</title>\n",
       "<path fill=\"none\" stroke=\"black\" d=\"M62.53,-50.73C82.42,-79.07 122.87,-136.74 146.38,-170.26\"/>\n",
       "<polygon fill=\"black\" stroke=\"black\" points=\"143.65,-172.46 152.26,-178.63 149.38,-168.44 143.65,-172.46\"/>\n",
       "</g>\n",
       "<!-- x784&#45;&gt;node2 -->\n",
       "<g id=\"edge8\" class=\"edge\">\n",
       "<title>x784&#45;&gt;node2</title>\n",
       "<path fill=\"none\" stroke=\"black\" d=\"M67.08,-49.47C86.18,-67.63 118.05,-97.91 140.09,-118.86\"/>\n",
       "<polygon fill=\"black\" stroke=\"black\" points=\"137.79,-121.5 147.45,-125.85 142.61,-116.42 137.79,-121.5\"/>\n",
       "</g>\n",
       "<!-- x784&#45;&gt;... -->\n",
       "<g id=\"edge12\" class=\"edge\">\n",
       "<title>x784&#45;&gt;...</title>\n",
       "<path fill=\"none\" stroke=\"black\" d=\"M75.46,-45.72C92.58,-53.85 115.51,-64.75 133.8,-73.44\"/>\n",
       "<polygon fill=\"black\" stroke=\"black\" points=\"132.36,-76.63 142.89,-77.76 135.36,-70.31 132.36,-76.63\"/>\n",
       "</g>\n",
       "<!-- x784&#45;&gt;node30 -->\n",
       "<g id=\"edge16\" class=\"edge\">\n",
       "<title>x784&#45;&gt;node30</title>\n",
       "<path fill=\"none\" stroke=\"black\" d=\"M83.67,-34C91.95,-34 101.07,-34 110.11,-34\"/>\n",
       "<polygon fill=\"black\" stroke=\"black\" points=\"110.23,-37.5 120.23,-34 110.23,-30.5 110.23,-37.5\"/>\n",
       "</g>\n",
       "<!-- y10 -->\n",
       "<g id=\"node9\" class=\"node\">\n",
       "<title>y10</title>\n",
       "<ellipse fill=\"none\" stroke=\"black\" cx=\"307.23\" cy=\"-61\" rx=\"27.9\" ry=\"18\"/>\n",
       "<text text-anchor=\"middle\" x=\"307.23\" y=\"-57.3\" font-family=\"Times,serif\" font-size=\"14.00\">y10</text>\n",
       "</g>\n",
       "<!-- node1&#45;&gt;y10 -->\n",
       "<g id=\"edge17\" class=\"edge\">\n",
       "<title>node1&#45;&gt;y10</title>\n",
       "<path fill=\"none\" stroke=\"black\" d=\"M183.3,-179.72C208.39,-155.49 255.6,-109.89 283.65,-82.81\"/>\n",
       "<polygon fill=\"black\" stroke=\"black\" points=\"286.26,-85.16 291.02,-75.69 281.4,-80.12 286.26,-85.16\"/>\n",
       "</g>\n",
       "<!-- y1 -->\n",
       "<g id=\"node10\" class=\"node\">\n",
       "<title>y1</title>\n",
       "<ellipse fill=\"none\" stroke=\"black\" cx=\"307.23\" cy=\"-169\" rx=\"27\" ry=\"18\"/>\n",
       "<text text-anchor=\"middle\" x=\"307.23\" y=\"-165.3\" font-family=\"Times,serif\" font-size=\"14.00\">y1</text>\n",
       "</g>\n",
       "<!-- node1&#45;&gt;y1 -->\n",
       "<g id=\"edge21\" class=\"edge\">\n",
       "<title>node1&#45;&gt;y1</title>\n",
       "<path fill=\"none\" stroke=\"black\" d=\"M201.72,-189.19C222.99,-185.08 249.98,-179.87 271.2,-175.77\"/>\n",
       "<polygon fill=\"black\" stroke=\"black\" points=\"271.96,-179.19 281.11,-173.85 270.63,-172.31 271.96,-179.19\"/>\n",
       "</g>\n",
       "<!-- . -->\n",
       "<g id=\"node11\" class=\"node\">\n",
       "<title>.</title>\n",
       "<ellipse fill=\"none\" stroke=\"black\" cx=\"307.23\" cy=\"-115\" rx=\"27\" ry=\"18\"/>\n",
       "<text text-anchor=\"middle\" x=\"307.23\" y=\"-111.3\" font-family=\"Times,serif\" font-size=\"14.00\">.</text>\n",
       "</g>\n",
       "<!-- node1&#45;&gt;. -->\n",
       "<g id=\"edge25\" class=\"edge\">\n",
       "<title>node1&#45;&gt;.</title>\n",
       "<path fill=\"none\" stroke=\"black\" d=\"M190.47,-182.08C214.53,-168.14 251.56,-146.68 277.24,-131.8\"/>\n",
       "<polygon fill=\"black\" stroke=\"black\" points=\"279.24,-134.69 286.14,-126.65 275.73,-128.63 279.24,-134.69\"/>\n",
       "</g>\n",
       "<!-- node2&#45;&gt;y10 -->\n",
       "<g id=\"edge18\" class=\"edge\">\n",
       "<title>node2&#45;&gt;y10</title>\n",
       "<path fill=\"none\" stroke=\"black\" d=\"M190.47,-128.08C214.39,-114.22 251.13,-92.93 276.79,-78.06\"/>\n",
       "<polygon fill=\"black\" stroke=\"black\" points=\"278.8,-80.94 285.7,-72.9 275.29,-74.89 278.8,-80.94\"/>\n",
       "</g>\n",
       "<!-- node2&#45;&gt;y1 -->\n",
       "<g id=\"edge22\" class=\"edge\">\n",
       "<title>node2&#45;&gt;y1</title>\n",
       "<path fill=\"none\" stroke=\"black\" d=\"M201.72,-148.81C222.99,-152.92 249.98,-158.13 271.2,-162.23\"/>\n",
       "<polygon fill=\"black\" stroke=\"black\" points=\"270.63,-165.69 281.11,-164.15 271.96,-158.81 270.63,-165.69\"/>\n",
       "</g>\n",
       "<!-- node2&#45;&gt;. -->\n",
       "<g id=\"edge26\" class=\"edge\">\n",
       "<title>node2&#45;&gt;.</title>\n",
       "<path fill=\"none\" stroke=\"black\" d=\"M201.72,-135.19C222.99,-131.08 249.98,-125.87 271.2,-121.77\"/>\n",
       "<polygon fill=\"black\" stroke=\"black\" points=\"271.96,-125.19 281.11,-119.85 270.63,-118.31 271.96,-125.19\"/>\n",
       "</g>\n",
       "<!-- ...&#45;&gt;y10 -->\n",
       "<g id=\"edge19\" class=\"edge\">\n",
       "<title>...&#45;&gt;y10</title>\n",
       "<path fill=\"none\" stroke=\"black\" d=\"M191.76,-83.11C213.65,-78.88 245.56,-72.72 270.13,-67.97\"/>\n",
       "<polygon fill=\"black\" stroke=\"black\" points=\"271,-71.37 280.16,-66.04 269.68,-64.5 271,-71.37\"/>\n",
       "</g>\n",
       "<!-- ...&#45;&gt;y1 -->\n",
       "<g id=\"edge23\" class=\"edge\">\n",
       "<title>...&#45;&gt;y1</title>\n",
       "<path fill=\"none\" stroke=\"black\" d=\"M186.47,-99.61C210.34,-113.44 250.42,-136.66 277.57,-152.39\"/>\n",
       "<polygon fill=\"black\" stroke=\"black\" points=\"275.83,-155.43 286.24,-157.42 279.34,-149.37 275.83,-155.43\"/>\n",
       "</g>\n",
       "<!-- ...&#45;&gt;. -->\n",
       "<g id=\"edge27\" class=\"edge\">\n",
       "<title>...&#45;&gt;.</title>\n",
       "<path fill=\"none\" stroke=\"black\" d=\"M191.76,-92.89C213.92,-97.17 246.36,-103.44 271.05,-108.2\"/>\n",
       "<polygon fill=\"black\" stroke=\"black\" points=\"270.62,-111.69 281.11,-110.15 271.95,-104.81 270.62,-111.69\"/>\n",
       "</g>\n",
       "<!-- node30&#45;&gt;y10 -->\n",
       "<g id=\"edge20\" class=\"edge\">\n",
       "<title>node30&#45;&gt;y10</title>\n",
       "<path fill=\"none\" stroke=\"black\" d=\"M206.13,-41.66C226.24,-45.55 250.49,-50.23 270.09,-54.02\"/>\n",
       "<polygon fill=\"black\" stroke=\"black\" points=\"269.67,-57.5 280.15,-55.96 270.99,-50.63 269.67,-57.5\"/>\n",
       "</g>\n",
       "<!-- node30&#45;&gt;y1 -->\n",
       "<g id=\"edge24\" class=\"edge\">\n",
       "<title>node30&#45;&gt;y1</title>\n",
       "<path fill=\"none\" stroke=\"black\" d=\"M183.58,-50.55C208.77,-74.88 255.82,-120.32 283.75,-147.29\"/>\n",
       "<polygon fill=\"black\" stroke=\"black\" points=\"281.47,-149.95 291.09,-154.38 286.33,-144.91 281.47,-149.95\"/>\n",
       "</g>\n",
       "<!-- node30&#45;&gt;. -->\n",
       "<g id=\"edge28\" class=\"edge\">\n",
       "<title>node30&#45;&gt;.</title>\n",
       "<path fill=\"none\" stroke=\"black\" d=\"M191.76,-48.67C215.86,-62.64 252.11,-83.64 277.34,-98.26\"/>\n",
       "<polygon fill=\"black\" stroke=\"black\" points=\"275.68,-101.34 286.09,-103.33 279.19,-95.29 275.68,-101.34\"/>\n",
       "</g>\n",
       "</g>\n",
       "</svg>\n"
      ],
      "text/plain": [
       "<graphviz.sources.Source at 0x7fcf2955dba0>"
      ]
     },
     "execution_count": 9,
     "metadata": {},
     "output_type": "execute_result"
    }
   ],
   "source": [
    "#collapse\n",
    "gv('''\n",
    "splines=line\n",
    "subgraph cluster_1{\n",
    "    style=filled;\n",
    "    color=lightgrey;\n",
    "    \"x1\"\n",
    "    \"x2\"\n",
    "    \"..\"\n",
    "    \"x784\"\n",
    "    label = \"Layer 0\"\n",
    "}\n",
    "subgraph cluster_2{\n",
    "    style=filled;\n",
    "    color=lightgrey;\n",
    "    \"x1\" -> \"node1\"\n",
    "    \"x2\" -> \"node1\"\n",
    "    \"..\" -> \"node1\"\n",
    "    \n",
    "    \"x784\" -> \"node1\"\n",
    "    \"x1\" -> \"node2\"\n",
    "    \"x2\" -> \"node2\"\n",
    "    \"..\" -> \"node2\"\n",
    "    \"x784\" -> \"node2\"\n",
    "    \n",
    "    \"x1\" -> \"...\"\n",
    "    \"x2\" -> \"...\"\n",
    "    \"..\" -> \"...\"\n",
    "    \"x784\" -> \"...\"\n",
    "\n",
    "    \"x1\" -> \"node30\"\n",
    "    \"x2\" -> \"node30\"\n",
    "    \"..\" -> \"node30\"\n",
    "    \"x784\" -> \"node30\"\n",
    "\n",
    "\n",
    "    label = \"Layer 1: relu\"\n",
    "}\n",
    "subgraph cluster_3{\n",
    "    style=filled;\n",
    "    color=lightgrey;\n",
    "\n",
    "    \"node1\" -> \"y10\"\n",
    "    \"node2\" -> \"y10\"\n",
    "    \"...\" -> \"y10\"\n",
    "    \"node30\" -> \"y10\"\n",
    "    \n",
    "    \"node1\" -> \"y1\"\n",
    "    \"node2\" -> \"y1\"\n",
    "    \"...\" -> \"y1\"\n",
    "    \"node30\" -> \"y1\"\n",
    "    \n",
    "    \"node1\" -> \".\"\n",
    "    \"node2\" -> \".\"\n",
    "    \"...\" -> \".\"\n",
    "    \"node30\" -> \".\"\n",
    "    \n",
    "    label = \"Layer 2: softmax\"\n",
    "}\n",
    "''')"
   ]
  },
  {
   "cell_type": "code",
   "execution_count": 10,
   "id": "62d7b2fc-93f6-4992-b12f-162daeedd802",
   "metadata": {},
   "outputs": [
    {
     "name": "stdout",
     "output_type": "stream",
     "text": [
      "Downloading data from https://storage.googleapis.com/tensorflow/tf-keras-datasets/train-labels-idx1-ubyte.gz\n",
      "32768/29515 [=================================] - 0s 2us/step\n",
      "40960/29515 [=========================================] - 0s 2us/step\n",
      "Downloading data from https://storage.googleapis.com/tensorflow/tf-keras-datasets/train-images-idx3-ubyte.gz\n",
      "26427392/26421880 [==============================] - 1s 0us/step\n",
      "26435584/26421880 [==============================] - 1s 0us/step\n",
      "Downloading data from https://storage.googleapis.com/tensorflow/tf-keras-datasets/t10k-labels-idx1-ubyte.gz\n",
      "16384/5148 [===============================================================================================] - 0s 0us/step\n",
      "Downloading data from https://storage.googleapis.com/tensorflow/tf-keras-datasets/t10k-images-idx3-ubyte.gz\n",
      "4423680/4422102 [==============================] - 0s 0us/step\n",
      "4431872/4422102 [==============================] - 0s 0us/step\n"
     ]
    }
   ],
   "source": [
    "(x_train, y_train), (x_test, y_test) = tf.keras.datasets.fashion_mnist.load_data()"
   ]
  },
  {
   "cell_type": "code",
   "execution_count": 13,
   "id": "02066a46-9e08-4daa-9c77-527959b0a8d8",
   "metadata": {},
   "outputs": [
    {
     "data": {
      "text/plain": [
       "array([[0., 0., 0., ..., 0., 0., 1.],\n",
       "       [1., 0., 0., ..., 0., 0., 0.],\n",
       "       [1., 0., 0., ..., 0., 0., 0.],\n",
       "       ...,\n",
       "       [0., 0., 0., ..., 0., 0., 0.],\n",
       "       [1., 0., 0., ..., 0., 0., 0.],\n",
       "       [0., 0., 0., ..., 0., 0., 0.]], dtype=float32)"
      ]
     },
     "execution_count": 13,
     "metadata": {},
     "output_type": "execute_result"
    }
   ],
   "source": [
    "tf.keras.utils.to_categorical(y_train)"
   ]
  },
  {
   "cell_type": "code",
   "execution_count": 16,
   "id": "2b136283-917f-46bb-a54d-6290601b2756",
   "metadata": {},
   "outputs": [],
   "source": [
    "X=x_train.reshape(-1,784)\n",
    "y=tf.keras.utils.to_categorical(y_train)\n",
    "XX=x_test.reshape(-1,784)\n",
    "yy=tf.keras.utils.to_categorical(y_test)"
   ]
  },
  {
   "cell_type": "code",
   "execution_count": 17,
   "id": "6423ba78-67ab-4881-9363-80da28aceddc",
   "metadata": {
    "scrolled": true,
    "tags": []
   },
   "outputs": [
    {
     "name": "stdout",
     "output_type": "stream",
     "text": [
      "Epoch 1/20\n",
      "50/50 [==============================] - 0s 1ms/step - loss: 32.5672 - accuracy: 0.3730\n",
      "Epoch 2/20\n",
      "50/50 [==============================] - 0s 1ms/step - loss: 2.4414 - accuracy: 0.3877\n",
      "Epoch 3/20\n",
      "50/50 [==============================] - 0s 1ms/step - loss: 1.9154 - accuracy: 0.3809\n",
      "Epoch 4/20\n",
      "50/50 [==============================] - 0s 910us/step - loss: 1.7740 - accuracy: 0.4041\n",
      "Epoch 5/20\n",
      "50/50 [==============================] - 0s 979us/step - loss: 1.6474 - accuracy: 0.4517\n",
      "Epoch 6/20\n",
      "50/50 [==============================] - 0s 1ms/step - loss: 1.5429 - accuracy: 0.4842\n",
      "Epoch 7/20\n",
      "50/50 [==============================] - 0s 1ms/step - loss: 1.4649 - accuracy: 0.4992\n",
      "Epoch 8/20\n",
      "50/50 [==============================] - 0s 1ms/step - loss: 1.4001 - accuracy: 0.5227\n",
      "Epoch 9/20\n",
      "50/50 [==============================] - 0s 1ms/step - loss: 1.3400 - accuracy: 0.5461\n",
      "Epoch 10/20\n",
      "50/50 [==============================] - 0s 968us/step - loss: 1.2882 - accuracy: 0.5539\n",
      "Epoch 11/20\n",
      "50/50 [==============================] - 0s 1ms/step - loss: 1.2506 - accuracy: 0.5612\n",
      "Epoch 12/20\n",
      "50/50 [==============================] - 0s 875us/step - loss: 1.2194 - accuracy: 0.5707\n",
      "Epoch 13/20\n",
      "50/50 [==============================] - 0s 999us/step - loss: 1.1915 - accuracy: 0.5732\n",
      "Epoch 14/20\n",
      "50/50 [==============================] - 0s 946us/step - loss: 1.1674 - accuracy: 0.5765\n",
      "Epoch 15/20\n",
      "50/50 [==============================] - 0s 880us/step - loss: 1.1453 - accuracy: 0.5808\n",
      "Epoch 16/20\n",
      "50/50 [==============================] - 0s 909us/step - loss: 1.1251 - accuracy: 0.5852\n",
      "Epoch 17/20\n",
      "50/50 [==============================] - 0s 922us/step - loss: 1.1047 - accuracy: 0.5886\n",
      "Epoch 18/20\n",
      "50/50 [==============================] - 0s 933us/step - loss: 1.0874 - accuracy: 0.5915\n",
      "Epoch 19/20\n",
      "50/50 [==============================] - 0s 870us/step - loss: 1.0716 - accuracy: 0.5944\n",
      "Epoch 20/20\n",
      "50/50 [==============================] - 0s 901us/step - loss: 1.0567 - accuracy: 0.5975\n"
     ]
    },
    {
     "data": {
      "text/plain": [
       "<keras.callbacks.History at 0x7fcea830e560>"
      ]
     },
     "execution_count": 17,
     "metadata": {},
     "output_type": "execute_result"
    }
   ],
   "source": [
    "tf.random.set_seed(43052)\n",
    "net = tf.keras.Sequential()\n",
    "net.add(tf.keras.layers.Dense(30,activation='relu'))\n",
    "net.add(tf.keras.layers.Dense(10,activation='softmax'))\n",
    "net.compile(optimizer='adam',loss=tf.losses.categorical_crossentropy,metrics=['accuracy'])\n",
    "net.fit(X,y,epochs=20,batch_size=1200)"
   ]
  },
  {
   "cell_type": "code",
   "execution_count": 18,
   "id": "7e9074fd-ffdd-440b-9094-20c370f61f4d",
   "metadata": {},
   "outputs": [
    {
     "name": "stdout",
     "output_type": "stream",
     "text": [
      "313/313 [==============================] - 0s 923us/step - loss: 1.0963 - accuracy: 0.5930\n"
     ]
    },
    {
     "data": {
      "text/plain": [
       "[1.096295952796936, 0.5929999947547913]"
      ]
     },
     "execution_count": 18,
     "metadata": {},
     "output_type": "execute_result"
    }
   ],
   "source": [
    "net.evaluate(XX,yy)"
   ]
  },
  {
   "cell_type": "markdown",
   "id": "4893636e-f568-4e17-8c12-b3825be71f4a",
   "metadata": {},
   "source": [
    "`-` 시도2"
   ]
  },
  {
   "cell_type": "code",
   "execution_count": 19,
   "id": "72c927be-1c1a-4f91-9690-bcdbf297023a",
   "metadata": {
    "scrolled": true,
    "tags": []
   },
   "outputs": [
    {
     "name": "stdout",
     "output_type": "stream",
     "text": [
      "Epoch 1/50\n",
      "50/50 [==============================] - 0s 1ms/step - loss: 21.6114 - accuracy: 0.6873\n",
      "Epoch 2/50\n",
      "50/50 [==============================] - 0s 1ms/step - loss: 1.9367 - accuracy: 0.8036\n",
      "Epoch 3/50\n",
      "50/50 [==============================] - 0s 1ms/step - loss: 1.2290 - accuracy: 0.8208\n",
      "Epoch 4/50\n",
      "50/50 [==============================] - 0s 1ms/step - loss: 0.9411 - accuracy: 0.8331\n",
      "Epoch 5/50\n",
      "50/50 [==============================] - 0s 1ms/step - loss: 0.7520 - accuracy: 0.8440\n",
      "Epoch 6/50\n",
      "50/50 [==============================] - 0s 1ms/step - loss: 0.6388 - accuracy: 0.8528\n",
      "Epoch 7/50\n",
      "50/50 [==============================] - 0s 1ms/step - loss: 0.5701 - accuracy: 0.8581\n",
      "Epoch 8/50\n",
      "50/50 [==============================] - 0s 1ms/step - loss: 0.4967 - accuracy: 0.8686\n",
      "Epoch 9/50\n",
      "50/50 [==============================] - 0s 1ms/step - loss: 0.4451 - accuracy: 0.8732\n",
      "Epoch 10/50\n",
      "50/50 [==============================] - 0s 1ms/step - loss: 0.3988 - accuracy: 0.8839\n",
      "Epoch 11/50\n",
      "50/50 [==============================] - 0s 1ms/step - loss: 0.3653 - accuracy: 0.8873\n",
      "Epoch 12/50\n",
      "50/50 [==============================] - 0s 1ms/step - loss: 0.3462 - accuracy: 0.8915\n",
      "Epoch 13/50\n",
      "50/50 [==============================] - 0s 1ms/step - loss: 0.3119 - accuracy: 0.8997\n",
      "Epoch 14/50\n",
      "50/50 [==============================] - 0s 1ms/step - loss: 0.2976 - accuracy: 0.9030\n",
      "Epoch 15/50\n",
      "50/50 [==============================] - 0s 1ms/step - loss: 0.2845 - accuracy: 0.9056\n",
      "Epoch 16/50\n",
      "50/50 [==============================] - 0s 1ms/step - loss: 0.2767 - accuracy: 0.9071\n",
      "Epoch 17/50\n",
      "50/50 [==============================] - 0s 1ms/step - loss: 0.2591 - accuracy: 0.9113\n",
      "Epoch 18/50\n",
      "50/50 [==============================] - 0s 1ms/step - loss: 0.2466 - accuracy: 0.9143\n",
      "Epoch 19/50\n",
      "50/50 [==============================] - 0s 1ms/step - loss: 0.2198 - accuracy: 0.9223\n",
      "Epoch 20/50\n",
      "50/50 [==============================] - 0s 1ms/step - loss: 0.2123 - accuracy: 0.9244\n",
      "Epoch 21/50\n",
      "50/50 [==============================] - 0s 1ms/step - loss: 0.2015 - accuracy: 0.9293\n",
      "Epoch 22/50\n",
      "50/50 [==============================] - 0s 1ms/step - loss: 0.2018 - accuracy: 0.9283\n",
      "Epoch 23/50\n",
      "50/50 [==============================] - 0s 1ms/step - loss: 0.1984 - accuracy: 0.9294\n",
      "Epoch 24/50\n",
      "50/50 [==============================] - 0s 1ms/step - loss: 0.1842 - accuracy: 0.9332\n",
      "Epoch 25/50\n",
      "50/50 [==============================] - 0s 1ms/step - loss: 0.1800 - accuracy: 0.9348\n",
      "Epoch 26/50\n",
      "50/50 [==============================] - 0s 1ms/step - loss: 0.1713 - accuracy: 0.9385\n",
      "Epoch 27/50\n",
      "50/50 [==============================] - 0s 1ms/step - loss: 0.2049 - accuracy: 0.9279\n",
      "Epoch 28/50\n",
      "50/50 [==============================] - 0s 1ms/step - loss: 0.1704 - accuracy: 0.9383\n",
      "Epoch 29/50\n",
      "50/50 [==============================] - 0s 1ms/step - loss: 0.1525 - accuracy: 0.9444\n",
      "Epoch 30/50\n",
      "50/50 [==============================] - 0s 1ms/step - loss: 0.1669 - accuracy: 0.9405\n",
      "Epoch 31/50\n",
      "50/50 [==============================] - 0s 1ms/step - loss: 0.1437 - accuracy: 0.9474\n",
      "Epoch 32/50\n",
      "50/50 [==============================] - 0s 1ms/step - loss: 0.1383 - accuracy: 0.9487\n",
      "Epoch 33/50\n",
      "50/50 [==============================] - 0s 1ms/step - loss: 0.1372 - accuracy: 0.9497\n",
      "Epoch 34/50\n",
      "50/50 [==============================] - 0s 1ms/step - loss: 0.1542 - accuracy: 0.9446\n",
      "Epoch 35/50\n",
      "50/50 [==============================] - 0s 1ms/step - loss: 0.1343 - accuracy: 0.9508\n",
      "Epoch 36/50\n",
      "50/50 [==============================] - 0s 1ms/step - loss: 0.1224 - accuracy: 0.9554\n",
      "Epoch 37/50\n",
      "50/50 [==============================] - 0s 1ms/step - loss: 0.1236 - accuracy: 0.9541\n",
      "Epoch 38/50\n",
      "50/50 [==============================] - 0s 1ms/step - loss: 0.1175 - accuracy: 0.9568\n",
      "Epoch 39/50\n",
      "50/50 [==============================] - 0s 1ms/step - loss: 0.1123 - accuracy: 0.9589\n",
      "Epoch 40/50\n",
      "50/50 [==============================] - 0s 1ms/step - loss: 0.1164 - accuracy: 0.9575\n",
      "Epoch 41/50\n",
      "50/50 [==============================] - 0s 1ms/step - loss: 0.1146 - accuracy: 0.9584\n",
      "Epoch 42/50\n",
      "50/50 [==============================] - 0s 1ms/step - loss: 0.1181 - accuracy: 0.9568\n",
      "Epoch 43/50\n",
      "50/50 [==============================] - 0s 1ms/step - loss: 0.1257 - accuracy: 0.9531\n",
      "Epoch 44/50\n",
      "50/50 [==============================] - 0s 1ms/step - loss: 0.1145 - accuracy: 0.9584\n",
      "Epoch 45/50\n",
      "50/50 [==============================] - 0s 1ms/step - loss: 0.1455 - accuracy: 0.9492\n",
      "Epoch 46/50\n",
      "50/50 [==============================] - 0s 1ms/step - loss: 0.1366 - accuracy: 0.9520\n",
      "Epoch 47/50\n",
      "50/50 [==============================] - 0s 1ms/step - loss: 0.1227 - accuracy: 0.9552\n",
      "Epoch 48/50\n",
      "50/50 [==============================] - 0s 1ms/step - loss: 0.1134 - accuracy: 0.9599\n",
      "Epoch 49/50\n",
      "50/50 [==============================] - 0s 1ms/step - loss: 0.1045 - accuracy: 0.9625\n",
      "Epoch 50/50\n",
      "50/50 [==============================] - 0s 1ms/step - loss: 0.0884 - accuracy: 0.9675\n"
     ]
    },
    {
     "data": {
      "text/plain": [
       "<keras.callbacks.History at 0x7fcea8253fd0>"
      ]
     },
     "execution_count": 19,
     "metadata": {},
     "output_type": "execute_result"
    }
   ],
   "source": [
    "tf.random.set_seed(43052)\n",
    "net = tf.keras.Sequential()\n",
    "net.add(tf.keras.layers.Dense(500,activation='relu'))\n",
    "net.add(tf.keras.layers.Dense(500,activation='relu'))\n",
    "net.add(tf.keras.layers.Dense(10,activation='softmax'))\n",
    "net.compile(optimizer='adam',loss=tf.losses.categorical_crossentropy,metrics=['accuracy'])\n",
    "net.fit(X,y,epochs=50,batch_size=1200)"
   ]
  },
  {
   "cell_type": "code",
   "execution_count": 20,
   "id": "76503d38-b943-4c51-a761-1fec495f1bf4",
   "metadata": {},
   "outputs": [
    {
     "name": "stdout",
     "output_type": "stream",
     "text": [
      "313/313 [==============================] - 0s 942us/step - loss: 0.7289 - accuracy: 0.8618\n"
     ]
    },
    {
     "data": {
      "text/plain": [
       "[0.7289316654205322, 0.8618000149726868]"
      ]
     },
     "execution_count": 20,
     "metadata": {},
     "output_type": "execute_result"
    }
   ],
   "source": [
    "net.evaluate(XX,yy)"
   ]
  },
  {
   "cell_type": "markdown",
   "id": "d7416978-08c0-4e47-8a6d-c5658d336a47",
   "metadata": {},
   "source": [
    "`-` 시도3"
   ]
  },
  {
   "cell_type": "markdown",
   "id": "284f06de-5a82-47f5-a57e-457287f4f8d7",
   "metadata": {},
   "source": [
    "`-` 시도1,2,3 비교"
   ]
  }
 ],
 "metadata": {
  "kernelspec": {
   "display_name": "Python 3 (ipykernel)",
   "language": "python",
   "name": "python3"
  },
  "language_info": {
   "codemirror_mode": {
    "name": "ipython",
    "version": 3
   },
   "file_extension": ".py",
   "mimetype": "text/x-python",
   "name": "python",
   "nbconvert_exporter": "python",
   "pygments_lexer": "ipython3",
   "version": "3.10.2"
  }
 },
 "nbformat": 4,
 "nbformat_minor": 5
}
