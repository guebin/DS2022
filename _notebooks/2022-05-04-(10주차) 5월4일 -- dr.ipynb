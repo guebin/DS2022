{
 "cells": [
  {
   "cell_type": "markdown",
   "id": "97beba88-9ac2-42a0-9650-047c21030bfb",
   "metadata": {},
   "source": [
    "# (10주차) 5월4일 -- draft\n",
    "\n",
    "- toc:true\n",
    "- branch: master\n",
    "- badges: true\n",
    "- comments: true\n",
    "- author: 최규빈"
   ]
  },
  {
   "cell_type": "code",
   "execution_count": 1,
   "id": "1edd3beb-83e4-4b0c-b983-af9088934041",
   "metadata": {},
   "outputs": [],
   "source": [
    "import tensorflow as tf\n",
    "import matplotlib.pyplot as plt\n",
    "import numpy as np\n",
    "import tensorflow.experimental.numpy as tnp"
   ]
  },
  {
   "cell_type": "code",
   "execution_count": 2,
   "id": "e61bdf67-7ab5-4547-9543-866f90e35352",
   "metadata": {},
   "outputs": [
    {
     "data": {
      "text/plain": [
       "[PhysicalDevice(name='/physical_device:CPU:0', device_type='CPU')]"
      ]
     },
     "execution_count": 2,
     "metadata": {},
     "output_type": "execute_result"
    }
   ],
   "source": [
    "tf.config.experimental.list_physical_devices()"
   ]
  },
  {
   "cell_type": "code",
   "execution_count": 3,
   "id": "a9ce7f36-1c67-4073-b199-1f3de7575778",
   "metadata": {},
   "outputs": [],
   "source": [
    "import graphviz\n",
    "def gv(s): return graphviz.Source('digraph G{ rankdir=\"LR\"'+ s + ';}')"
   ]
  },
  {
   "cell_type": "markdown",
   "id": "286672c2-7f0e-4f36-91b0-38d32f5eed2d",
   "metadata": {},
   "source": [
    "### 로지스틱 모형 (1) "
   ]
  },
  {
   "cell_type": "markdown",
   "id": "97e376a7-e3d3-47b3-98f7-48805fc721f6",
   "metadata": {},
   "source": [
    "`-` 스칼라버전"
   ]
  },
  {
   "cell_type": "markdown",
   "id": "52882ef8-0b4f-4dea-9aff-f29b07569677",
   "metadata": {},
   "source": [
    "$y_i \\propto b + w_1 x_{1,i} + \\dots + w_{784}x_{784,i} $"
   ]
  },
  {
   "cell_type": "markdown",
   "id": "ba4cc4ac-550d-437f-935f-bb346648c519",
   "metadata": {},
   "source": [
    "$y_i \\approx \\text{sigmoid}(b + w_1 x_{1,i} + \\dots + w_{784}x_{784,i})= \\frac{\\exp(b + w_1 x_{1,i} + \\dots + w_{784}x_{784,i})}{1+\\exp(b + w_1 x_{1,i} + \\dots + w_{784}x_{784,i})} $"
   ]
  },
  {
   "cell_type": "markdown",
   "id": "46df0568-2a7a-4ffc-a321-b56871b3aff4",
   "metadata": {},
   "source": [
    "`-` 벡터버전"
   ]
  },
  {
   "cell_type": "markdown",
   "id": "e444e262-0249-458b-95dc-eb620a0e9457",
   "metadata": {},
   "source": [
    "${\\boldsymbol y} \\propto {\\bf X}{\\bf W} + b$ \n",
    "\n",
    "- ${\\bf X}$: (n,784) matrix \n",
    "- ${\\boldsymbol y}$: (n,1) matrix\n",
    "- ${\\bf W}$: (784,1) matrix\n",
    "- $b$: (1,1) matrix\n",
    "- `+` 는 브로드캐스팅"
   ]
  },
  {
   "cell_type": "markdown",
   "id": "d56be9d3-f1b4-419a-bf77-d478f5feac0f",
   "metadata": {},
   "source": [
    "${\\boldsymbol y} \\approx \\text{sigmoid}({\\bf X}{\\bf W} + b) = \\frac{\\exp({\\bf XW} +b)}{1+\\exp({\\bf XW} +b)}$ \n",
    "\n",
    "- `+`, `exp`는 브로드캐스팅 "
   ]
  },
  {
   "cell_type": "markdown",
   "id": "9771d5f8-a605-4ed4-b9bc-a5700fa1cf38",
   "metadata": {},
   "source": [
    "`-` $\\boldsymbol{y}$를 설명하는 본질: ${\\bf X}{\\bf W}+ b$이 값이 큰 row 일수록 대응하는 $\\boldsymbol{y}$의 row 값은 1"
   ]
  },
  {
   "cell_type": "markdown",
   "id": "8a59d465-5ea0-4443-b6b8-04a87a23c305",
   "metadata": {},
   "source": [
    "### 로지스틱의 모형 (2) "
   ]
  },
  {
   "cell_type": "markdown",
   "id": "70b1e4f3-7493-470a-9146-10ad946bd877",
   "metadata": {},
   "source": [
    "`-` 또 다른 모형 "
   ]
  },
  {
   "cell_type": "markdown",
   "id": "b24f01de-a7b7-4db5-bf35-4f0ef13bf02e",
   "metadata": {},
   "source": [
    "${\\bf Y} \\propto {\\bf X}{\\bf W} + {\\boldsymbol b}$ \n",
    "\n",
    "- ${\\bf X}$: (n,784) matrix \n",
    "- ${\\bf Y}$: (n,2) matrix\n",
    "- ${\\bf W}$: (784,2) matrix\n",
    "- ${\\boldsymbol b}$: (1,2) matrix\n",
    "- `+` 는 브로드캐스팅"
   ]
  },
  {
   "cell_type": "markdown",
   "id": "453b35b5-ceab-45f0-9924-1e20b9158995",
   "metadata": {},
   "source": [
    "$[{\\boldsymbol y}_1 ~ {\\boldsymbol y}_2] \\propto  {\\bf X} [{\\bf W}_1 {\\bf W}_2] + [b_1 ~ b_2]= [ {\\bf X}{\\bf W}_1  ~ {\\bf X}{\\bf W}_2] + [b_1 ~ b_2]$"
   ]
  },
  {
   "cell_type": "markdown",
   "id": "d3f7dbd9-74d9-46f3-82c4-be0cffea301d",
   "metadata": {},
   "source": [
    "${\\boldsymbol y}_1 \\propto  {\\bf X} {\\bf W}_1 + b_1 \\\\ {\\boldsymbol y}_2 \\propto  {\\bf X} {\\bf W}_2 + b_2$ \n"
   ]
  },
  {
   "cell_type": "markdown",
   "id": "9ea3c112-5056-4729-8bfb-045154add7c7",
   "metadata": {},
   "source": [
    "`-` 본질? ${\\bf X}{\\bf W}_1 +b_1$이 큰 row 일 수록 대응하는 $\\boldsymbol{y}_1$의 row 값이 1이다. 또한 ${\\bf X}{\\bf W}_2 +b_2$이 큰 row 일 수록 대응하는 $\\boldsymbol{y}_2$의 row 값이 1이다. "
   ]
  },
  {
   "cell_type": "markdown",
   "id": "423a3c13-ab35-4aad-af83-63961ba83608",
   "metadata": {},
   "source": [
    "`-` 질문: ${\\bf X}{\\bf W}_1 +b_1$의 값이 500인 row가 있고, 그때 대응하는 ${\\bf X}{\\bf W}_2 +b_2$의 값은 200이라면? 대응하는 $\\boldsymbol{y}_1, \\boldsymbol{y}_2$의 row값은 어떠한가? \n",
    "- [0,0]\n",
    "- [0,1]\n",
    "- [1,0]\n",
    "- [1,1]"
   ]
  },
  {
   "cell_type": "markdown",
   "id": "8d7975f7-60ef-4be1-8bf1-22c59c923c90",
   "metadata": {},
   "source": [
    "`-` 활성화함수 "
   ]
  },
  {
   "cell_type": "markdown",
   "id": "0c1dc3d6-5a81-40a9-bc0c-c04fc6d8b735",
   "metadata": {},
   "source": [
    "$[{\\boldsymbol y}_1 ~ {\\boldsymbol y}_2] \\propto {\\bf X}{\\bf W} + \\boldsymbol{b} = [ {\\bf X}{\\bf W}_1+b_1  ~ {\\bf X}{\\bf W}_2 +b_2] $ "
   ]
  },
  {
   "cell_type": "markdown",
   "id": "57112571-e57c-4472-b240-d58f572813fa",
   "metadata": {},
   "source": [
    "$[{\\boldsymbol y}_1 ~ {\\boldsymbol y}_2] \\approx  \\big[ \\frac{\\exp({\\bf X}{\\bf W}_1+b_1)}{\\exp({\\bf X}{\\bf W}_1+b_1)+\\exp({\\bf X}{\\bf W}_2+b_2)}  ~~ \\frac{\\exp({\\bf X}{\\bf W}_2+b_2)}{\\exp({\\bf X}{\\bf W}_1+b_1)+\\exp({\\bf X}{\\bf W}_2+b_2)}  \\big] $ "
   ]
  },
  {
   "cell_type": "markdown",
   "id": "41669116-278d-4dd6-a25b-1fed1949c457",
   "metadata": {},
   "source": [
    "${\\boldsymbol y} \\approx \\text{softmax}({\\bf X}{\\bf W} + {\\boldsymbol b})$ "
   ]
  },
  {
   "cell_type": "markdown",
   "id": "fe0ee939-65ff-4a6d-b993-17b7f9fb151a",
   "metadata": {},
   "source": [
    "### 모형의 비교"
   ]
  },
  {
   "cell_type": "markdown",
   "id": "472e477f-1e23-4eb5-bce5-d351af1cacd8",
   "metadata": {},
   "source": [
    "`-` 수식장난 \n",
    "$$\\frac{\\exp(\\beta_0+\\beta_1 x_i)}{1+\\exp(\\beta_0+\\beta_1x_i)}=\\frac{\\exp(\\beta_0+\\beta_1 x_i)}{e^0+exp(\\beta_0+\\beta_1x_i)}$$"
   ]
  },
  {
   "cell_type": "markdown",
   "id": "4436ea56-c16b-4511-ba7f-4d06da30783f",
   "metadata": {},
   "source": [
    "`-` 통찰 \n",
    "- 모형2: ${\\bf X}{\\bf W}_1 +b_1$ 와 ${\\bf X}{\\bf W}_2 +b_2$ 의 크기를 비교하고 확률 결정\n",
    "- 모형1: ${\\bf X}{\\bf W} +b$와 $0$의 크기를 비교하고 확률 결정 (${\\bf X}{\\bf W} +b$의 row값이 양수이면 1로 예측하고 음수이면 0으로 예측 "
   ]
  },
  {
   "cell_type": "markdown",
   "id": "97c4bf48-b5c2-4775-9827-bb16632323b2",
   "metadata": {},
   "source": [
    "`-` 파라메터의 수 "
   ]
  },
  {
   "cell_type": "markdown",
   "id": "b3d096cb-6cce-480e-83d4-ed31cd80d90b",
   "metadata": {},
   "source": [
    "`-` 표현력"
   ]
  },
  {
   "cell_type": "markdown",
   "id": "7577cb65-71b0-45f2-ae0f-c4814990c523",
   "metadata": {},
   "source": [
    "- note: $\\big(\\frac{e^{300}}{e^{300}+e^{500}},\\frac{e^{500}}{e^{300}+e^{500}}\\big) =\\big( \\frac{e^{0}}{e^{0}+e^{200}}, \\frac{e^{200}}{e^{0}+e^{200}}\\big)$"
   ]
  },
  {
   "cell_type": "markdown",
   "id": "838b8158-e356-4730-9213-d1ba0d745b49",
   "metadata": {},
   "source": [
    "`-` 확장성 "
   ]
  },
  {
   "cell_type": "markdown",
   "id": "39f74052-5108-47ed-a0df-92a304eab7a4",
   "metadata": {},
   "source": [
    "### 분류할 클래스가 2개 이상일 경우 신경망 모형의 설계 "
   ]
  },
  {
   "cell_type": "markdown",
   "id": "8b9f1d0e-f7c5-467c-83c8-3c4ea48c781a",
   "metadata": {},
   "source": [
    "`-` y의 모양 "
   ]
  },
  {
   "cell_type": "markdown",
   "id": "4c47baef-ec59-40fb-82b9-243def01a1cc",
   "metadata": {},
   "source": [
    "`-` 활성화함수의 선택 "
   ]
  },
  {
   "cell_type": "markdown",
   "id": "5ad22ed8-d048-49d6-aa2e-9e128e016a8f",
   "metadata": {},
   "source": [
    "`-` 손실함수의 선택 "
   ]
  },
  {
   "cell_type": "code",
   "execution_count": null,
   "id": "eab2d772-afa1-40cc-b5d0-f7f580c93cf4",
   "metadata": {},
   "outputs": [],
   "source": []
  }
 ],
 "metadata": {
  "kernelspec": {
   "display_name": "Python 3",
   "language": "python",
   "name": "python3"
  },
  "language_info": {
   "codemirror_mode": {
    "name": "ipython",
    "version": 3
   },
   "file_extension": ".py",
   "mimetype": "text/x-python",
   "name": "python",
   "nbconvert_exporter": "python",
   "pygments_lexer": "ipython3",
   "version": "3.9.12"
  }
 },
 "nbformat": 4,
 "nbformat_minor": 5
}
