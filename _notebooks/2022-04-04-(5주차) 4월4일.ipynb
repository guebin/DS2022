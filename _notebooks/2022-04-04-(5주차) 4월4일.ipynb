{
 "cells": [
  {
   "cell_type": "markdown",
   "id": "c959a417-2cc5-47ff-b7ef-7a622cca58cd",
   "metadata": {},
   "source": [
    "# (5주차) 4월4일 -- draft\n",
    "\n",
    "- toc:true\n",
    "- branch: master\n",
    "- badges: true\n",
    "- comments: true\n",
    "- author: 최규빈"
   ]
  },
  {
   "cell_type": "code",
   "execution_count": 12,
   "id": "cc403854-14cb-4e27-9870-5c0b904b6cf2",
   "metadata": {},
   "outputs": [],
   "source": [
    "#!conda install -c conda-forge python-graphviz -y"
   ]
  },
  {
   "cell_type": "code",
   "execution_count": 1,
   "id": "40c6dae8-8dba-4ce7-b784-87a39e372448",
   "metadata": {},
   "outputs": [],
   "source": [
    "import tensorflow as tf \n",
    "import numpy as np\n",
    "import matplotlib.pyplot as plt "
   ]
  },
  {
   "cell_type": "code",
   "execution_count": 2,
   "id": "17225575-1b41-49ee-9763-fcd2dffc14c4",
   "metadata": {},
   "outputs": [],
   "source": [
    "import tensorflow.experimental.numpy as tnp "
   ]
  },
  {
   "cell_type": "code",
   "execution_count": 3,
   "id": "4dc0c99e-23a5-4e33-b4eb-059b7ebe4553",
   "metadata": {},
   "outputs": [],
   "source": [
    "tnp.experimental_enable_numpy_behavior() "
   ]
  },
  {
   "cell_type": "markdown",
   "id": "0ced250d-1da1-421f-9fad-cc7dc69d17db",
   "metadata": {},
   "source": [
    "### 회귀분석 문제"
   ]
  },
  {
   "cell_type": "markdown",
   "id": "efd8b8f0-aecd-48ae-9c8f-1e74fc24aa0e",
   "metadata": {},
   "source": [
    "`-` ${\\bf y} \\approx 4 + 2.5 {\\bf x}$"
   ]
  },
  {
   "cell_type": "code",
   "execution_count": 8,
   "id": "be4760f4-20de-49a4-bd97-ce230ff91b78",
   "metadata": {},
   "outputs": [],
   "source": [
    "tnp.random.seed(43052)\n",
    "N = 200\n",
    "x = tnp.linspace(0,1,N) \n",
    "epsilon = tnp.random.randn(N)*0.5\n",
    "y = 2.5+4*x + epsilon\n",
    "y_true = 2.5+4*x"
   ]
  },
  {
   "cell_type": "code",
   "execution_count": 9,
   "id": "01fc9472-9f8f-4048-8568-ba88586507dd",
   "metadata": {},
   "outputs": [
    {
     "data": {
      "text/plain": [
       "[<matplotlib.lines.Line2D at 0x7eff782a2f50>]"
      ]
     },
     "execution_count": 9,
     "metadata": {},
     "output_type": "execute_result"
    },
    {
     "data": {
      "image/png": "[encoded data removed]",
      "text/plain": [
       "<Figure size 432x288 with 1 Axes>"
      ]
     },
     "metadata": {
      "needs_background": "light"
     },
     "output_type": "display_data"
    }
   ],
   "source": [
    "plt.plot(x,y,'.')\n",
    "plt.plot(x,y_true,'r--')"
   ]
  },
  {
   "cell_type": "markdown",
   "id": "f5a1cdaa-47e9-4e1d-aa76-d0c5d2a8725a",
   "metadata": {},
   "source": [
    "### 이론적 풀이"
   ]
  },
  {
   "cell_type": "markdown",
   "id": "c2076525-257e-4893-9d5a-4269b5099dc9",
   "metadata": {},
   "source": [
    "#### 풀이1: 스칼라버전"
   ]
  },
  {
   "cell_type": "markdown",
   "id": "f4a24d95-3490-447e-9120-ecf04ed255ad",
   "metadata": {},
   "source": [
    "`-` 포인트 \n",
    "- $S_{xx}=$, $S_{xy}=$\n",
    "- $\\hat{\\beta}_0=$, $\\hat{\\beta}_1=$"
   ]
  },
  {
   "cell_type": "code",
   "execution_count": 10,
   "id": "3e0c6682-5d4f-4083-8011-906a746df44d",
   "metadata": {},
   "outputs": [
    {
     "data": {
      "text/plain": [
       "(TensorShape([200]), TensorShape([200]))"
      ]
     },
     "execution_count": 10,
     "metadata": {},
     "output_type": "execute_result"
    }
   ],
   "source": [
    "x.shape,y.shape"
   ]
  },
  {
   "cell_type": "code",
   "execution_count": 11,
   "id": "324fecfb-b367-48a4-887a-7df041299767",
   "metadata": {},
   "outputs": [],
   "source": [
    "Sxx=sum((x-x.mean())**2)\n",
    "Sxy=sum((x-x.mean())*(y-y.mean()))"
   ]
  },
  {
   "cell_type": "code",
   "execution_count": 12,
   "id": "26a8cbb0-1bf6-4a89-9637-ddd4c6a78528",
   "metadata": {},
   "outputs": [],
   "source": [
    "beta1_hat = Sxy/Sxx\n",
    "beta0_hat = y.mean() - beta1_hat *x.mean()"
   ]
  },
  {
   "cell_type": "code",
   "execution_count": 13,
   "id": "3753c8a2-c399-44ac-a93a-e91931da65a6",
   "metadata": {},
   "outputs": [
    {
     "data": {
      "text/plain": [
       "(<tf.Tensor: shape=(), dtype=float64, numpy=2.583667211565867>,\n",
       " <tf.Tensor: shape=(), dtype=float64, numpy=3.933034516733168>)"
      ]
     },
     "execution_count": 13,
     "metadata": {},
     "output_type": "execute_result"
    }
   ],
   "source": [
    "beta0_hat, beta1_hat"
   ]
  },
  {
   "cell_type": "markdown",
   "id": "18ffc7e7-968d-4b8a-9895-f3f7c4d1f728",
   "metadata": {},
   "source": [
    "#### 풀이2: 벡터버전"
   ]
  },
  {
   "cell_type": "markdown",
   "id": "7b63d0a8-e5b4-47de-9cf0-be10c2140aaf",
   "metadata": {},
   "source": [
    "`-` 포인트\n",
    "- $\\hat{\\beta}=(X'X)^{-1}X'y$"
   ]
  },
  {
   "cell_type": "code",
   "execution_count": 14,
   "id": "f525f7ea-1bbc-42b6-9de3-243a202df36c",
   "metadata": {},
   "outputs": [],
   "source": [
    "X=tf.stack([tf.ones(N,dtype='float64'),x],axis=1)\n",
    "y=y.reshape(N,1) "
   ]
  },
  {
   "cell_type": "code",
   "execution_count": 15,
   "id": "0c3a277e-4d63-47d8-b66d-6efdc5d8d7a2",
   "metadata": {},
   "outputs": [
    {
     "data": {
      "text/plain": [
       "(TensorShape([200, 2]), TensorShape([200, 1]))"
      ]
     },
     "execution_count": 15,
     "metadata": {},
     "output_type": "execute_result"
    }
   ],
   "source": [
    "X.shape,y.shape"
   ]
  },
  {
   "cell_type": "code",
   "execution_count": 16,
   "id": "a8e0a6ea-20ea-4d8c-9fda-9cbceff38855",
   "metadata": {},
   "outputs": [
    {
     "data": {
      "text/plain": [
       "<tf.Tensor: shape=(2, 1), dtype=float64, numpy=\n",
       "array([[2.58366721],\n",
       "       [3.93303452]])>"
      ]
     },
     "execution_count": 16,
     "metadata": {},
     "output_type": "execute_result"
    }
   ],
   "source": [
    "tf.linalg.inv(X.T @ X) @ X.T @ y"
   ]
  },
  {
   "cell_type": "markdown",
   "id": "23b71aaa-0182-4280-89df-f5a6daabe912",
   "metadata": {},
   "source": [
    "#### 풀이3: 벡터버전, 손실함수의 도함수이용 "
   ]
  },
  {
   "cell_type": "markdown",
   "id": "4e35092e-c11b-4c8d-93a8-e4416d9cf034",
   "metadata": {},
   "source": [
    "`-` 포인트\n",
    "- $loss'(\\beta)=-2X'y +2X'X\\beta$\n",
    "- $\\beta_{new} = \\beta_{old} - \\alpha \\times loss'(\\beta_{old})$"
   ]
  },
  {
   "cell_type": "code",
   "execution_count": 17,
   "id": "0a947043-7cd1-4e67-bd78-f79a24d25c65",
   "metadata": {},
   "outputs": [
    {
     "data": {
      "text/plain": [
       "(TensorShape([200, 2]), TensorShape([200, 1]))"
      ]
     },
     "execution_count": 17,
     "metadata": {},
     "output_type": "execute_result"
    }
   ],
   "source": [
    "y=y.reshape(N,1)\n",
    "X.shape,y.shape"
   ]
  },
  {
   "cell_type": "code",
   "execution_count": 18,
   "id": "54429e13-f502-4d9b-b1fd-c0bc165a3a12",
   "metadata": {},
   "outputs": [
    {
     "data": {
      "text/plain": [
       "<tf.Tensor: shape=(2, 1), dtype=int64, numpy=\n",
       "array([[-5],\n",
       "       [10]])>"
      ]
     },
     "execution_count": 18,
     "metadata": {},
     "output_type": "execute_result"
    }
   ],
   "source": [
    "beta_hat = tnp.array([-5,10]).reshape(2,1)\n",
    "beta_hat"
   ]
  },
  {
   "cell_type": "code",
   "execution_count": 19,
   "id": "6a504b00-8842-4a91-ac48-10f90d6c1a8e",
   "metadata": {},
   "outputs": [],
   "source": [
    "alpha=0.1"
   ]
  },
  {
   "cell_type": "markdown",
   "id": "4e2984d0-ff42-4942-97ff-927165467092",
   "metadata": {},
   "source": [
    "$loss'(\\beta) = -2X'y+2X'X\\beta$"
   ]
  },
  {
   "cell_type": "code",
   "execution_count": 20,
   "id": "54c5c510-b858-4e14-9e70-b7894acb417d",
   "metadata": {},
   "outputs": [
    {
     "data": {
      "text/plain": [
       "<tf.Tensor: shape=(2, 1), dtype=float64, numpy=\n",
       "array([[-1820.07378797],\n",
       "       [ -705.77222696]])>"
      ]
     },
     "execution_count": 20,
     "metadata": {},
     "output_type": "execute_result"
    }
   ],
   "source": [
    "slope = -2*X.T @ y + 2*X.T@ X @ beta_hat \n",
    "slope"
   ]
  },
  {
   "cell_type": "code",
   "execution_count": 21,
   "id": "3e28ae31-d72e-4882-9be7-8b7603083e7b",
   "metadata": {},
   "outputs": [
    {
     "data": {
      "text/plain": [
       "<tf.Tensor: shape=(2, 1), dtype=float64, numpy=\n",
       "array([[182.0073788],\n",
       "       [ 70.5772227]])>"
      ]
     },
     "execution_count": 21,
     "metadata": {},
     "output_type": "execute_result"
    }
   ],
   "source": [
    "step = - alpha*slope\n",
    "step "
   ]
  },
  {
   "cell_type": "code",
   "execution_count": 22,
   "id": "1342fb26-97c0-4f8e-b1a7-787d0631562c",
   "metadata": {},
   "outputs": [],
   "source": [
    "for epoc in range(1000):\n",
    "    slope = (-2*X.T @ y + 2*X.T@ X @ beta_hat)/N\n",
    "    step = - alpha * slope\n",
    "    beta_hat = beta_hat + step "
   ]
  },
  {
   "cell_type": "code",
   "execution_count": 23,
   "id": "c61a34cc-2d50-442c-8af2-9c34f981ca9b",
   "metadata": {},
   "outputs": [
    {
     "data": {
      "text/plain": [
       "<tf.Tensor: shape=(2, 1), dtype=float64, numpy=\n",
       "array([[2.58366061],\n",
       "       [3.93304684]])>"
      ]
     },
     "execution_count": 23,
     "metadata": {},
     "output_type": "execute_result"
    }
   ],
   "source": [
    "beta_hat"
   ]
  },
  {
   "cell_type": "code",
   "execution_count": 24,
   "id": "acb0b407-41c5-45bb-9d01-b434581bd661",
   "metadata": {},
   "outputs": [
    {
     "data": {
      "text/plain": [
       "[<matplotlib.lines.Line2D at 0x7eff78116950>]"
      ]
     },
     "execution_count": 24,
     "metadata": {},
     "output_type": "execute_result"
    },
    {
     "data": {
      "image/png": "[encoded data removed]",
      "text/plain": [
       "<Figure size 432x288 with 1 Axes>"
      ]
     },
     "metadata": {
      "needs_background": "light"
     },
     "output_type": "display_data"
    }
   ],
   "source": [
    "plt.plot(x,y,'.') \n",
    "plt.plot(x,y_true,'r--')\n",
    "plt.plot(x,X@beta_hat,'b--')"
   ]
  },
  {
   "cell_type": "markdown",
   "id": "3b9d212e-2a82-40a2-9637-f8846e8a6687",
   "metadata": {},
   "source": [
    "---"
   ]
  },
  {
   "cell_type": "markdown",
   "id": "643aee7e-23cc-4e8e-8394-1261a6adfb5b",
   "metadata": {},
   "source": [
    "### GradientTape를 이용 "
   ]
  },
  {
   "cell_type": "markdown",
   "id": "915ec4f6-2385-4e4d-a4b2-3fb3804d6b1d",
   "metadata": {},
   "source": [
    "#### 풀이1: 벡터버전"
   ]
  },
  {
   "cell_type": "markdown",
   "id": "ce982ada-d724-4012-b4df-727590021ea7",
   "metadata": {},
   "source": [
    "`-` 포인트\n",
    "```python\n",
    "## 포인트코드1: 그레디언트 테입  \n",
    "with tf.GradientTape() as tape: \n",
    "    loss = \n",
    "## 포인트코드2: 미분 \n",
    "slope = tape.gradient(loss,beta_hat) \n",
    "## 포인트코드3: update \n",
    "beta_hat.assign_sub(slope*alph) \n",
    "```"
   ]
  },
  {
   "cell_type": "code",
   "execution_count": 26,
   "id": "95ec089b-191d-483c-ba85-1a56ff6b149a",
   "metadata": {},
   "outputs": [
    {
     "data": {
      "text/plain": [
       "(TensorShape([200, 2]), TensorShape([200, 1]))"
      ]
     },
     "execution_count": 26,
     "metadata": {},
     "output_type": "execute_result"
    }
   ],
   "source": [
    "y=y.reshape(N,1) # N=200 \n",
    "X.shape,y.shape"
   ]
  },
  {
   "cell_type": "code",
   "execution_count": 30,
   "id": "c435641b-b2d3-48d2-9044-74ea45bc1195",
   "metadata": {},
   "outputs": [
    {
     "data": {
      "text/plain": [
       "<tf.Variable 'Variable:0' shape=(2, 1) dtype=float64, numpy=\n",
       "array([[-5.],\n",
       "       [10.]])>"
      ]
     },
     "execution_count": 30,
     "metadata": {},
     "output_type": "execute_result"
    }
   ],
   "source": [
    "beta_hat = tf.Variable(tnp.array([-5.0,10.0]).reshape(2,1))\n",
    "beta_hat"
   ]
  },
  {
   "cell_type": "code",
   "execution_count": 31,
   "id": "ca458673-5e48-4057-a4cf-d7bd14e84bf4",
   "metadata": {},
   "outputs": [],
   "source": [
    "alpha=0.1"
   ]
  },
  {
   "cell_type": "code",
   "execution_count": 34,
   "id": "fc35a026-3afd-4107-b69e-3d6ad30f7577",
   "metadata": {},
   "outputs": [],
   "source": [
    "for epoc in range(1000):   \n",
    "    with tf.GradientTape() as tape: \n",
    "        tape.watch(beta_hat)\n",
    "        yhat = X@beta_hat\n",
    "        loss = (y-yhat).T @ (y-yhat) / N \n",
    "    slope = tape.gradient(loss,beta_hat) \n",
    "    beta_hat.assign_sub(slope * alpha) "
   ]
  },
  {
   "cell_type": "code",
   "execution_count": 35,
   "id": "d3372a52-36a1-4dd2-a47a-d350f0142790",
   "metadata": {},
   "outputs": [
    {
     "data": {
      "text/plain": [
       "<tf.Variable 'Variable:0' shape=(2, 1) dtype=float64, numpy=\n",
       "array([[2.58366061],\n",
       "       [3.93304684]])>"
      ]
     },
     "execution_count": 35,
     "metadata": {},
     "output_type": "execute_result"
    }
   ],
   "source": [
    "beta_hat"
   ]
  },
  {
   "cell_type": "markdown",
   "id": "c5d96ad8-10d6-454c-852b-0c613b4aa8ad",
   "metadata": {},
   "source": [
    "#### 풀이2: 스칼라버전"
   ]
  },
  {
   "cell_type": "markdown",
   "id": "33507460-6990-4b21-83f2-039963e72e6c",
   "metadata": {},
   "source": [
    "`-` 포인트\n",
    "```python\n",
    "## 포인트코드: 미분\n",
    "slope0,slope1 = tape.gradient(loss,[beta0_hat,beta1_hat])\n",
    "```"
   ]
  },
  {
   "cell_type": "code",
   "execution_count": 36,
   "id": "b057dd3d-fba4-4877-bcf9-fc67b24230d8",
   "metadata": {},
   "outputs": [
    {
     "data": {
      "text/plain": [
       "(TensorShape([200]), TensorShape([200]))"
      ]
     },
     "execution_count": 36,
     "metadata": {},
     "output_type": "execute_result"
    }
   ],
   "source": [
    "y=y.reshape(-1) # N=200 \n",
    "x.shape,y.shape"
   ]
  },
  {
   "cell_type": "code",
   "execution_count": 37,
   "id": "a166045a-9898-4484-8967-304a2d16036c",
   "metadata": {},
   "outputs": [],
   "source": [
    "beta0_hat = tf.Variable(-5.0)\n",
    "beta1_hat = tf.Variable(10.0)"
   ]
  },
  {
   "cell_type": "code",
   "execution_count": 38,
   "id": "31d7fe87-c99d-4125-b102-7b24619c9590",
   "metadata": {},
   "outputs": [],
   "source": [
    "alpha=0.1 "
   ]
  },
  {
   "cell_type": "code",
   "execution_count": 41,
   "id": "db7322e2-9ac6-4688-a65e-f4d5a579eb12",
   "metadata": {},
   "outputs": [],
   "source": [
    "for epoc in range(1000):   \n",
    "    with tf.GradientTape() as tape: \n",
    "        yhat = beta0_hat + beta1_hat*x \n",
    "        loss = tf.reduce_sum((y-yhat)**2) / N  #loss = sum((y-yhat)**2) / N \n",
    "    slope0,slope1 = tape.gradient(loss,[beta0_hat,beta1_hat]) \n",
    "    beta0_hat.assign_sub(slope0 * alpha) \n",
    "    beta1_hat.assign_sub(slope1 * alpha) "
   ]
  },
  {
   "cell_type": "code",
   "execution_count": 42,
   "id": "5c93e686-ee09-43ba-b8cc-ae95c6a8ec16",
   "metadata": {},
   "outputs": [
    {
     "data": {
      "text/plain": [
       "(<tf.Variable 'Variable:0' shape=() dtype=float32, numpy=2.5836616>,\n",
       " <tf.Variable 'Variable:0' shape=() dtype=float32, numpy=3.9330447>)"
      ]
     },
     "execution_count": 42,
     "metadata": {},
     "output_type": "execute_result"
    }
   ],
   "source": [
    "beta0_hat, beta1_hat "
   ]
  },
  {
   "cell_type": "markdown",
   "id": "531bf2de-ebec-43b6-9497-e17c1789b232",
   "metadata": {},
   "source": [
    "### GradientTape + opt.apply_gradients"
   ]
  },
  {
   "cell_type": "markdown",
   "id": "bff87ae7-e6c5-4cca-b7db-2de604980774",
   "metadata": {
    "tags": []
   },
   "source": [
    "#### 풀이1: 벡터버전 "
   ]
  },
  {
   "cell_type": "markdown",
   "id": "51aee63e-35c6-47fc-9ad6-b68d514fe233",
   "metadata": {},
   "source": [
    "`-` 포인트 \n",
    "```python\n",
    "## 포인트코드: 업데이트\n",
    "opt.apply_gradients([(slope,beta_hat)])  ## pair의 list가 입력 \n",
    "```"
   ]
  },
  {
   "cell_type": "code",
   "execution_count": 50,
   "id": "59990bd7-f960-4a00-a965-c06cf38e9c2d",
   "metadata": {},
   "outputs": [
    {
     "data": {
      "text/plain": [
       "(TensorShape([200, 2]), TensorShape([200, 1]))"
      ]
     },
     "execution_count": 50,
     "metadata": {},
     "output_type": "execute_result"
    }
   ],
   "source": [
    "y=y.reshape(N,1)\n",
    "X.shape,y.shape"
   ]
  },
  {
   "cell_type": "code",
   "execution_count": 51,
   "id": "ad288510-752b-47d9-84d6-588182aea52e",
   "metadata": {},
   "outputs": [
    {
     "data": {
      "text/plain": [
       "<tf.Variable 'Variable:0' shape=(2, 1) dtype=float64, numpy=\n",
       "array([[-5.],\n",
       "       [10.]])>"
      ]
     },
     "execution_count": 51,
     "metadata": {},
     "output_type": "execute_result"
    }
   ],
   "source": [
    "beta_hat = tf.Variable(tnp.array([-5.0,10.0]).reshape(2,1))\n",
    "beta_hat"
   ]
  },
  {
   "cell_type": "code",
   "execution_count": 52,
   "id": "667f3171-f4e7-48e8-8a57-fe4a030b8af1",
   "metadata": {},
   "outputs": [],
   "source": [
    "alpha=0.1"
   ]
  },
  {
   "cell_type": "code",
   "execution_count": 56,
   "id": "4f373d0f-ed61-4280-b110-2854c8c8e5e8",
   "metadata": {},
   "outputs": [],
   "source": [
    "opt = tf.optimizers.SGD(alpha) "
   ]
  },
  {
   "cell_type": "code",
   "execution_count": 57,
   "id": "4a095b4d-924d-49e4-917a-f8eb83136cdb",
   "metadata": {},
   "outputs": [],
   "source": [
    "for epoc in range(1000): \n",
    "    with tf.GradientTape() as tape: \n",
    "        yhat = X@beta_hat\n",
    "        loss = (y-yhat).T @ (y-yhat) / N \n",
    "    slope = tape.gradient(loss,beta_hat)  \n",
    "    opt.apply_gradients( [(slope,beta_hat),(slope,beta_hat)] )"
   ]
  },
  {
   "cell_type": "code",
   "execution_count": 58,
   "id": "219eac96-ba54-4edb-8e9e-4f79ab594021",
   "metadata": {},
   "outputs": [
    {
     "data": {
      "text/plain": [
       "<tf.Variable 'Variable:0' shape=(2, 1) dtype=float64, numpy=\n",
       "array([[2.58366546],\n",
       "       [3.93303778]])>"
      ]
     },
     "execution_count": 58,
     "metadata": {},
     "output_type": "execute_result"
    }
   ],
   "source": [
    "beta_hat"
   ]
  },
  {
   "cell_type": "markdown",
   "id": "b57cfb77-a28f-4119-95f2-fe7bf2ffeccb",
   "metadata": {
    "tags": []
   },
   "source": [
    "#### 풀이2: 스칼라버전 "
   ]
  },
  {
   "cell_type": "markdown",
   "id": "92e090b4-cb6f-481b-9841-a872b75f3293",
   "metadata": {},
   "source": [
    "`-` 포인트\n",
    "```python\n",
    "## 포인트코드: 업데이트 \n",
    "opt.apply_gradients([(slope0,beta0_hat),(slope1,beta1_hat)]) ## pair의 list가 입력 \n",
    "```"
   ]
  },
  {
   "cell_type": "code",
   "execution_count": 59,
   "id": "511d26fb-773b-4da9-95be-71d5fd9ccdc0",
   "metadata": {},
   "outputs": [
    {
     "data": {
      "text/plain": [
       "(TensorShape([200]), TensorShape([200]))"
      ]
     },
     "execution_count": 59,
     "metadata": {},
     "output_type": "execute_result"
    }
   ],
   "source": [
    "y=y.reshape(-1)\n",
    "x.shape,y.shape"
   ]
  },
  {
   "cell_type": "code",
   "execution_count": 60,
   "id": "16c236fc-db29-4942-9221-5432e0aa3897",
   "metadata": {},
   "outputs": [],
   "source": [
    "beta0_hat = tf.Variable(-5.0)\n",
    "beta1_hat = tf.Variable(10.0) "
   ]
  },
  {
   "cell_type": "code",
   "execution_count": 61,
   "id": "1b67364d-bf83-4973-9f5e-ac19b607587b",
   "metadata": {},
   "outputs": [],
   "source": [
    "alpha=0.1"
   ]
  },
  {
   "cell_type": "code",
   "execution_count": 62,
   "id": "5cf10966-d4c7-415d-a053-5b99e1b0773b",
   "metadata": {},
   "outputs": [],
   "source": [
    "opt = tf.optimizers.SGD(alpha) "
   ]
  },
  {
   "cell_type": "code",
   "execution_count": 64,
   "id": "bd956e8d-ab9c-4c93-8f56-33c4febc9b7b",
   "metadata": {},
   "outputs": [],
   "source": [
    "for epoc in range(1000): \n",
    "    with tf.GradientTape() as tape: \n",
    "        yhat = beta0_hat + beta1_hat*x \n",
    "        loss = tf.reduce_sum((y-yhat)**2) / N \n",
    "    slope0,slope1 = tape.gradient(loss,[beta0_hat,beta1_hat])  \n",
    "    opt.apply_gradients( [(slope0,beta0_hat),(slope1,beta1_hat)] )"
   ]
  },
  {
   "cell_type": "code",
   "execution_count": 65,
   "id": "5a92098a-ab9c-4996-8fb0-625bf2163a79",
   "metadata": {},
   "outputs": [
    {
     "data": {
      "text/plain": [
       "(<tf.Variable 'Variable:0' shape=() dtype=float32, numpy=2.58366>,\n",
       " <tf.Variable 'Variable:0' shape=() dtype=float32, numpy=3.933048>)"
      ]
     },
     "execution_count": 65,
     "metadata": {},
     "output_type": "execute_result"
    }
   ],
   "source": [
    "beta0_hat,beta1_hat"
   ]
  },
  {
   "cell_type": "markdown",
   "id": "d565e249-f3ea-46d8-817c-788b31d5df04",
   "metadata": {},
   "source": [
    "---"
   ]
  },
  {
   "cell_type": "markdown",
   "id": "68d729d6-2bc5-4486-bc01-e49a5a828a3f",
   "metadata": {},
   "source": [
    "### opt.minimize"
   ]
  },
  {
   "cell_type": "markdown",
   "id": "e721555c-d204-4480-8269-92aacd0fbd52",
   "metadata": {
    "tags": []
   },
   "source": [
    "#### 풀이1: 벡터버전, 사용자정의 손실함수 with lambda"
   ]
  },
  {
   "cell_type": "markdown",
   "id": "03dc6389-cf42-464f-9a5d-c3c557819c52",
   "metadata": {},
   "source": [
    "`-` 포인트\n",
    "```python\n",
    "## 포인트코드1: 손실함수 정의 \n",
    "loss_fn = lambda: ??\n",
    "\n",
    "## 포인트코드2: 옵티마이저 생성 \n",
    "opt = tf.optimizers.SGD(alpha)\n",
    "\n",
    "## 포인트코드3: 미분 & 업데이트 = minimize \n",
    "opt.minimize(loss_fn,beta_hat)\n",
    "```"
   ]
  },
  {
   "cell_type": "markdown",
   "id": "e22585b9-9570-486d-99c3-06aed76fdce9",
   "metadata": {},
   "source": [
    "#### 풀이2: 스칼라버전, 사용자정의 손실함수 with lambda"
   ]
  },
  {
   "cell_type": "markdown",
   "id": "a5d27478-9ec8-4d27-89dd-a4f7e8b4cef4",
   "metadata": {},
   "source": [
    "`-` 포인트\n",
    "```python\n",
    "## 포인트코드: 미분 & 업데이트 = minimize \n",
    "opt.minimize(loss_fn,[beta0_hat,beta1_hat])\n",
    "```"
   ]
  },
  {
   "cell_type": "markdown",
   "id": "656ad631-af78-4d4c-9518-0b3b28cf176c",
   "metadata": {},
   "source": [
    "#### 풀이3: 벡터버전, 사용자정의 (짧은) 손실함수 "
   ]
  },
  {
   "cell_type": "markdown",
   "id": "7f5e4f5a-7fe2-4011-a4f9-5e45ff88754a",
   "metadata": {},
   "source": [
    "`-` 포인트\n",
    "```python\n",
    "## 포인트코드: 손실함수정의 \n",
    "def loss_fn():\n",
    "    return ??\n",
    "```"
   ]
  },
  {
   "cell_type": "markdown",
   "id": "1e921af3-9a7f-44ee-a9a8-a9fa46ce47a9",
   "metadata": {},
   "source": [
    "#### 풀이4: 벡터버전, 사용자정의 (긴) 손실함수 "
   ]
  },
  {
   "cell_type": "markdown",
   "id": "1d47aac9-b60c-48f9-acc8-6b6c5138de01",
   "metadata": {},
   "source": [
    "`-` 포인트\n",
    "```python\n",
    "## 포인트코드: 손실함수정의 \n",
    "def loss_fn():\n",
    "    ??\n",
    "    ??\n",
    "    return ??\n",
    "```"
   ]
  },
  {
   "cell_type": "markdown",
   "id": "8b1a295a-2e91-49fa-81a9-a88e4d3e91e3",
   "metadata": {},
   "source": [
    "#### 풀이5: 벡터버전, 사용자정의 손실함수 <- tf.losses.MSE "
   ]
  },
  {
   "cell_type": "markdown",
   "id": "1c01d0f0-b6c5-4437-9301-b01f200ae7d0",
   "metadata": {},
   "source": [
    "`-` 포인트\n",
    "```python\n",
    "## 포인트코드: 미리구현되어있는 손실함수 이용 \n",
    "tf.losses.MSE(y,yhat)\n",
    "```"
   ]
  },
  {
   "cell_type": "markdown",
   "id": "857581e1-3e31-4b71-8295-a0aaea1f06dc",
   "metadata": {},
   "source": [
    "#### 풀이6: 벡터버전, 사용자정의 손실함수 <- tf.losses.MeaSquaredError"
   ]
  },
  {
   "cell_type": "markdown",
   "id": "1c8a9e0b-b567-4c53-b4cb-1b7cae1c601b",
   "metadata": {},
   "source": [
    "`-` 포인트\n",
    "```python\n",
    "## 포인트코드: 클래스로부터 손실함수 오브젝트 생성 (함수를 찍어내는 클래스) \n",
    "mse_fn = tf.losses.MeanSquaredError()\n",
    "mse_fn(y,yhat)\n",
    "```"
   ]
  },
  {
   "cell_type": "markdown",
   "id": "e023afbb-c04a-416c-8606-3846de8ce8fb",
   "metadata": {},
   "source": [
    "### tf.keras.Sequential"
   ]
  },
  {
   "cell_type": "markdown",
   "id": "4c199dee-71ae-42c4-857e-fce0b0d9089d",
   "metadata": {},
   "source": [
    "`-` $\\hat{y}_i=\\hat{\\beta}_0+\\hat{\\beta}_1x_i$ 의 서로다른 표현 "
   ]
  },
  {
   "cell_type": "code",
   "execution_count": 10,
   "id": "f57f6a91-c19f-4407-aa31-71fef652f13a",
   "metadata": {},
   "outputs": [],
   "source": [
    "import graphviz\n",
    "def gv(s): return graphviz.Source('digraph G{ rankdir=\"LR\"'+s + '; }')"
   ]
  },
  {
   "cell_type": "code",
   "execution_count": 11,
   "id": "10629f3f-105f-47aa-a086-4be0667b1481",
   "metadata": {},
   "outputs": [
    {
     "data": {
      "image/svg+xml": [
       "<?xml version=\"1.0\" encoding=\"UTF-8\" standalone=\"no\"?>\n",
       "<!DOCTYPE svg PUBLIC \"-//W3C//DTD SVG 1.1//EN\"\n",
       " \"http://www.w3.org/Graphics/SVG/1.1/DTD/svg11.dtd\">\n",
       "<!-- Generated by graphviz version 3.0.0 (20220315.2325)\n",
       " -->\n",
       "<!-- Title: G Pages: 1 -->\n",
       "<svg width=\"727pt\" height=\"98pt\"\n",
       " viewBox=\"0.00 0.00 726.86 98.00\" xmlns=\"http://www.w3.org/2000/svg\" xmlns:xlink=\"http://www.w3.org/1999/xlink\">\n",
       "<g id=\"graph0\" class=\"graph\" transform=\"scale(1 1) rotate(0) translate(4 94)\">\n",
       "<title>G</title>\n",
       "<polygon fill=\"white\" stroke=\"transparent\" points=\"-4,4 -4,-94 722.86,-94 722.86,4 -4,4\"/>\n",
       "<!-- 1 -->\n",
       "<g id=\"node1\" class=\"node\">\n",
       "<title>1</title>\n",
       "<ellipse fill=\"none\" stroke=\"black\" cx=\"27\" cy=\"-72\" rx=\"27\" ry=\"18\"/>\n",
       "<text text-anchor=\"middle\" x=\"27\" y=\"-68.3\" font-family=\"Times,serif\" font-size=\"14.00\">1</text>\n",
       "</g>\n",
       "<!-- beta0_hat + x*beta1_hat, &#160;&#160;&#160;bias=False -->\n",
       "<g id=\"node2\" class=\"node\">\n",
       "<title>beta0_hat + x*beta1_hat, &#160;&#160;&#160;bias=False</title>\n",
       "<ellipse fill=\"none\" stroke=\"black\" cx=\"363.73\" cy=\"-45\" rx=\"191.97\" ry=\"18\"/>\n",
       "<text text-anchor=\"middle\" x=\"363.73\" y=\"-41.3\" font-family=\"Times,serif\" font-size=\"14.00\">beta0_hat + x*beta1_hat, &#160;&#160;&#160;bias=False</text>\n",
       "</g>\n",
       "<!-- 1&#45;&gt;beta0_hat + x*beta1_hat, &#160;&#160;&#160;bias=False -->\n",
       "<g id=\"edge1\" class=\"edge\">\n",
       "<title>1&#45;&gt;beta0_hat + x*beta1_hat, &#160;&#160;&#160;bias=False</title>\n",
       "<path fill=\"none\" stroke=\"black\" d=\"M53.99,-69.9C87.46,-67.2 148.36,-62.29 207.28,-57.54\"/>\n",
       "<polygon fill=\"black\" stroke=\"black\" points=\"207.79,-61.01 217.48,-56.72 207.23,-54.03 207.79,-61.01\"/>\n",
       "<text text-anchor=\"middle\" x=\"113\" y=\"-71.8\" font-family=\"Times,serif\" font-size=\"14.00\">* beta0_hat</text>\n",
       "</g>\n",
       "<!-- yhat -->\n",
       "<g id=\"node4\" class=\"node\">\n",
       "<title>yhat</title>\n",
       "<ellipse fill=\"none\" stroke=\"black\" cx=\"687.66\" cy=\"-45\" rx=\"31.4\" ry=\"18\"/>\n",
       "<text text-anchor=\"middle\" x=\"687.66\" y=\"-41.3\" font-family=\"Times,serif\" font-size=\"14.00\">yhat</text>\n",
       "</g>\n",
       "<!-- beta0_hat + x*beta1_hat, &#160;&#160;&#160;bias=False&#45;&gt;yhat -->\n",
       "<g id=\"edge3\" class=\"edge\">\n",
       "<title>beta0_hat + x*beta1_hat, &#160;&#160;&#160;bias=False&#45;&gt;yhat</title>\n",
       "<path fill=\"none\" stroke=\"black\" d=\"M555.72,-45C589.92,-45 622.25,-45 646.23,-45\"/>\n",
       "<polygon fill=\"black\" stroke=\"black\" points=\"646.3,-48.5 656.3,-45 646.3,-41.5 646.3,-48.5\"/>\n",
       "<text text-anchor=\"middle\" x=\"605.97\" y=\"-48.8\" font-family=\"Times,serif\" font-size=\"14.00\">indentity</text>\n",
       "</g>\n",
       "<!-- x -->\n",
       "<g id=\"node3\" class=\"node\">\n",
       "<title>x</title>\n",
       "<ellipse fill=\"none\" stroke=\"black\" cx=\"27\" cy=\"-18\" rx=\"27\" ry=\"18\"/>\n",
       "<text text-anchor=\"middle\" x=\"27\" y=\"-14.3\" font-family=\"Times,serif\" font-size=\"14.00\">x</text>\n",
       "</g>\n",
       "<!-- x&#45;&gt;beta0_hat + x*beta1_hat, &#160;&#160;&#160;bias=False -->\n",
       "<g id=\"edge2\" class=\"edge\">\n",
       "<title>x&#45;&gt;beta0_hat + x*beta1_hat, &#160;&#160;&#160;bias=False</title>\n",
       "<path fill=\"none\" stroke=\"black\" d=\"M53.99,-20.1C87.46,-22.8 148.36,-27.71 207.28,-32.46\"/>\n",
       "<polygon fill=\"black\" stroke=\"black\" points=\"207.23,-35.97 217.48,-33.28 207.79,-28.99 207.23,-35.97\"/>\n",
       "<text text-anchor=\"middle\" x=\"113\" y=\"-30.8\" font-family=\"Times,serif\" font-size=\"14.00\">* beta1_hat</text>\n",
       "</g>\n",
       "</g>\n",
       "</svg>\n"
      ],
      "text/plain": [
       "<graphviz.sources.Source at 0x7fbeb6d99930>"
      ]
     },
     "execution_count": 11,
     "metadata": {},
     "output_type": "execute_result"
    }
   ],
   "source": [
    "gv(''' \n",
    "    \"1\" -> \"beta0_hat + x*beta1_hat,    bias=False\"[label=\"* beta0_hat\"]\n",
    "    \"x\" -> \"beta0_hat + x*beta1_hat,    bias=False\"[label=\"* beta1_hat\"]\n",
    "    \"beta0_hat + x*beta1_hat,    bias=False\" -> \"yhat\"[label=\"indentity\"]\n",
    "    ''')"
   ]
  },
  {
   "cell_type": "code",
   "execution_count": 7,
   "id": "a4fb9665-4004-4e1a-a41e-3b5dd028ff5e",
   "metadata": {},
   "outputs": [
    {
     "data": {
      "image/svg+xml": [
       "<?xml version=\"1.0\" encoding=\"UTF-8\" standalone=\"no\"?>\n",
       "<!DOCTYPE svg PUBLIC \"-//W3C//DTD SVG 1.1//EN\"\n",
       " \"http://www.w3.org/Graphics/SVG/1.1/DTD/svg11.dtd\">\n",
       "<!-- Generated by graphviz version 3.0.0 (20220315.2325)\n",
       " -->\n",
       "<!-- Title: G Pages: 1 -->\n",
       "<svg width=\"598pt\" height=\"44pt\"\n",
       " viewBox=\"0.00 0.00 598.07 44.00\" xmlns=\"http://www.w3.org/2000/svg\" xmlns:xlink=\"http://www.w3.org/1999/xlink\">\n",
       "<g id=\"graph0\" class=\"graph\" transform=\"scale(1 1) rotate(0) translate(4 40)\">\n",
       "<title>G</title>\n",
       "<polygon fill=\"white\" stroke=\"transparent\" points=\"-4,4 -4,-40 594.07,-40 594.07,4 -4,4\"/>\n",
       "<!-- x -->\n",
       "<g id=\"node1\" class=\"node\">\n",
       "<title>x</title>\n",
       "<ellipse fill=\"none\" stroke=\"black\" cx=\"27\" cy=\"-18\" rx=\"27\" ry=\"18\"/>\n",
       "<text text-anchor=\"middle\" x=\"27\" y=\"-14.3\" font-family=\"Times,serif\" font-size=\"14.00\">x</text>\n",
       "</g>\n",
       "<!-- x*beta1_hat, &#160;&#160;&#160;bias=True -->\n",
       "<g id=\"node2\" class=\"node\">\n",
       "<title>x*beta1_hat, &#160;&#160;&#160;bias=True</title>\n",
       "<ellipse fill=\"none\" stroke=\"black\" cx=\"297.34\" cy=\"-18\" rx=\"129.18\" ry=\"18\"/>\n",
       "<text text-anchor=\"middle\" x=\"297.34\" y=\"-14.3\" font-family=\"Times,serif\" font-size=\"14.00\">x*beta1_hat, &#160;&#160;&#160;bias=True</text>\n",
       "</g>\n",
       "<!-- x&#45;&gt;x*beta1_hat, &#160;&#160;&#160;bias=True -->\n",
       "<g id=\"edge1\" class=\"edge\">\n",
       "<title>x&#45;&gt;x*beta1_hat, &#160;&#160;&#160;bias=True</title>\n",
       "<path fill=\"none\" stroke=\"black\" d=\"M54.22,-18C78.96,-18 118.07,-18 157.71,-18\"/>\n",
       "<polygon fill=\"black\" stroke=\"black\" points=\"157.79,-21.5 167.79,-18 157.79,-14.5 157.79,-21.5\"/>\n",
       "<text text-anchor=\"middle\" x=\"111\" y=\"-21.8\" font-family=\"Times,serif\" font-size=\"14.00\">*beta1_hat</text>\n",
       "</g>\n",
       "<!-- yhat -->\n",
       "<g id=\"node3\" class=\"node\">\n",
       "<title>yhat</title>\n",
       "<ellipse fill=\"none\" stroke=\"black\" cx=\"558.87\" cy=\"-18\" rx=\"31.4\" ry=\"18\"/>\n",
       "<text text-anchor=\"middle\" x=\"558.87\" y=\"-14.3\" font-family=\"Times,serif\" font-size=\"14.00\">yhat</text>\n",
       "</g>\n",
       "<!-- x*beta1_hat, &#160;&#160;&#160;bias=True&#45;&gt;yhat -->\n",
       "<g id=\"edge2\" class=\"edge\">\n",
       "<title>x*beta1_hat, &#160;&#160;&#160;bias=True&#45;&gt;yhat</title>\n",
       "<path fill=\"none\" stroke=\"black\" d=\"M426.97,-18C459.87,-18 492.87,-18 517.5,-18\"/>\n",
       "<polygon fill=\"black\" stroke=\"black\" points=\"517.53,-21.5 527.53,-18 517.53,-14.5 517.53,-21.5\"/>\n",
       "<text text-anchor=\"middle\" x=\"477.18\" y=\"-21.8\" font-family=\"Times,serif\" font-size=\"14.00\">indentity</text>\n",
       "</g>\n",
       "</g>\n",
       "</svg>\n"
      ],
      "text/plain": [
       "<graphviz.sources.Source at 0x7fbfd4226ec0>"
      ]
     },
     "execution_count": 7,
     "metadata": {},
     "output_type": "execute_result"
    }
   ],
   "source": [
    "gv('''\n",
    "\"x\" -> \"x*beta1_hat,    bias=True\"[label=\"*beta1_hat\"] ;\n",
    "\"x*beta1_hat,    bias=True\" -> \"yhat\"[label=\"indentity\"] ''')\n"
   ]
  },
  {
   "cell_type": "code",
   "execution_count": 8,
   "id": "f00dcbeb-9f92-4893-b8c5-05f750f36ddc",
   "metadata": {},
   "outputs": [
    {
     "data": {
      "image/svg+xml": [
       "<?xml version=\"1.0\" encoding=\"UTF-8\" standalone=\"no\"?>\n",
       "<!DOCTYPE svg PUBLIC \"-//W3C//DTD SVG 1.1//EN\"\n",
       " \"http://www.w3.org/Graphics/SVG/1.1/DTD/svg11.dtd\">\n",
       "<!-- Generated by graphviz version 3.0.0 (20220315.2325)\n",
       " -->\n",
       "<!-- Title: G Pages: 1 -->\n",
       "<svg width=\"640pt\" height=\"44pt\"\n",
       " viewBox=\"0.00 0.00 639.56 44.00\" xmlns=\"http://www.w3.org/2000/svg\" xmlns:xlink=\"http://www.w3.org/1999/xlink\">\n",
       "<g id=\"graph0\" class=\"graph\" transform=\"scale(1 1) rotate(0) translate(4 40)\">\n",
       "<title>G</title>\n",
       "<polygon fill=\"white\" stroke=\"transparent\" points=\"-4,4 -4,-40 635.56,-40 635.56,4 -4,4\"/>\n",
       "<!-- X=[1 x] -->\n",
       "<g id=\"node1\" class=\"node\">\n",
       "<title>X=[1 x]</title>\n",
       "<ellipse fill=\"none\" stroke=\"black\" cx=\"46.15\" cy=\"-18\" rx=\"46.29\" ry=\"18\"/>\n",
       "<text text-anchor=\"middle\" x=\"46.15\" y=\"-14.3\" font-family=\"Times,serif\" font-size=\"14.00\">X=[1 x]</text>\n",
       "</g>\n",
       "<!-- X@beta_hat, &#160;&#160;&#160;bias=False -->\n",
       "<g id=\"node2\" class=\"node\">\n",
       "<title>X@beta_hat, &#160;&#160;&#160;bias=False</title>\n",
       "<ellipse fill=\"none\" stroke=\"black\" cx=\"336.23\" cy=\"-18\" rx=\"131.88\" ry=\"18\"/>\n",
       "<text text-anchor=\"middle\" x=\"336.23\" y=\"-14.3\" font-family=\"Times,serif\" font-size=\"14.00\">X@beta_hat, &#160;&#160;&#160;bias=False</text>\n",
       "</g>\n",
       "<!-- X=[1 x]&#45;&gt;X@beta_hat, &#160;&#160;&#160;bias=False -->\n",
       "<g id=\"edge1\" class=\"edge\">\n",
       "<title>X=[1 x]&#45;&gt;X@beta_hat, &#160;&#160;&#160;bias=False</title>\n",
       "<path fill=\"none\" stroke=\"black\" d=\"M92.48,-18C120.07,-18 156.97,-18 193.66,-18\"/>\n",
       "<polygon fill=\"black\" stroke=\"black\" points=\"193.99,-21.5 203.99,-18 193.99,-14.5 193.99,-21.5\"/>\n",
       "<text text-anchor=\"middle\" x=\"148.29\" y=\"-21.8\" font-family=\"Times,serif\" font-size=\"14.00\">@beta_hat</text>\n",
       "</g>\n",
       "<!-- yhat -->\n",
       "<g id=\"node3\" class=\"node\">\n",
       "<title>yhat</title>\n",
       "<ellipse fill=\"none\" stroke=\"black\" cx=\"600.37\" cy=\"-18\" rx=\"31.4\" ry=\"18\"/>\n",
       "<text text-anchor=\"middle\" x=\"600.37\" y=\"-14.3\" font-family=\"Times,serif\" font-size=\"14.00\">yhat</text>\n",
       "</g>\n",
       "<!-- X@beta_hat, &#160;&#160;&#160;bias=False&#45;&gt;yhat -->\n",
       "<g id=\"edge2\" class=\"edge\">\n",
       "<title>X@beta_hat, &#160;&#160;&#160;bias=False&#45;&gt;yhat</title>\n",
       "<path fill=\"none\" stroke=\"black\" d=\"M468.3,-18C501.34,-18 534.38,-18 559.02,-18\"/>\n",
       "<polygon fill=\"black\" stroke=\"black\" points=\"559.04,-21.5 569.04,-18 559.04,-14.5 559.04,-21.5\"/>\n",
       "<text text-anchor=\"middle\" x=\"518.67\" y=\"-21.8\" font-family=\"Times,serif\" font-size=\"14.00\">indentity</text>\n",
       "</g>\n",
       "</g>\n",
       "</svg>\n"
      ],
      "text/plain": [
       "<graphviz.sources.Source at 0x7fbeb6d992d0>"
      ]
     },
     "execution_count": 8,
     "metadata": {},
     "output_type": "execute_result"
    }
   ],
   "source": [
    "gv('''\n",
    "\"X=[1 x]\" -> \"X@beta_hat,    bias=False\"[label=\"@beta_hat\"] ;\n",
    "\"X@beta_hat,    bias=False\" -> \"yhat\"[label=\"indentity\"] ''')\n"
   ]
  },
  {
   "cell_type": "markdown",
   "id": "3d8e282b-3f96-4ee4-afa3-ae7a3adf2a64",
   "metadata": {},
   "source": [
    "#### 풀이1: 벡터버전, 사용자정의 손실함수 "
   ]
  },
  {
   "cell_type": "markdown",
   "id": "4e448975-204d-4202-9031-afb4fbabcd00",
   "metadata": {},
   "source": [
    "`-` 포인트\n",
    "```python\n",
    "## 포인트코드1: 네트워크 생성 \n",
    "net = tf.keras.Sequential()\n",
    "\n",
    "## 포인트코드2: 네트워크의 아키텍처 설계 \n",
    "net.add(tf.keras.layers.Dense(1,input_shape=(2,),use_bias=False)) \n",
    "\n",
    "## 포인트코드3: 네트워크 컴파일 = 아키텍처 + 손실함수 + 옵티마이저\n",
    "net.compile(opt,loss=loss_fn2)\n",
    "\n",
    "## 포인트코드4: 미분 & update \n",
    "net.fit(X,y,epochs=1000,verbose=0,batch_size=N) \n",
    "```"
   ]
  },
  {
   "cell_type": "markdown",
   "id": "2b001d6e-27ec-404b-9ee0-1d9bafc48284",
   "metadata": {
    "tags": []
   },
   "source": [
    "#### 풀이2: 벡터버전, net.compile의 옵션으로 손실함수 지정 "
   ]
  },
  {
   "cell_type": "markdown",
   "id": "a69de0ae-48ed-4673-b755-fd328fb40236",
   "metadata": {},
   "source": [
    "`-` 포인트\n",
    "```python\n",
    "## 포인트코드: 네트워크 컴파일 = 아키텍처 + 손실함수 + 옵티마이저\n",
    "net.compile(opt,loss='mse') # net.compile의 옵션으로 손실함수 지정 \n",
    "```"
   ]
  },
  {
   "cell_type": "markdown",
   "id": "74944931-c646-4f5a-92c4-911ed86c6a63",
   "metadata": {
    "tags": []
   },
   "source": [
    "#### 풀이3: 스칼라버전, net.compile의 옵션으로 손실함수 지정 "
   ]
  },
  {
   "cell_type": "markdown",
   "id": "9d332d42-324a-490f-86b7-f65b68ead8c8",
   "metadata": {},
   "source": [
    "`-` 포인트\n",
    "```python\n",
    "## 포인트코드: use_bias=True\n",
    "net.add(tf.keras.layers.Dense(1,input_shape=(1,),use_bias=True)) \n",
    "```"
   ]
  },
  {
   "cell_type": "markdown",
   "id": "0fd8423d-eb28-41a4-a702-b25cb2e62d53",
   "metadata": {},
   "source": [
    "### tf.keras.Model"
   ]
  },
  {
   "cell_type": "markdown",
   "id": "61bf8737-0404-431c-b7f1-9c1672acf713",
   "metadata": {},
   "source": [
    "#### 풀이1: 벡터버전"
   ]
  },
  {
   "cell_type": "markdown",
   "id": "4cbae1b7-c01b-4a6d-b9b2-c55a93c8e77f",
   "metadata": {},
   "source": [
    "`-` 포인트 \n",
    "```python\n",
    "## 포인트코드: 네트워크 설계 (Xi -> yihat의 과정을 공책에 쭉 쓰는 느낌)\n",
    "Xi = tf.keras.layers.Input(shape=(2,)) \n",
    "l1 = tf.keras.layers.Dense(units=1,input_shape=(2,),use_bias=False) \n",
    "yihat = l1(Xi) \n",
    "net = tf.keras.Model(Xi,yihat)\n",
    "```"
   ]
  },
  {
   "cell_type": "markdown",
   "id": "312f8049-5c4a-4cea-b5af-2c3e0f2edad0",
   "metadata": {},
   "source": [
    "#### 풀이2: 스칼라버전 "
   ]
  },
  {
   "cell_type": "markdown",
   "id": "15c5533c-2007-458e-aa83-fdc4f3e25c30",
   "metadata": {},
   "source": [
    "`-` 포인트 \n",
    "```python\n",
    "## 포인트코드: 네트워크 설계 (입력차원 조심, 바이어스 조심) \n",
    "xi = tf.keras.layers.Input(shape=(1,)) \n",
    "l1 = tf.keras.layers.Dense(units=1,input_shape=(1,),use_bias=True)\n",
    "```"
   ]
  }
 ],
 "metadata": {
  "kernelspec": {
   "display_name": "Python 3 (ipykernel)",
   "language": "python",
   "name": "python3"
  },
  "language_info": {
   "codemirror_mode": {
    "name": "ipython",
    "version": 3
   },
   "file_extension": ".py",
   "mimetype": "text/x-python",
   "name": "python",
   "nbconvert_exporter": "python",
   "pygments_lexer": "ipython3",
   "version": "3.10.4"
  }
 },
 "nbformat": 4,
 "nbformat_minor": 5
}
