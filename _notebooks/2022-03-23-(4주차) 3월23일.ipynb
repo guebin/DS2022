{
 "cells": [
  {
   "cell_type": "markdown",
   "id": "4a733813-1b35-4d41-839e-0efdb1da5c6e",
   "metadata": {},
   "source": [
    "# (4주차) 3월23일\n",
    "\n",
    "- toc:true\n",
    "- branch: master\n",
    "- badges: true\n",
    "- comments: true\n",
    "- author: 최규빈"
   ]
  },
  {
   "cell_type": "markdown",
   "id": "a9756b93-8999-4711-9404-09f229e799b7",
   "metadata": {},
   "source": [
    "### 강의영상 "
   ]
  },
  {
   "cell_type": "markdown",
   "id": "77cfb6e4-de5f-41b4-afd8-89350128060c",
   "metadata": {},
   "source": [
    "> youtube: https://youtube.com/playlist?list=PLQqh36zP38-znFo6v4ZOiJADDtKy8wEIX"
   ]
  },
  {
   "cell_type": "markdown",
   "id": "aa2b97c2-6497-4eea-8c10-553edb8bae81",
   "metadata": {},
   "source": [
    "### imports "
   ]
  },
  {
   "cell_type": "code",
   "execution_count": 2,
   "id": "1194bc77-ba5e-4f60-a976-edaca7566862",
   "metadata": {},
   "outputs": [],
   "source": [
    "import tensorflow as tf \n",
    "import tensorflow.experimental.numpy as tnp "
   ]
  },
  {
   "cell_type": "code",
   "execution_count": 16,
   "id": "15231afb-9d38-4d1e-8343-84d04f81fb28",
   "metadata": {},
   "outputs": [],
   "source": [
    "import matplotlib.pyplot as plt "
   ]
  },
  {
   "cell_type": "code",
   "execution_count": 3,
   "id": "a48671ef-6efe-41c1-99b4-a466d0b870bb",
   "metadata": {},
   "outputs": [],
   "source": [
    "tnp.experimental_enable_numpy_behavior()"
   ]
  },
  {
   "cell_type": "markdown",
   "id": "0f2afc92-f05c-4dfa-b202-30bd166f54a5",
   "metadata": {},
   "source": [
    "### 미분 "
   ]
  },
  {
   "cell_type": "markdown",
   "id": "d800db5c-6c4a-4e44-9b6c-73e2ecd06c7e",
   "metadata": {},
   "source": [
    "#### tf.GradientTape() 사용방법"
   ]
  },
  {
   "cell_type": "markdown",
   "id": "cbd7d77f-4b57-48fb-8520-b4b86722c973",
   "metadata": {},
   "source": [
    "`-` 예제9: 카페예제로 돌아오자. "
   ]
  },
  {
   "cell_type": "code",
   "execution_count": 6,
   "id": "7253c83d-34b9-49b3-8eea-918ecce8b00c",
   "metadata": {},
   "outputs": [
    {
     "data": {
      "text/plain": [
       "<tf.Tensor: shape=(10,), dtype=float64, numpy=array([20.1, 22.2, 22.7, 23.3, 24.4, 25.1, 26.2, 27.3, 28.4, 30.4])>"
      ]
     },
     "execution_count": 6,
     "metadata": {},
     "output_type": "execute_result"
    }
   ],
   "source": [
    "x=tnp.array([20.1, 22.2, 22.7, 23.3, 24.4, 25.1, 26.2, 27.3, 28.4, 30.4])\n",
    "x"
   ]
  },
  {
   "cell_type": "code",
   "execution_count": 15,
   "id": "20501826-c897-4ff7-89ff-f5626f7b4340",
   "metadata": {},
   "outputs": [
    {
     "data": {
      "text/plain": [
       "<tf.Tensor: shape=(10,), dtype=float64, numpy=\n",
       "array([54.98269924, 60.27348365, 61.27621687, 60.53495888, 62.9770905 ,\n",
       "       66.32168996, 66.87781372, 71.0050025 , 72.63837337, 77.11143943])>"
      ]
     },
     "execution_count": 15,
     "metadata": {},
     "output_type": "execute_result"
    }
   ],
   "source": [
    "tnp.random.seed(43052) \n",
    "y= 10.2+ x*2.2 + tnp.random.randn(10) \n",
    "y"
   ]
  },
  {
   "cell_type": "code",
   "execution_count": 19,
   "id": "5efb732f-a252-4470-8a5a-8f616187caa6",
   "metadata": {},
   "outputs": [],
   "source": [
    "beta0= tf.Variable(9.0) \n",
    "beta1= tf.Variable(2.0)  "
   ]
  },
  {
   "cell_type": "code",
   "execution_count": 23,
   "id": "c71d181d-d6ac-48a0-b1bd-8437833b4cb2",
   "metadata": {},
   "outputs": [],
   "source": [
    "with tf.GradientTape(persistent=True) as tape: \n",
    "    loss=sum((y-beta0-beta1*x)**2)"
   ]
  },
  {
   "cell_type": "code",
   "execution_count": 27,
   "id": "32112dc6-04dc-4296-9ac4-d9a7fd29ea40",
   "metadata": {},
   "outputs": [
    {
     "data": {
      "text/plain": [
       "(<tf.Tensor: shape=(), dtype=float32, numpy=-127.597534>,\n",
       " <tf.Tensor: shape=(), dtype=float32, numpy=-3214.2532>)"
      ]
     },
     "execution_count": 27,
     "metadata": {},
     "output_type": "execute_result"
    }
   ],
   "source": [
    "tape.gradient(loss,beta0),tape.gradient(loss,beta1) "
   ]
  },
  {
   "cell_type": "markdown",
   "id": "9a8e8dd5-d515-4327-98ad-8d7c36edf0d1",
   "metadata": {},
   "source": [
    "`-` 예제10: 카페예제의 매트릭스 버전 "
   ]
  },
  {
   "cell_type": "code",
   "execution_count": 39,
   "id": "a2ebb84e-8dc2-4120-b865-041f23cd4a6e",
   "metadata": {},
   "outputs": [
    {
     "data": {
      "text/plain": [
       "<tf.Tensor: shape=(10, 2), dtype=float64, numpy=\n",
       "array([[ 1. , 20.1],\n",
       "       [ 1. , 22.2],\n",
       "       [ 1. , 22.7],\n",
       "       [ 1. , 23.3],\n",
       "       [ 1. , 24.4],\n",
       "       [ 1. , 25.1],\n",
       "       [ 1. , 26.2],\n",
       "       [ 1. , 27.3],\n",
       "       [ 1. , 28.4],\n",
       "       [ 1. , 30.4]])>"
      ]
     },
     "execution_count": 39,
     "metadata": {},
     "output_type": "execute_result"
    }
   ],
   "source": [
    "X= tnp.array([1]*10+ [20.1, 22.2, 22.7, 23.3, 24.4, 25.1, 26.2, 27.3, 28.4, 30.4]).reshape(2,10).T\n",
    "X"
   ]
  },
  {
   "cell_type": "code",
   "execution_count": 40,
   "id": "2b5e7adf-ca27-4c96-a790-083a991fe87a",
   "metadata": {},
   "outputs": [
    {
     "data": {
      "text/plain": [
       "<tf.Tensor: shape=(2, 1), dtype=float64, numpy=\n",
       "array([[10.2],\n",
       "       [ 2.2]])>"
      ]
     },
     "execution_count": 40,
     "metadata": {},
     "output_type": "execute_result"
    }
   ],
   "source": [
    "beta_true = tnp.array([[10.2],[2.2]])\n",
    "beta_true"
   ]
  },
  {
   "cell_type": "code",
   "execution_count": 42,
   "id": "e0fa7ecb-2596-49fe-a580-64512b405d92",
   "metadata": {},
   "outputs": [
    {
     "data": {
      "text/plain": [
       "<tf.Tensor: shape=(10, 1), dtype=float64, numpy=\n",
       "array([[54.98269924],\n",
       "       [60.27348365],\n",
       "       [61.27621687],\n",
       "       [60.53495888],\n",
       "       [62.9770905 ],\n",
       "       [66.32168996],\n",
       "       [66.87781372],\n",
       "       [71.0050025 ],\n",
       "       [72.63837337],\n",
       "       [77.11143943]])>"
      ]
     },
     "execution_count": 42,
     "metadata": {},
     "output_type": "execute_result"
    }
   ],
   "source": [
    "tnp.random.seed(43052) \n",
    "y= X@beta_true + tnp.random.randn(10).reshape(10,1)\n",
    "y"
   ]
  },
  {
   "cell_type": "code",
   "execution_count": 43,
   "id": "a2bee407-626d-4d29-871c-3e6be86c190f",
   "metadata": {},
   "outputs": [
    {
     "data": {
      "text/plain": [
       "<tf.Tensor: shape=(2, 1), dtype=float64, numpy=\n",
       "array([[9.],\n",
       "       [2.]])>"
      ]
     },
     "execution_count": 43,
     "metadata": {},
     "output_type": "execute_result"
    }
   ],
   "source": [
    "beta = tnp.array([[9.0],[2.0]])\n",
    "beta"
   ]
  },
  {
   "cell_type": "code",
   "execution_count": 51,
   "id": "0d9840ef-e786-47f7-ae92-09cf60fa48d6",
   "metadata": {},
   "outputs": [],
   "source": [
    "with tf.GradientTape(persistent=True) as tape:\n",
    "    tape.watch(beta)\n",
    "    yhat = X@beta \n",
    "    loss=(y-yhat).T @ (y-yhat) "
   ]
  },
  {
   "cell_type": "code",
   "execution_count": 52,
   "id": "53de962c-927e-4dbd-aeec-419069c5abf7",
   "metadata": {},
   "outputs": [
    {
     "data": {
      "text/plain": [
       "<tf.Tensor: shape=(2, 1), dtype=float64, numpy=\n",
       "array([[ -127.59753624],\n",
       "       [-3214.25306574]])>"
      ]
     },
     "execution_count": 52,
     "metadata": {},
     "output_type": "execute_result"
    }
   ],
   "source": [
    "tape.gradient(loss,beta) # 텐서플로우가 계산한 미분값"
   ]
  },
  {
   "cell_type": "markdown",
   "id": "a4b90ee1-a732-4813-bef4-28b3ff926077",
   "metadata": {},
   "source": [
    "`-` 해석적풀이 "
   ]
  },
  {
   "cell_type": "markdown",
   "id": "a38d18f7-5903-4cad-8082-45cde20ee40b",
   "metadata": {},
   "source": [
    "$$loss'(\\beta)= -2X'y + 2X'X\\beta$$ "
   ]
  },
  {
   "cell_type": "code",
   "execution_count": 55,
   "id": "64b2eede-53f7-4616-9ee1-f9afe6fb2ede",
   "metadata": {},
   "outputs": [
    {
     "data": {
      "text/plain": [
       "<tf.Tensor: shape=(2, 1), dtype=float64, numpy=\n",
       "array([[ -127.59753624],\n",
       "       [-3214.25306574]])>"
      ]
     },
     "execution_count": 55,
     "metadata": {},
     "output_type": "execute_result"
    }
   ],
   "source": [
    "-2 * X.T @ y + 2* X.T @ X @ beta # 이론적인 값 "
   ]
  },
  {
   "cell_type": "markdown",
   "id": "61f3450d-65d3-469a-af17-ee5caf4824f0",
   "metadata": {},
   "source": [
    "`-` 예제11: 위의 예제에서 이론적인 $\\boldsymbol{\\beta}$의 최적값을 찾아보고 (즉 $\\boldsymbol{\\hat\\beta}$을 찾고) 그 지점에서 loss의 미분값(=접선의 기울기)를 구하라. 결과가 $\\bf{0}$인지 확인하라. (단 ${\\bf 0}$은 길이가 2이고 각 원소가 0인 벡터)"
   ]
  },
  {
   "cell_type": "code",
   "execution_count": 56,
   "id": "2af41b22-f60f-4acc-8f7b-c8104a24fdb0",
   "metadata": {},
   "outputs": [
    {
     "data": {
      "text/plain": [
       "<tf.Tensor: shape=(2, 1), dtype=float64, numpy=\n",
       "array([[12.10040012],\n",
       "       [ 2.13112662]])>"
      ]
     },
     "execution_count": 56,
     "metadata": {},
     "output_type": "execute_result"
    }
   ],
   "source": [
    "betahat = tf.linalg.inv(X.T @ X) @ X.T @ y \n",
    "betahat"
   ]
  },
  {
   "cell_type": "code",
   "execution_count": 57,
   "id": "97160e59-4250-4a45-ab4a-f983bdfa29c6",
   "metadata": {},
   "outputs": [],
   "source": [
    "with tf.GradientTape() as tape: \n",
    "    tape.watch(betahat)\n",
    "    yhat = X@betahat \n",
    "    loss=(y-yhat).T @ (y-yhat)  "
   ]
  },
  {
   "cell_type": "code",
   "execution_count": 58,
   "id": "97939971-ab46-41fd-87af-f745b9134d78",
   "metadata": {},
   "outputs": [
    {
     "data": {
      "text/plain": [
       "<tf.Tensor: shape=(2, 1), dtype=float64, numpy=\n",
       "array([[-4.23483471e-12],\n",
       "       [-1.06379688e-10]])>"
      ]
     },
     "execution_count": 58,
     "metadata": {},
     "output_type": "execute_result"
    }
   ],
   "source": [
    "tape.gradient(loss,betahat)"
   ]
  },
  {
   "cell_type": "markdown",
   "id": "1bdd3374-7884-485a-acb9-3ffba10e4aed",
   "metadata": {},
   "source": [
    "## 경사하강법 "
   ]
  },
  {
   "cell_type": "markdown",
   "id": "2533e309-a267-4807-aa6c-fee7efb873f9",
   "metadata": {},
   "source": [
    "### 최적화문제 "
   ]
  },
  {
   "cell_type": "markdown",
   "id": "34c07436-0452-4003-b565-9d6d923f4a3b",
   "metadata": {},
   "source": [
    "`-` $loss=(\\frac{1}{2}\\beta-1)^2$를 최소하는 $\\beta$를 컴퓨터를 활용하여 구하는 문제를 생각해보자. (답은 이미 알고 있어요, $\\beta=2$입니다.) "
   ]
  },
  {
   "cell_type": "markdown",
   "id": "77d075a4-3d9a-4a65-91ad-72bbc7beb98b",
   "metadata": {},
   "source": [
    "### 방법1: grid search"
   ]
  },
  {
   "cell_type": "markdown",
   "id": "b2e56e06-d3bf-4427-a0b2-531e960c36da",
   "metadata": {},
   "source": [
    "#### 알고리즘 "
   ]
  },
  {
   "cell_type": "markdown",
   "id": "6622b558-4525-4982-a366-2b1028d0a131",
   "metadata": {},
   "source": [
    "(1) beta = [-10, -9.99, -9.98, ... , 9.99, 10] 와 같은 수열을 만든다. \n",
    "\n",
    "(2) 각 지점에서 (beta/2 -1)^2 을 계산한다. \n",
    "\n",
    "(3) (2)의 결과를 가장 작게 만드는 값을 고른다. "
   ]
  },
  {
   "cell_type": "markdown",
   "id": "cadb7a0e-5b25-41fd-a10e-972a0a253770",
   "metadata": {},
   "source": [
    "#### 구현코드 "
   ]
  },
  {
   "cell_type": "code",
   "execution_count": 73,
   "id": "afa87877-28fe-4cfc-a81c-1c59169cbc41",
   "metadata": {},
   "outputs": [],
   "source": [
    "beta = tnp.linspace(-10,10,100) \n",
    "loss = (beta/2 -1)**2"
   ]
  },
  {
   "cell_type": "code",
   "execution_count": 63,
   "id": "aac79f27-9b8f-4e76-8648-c33628ff4652",
   "metadata": {},
   "outputs": [
    {
     "data": {
      "text/plain": [
       "<tf.Tensor: shape=(100,), dtype=float64, numpy=\n",
       "array([3.60000000e+01, 3.47980818e+01, 3.36165697e+01, 3.24554637e+01,\n",
       "       3.13147638e+01, 3.01944700e+01, 2.90945822e+01, 2.80151005e+01,\n",
       "       2.69560249e+01, 2.59173554e+01, 2.48990919e+01, 2.39012346e+01,\n",
       "       2.29237833e+01, 2.19667381e+01, 2.10300990e+01, 2.01138659e+01,\n",
       "       1.92180390e+01, 1.83426181e+01, 1.74876033e+01, 1.66529946e+01,\n",
       "       1.58387920e+01, 1.50449954e+01, 1.42716049e+01, 1.35186205e+01,\n",
       "       1.27860422e+01, 1.20738700e+01, 1.13821039e+01, 1.07107438e+01,\n",
       "       1.00597898e+01, 9.42924191e+00, 8.81910009e+00, 8.22936435e+00,\n",
       "       7.66003469e+00, 7.11111111e+00, 6.58259361e+00, 6.07448220e+00,\n",
       "       5.58677686e+00, 5.11947760e+00, 4.67258443e+00, 4.24609734e+00,\n",
       "       3.84001632e+00, 3.45434139e+00, 3.08907254e+00, 2.74420977e+00,\n",
       "       2.41975309e+00, 2.11570248e+00, 1.83205795e+00, 1.56881951e+00,\n",
       "       1.32598714e+00, 1.10356086e+00, 9.01540659e-01, 7.19926538e-01,\n",
       "       5.58718498e-01, 4.17916539e-01, 2.97520661e-01, 1.97530864e-01,\n",
       "       1.17947148e-01, 5.87695133e-02, 1.99979594e-02, 1.63248648e-03,\n",
       "       3.67309458e-03, 2.61197837e-02, 6.89725538e-02, 1.32231405e-01,\n",
       "       2.15896337e-01, 3.19967350e-01, 4.44444444e-01, 5.89327620e-01,\n",
       "       7.54616876e-01, 9.40312213e-01, 1.14641363e+00, 1.37292113e+00,\n",
       "       1.61983471e+00, 1.88715437e+00, 2.17488011e+00, 2.48301194e+00,\n",
       "       2.81154984e+00, 3.16049383e+00, 3.52984389e+00, 3.91960004e+00,\n",
       "       4.32976227e+00, 4.76033058e+00, 5.21130497e+00, 5.68268544e+00,\n",
       "       6.17447199e+00, 6.68666463e+00, 7.21926334e+00, 7.77226814e+00,\n",
       "       8.34567901e+00, 8.93949597e+00, 9.55371901e+00, 1.01883481e+01,\n",
       "       1.08433833e+01, 1.15188246e+01, 1.22146720e+01, 1.29309254e+01,\n",
       "       1.36675849e+01, 1.44246505e+01, 1.52021222e+01, 1.60000000e+01])>"
      ]
     },
     "execution_count": 63,
     "metadata": {},
     "output_type": "execute_result"
    }
   ],
   "source": [
    "loss"
   ]
  },
  {
   "cell_type": "markdown",
   "id": "7d60f505-5a77-43d6-8741-c4092653395f",
   "metadata": {},
   "source": [
    "(예비학습) "
   ]
  },
  {
   "cell_type": "code",
   "execution_count": 64,
   "id": "0148b72e-6f17-4f63-98b9-854396fa2ab9",
   "metadata": {},
   "outputs": [
    {
     "data": {
      "text/plain": [
       "<tf.Tensor: shape=(), dtype=int64, numpy=3>"
      ]
     },
     "execution_count": 64,
     "metadata": {},
     "output_type": "execute_result"
    }
   ],
   "source": [
    "tnp.argmin([1,2,3,-1,5])"
   ]
  },
  {
   "cell_type": "code",
   "execution_count": 65,
   "id": "fa06854d-ac5e-4247-9f99-18c7a5d0627d",
   "metadata": {},
   "outputs": [
    {
     "data": {
      "text/plain": [
       "<tf.Tensor: shape=(), dtype=int64, numpy=2>"
      ]
     },
     "execution_count": 65,
     "metadata": {},
     "output_type": "execute_result"
    }
   ],
   "source": [
    "tnp.argmin([1,2,-1,3,5])"
   ]
  },
  {
   "cell_type": "markdown",
   "id": "9d93ddc5-c429-4d10-bf74-16d18030b0d0",
   "metadata": {},
   "source": [
    "예비학습 끝 "
   ]
  },
  {
   "cell_type": "code",
   "execution_count": 67,
   "id": "b89f8804-0d05-46b7-97b3-90940ef5e73a",
   "metadata": {},
   "outputs": [
    {
     "data": {
      "text/plain": [
       "<tf.Tensor: shape=(), dtype=int64, numpy=59>"
      ]
     },
     "execution_count": 67,
     "metadata": {},
     "output_type": "execute_result"
    }
   ],
   "source": [
    "tnp.argmin(loss)"
   ]
  },
  {
   "cell_type": "code",
   "execution_count": 68,
   "id": "80aad72b-29d6-410d-854e-205aac718040",
   "metadata": {},
   "outputs": [
    {
     "data": {
      "text/plain": [
       "<tf.Tensor: shape=(), dtype=float64, numpy=1.9191919191919187>"
      ]
     },
     "execution_count": 68,
     "metadata": {},
     "output_type": "execute_result"
    }
   ],
   "source": [
    "beta[59] "
   ]
  },
  {
   "cell_type": "code",
   "execution_count": 69,
   "id": "5faab4dc-b354-4dd2-893f-0c2817516c3f",
   "metadata": {},
   "outputs": [
    {
     "data": {
      "text/plain": [
       "<tf.Tensor: shape=(), dtype=float64, numpy=2.121212121212121>"
      ]
     },
     "execution_count": 69,
     "metadata": {},
     "output_type": "execute_result"
    }
   ],
   "source": [
    "beta[60]"
   ]
  },
  {
   "cell_type": "code",
   "execution_count": 72,
   "id": "7684d85f-c5e9-4311-ba2b-ed2888b48654",
   "metadata": {},
   "outputs": [
    {
     "data": {
      "text/plain": [
       "(<tf.Tensor: shape=(), dtype=float64, numpy=0.0016324864809713507>,\n",
       " <tf.Tensor: shape=(), dtype=float64, numpy=0.0036730945821854847>)"
      ]
     },
     "execution_count": 72,
     "metadata": {},
     "output_type": "execute_result"
    }
   ],
   "source": [
    "loss[59],loss[60] "
   ]
  },
  {
   "cell_type": "markdown",
   "id": "77a4415a-b109-4a24-a4df-93165d411d61",
   "metadata": {},
   "source": [
    "#### 그리드서치의 문제점 "
   ]
  },
  {
   "cell_type": "markdown",
   "id": "98ce2838-514c-4df2-bb70-1444deb88e7b",
   "metadata": {},
   "source": [
    "`-` 비판1: [-10,10]이외에 해가 존재하면? \n",
    "- 이 예제의 경우는 운좋게 [-10,10]에서 해가 존재했음\n",
    "- 하지만 임의의 고정된 $x,y$에 대하여 $loss(\\beta)=(x\\beta-y)^2$ 의 형태의 해가 항상 [-10,10]에서 존재한다는 보장은 없음\n",
    "- 해결책: 더 넓게 많은 범위를 탐색하자? "
   ]
  },
  {
   "cell_type": "markdown",
   "id": "aafe2234-aab7-4d4e-961c-ad8751bd1ee5",
   "metadata": {},
   "source": [
    "`-` 비판2: 효율적이지 않음\n",
    "- 알고리즘을 요약하면 결국 -10부터 10까지 작은 간격으로 조금씩 이동하며 loss를 조사하는 것이 grid search의 아이디어 \n",
    "- $\\to$ 생각해보니까 $\\beta=2$인 순간 $loss=(\\frac{1}{2}\\beta-1)^2=0$이 되어서 이것보다 작은 최소값은 존재하지 않는다(제곱은 항상 양수이어야 하므로)\n",
    "- $\\to$ 따라서 $\\beta=2$ 이후로는 탐색할 필요가 없다 "
   ]
  }
 ],
 "metadata": {
  "kernelspec": {
   "display_name": "Python 3 (ipykernel)",
   "language": "python",
   "name": "python3"
  },
  "language_info": {
   "codemirror_mode": {
    "name": "ipython",
    "version": 3
   },
   "file_extension": ".py",
   "mimetype": "text/x-python",
   "name": "python",
   "nbconvert_exporter": "python",
   "pygments_lexer": "ipython3",
   "version": "3.10.0"
  }
 },
 "nbformat": 4,
 "nbformat_minor": 5
}
