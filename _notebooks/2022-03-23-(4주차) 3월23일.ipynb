{
 "cells": [
  {
   "cell_type": "markdown",
   "id": "4a733813-1b35-4d41-839e-0efdb1da5c6e",
   "metadata": {},
   "source": [
    "# (4주차) 3월23일\n",
    "\n",
    "- toc:true\n",
    "- branch: master\n",
    "- badges: true\n",
    "- comments: true\n",
    "- author: 최규빈"
   ]
  },
  {
   "cell_type": "markdown",
   "id": "a9756b93-8999-4711-9404-09f229e799b7",
   "metadata": {},
   "source": [
    "### 강의영상 "
   ]
  },
  {
   "cell_type": "markdown",
   "id": "aa2b97c2-6497-4eea-8c10-553edb8bae81",
   "metadata": {},
   "source": [
    "### imports "
   ]
  },
  {
   "cell_type": "code",
   "execution_count": 2,
   "id": "1194bc77-ba5e-4f60-a976-edaca7566862",
   "metadata": {},
   "outputs": [],
   "source": [
    "import tensorflow as tf \n",
    "import tensorflow.experimental.numpy as tnp "
   ]
  },
  {
   "cell_type": "code",
   "execution_count": 16,
   "id": "15231afb-9d38-4d1e-8343-84d04f81fb28",
   "metadata": {},
   "outputs": [],
   "source": [
    "import matplotlib.pyplot as plt "
   ]
  },
  {
   "cell_type": "code",
   "execution_count": 3,
   "id": "a48671ef-6efe-41c1-99b4-a466d0b870bb",
   "metadata": {},
   "outputs": [],
   "source": [
    "tnp.experimental_enable_numpy_behavior()"
   ]
  },
  {
   "cell_type": "markdown",
   "id": "0f2afc92-f05c-4dfa-b202-30bd166f54a5",
   "metadata": {},
   "source": [
    "### 미분 "
   ]
  },
  {
   "cell_type": "markdown",
   "id": "d800db5c-6c4a-4e44-9b6c-73e2ecd06c7e",
   "metadata": {},
   "source": [
    "#### tf.GradientTape() 사용방법"
   ]
  },
  {
   "cell_type": "markdown",
   "id": "cbd7d77f-4b57-48fb-8520-b4b86722c973",
   "metadata": {},
   "source": [
    "`-` 예제9: 카페예제로 돌아오자. "
   ]
  },
  {
   "cell_type": "code",
   "execution_count": 6,
   "id": "7253c83d-34b9-49b3-8eea-918ecce8b00c",
   "metadata": {},
   "outputs": [
    {
     "data": {
      "text/plain": [
       "<tf.Tensor: shape=(10,), dtype=float64, numpy=array([20.1, 22.2, 22.7, 23.3, 24.4, 25.1, 26.2, 27.3, 28.4, 30.4])>"
      ]
     },
     "execution_count": 6,
     "metadata": {},
     "output_type": "execute_result"
    }
   ],
   "source": [
    "x=tnp.array([20.1, 22.2, 22.7, 23.3, 24.4, 25.1, 26.2, 27.3, 28.4, 30.4])\n",
    "x"
   ]
  },
  {
   "cell_type": "code",
   "execution_count": 15,
   "id": "20501826-c897-4ff7-89ff-f5626f7b4340",
   "metadata": {},
   "outputs": [
    {
     "data": {
      "text/plain": [
       "<tf.Tensor: shape=(10,), dtype=float64, numpy=\n",
       "array([54.98269924, 60.27348365, 61.27621687, 60.53495888, 62.9770905 ,\n",
       "       66.32168996, 66.87781372, 71.0050025 , 72.63837337, 77.11143943])>"
      ]
     },
     "execution_count": 15,
     "metadata": {},
     "output_type": "execute_result"
    }
   ],
   "source": [
    "tnp.random.seed(43052) \n",
    "y= 10.2+ x*2.2 + tnp.random.randn(10) \n",
    "y"
   ]
  },
  {
   "cell_type": "code",
   "execution_count": 19,
   "id": "5efb732f-a252-4470-8a5a-8f616187caa6",
   "metadata": {},
   "outputs": [],
   "source": [
    "beta0= tf.Variable(9.0) \n",
    "beta1= tf.Variable(2.0)  "
   ]
  },
  {
   "cell_type": "code",
   "execution_count": 23,
   "id": "c71d181d-d6ac-48a0-b1bd-8437833b4cb2",
   "metadata": {},
   "outputs": [],
   "source": [
    "with tf.GradientTape(persistent=True) as tape: \n",
    "    loss=sum((y-beta0-beta1*x)**2)"
   ]
  },
  {
   "cell_type": "code",
   "execution_count": 27,
   "id": "32112dc6-04dc-4296-9ac4-d9a7fd29ea40",
   "metadata": {},
   "outputs": [
    {
     "data": {
      "text/plain": [
       "(<tf.Tensor: shape=(), dtype=float32, numpy=-127.597534>,\n",
       " <tf.Tensor: shape=(), dtype=float32, numpy=-3214.2532>)"
      ]
     },
     "execution_count": 27,
     "metadata": {},
     "output_type": "execute_result"
    }
   ],
   "source": [
    "tape.gradient(loss,beta0),tape.gradient(loss,beta1) "
   ]
  },
  {
   "cell_type": "markdown",
   "id": "9a8e8dd5-d515-4327-98ad-8d7c36edf0d1",
   "metadata": {},
   "source": [
    "`-` 예제10: 카페예제의 매트릭스 버전 "
   ]
  },
  {
   "cell_type": "code",
   "execution_count": 39,
   "id": "a2ebb84e-8dc2-4120-b865-041f23cd4a6e",
   "metadata": {},
   "outputs": [
    {
     "data": {
      "text/plain": [
       "<tf.Tensor: shape=(10, 2), dtype=float64, numpy=\n",
       "array([[ 1. , 20.1],\n",
       "       [ 1. , 22.2],\n",
       "       [ 1. , 22.7],\n",
       "       [ 1. , 23.3],\n",
       "       [ 1. , 24.4],\n",
       "       [ 1. , 25.1],\n",
       "       [ 1. , 26.2],\n",
       "       [ 1. , 27.3],\n",
       "       [ 1. , 28.4],\n",
       "       [ 1. , 30.4]])>"
      ]
     },
     "execution_count": 39,
     "metadata": {},
     "output_type": "execute_result"
    }
   ],
   "source": [
    "X= tnp.array([1]*10+ [20.1, 22.2, 22.7, 23.3, 24.4, 25.1, 26.2, 27.3, 28.4, 30.4]).reshape(2,10).T\n",
    "X"
   ]
  },
  {
   "cell_type": "code",
   "execution_count": 40,
   "id": "2b5e7adf-ca27-4c96-a790-083a991fe87a",
   "metadata": {},
   "outputs": [
    {
     "data": {
      "text/plain": [
       "<tf.Tensor: shape=(2, 1), dtype=float64, numpy=\n",
       "array([[10.2],\n",
       "       [ 2.2]])>"
      ]
     },
     "execution_count": 40,
     "metadata": {},
     "output_type": "execute_result"
    }
   ],
   "source": [
    "beta_true = tnp.array([[10.2],[2.2]])\n",
    "beta_true"
   ]
  },
  {
   "cell_type": "code",
   "execution_count": 42,
   "id": "e0fa7ecb-2596-49fe-a580-64512b405d92",
   "metadata": {},
   "outputs": [
    {
     "data": {
      "text/plain": [
       "<tf.Tensor: shape=(10, 1), dtype=float64, numpy=\n",
       "array([[54.98269924],\n",
       "       [60.27348365],\n",
       "       [61.27621687],\n",
       "       [60.53495888],\n",
       "       [62.9770905 ],\n",
       "       [66.32168996],\n",
       "       [66.87781372],\n",
       "       [71.0050025 ],\n",
       "       [72.63837337],\n",
       "       [77.11143943]])>"
      ]
     },
     "execution_count": 42,
     "metadata": {},
     "output_type": "execute_result"
    }
   ],
   "source": [
    "tnp.random.seed(43052) \n",
    "y= X@beta_true + tnp.random.randn(10).reshape(10,1)\n",
    "y"
   ]
  },
  {
   "cell_type": "code",
   "execution_count": 43,
   "id": "a2bee407-626d-4d29-871c-3e6be86c190f",
   "metadata": {},
   "outputs": [
    {
     "data": {
      "text/plain": [
       "<tf.Tensor: shape=(2, 1), dtype=float64, numpy=\n",
       "array([[9.],\n",
       "       [2.]])>"
      ]
     },
     "execution_count": 43,
     "metadata": {},
     "output_type": "execute_result"
    }
   ],
   "source": [
    "beta = tnp.array([[9.0],[2.0]])\n",
    "beta"
   ]
  },
  {
   "cell_type": "code",
   "execution_count": 51,
   "id": "0d9840ef-e786-47f7-ae92-09cf60fa48d6",
   "metadata": {},
   "outputs": [],
   "source": [
    "with tf.GradientTape(persistent=True) as tape:\n",
    "    tape.watch(beta)\n",
    "    yhat = X@beta \n",
    "    loss=(y-yhat).T @ (y-yhat) "
   ]
  },
  {
   "cell_type": "code",
   "execution_count": 52,
   "id": "53de962c-927e-4dbd-aeec-419069c5abf7",
   "metadata": {},
   "outputs": [
    {
     "data": {
      "text/plain": [
       "<tf.Tensor: shape=(2, 1), dtype=float64, numpy=\n",
       "array([[ -127.59753624],\n",
       "       [-3214.25306574]])>"
      ]
     },
     "execution_count": 52,
     "metadata": {},
     "output_type": "execute_result"
    }
   ],
   "source": [
    "tape.gradient(loss,beta)"
   ]
  },
  {
   "cell_type": "markdown",
   "id": "61f3450d-65d3-469a-af17-ee5caf4824f0",
   "metadata": {},
   "source": [
    "`-` 예제11: 위의 예제에서 이론적인 $\\boldsymbol{\\beta}$의 최적값을 찾아보고 (즉 $\\boldsymbol{\\hat\\beta}$을 찾고) 그 지점에서 loss의 미분값(=접선의 기울기)를 구하라. 결과가 $\\bf{0}$인지 확인하라. (단 ${\\bf 0}$은 길이가 2이고 각 원소가 0인 벡터)"
   ]
  },
  {
   "cell_type": "markdown",
   "id": "1bdd3374-7884-485a-acb9-3ffba10e4aed",
   "metadata": {},
   "source": [
    "## 경사하강법 "
   ]
  },
  {
   "cell_type": "markdown",
   "id": "2533e309-a267-4807-aa6c-fee7efb873f9",
   "metadata": {},
   "source": [
    "### 최적화문제 "
   ]
  },
  {
   "cell_type": "markdown",
   "id": "34c07436-0452-4003-b565-9d6d923f4a3b",
   "metadata": {},
   "source": [
    "`-` $loss=(\\frac{1}{2}\\beta-1)^2$를 최소하는 $\\beta$를 컴퓨터를 활용하여 구하는 문제를 생각해보자."
   ]
  },
  {
   "cell_type": "markdown",
   "id": "77d075a4-3d9a-4a65-91ad-72bbc7beb98b",
   "metadata": {},
   "source": [
    "### 방법1: grid search"
   ]
  },
  {
   "cell_type": "markdown",
   "id": "c62a0eec-a902-467c-bdc7-8055ffce0be7",
   "metadata": {},
   "source": [
    "#### 알고리즘 "
   ]
  },
  {
   "cell_type": "markdown",
   "id": "da611891-726e-4ed9-aed4-b573ce16dccd",
   "metadata": {},
   "source": [
    "#### 구현코드 "
   ]
  },
  {
   "cell_type": "markdown",
   "id": "e7005356-bf66-4751-9d58-e3ce51b69161",
   "metadata": {},
   "source": [
    "`-` tnp.argmin"
   ]
  },
  {
   "cell_type": "markdown",
   "id": "dd827044-f46b-4b43-95cb-c1709e535ef8",
   "metadata": {},
   "source": [
    "`-` 풀이 "
   ]
  },
  {
   "cell_type": "markdown",
   "id": "3133b094-4c72-40a0-ae4c-d04acc22a323",
   "metadata": {},
   "source": [
    "`-` 최소지점 주변값과 비교 "
   ]
  },
  {
   "cell_type": "markdown",
   "id": "77a4415a-b109-4a24-a4df-93165d411d61",
   "metadata": {},
   "source": [
    "#### 그리드서치의 문제점 "
   ]
  },
  {
   "cell_type": "markdown",
   "id": "98ce2838-514c-4df2-bb70-1444deb88e7b",
   "metadata": {},
   "source": [
    "`-` 비판1: [-10,10]이외에 해가 존재하면? \n",
    "- 이 예제의 경우는 운좋게 [-10,10]에서 해가 존재했음\n",
    "- 하지만 임의의 고정된 $x,y$에 대하여 $loss(\\beta)=(x\\beta-y)^2$ 의 형태의 해가 항상 [-10,10]에서 존재한다는 보장은 없음\n",
    "- 해결책: 더 넓게 많은 범위를 탐색하자? "
   ]
  },
  {
   "cell_type": "markdown",
   "id": "aafe2234-aab7-4d4e-961c-ad8751bd1ee5",
   "metadata": {},
   "source": [
    "`-` 비판2: 효율적이지 않음\n",
    "- 알고리즘을 요약하면 결국 -10부터 10까지 작은 간격으로 조금씩 이동하며 loss를 조사하는 것이 grid search의 아이디어 \n",
    "- $\\to$ 생각해보니까 $\\beta=2$인 순간 $loss=(\\frac{1}{2}\\beta-1)^2=0$이 되어서 이것보다 작은 최소값은 존재하지 않는다(제곱은 항상 양수이어야 하므로)\n",
    "- $\\to$ 따라서 $\\beta=2$ 이후로는 탐색할 필요가 없다 "
   ]
  },
  {
   "cell_type": "markdown",
   "id": "635f0538-144e-40f9-9dbd-ef1b15e07cf4",
   "metadata": {
    "tags": []
   },
   "source": [
    "### 방법2: gradient descent"
   ]
  },
  {
   "cell_type": "markdown",
   "id": "3f08788e-94cf-4bc1-ac35-4272cf0ab67f",
   "metadata": {},
   "source": [
    "#### 알고리즘!"
   ]
  },
  {
   "cell_type": "markdown",
   "id": "a5eef139-ab6d-4020-83ee-cff27fb15615",
   "metadata": {},
   "source": [
    "(1) 임의의 초기값을 선정하고 loss를 계산한다. \n",
    " - $\\beta=-5 \\to loss(-5)=(-5/2-1)^2=$"
   ]
  },
  {
   "cell_type": "markdown",
   "id": "8a558d11-21b4-42d6-9c6a-3eb84e22aea5",
   "metadata": {},
   "source": [
    "(2) 임의의 초기값에서 좌우로 약간씩 이동해보고 loss를 계산한다.\n",
    " - 왼쪽으로 이동: $\\beta=-5.01,\\quad loss(5.01)=$\n",
    " - 오른쪽으로 이동: $\\beta=-4.99, \\quad loss(-4.99)=$ "
   ]
  },
  {
   "cell_type": "markdown",
   "id": "3f59e3cc-de89-4709-918b-39fc401293cd",
   "metadata": {},
   "source": [
    "(3) (2)의 결과를 보고 어느쪽으로 이동하는것이 유리한지 따져보고 `유리한 방향으로` 이동한다. \n",
    " - $\\beta=-4.99$ 로 이동 \n"
   ]
  },
  {
   "cell_type": "markdown",
   "id": "ae0071b4-4e1a-4148-8f8d-4dc3172e3d7a",
   "metadata": {},
   "source": [
    "(4) (2)-(3) 의 과정을 반복한다. **왼쪽/오른쪽 모두 가봐도 유리한 지점이 없다면 알고리즘을 멈춘다.**"
   ]
  },
  {
   "cell_type": "markdown",
   "id": "74f370cb-6acb-4f84-be83-7cffdb706a97",
   "metadata": {},
   "source": [
    "#### 잠깐 알고리즘 감상 "
   ]
  },
  {
   "cell_type": "markdown",
   "id": "91478604-0ed7-4033-bdcc-0fa3c2399d4f",
   "metadata": {},
   "source": [
    "`-` 정지조건?"
   ]
  },
  {
   "cell_type": "markdown",
   "id": "a59785a1-c2e9-4d7f-b87c-135e560b7483",
   "metadata": {},
   "source": [
    "`-` [-10,10] 이외에 해가 존재? "
   ]
  },
  {
   "cell_type": "markdown",
   "id": "d4b19cb5-5d71-43cb-9496-1815541f2150",
   "metadata": {},
   "source": [
    "`-` $\\beta=2$를 찾았다면? "
   ]
  },
  {
   "cell_type": "markdown",
   "id": "f8dbb0f8-5a91-4fe6-948e-a6153b6ab713",
   "metadata": {},
   "source": [
    "`-` 알고리즘해석 \n",
    "- (2)의 과정: \n",
    "- (3)의 과정: "
   ]
  },
  {
   "cell_type": "markdown",
   "id": "72b7efab-6333-43e7-954d-e1a1e8029bec",
   "metadata": {},
   "source": [
    "> Note: 이처럼 손실함수의 기울기(=경사)를 계산하여 점차적으로 가중치를 업데이트 하는 방식을 경사하강법이라고 부른다. "
   ]
  },
  {
   "cell_type": "markdown",
   "id": "2cc8d193-d0d1-4441-94c7-03cf3c461b45",
   "metadata": {},
   "source": [
    "#### 왼쪽/오른쪽중에 어디로 갈지 어떻게 판단하는 과정을 수식화?"
   ]
  },
  {
   "cell_type": "markdown",
   "id": "91c8afb1-c4a0-44cb-9860-2910ad82f7e5",
   "metadata": {},
   "source": [
    "`-` 미분계수가 + - ? "
   ]
  },
  {
   "cell_type": "markdown",
   "id": "bd46c824-2484-4b6d-896d-e1d0253e54bd",
   "metadata": {},
   "source": [
    "`-` 수식화 "
   ]
  },
  {
   "cell_type": "markdown",
   "id": "a0647403-dbd6-4bcf-8c8b-162177997a40",
   "metadata": {},
   "source": [
    "#### hoxy, 알고리즘을 좀 개선할수 있을까?"
   ]
  },
  {
   "cell_type": "markdown",
   "id": "6d8f0f3e-869a-4d47-8642-2a8ad0b40507",
   "metadata": {},
   "source": [
    "`-` 왜 0.01씩? "
   ]
  },
  {
   "cell_type": "markdown",
   "id": "d65df75b-a7ca-465a-9372-6dbc8a657ba0",
   "metadata": {},
   "source": [
    "`-` $\\beta=-10$ 일 경우의 접선의 기울기? $\\beta=-4$ 일때 접선의 기울기?"
   ]
  },
  {
   "cell_type": "markdown",
   "id": "837b8451-ccba-48f3-a93c-5e0a5cb10a57",
   "metadata": {},
   "source": [
    "`-` 아이디어"
   ]
  },
  {
   "cell_type": "markdown",
   "id": "f36dc8f0-ce02-49cd-8bd6-acca3feedeae",
   "metadata": {},
   "source": [
    "`-` 수식화 "
   ]
  },
  {
   "cell_type": "markdown",
   "id": "8b91d180-52ae-43aa-9193-8328452c65bf",
   "metadata": {},
   "source": [
    "$$\\beta_{next} \\leftarrow \\beta_{old} -\\alpha \\left[\\frac{\\partial}{\\partial \\beta} loss(\\beta)\\right]_{\\beta=\\beta_{old}}$$"
   ]
  },
  {
   "cell_type": "markdown",
   "id": "6fa7abb4-660c-4429-9202-93eeae53e528",
   "metadata": {},
   "source": [
    "- 아까 수식이랑 좀 다르다? \n",
    "- $\\alpha$의 조건 \n",
    "- $\\alpha$의 의미 \n",
    "- $\\beta=-10$ 에서 $0.01$만큼 움직이기 위한 $\\alpha$의 설정 "
   ]
  },
  {
   "cell_type": "markdown",
   "id": "2b4a1de3-6c6b-457c-9907-a3c8c23bebb5",
   "metadata": {},
   "source": [
    "#### 구현코드 "
   ]
  }
 ],
 "metadata": {
  "kernelspec": {
   "display_name": "Python 3 (ipykernel)",
   "language": "python",
   "name": "python3"
  },
  "language_info": {
   "codemirror_mode": {
    "name": "ipython",
    "version": 3
   },
   "file_extension": ".py",
   "mimetype": "text/x-python",
   "name": "python",
   "nbconvert_exporter": "python",
   "pygments_lexer": "ipython3",
   "version": "3.10.0"
  }
 },
 "nbformat": 4,
 "nbformat_minor": 5
}
