{
 "cells": [
  {
   "cell_type": "markdown",
   "id": "e8809dfd-9f28-4be3-ba52-822d297d777a",
   "metadata": {},
   "source": [
    "# (5주차) 3월30일 -- draft\n",
    "\n",
    "- toc:true\n",
    "- branch: master\n",
    "- badges: true\n",
    "- comments: true\n",
    "- author: 최규빈"
   ]
  },
  {
   "cell_type": "markdown",
   "id": "95868225-8405-4bc3-8855-bb57ab466966",
   "metadata": {},
   "source": [
    "### 강의영상 \n",
    "\n",
    "> youtube: "
   ]
  },
  {
   "cell_type": "markdown",
   "id": "ea093d98-e476-4de2-9ff5-7b98f7d621e2",
   "metadata": {},
   "source": [
    "### imports "
   ]
  },
  {
   "cell_type": "code",
   "execution_count": 2,
   "id": "4ec7ad60-84d4-4b61-88d0-5f83872be0be",
   "metadata": {},
   "outputs": [],
   "source": [
    "import tensorflow as tf \n",
    "import numpy as np\n",
    "import matplotlib.pyplot as plt "
   ]
  },
  {
   "cell_type": "code",
   "execution_count": 3,
   "id": "9691fb34-384f-4317-9437-998e8219cf8a",
   "metadata": {},
   "outputs": [],
   "source": [
    "import tensorflow.experimental.numpy as tnp "
   ]
  },
  {
   "cell_type": "code",
   "execution_count": 4,
   "id": "2b368af7-2aac-4028-97e2-a83e7196c7dd",
   "metadata": {},
   "outputs": [],
   "source": [
    "tnp.experimental_enable_numpy_behavior() "
   ]
  },
  {
   "cell_type": "markdown",
   "id": "3f4677a4-dba0-4274-96b5-a51a892026c9",
   "metadata": {},
   "source": [
    "### 최적화의 문제 "
   ]
  },
  {
   "cell_type": "code",
   "execution_count": null,
   "id": "0e7ef2f8-f7f9-4d0c-88c6-929001f62c1a",
   "metadata": {},
   "outputs": [],
   "source": []
  },
  {
   "cell_type": "markdown",
   "id": "613a7be4-c2ea-4c15-b717-413d09bb5c1f",
   "metadata": {},
   "source": [
    "### 회귀분석 "
   ]
  },
  {
   "cell_type": "markdown",
   "id": "43e77e75-3d7c-420b-9be2-75b89ade234b",
   "metadata": {},
   "source": [
    "`-` ${\\bf y} \\approx 4 + 2.5 {\\bf x}$"
   ]
  },
  {
   "cell_type": "code",
   "execution_count": 6,
   "id": "656269c8-bffb-4b55-909e-01eef748bfe8",
   "metadata": {},
   "outputs": [],
   "source": [
    "tnp.random.seed(43052)\n",
    "N = 500 \n",
    "x = tnp.linspace(0,1,N) \n",
    "epsilon = tnp.random.randn(N)*0.5"
   ]
  }
 ],
 "metadata": {
  "kernelspec": {
   "display_name": "Python 3 (ipykernel)",
   "language": "python",
   "name": "python3"
  },
  "language_info": {
   "codemirror_mode": {
    "name": "ipython",
    "version": 3
   },
   "file_extension": ".py",
   "mimetype": "text/x-python",
   "name": "python",
   "nbconvert_exporter": "python",
   "pygments_lexer": "ipython3",
   "version": "3.10.0"
  }
 },
 "nbformat": 4,
 "nbformat_minor": 5
}
