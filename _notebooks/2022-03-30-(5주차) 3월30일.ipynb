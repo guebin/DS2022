{
 "cells": [
  {
   "cell_type": "markdown",
   "id": "e8809dfd-9f28-4be3-ba52-822d297d777a",
   "metadata": {},
   "source": [
    "# (5주차) 3월30일\n",
    "\n",
    "- toc:true\n",
    "- branch: master\n",
    "- badges: true\n",
    "- comments: true\n",
    "- author: 최규빈"
   ]
  },
  {
   "cell_type": "markdown",
   "id": "95868225-8405-4bc3-8855-bb57ab466966",
   "metadata": {},
   "source": [
    "### 강의영상 \n",
    "\n",
    "> youtube: https://youtube.com/playlist?list=PLQqh36zP38-wAQvICr34ePlieOT0WBZ3x"
   ]
  },
  {
   "cell_type": "markdown",
   "id": "ea093d98-e476-4de2-9ff5-7b98f7d621e2",
   "metadata": {},
   "source": [
    "### imports "
   ]
  },
  {
   "cell_type": "code",
   "execution_count": 85,
   "id": "4ec7ad60-84d4-4b61-88d0-5f83872be0be",
   "metadata": {},
   "outputs": [],
   "source": [
    "import tensorflow as tf \n",
    "import numpy as np\n",
    "import matplotlib.pyplot as plt "
   ]
  },
  {
   "cell_type": "code",
   "execution_count": 86,
   "id": "9691fb34-384f-4317-9437-998e8219cf8a",
   "metadata": {},
   "outputs": [],
   "source": [
    "import tensorflow.experimental.numpy as tnp "
   ]
  },
  {
   "cell_type": "code",
   "execution_count": 87,
   "id": "2b368af7-2aac-4028-97e2-a83e7196c7dd",
   "metadata": {},
   "outputs": [],
   "source": [
    "tnp.experimental_enable_numpy_behavior() "
   ]
  },
  {
   "cell_type": "markdown",
   "id": "3f4677a4-dba0-4274-96b5-a51a892026c9",
   "metadata": {
    "tags": []
   },
   "source": [
    "### 최적화의 문제 "
   ]
  },
  {
   "cell_type": "markdown",
   "id": "bc860b47-d266-4cbc-b7da-8a00d565f1d9",
   "metadata": {},
   "source": [
    "`-` $loss=(\\frac{1}{2}\\beta-1)^2$ "
   ]
  },
  {
   "cell_type": "markdown",
   "id": "320ac0cd-9a4d-4e31-a206-2d93581cacbb",
   "metadata": {},
   "source": [
    "`-` 기존에 했던 방법은 수식을 알고 있어야 한다는 단점이 있음 "
   ]
  },
  {
   "cell_type": "markdown",
   "id": "0acf255d-c030-4c91-b9e1-1cf62a09fb65",
   "metadata": {},
   "source": [
    "### tf.keras.optimizers를 이용한 최적화방법 "
   ]
  },
  {
   "cell_type": "markdown",
   "id": "1434f90f-3e99-4a2c-b526-768543c0348d",
   "metadata": {},
   "source": [
    "#### 방법1: opt.apply_gradients()를 이용 "
   ]
  },
  {
   "cell_type": "code",
   "execution_count": 88,
   "id": "4b90eb16-a685-4422-bb52-06a6a887321c",
   "metadata": {},
   "outputs": [],
   "source": [
    "alpha=0.01/6"
   ]
  },
  {
   "cell_type": "code",
   "execution_count": 89,
   "id": "fb244ebf-e532-41fc-8cfa-df0aa705ef0d",
   "metadata": {},
   "outputs": [],
   "source": [
    "opt = tf.keras.optimizers.SGD(learning_rate=alpha)"
   ]
  },
  {
   "cell_type": "code",
   "execution_count": 90,
   "id": "9061be6d-94d3-49f5-81d8-66e118d0795d",
   "metadata": {},
   "outputs": [
    {
     "data": {
      "text/plain": [
       "<tf.Variable 'learning_rate:0' shape=() dtype=float32, numpy=0.0016666667>"
      ]
     },
     "execution_count": 90,
     "metadata": {},
     "output_type": "execute_result"
    }
   ],
   "source": [
    "opt.lr"
   ]
  },
  {
   "cell_type": "markdown",
   "id": "269f108d-bb61-4d78-a089-5da78775fe2c",
   "metadata": {},
   "source": [
    "`-` opt에 전달할 입력값을 정리해보자 "
   ]
  },
  {
   "cell_type": "code",
   "execution_count": 91,
   "id": "683a659e-73dd-4e85-a197-1c8384784b14",
   "metadata": {},
   "outputs": [
    {
     "data": {
      "text/plain": [
       "<tf.Variable 'Variable:0' shape=() dtype=float32, numpy=-10.0>"
      ]
     },
     "execution_count": 91,
     "metadata": {},
     "output_type": "execute_result"
    }
   ],
   "source": [
    "beta= tf.Variable(-10.0) \n",
    "beta"
   ]
  },
  {
   "cell_type": "code",
   "execution_count": 92,
   "id": "a8da6d91-f373-44a7-923f-8b2356e5c846",
   "metadata": {},
   "outputs": [
    {
     "data": {
      "text/plain": [
       "<tf.Tensor: shape=(), dtype=float32, numpy=-6.0>"
      ]
     },
     "execution_count": 92,
     "metadata": {},
     "output_type": "execute_result"
    }
   ],
   "source": [
    "with tf.GradientTape(persistent=True) as tape:\n",
    "    loss = (beta/2-1)**2 \n",
    "tape.gradient(loss,beta)"
   ]
  },
  {
   "cell_type": "code",
   "execution_count": 93,
   "id": "36569468-0e6c-4bc3-804a-1761b87d8845",
   "metadata": {},
   "outputs": [],
   "source": [
    "slope= tape.gradient(loss,beta)"
   ]
  },
  {
   "cell_type": "markdown",
   "id": "9bc02541-74a2-4a72-971f-f22eadce16ee",
   "metadata": {},
   "source": [
    "`-` iter1: opt.apply_gradients() 에 값을 전달하여 beta를 1회 업데이트\n",
    "- 주의점: `opt.apply_gradients()`의 입력으로 pair의 list를 전달해야함. "
   ]
  },
  {
   "cell_type": "code",
   "execution_count": 94,
   "id": "9be910d8-c0a2-43f9-9487-9ab98b20cad4",
   "metadata": {},
   "outputs": [
    {
     "data": {
      "text/plain": [
       "<tf.Variable 'UnreadVariable' shape=() dtype=int64, numpy=1>"
      ]
     },
     "execution_count": 94,
     "metadata": {},
     "output_type": "execute_result"
    }
   ],
   "source": [
    "opt.apply_gradients([(slope,beta)])"
   ]
  },
  {
   "cell_type": "code",
   "execution_count": 95,
   "id": "b91fbd3f-7ae6-4bad-b6ea-3ed90ab86d59",
   "metadata": {},
   "outputs": [
    {
     "data": {
      "text/plain": [
       "<tf.Variable 'Variable:0' shape=() dtype=float32, numpy=-9.99>"
      ]
     },
     "execution_count": 95,
     "metadata": {},
     "output_type": "execute_result"
    }
   ],
   "source": [
    "beta"
   ]
  },
  {
   "cell_type": "markdown",
   "id": "485f4b15-c9ee-4651-9b0a-abbf1d60a57f",
   "metadata": {},
   "source": [
    "`-` iter2 "
   ]
  },
  {
   "cell_type": "code",
   "execution_count": 96,
   "id": "f2c5114b-c1f9-441b-8ac5-3f3e4a5c287b",
   "metadata": {},
   "outputs": [],
   "source": [
    "with tf.GradientTape(persistent=True) as tape:\n",
    "    loss = (beta/2-1)**2 \n",
    "slope= tape.gradient(loss,beta)"
   ]
  },
  {
   "cell_type": "code",
   "execution_count": 97,
   "id": "aebc1684-603a-44e0-aa8d-1442449dd63b",
   "metadata": {},
   "outputs": [
    {
     "data": {
      "text/plain": [
       "<tf.Variable 'Variable:0' shape=() dtype=float32, numpy=-9.980008>"
      ]
     },
     "execution_count": 97,
     "metadata": {},
     "output_type": "execute_result"
    }
   ],
   "source": [
    "opt.apply_gradients([(slope,beta)])\n",
    "beta"
   ]
  },
  {
   "cell_type": "markdown",
   "id": "c56da161-29d9-4f49-b222-590f2a20a612",
   "metadata": {},
   "source": [
    "`-` for문을 이용한 반복 (정리)"
   ]
  },
  {
   "cell_type": "code",
   "execution_count": 98,
   "id": "fd06ef4b-043d-4e2c-a5fb-8ebe1d7daa22",
   "metadata": {},
   "outputs": [],
   "source": [
    "alpha=0.01/6\n",
    "opt = tf.keras.optimizers.SGD(alpha)\n",
    "beta= tf.Variable(-10.0) \n",
    "for epoc in range(10000):\n",
    "    with tf.GradientTape(persistent=True) as tape:\n",
    "        loss = (beta/2-1)**2 \n",
    "    slope= tape.gradient(loss,beta)\n",
    "    opt.apply_gradients([(slope,beta)])"
   ]
  },
  {
   "cell_type": "code",
   "execution_count": 99,
   "id": "553fbc43-468b-452f-a9b1-ae20f1e8a3c5",
   "metadata": {},
   "outputs": [
    {
     "data": {
      "text/plain": [
       "<tf.Variable 'Variable:0' shape=() dtype=float32, numpy=1.9971251>"
      ]
     },
     "execution_count": 99,
     "metadata": {},
     "output_type": "execute_result"
    }
   ],
   "source": [
    "beta"
   ]
  },
  {
   "cell_type": "markdown",
   "id": "779dcb12-af26-47b3-a168-e3c87714106b",
   "metadata": {},
   "source": [
    "#### 방법2: opt.minimize()"
   ]
  },
  {
   "cell_type": "code",
   "execution_count": 100,
   "id": "b237f640-4433-4384-a56c-21ed6b3afe52",
   "metadata": {},
   "outputs": [],
   "source": [
    "alpha=0.01/6\n",
    "opt = tf.keras.optimizers.SGD(alpha)\n",
    "beta= tf.Variable(-10.0) "
   ]
  },
  {
   "cell_type": "code",
   "execution_count": 101,
   "id": "70d727ca-f09b-4536-8170-2a5aa0e054d7",
   "metadata": {},
   "outputs": [],
   "source": [
    "loss_fn = lambda: (beta/2-1)**2 "
   ]
  },
  {
   "cell_type": "markdown",
   "id": "403f6c41-b53b-4f61-9c1d-53c83f1e3d0d",
   "metadata": {},
   "source": [
    "`-` iter1"
   ]
  },
  {
   "cell_type": "code",
   "execution_count": 102,
   "id": "7a63adfa-cbfa-4c1b-b223-1cf5b419be9e",
   "metadata": {},
   "outputs": [
    {
     "data": {
      "text/plain": [
       "<tf.Variable 'UnreadVariable' shape=() dtype=int64, numpy=1>"
      ]
     },
     "execution_count": 102,
     "metadata": {},
     "output_type": "execute_result"
    }
   ],
   "source": [
    "opt.minimize(loss_fn,beta)"
   ]
  },
  {
   "cell_type": "code",
   "execution_count": 103,
   "id": "d037e3fa-c4e8-4347-b9a6-b2330b6425ca",
   "metadata": {},
   "outputs": [
    {
     "data": {
      "text/plain": [
       "<tf.Variable 'Variable:0' shape=() dtype=float32, numpy=-9.99>"
      ]
     },
     "execution_count": 103,
     "metadata": {},
     "output_type": "execute_result"
    }
   ],
   "source": [
    "beta"
   ]
  },
  {
   "cell_type": "markdown",
   "id": "1bca7105-a17f-4ef0-9006-0155e8941cbf",
   "metadata": {},
   "source": [
    "`-` iter2"
   ]
  },
  {
   "cell_type": "code",
   "execution_count": 104,
   "id": "13cfe40a-16d9-49da-8f5a-a94e9dcf7821",
   "metadata": {},
   "outputs": [
    {
     "data": {
      "text/plain": [
       "<tf.Variable 'Variable:0' shape=() dtype=float32, numpy=-9.980008>"
      ]
     },
     "execution_count": 104,
     "metadata": {},
     "output_type": "execute_result"
    }
   ],
   "source": [
    "opt.minimize(loss_fn,beta)\n",
    "beta"
   ]
  },
  {
   "cell_type": "markdown",
   "id": "089f58dd-f343-4788-bf72-3173a2ae36fc",
   "metadata": {},
   "source": [
    "`-` for문을 구하는 코드로 정리 "
   ]
  },
  {
   "cell_type": "code",
   "execution_count": 105,
   "id": "ab7e7398-85f1-432b-ba63-6649a1015de4",
   "metadata": {},
   "outputs": [],
   "source": [
    "alpha=0.01/6\n",
    "opt = tf.keras.optimizers.SGD(alpha)\n",
    "beta= tf.Variable(-10.0) \n",
    "loss_fn = lambda: (beta/2-1)**2 \n",
    "for epoc in range(10000):\n",
    "    opt.minimize(loss_fn,beta)"
   ]
  },
  {
   "cell_type": "code",
   "execution_count": 106,
   "id": "235d4f65-b139-4535-aa9d-e24a07ddd19d",
   "metadata": {},
   "outputs": [
    {
     "data": {
      "text/plain": [
       "<tf.Variable 'Variable:0' shape=() dtype=float32, numpy=1.9971251>"
      ]
     },
     "execution_count": 106,
     "metadata": {},
     "output_type": "execute_result"
    }
   ],
   "source": [
    "beta"
   ]
  },
  {
   "cell_type": "markdown",
   "id": "cd9c83a9-9a30-4d06-8704-4a4c42acb4f3",
   "metadata": {},
   "source": [
    "`-` `tf.keras.optimizers.SGD`와 `tf.optimizers.SGD`의 차이? 없음 "
   ]
  },
  {
   "cell_type": "markdown",
   "id": "2b018059-6854-4e74-affa-3c6939fdff0f",
   "metadata": {},
   "source": [
    "(증거1) "
   ]
  },
  {
   "cell_type": "code",
   "execution_count": 107,
   "id": "232e6298-6bee-4f45-ab6a-e85afc94bc6b",
   "metadata": {},
   "outputs": [],
   "source": [
    "_opt1=tf.keras.optimizers.SGD()"
   ]
  },
  {
   "cell_type": "code",
   "execution_count": 108,
   "id": "767c7edc-13f9-4c8b-8817-2f75ba82ce71",
   "metadata": {},
   "outputs": [],
   "source": [
    "_opt2=tf.optimizers.SGD()"
   ]
  },
  {
   "cell_type": "code",
   "execution_count": 109,
   "id": "3b5c07e0-5c28-43e1-92cc-29fc638ebd96",
   "metadata": {},
   "outputs": [
    {
     "data": {
      "text/plain": [
       "(keras.optimizer_v2.gradient_descent.SGD,\n",
       " keras.optimizer_v2.gradient_descent.SGD)"
      ]
     },
     "execution_count": 109,
     "metadata": {},
     "output_type": "execute_result"
    }
   ],
   "source": [
    "type(_opt1),type(_opt2)"
   ]
  },
  {
   "cell_type": "markdown",
   "id": "12491ba0-169b-4ec6-aaf2-7ba108aeb70a",
   "metadata": {},
   "source": [
    "똑같다..? "
   ]
  },
  {
   "cell_type": "markdown",
   "id": "9fd87c2d-27d1-46f8-a12f-a20957025bba",
   "metadata": {},
   "source": [
    "(증거2)"
   ]
  },
  {
   "cell_type": "code",
   "execution_count": 110,
   "id": "f2856801-e573-4bfd-a335-8612b9049b05",
   "metadata": {},
   "outputs": [],
   "source": [
    "alpha=0.01/6\n",
    "opt = tf.optimizers.SGD(alpha)\n",
    "beta= tf.Variable(-10.0) \n",
    "loss_fn = lambda: (beta/2-1)**2 \n",
    "for epoc in range(10000):\n",
    "    opt.minimize(loss_fn,beta)"
   ]
  },
  {
   "cell_type": "code",
   "execution_count": 111,
   "id": "359b3e98-fd99-41dd-9576-9761b015735b",
   "metadata": {},
   "outputs": [
    {
     "data": {
      "text/plain": [
       "<tf.Variable 'Variable:0' shape=() dtype=float32, numpy=1.9971251>"
      ]
     },
     "execution_count": 111,
     "metadata": {},
     "output_type": "execute_result"
    }
   ],
   "source": [
    "beta"
   ]
  },
  {
   "cell_type": "markdown",
   "id": "dbd78947-4cd6-4af3-9042-ab0fd209917a",
   "metadata": {},
   "source": [
    "(증거3) 모듈위치가 같다. "
   ]
  },
  {
   "cell_type": "code",
   "execution_count": 112,
   "id": "89d6cbe4-e486-4329-861c-af7c27aeb35d",
   "metadata": {},
   "outputs": [
    {
     "data": {
      "text/plain": [
       "\u001b[0;31mType:\u001b[0m        module\n",
       "\u001b[0;31mString form:\u001b[0m <module 'keras.api._v2.keras.optimizers' from '/home/cgb3/anaconda3/envs/py310/lib/python3.10/site-packages/keras/api/_v2/keras/optimizers/__init__.py'>\n",
       "\u001b[0;31mFile:\u001b[0m        ~/anaconda3/envs/py310/lib/python3.10/site-packages/keras/api/_v2/keras/optimizers/__init__.py\n",
       "\u001b[0;31mDocstring:\u001b[0m   Public API for tf.keras.optimizers namespace.\n"
      ]
     },
     "metadata": {},
     "output_type": "display_data"
    }
   ],
   "source": [
    "tf.optimizers?"
   ]
  },
  {
   "cell_type": "code",
   "execution_count": 113,
   "id": "c6010398-a2d9-440e-9970-6a3825e0ef20",
   "metadata": {},
   "outputs": [
    {
     "data": {
      "text/plain": [
       "\u001b[0;31mType:\u001b[0m        module\n",
       "\u001b[0;31mString form:\u001b[0m <module 'keras.api._v2.keras.optimizers' from '/home/cgb3/anaconda3/envs/py310/lib/python3.10/site-packages/keras/api/_v2/keras/optimizers/__init__.py'>\n",
       "\u001b[0;31mFile:\u001b[0m        ~/anaconda3/envs/py310/lib/python3.10/site-packages/keras/api/_v2/keras/optimizers/__init__.py\n",
       "\u001b[0;31mDocstring:\u001b[0m   Public API for tf.keras.optimizers namespace.\n"
      ]
     },
     "metadata": {},
     "output_type": "display_data"
    }
   ],
   "source": [
    "tf.keras.optimizers?"
   ]
  },
  {
   "cell_type": "markdown",
   "id": "613a7be4-c2ea-4c15-b717-413d09bb5c1f",
   "metadata": {},
   "source": [
    "### 회귀분석 "
   ]
  },
  {
   "cell_type": "markdown",
   "id": "43e77e75-3d7c-420b-9be2-75b89ade234b",
   "metadata": {},
   "source": [
    "`-` ${\\bf y} \\approx 4 + 2.5 {\\bf x}$"
   ]
  },
  {
   "cell_type": "code",
   "execution_count": 131,
   "id": "656269c8-bffb-4b55-909e-01eef748bfe8",
   "metadata": {},
   "outputs": [],
   "source": [
    "tnp.random.seed(43052)\n",
    "N = 200 \n",
    "x = tnp.linspace(0,1,N) \n",
    "epsilon = tnp.random.randn(N)*0.5"
   ]
  },
  {
   "cell_type": "code",
   "execution_count": 132,
   "id": "b49dc862-9a40-492a-8e77-cc3180f20bec",
   "metadata": {},
   "outputs": [],
   "source": [
    "y= 4+2.5*x+epsilon\n",
    "y_true = 4+2.5*x"
   ]
  },
  {
   "cell_type": "code",
   "execution_count": 133,
   "id": "e33d118f-3ccb-49cb-88ba-705f332c65f4",
   "metadata": {},
   "outputs": [
    {
     "data": {
      "text/plain": [
       "[<matplotlib.lines.Line2D at 0x7f8c06272980>]"
      ]
     },
     "execution_count": 133,
     "metadata": {},
     "output_type": "execute_result"
    },
    {
     "data": {
      "image/png": "[encoded data removed]",
      "text/plain": [
       "<Figure size 432x288 with 1 Axes>"
      ]
     },
     "metadata": {
      "needs_background": "light"
     },
     "output_type": "display_data"
    }
   ],
   "source": [
    "plt.plot(x,y,'.')\n",
    "plt.plot(x,y_true,'--r')"
   ]
  },
  {
   "cell_type": "markdown",
   "id": "d9285651-1ef0-4a2b-a76c-1b3b3de5cc1c",
   "metadata": {},
   "source": [
    "#### 풀이1"
   ]
  },
  {
   "cell_type": "code",
   "execution_count": 134,
   "id": "462a8948-6b86-4ac5-ba2e-d78b4bb37e74",
   "metadata": {},
   "outputs": [],
   "source": [
    "Sxx = sum((x-x.mean())**2) \n",
    "Sxy = sum((x-x.mean())*(y-y.mean())) "
   ]
  },
  {
   "cell_type": "code",
   "execution_count": 135,
   "id": "a4f28cb6-a514-4b4d-b679-b70bb97abc35",
   "metadata": {},
   "outputs": [],
   "source": [
    "beta1_hat = Sxy/Sxx \n",
    "beta0_hat = y.mean() - beta1_hat*x.mean()"
   ]
  },
  {
   "cell_type": "code",
   "execution_count": 136,
   "id": "b087e21c-edf9-422f-a1b2-bbced071305b",
   "metadata": {},
   "outputs": [
    {
     "data": {
      "text/plain": [
       "(<tf.Tensor: shape=(), dtype=float64, numpy=4.083667211565867>,\n",
       " <tf.Tensor: shape=(), dtype=float64, numpy=2.4330345167331684>)"
      ]
     },
     "execution_count": 136,
     "metadata": {},
     "output_type": "execute_result"
    }
   ],
   "source": [
    "beta0_hat,beta1_hat"
   ]
  },
  {
   "cell_type": "markdown",
   "id": "f2504f02-00e1-4d4e-9628-ff98a5dfe7bf",
   "metadata": {},
   "source": [
    "#### 풀이2"
   ]
  },
  {
   "cell_type": "code",
   "execution_count": 137,
   "id": "3a31e362-8494-4975-91cc-050f2d56fe88",
   "metadata": {},
   "outputs": [],
   "source": [
    "X=tf.stack([tf.ones(N,dtype='float64'),x],axis=1)\n",
    "y=y.reshape(N,1) "
   ]
  },
  {
   "cell_type": "code",
   "execution_count": 138,
   "id": "60176426-5042-4bab-be39-a15a9141b1ff",
   "metadata": {},
   "outputs": [
    {
     "data": {
      "text/plain": [
       "(TensorShape([200, 2]), TensorShape([200, 1]))"
      ]
     },
     "execution_count": 138,
     "metadata": {},
     "output_type": "execute_result"
    }
   ],
   "source": [
    "X.shape,y.shape"
   ]
  },
  {
   "cell_type": "code",
   "execution_count": 139,
   "id": "617b5ba1-2033-4d14-9b7e-cd8731e4e0a5",
   "metadata": {},
   "outputs": [
    {
     "data": {
      "text/plain": [
       "<tf.Tensor: shape=(2, 1), dtype=float64, numpy=\n",
       "array([[4.08366721],\n",
       "       [2.43303452]])>"
      ]
     },
     "execution_count": 139,
     "metadata": {},
     "output_type": "execute_result"
    }
   ],
   "source": [
    "tf.linalg.inv(X.T@X)@ X.T @y "
   ]
  },
  {
   "cell_type": "markdown",
   "id": "ee36fdcd-ba0f-42b9-a358-d8a0e1dc1dd6",
   "metadata": {},
   "source": [
    "#### 풀이3"
   ]
  },
  {
   "cell_type": "code",
   "execution_count": 140,
   "id": "753a6d2e-6252-433e-8abb-c46c5c033531",
   "metadata": {},
   "outputs": [
    {
     "data": {
      "text/plain": [
       "(TensorShape([200, 2]), TensorShape([200, 1]))"
      ]
     },
     "execution_count": 140,
     "metadata": {},
     "output_type": "execute_result"
    }
   ],
   "source": [
    "X.shape,y.shape"
   ]
  },
  {
   "cell_type": "code",
   "execution_count": 141,
   "id": "f7459f7e-458b-43cb-8803-af308df28586",
   "metadata": {},
   "outputs": [],
   "source": [
    "beta= tnp.array([-5.0,10.0]).reshape(2,1)"
   ]
  },
  {
   "cell_type": "code",
   "execution_count": 142,
   "id": "aa92012d-28f6-45b3-9906-626c88ff01a6",
   "metadata": {},
   "outputs": [],
   "source": [
    "slope = -2*X.T@y + 2*X.T@X@beta"
   ]
  },
  {
   "cell_type": "code",
   "execution_count": 143,
   "id": "93d48ce1-ccb7-4435-ba79-77ecc55e70a5",
   "metadata": {},
   "outputs": [
    {
     "data": {
      "text/plain": [
       "<tf.Tensor: shape=(2, 1), dtype=float64, numpy=\n",
       "array([[-2120.07378797],\n",
       "       [ -805.2697144 ]])>"
      ]
     },
     "execution_count": 143,
     "metadata": {},
     "output_type": "execute_result"
    }
   ],
   "source": [
    "slope"
   ]
  },
  {
   "cell_type": "code",
   "execution_count": 144,
   "id": "914141f7-8928-46ea-aeef-d5816a92956f",
   "metadata": {},
   "outputs": [],
   "source": [
    "alpha = 0.001"
   ]
  },
  {
   "cell_type": "code",
   "execution_count": 147,
   "id": "ff4b470b-24c6-4456-9ab5-a704be7d7d5b",
   "metadata": {},
   "outputs": [
    {
     "data": {
      "text/plain": [
       "<tf.Tensor: shape=(2, 1), dtype=float64, numpy=\n",
       "array([[-2.12007379],\n",
       "       [-0.80526971]])>"
      ]
     },
     "execution_count": 147,
     "metadata": {},
     "output_type": "execute_result"
    }
   ],
   "source": [
    "step = slope * alpha\n",
    "step "
   ]
  },
  {
   "cell_type": "markdown",
   "id": "1e24eca7-f055-46cb-b86a-abf817a7a3e6",
   "metadata": {},
   "source": [
    "### 숙제 "
   ]
  },
  {
   "cell_type": "markdown",
   "id": "03e28768-7ee2-493e-818b-a75f86233cef",
   "metadata": {},
   "source": [
    "`-` 풀이3을 완성하라. 즉 경사하강법을 이용하여 적절한 beta를 추정하라. \n",
    "\n",
    "- iteration 횟수는 1000번으로 설정 \n",
    "- 학습률은 0.001로 설정\n",
    "- beta의 초기값은 `beta= tnp.array([-5.0,10.0]).reshape(2,1)`"
   ]
  }
 ],
 "metadata": {
  "kernelspec": {
   "display_name": "Python 3 (ipykernel)",
   "language": "python",
   "name": "python3"
  },
  "language_info": {
   "codemirror_mode": {
    "name": "ipython",
    "version": 3
   },
   "file_extension": ".py",
   "mimetype": "text/x-python",
   "name": "python",
   "nbconvert_exporter": "python",
   "pygments_lexer": "ipython3",
   "version": "3.10.0"
  }
 },
 "nbformat": 4,
 "nbformat_minor": 5
}
