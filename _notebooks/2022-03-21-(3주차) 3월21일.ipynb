{
 "cells": [
  {
   "cell_type": "markdown",
   "id": "d05e006f-32fc-400c-b614-109185d0efff",
   "metadata": {},
   "source": [
    "# (3주차) 3월21일 \n",
    "\n",
    "- toc:true\n",
    "- branch: master\n",
    "- badges: true\n",
    "- comments: true\n",
    "- author: 최규빈"
   ]
  },
  {
   "cell_type": "markdown",
   "id": "0de6cb00-ad52-47b3-af21-18cb5960461a",
   "metadata": {},
   "source": [
    "### 강의영상 "
   ]
  },
  {
   "cell_type": "markdown",
   "id": "8bde31d7-a4d0-4995-ab3f-8a1b99809104",
   "metadata": {},
   "source": [
    "> youtube: "
   ]
  },
  {
   "cell_type": "markdown",
   "id": "0e40bace-c142-4155-83dc-cc562e5eb639",
   "metadata": {},
   "source": [
    "### imports "
   ]
  },
  {
   "cell_type": "code",
   "execution_count": 4,
   "id": "5e2d101b-f78f-43d8-9800-ca00451bc541",
   "metadata": {},
   "outputs": [],
   "source": [
    "import tensorflow as tf\n",
    "import numpy as np"
   ]
  },
  {
   "cell_type": "code",
   "execution_count": 5,
   "id": "080223e7-0bcf-4f4f-b01a-8f8b4419f5ba",
   "metadata": {},
   "outputs": [
    {
     "data": {
      "text/plain": [
       "[PhysicalDevice(name='/physical_device:GPU:0', device_type='GPU')]"
      ]
     },
     "execution_count": 5,
     "metadata": {},
     "output_type": "execute_result"
    }
   ],
   "source": [
    "tf.config.experimental.list_physical_devices('GPU')"
   ]
  },
  {
   "cell_type": "markdown",
   "id": "3ec05ea5-1f4b-4f87-b607-5a2875a9c098",
   "metadata": {},
   "source": [
    "### 지난강의 보충 "
   ]
  },
  {
   "cell_type": "markdown",
   "id": "3c4ad96d-4709-44cd-aa7f-de7d1dc14c5d",
   "metadata": {},
   "source": [
    "`-` 예제: (2,3,4), (2,3,4), (2,3,4)"
   ]
  },
  {
   "cell_type": "markdown",
   "id": "263897e2-be5f-4eab-8852-d1fc1e136608",
   "metadata": {},
   "source": [
    "(예시1) (2,3,4), (2,3,4), (2,3,4) $\\to$ (6,3,4)"
   ]
  },
  {
   "cell_type": "code",
   "execution_count": 13,
   "id": "964e4604-d3fa-4e80-888f-e2afbf609441",
   "metadata": {},
   "outputs": [],
   "source": [
    "a=tf.reshape(tf.constant(range(2*3*4)),(2,3,4))\n",
    "b=-a\n",
    "c=2*a"
   ]
  },
  {
   "cell_type": "code",
   "execution_count": 14,
   "id": "dbfa2297-8754-435b-ac82-c56cdf1925e0",
   "metadata": {},
   "outputs": [
    {
     "data": {
      "text/plain": [
       "(<tf.Tensor: shape=(2, 3, 4), dtype=int32, numpy=\n",
       " array([[[ 0,  1,  2,  3],\n",
       "         [ 4,  5,  6,  7],\n",
       "         [ 8,  9, 10, 11]],\n",
       " \n",
       "        [[12, 13, 14, 15],\n",
       "         [16, 17, 18, 19],\n",
       "         [20, 21, 22, 23]]], dtype=int32)>,\n",
       " <tf.Tensor: shape=(2, 3, 4), dtype=int32, numpy=\n",
       " array([[[  0,  -1,  -2,  -3],\n",
       "         [ -4,  -5,  -6,  -7],\n",
       "         [ -8,  -9, -10, -11]],\n",
       " \n",
       "        [[-12, -13, -14, -15],\n",
       "         [-16, -17, -18, -19],\n",
       "         [-20, -21, -22, -23]]], dtype=int32)>,\n",
       " <tf.Tensor: shape=(2, 3, 4), dtype=int32, numpy=\n",
       " array([[[ 0,  2,  4,  6],\n",
       "         [ 8, 10, 12, 14],\n",
       "         [16, 18, 20, 22]],\n",
       " \n",
       "        [[24, 26, 28, 30],\n",
       "         [32, 34, 36, 38],\n",
       "         [40, 42, 44, 46]]], dtype=int32)>)"
      ]
     },
     "execution_count": 14,
     "metadata": {},
     "output_type": "execute_result"
    }
   ],
   "source": [
    "a,b,c"
   ]
  },
  {
   "cell_type": "code",
   "execution_count": 10,
   "id": "67aa2ed7-37dc-47bb-b982-a6e707d4fff7",
   "metadata": {},
   "outputs": [
    {
     "data": {
      "text/plain": [
       "<tf.Tensor: shape=(6, 3, 4), dtype=int32, numpy=\n",
       "array([[[  0,   1,   2,   3],\n",
       "        [  4,   5,   6,   7],\n",
       "        [  8,   9,  10,  11]],\n",
       "\n",
       "       [[ 12,  13,  14,  15],\n",
       "        [ 16,  17,  18,  19],\n",
       "        [ 20,  21,  22,  23]],\n",
       "\n",
       "       [[  0,  -1,  -2,  -3],\n",
       "        [ -4,  -5,  -6,  -7],\n",
       "        [ -8,  -9, -10, -11]],\n",
       "\n",
       "       [[-12, -13, -14, -15],\n",
       "        [-16, -17, -18, -19],\n",
       "        [-20, -21, -22, -23]],\n",
       "\n",
       "       [[  0,   2,   4,   6],\n",
       "        [  8,  10,  12,  14],\n",
       "        [ 16,  18,  20,  22]],\n",
       "\n",
       "       [[ 24,  26,  28,  30],\n",
       "        [ 32,  34,  36,  38],\n",
       "        [ 40,  42,  44,  46]]], dtype=int32)>"
      ]
     },
     "execution_count": 10,
     "metadata": {},
     "output_type": "execute_result"
    }
   ],
   "source": [
    "tf.concat([a,b,c],axis=0)"
   ]
  },
  {
   "cell_type": "markdown",
   "id": "95f5ecd1-2f6a-4c15-ad44-4d5e8f8019eb",
   "metadata": {},
   "source": [
    "(예시2) (2,3,4), (2,3,4), (2,3,4) $\\to$ (2,9,4)"
   ]
  },
  {
   "cell_type": "code",
   "execution_count": 11,
   "id": "5e142e77-1b3a-4af3-b751-9a95a49f73b1",
   "metadata": {},
   "outputs": [
    {
     "data": {
      "text/plain": [
       "<tf.Tensor: shape=(2, 9, 4), dtype=int32, numpy=\n",
       "array([[[  0,   1,   2,   3],\n",
       "        [  4,   5,   6,   7],\n",
       "        [  8,   9,  10,  11],\n",
       "        [  0,  -1,  -2,  -3],\n",
       "        [ -4,  -5,  -6,  -7],\n",
       "        [ -8,  -9, -10, -11],\n",
       "        [  0,   2,   4,   6],\n",
       "        [  8,  10,  12,  14],\n",
       "        [ 16,  18,  20,  22]],\n",
       "\n",
       "       [[ 12,  13,  14,  15],\n",
       "        [ 16,  17,  18,  19],\n",
       "        [ 20,  21,  22,  23],\n",
       "        [-12, -13, -14, -15],\n",
       "        [-16, -17, -18, -19],\n",
       "        [-20, -21, -22, -23],\n",
       "        [ 24,  26,  28,  30],\n",
       "        [ 32,  34,  36,  38],\n",
       "        [ 40,  42,  44,  46]]], dtype=int32)>"
      ]
     },
     "execution_count": 11,
     "metadata": {},
     "output_type": "execute_result"
    }
   ],
   "source": [
    "tf.concat([a,b,c],axis=1)"
   ]
  },
  {
   "cell_type": "markdown",
   "id": "a766b651-d3bd-41e7-af2f-0032b09e111b",
   "metadata": {},
   "source": [
    "(예시3) (2,3,4), (2,3,4), (2,3,4) $\\to$ (2,3,12)"
   ]
  },
  {
   "cell_type": "code",
   "execution_count": 12,
   "id": "d1da4c38-672f-45c4-84e2-a8cda069e839",
   "metadata": {},
   "outputs": [
    {
     "data": {
      "text/plain": [
       "<tf.Tensor: shape=(2, 3, 12), dtype=int32, numpy=\n",
       "array([[[  0,   1,   2,   3,   0,  -1,  -2,  -3,   0,   2,   4,   6],\n",
       "        [  4,   5,   6,   7,  -4,  -5,  -6,  -7,   8,  10,  12,  14],\n",
       "        [  8,   9,  10,  11,  -8,  -9, -10, -11,  16,  18,  20,  22]],\n",
       "\n",
       "       [[ 12,  13,  14,  15, -12, -13, -14, -15,  24,  26,  28,  30],\n",
       "        [ 16,  17,  18,  19, -16, -17, -18, -19,  32,  34,  36,  38],\n",
       "        [ 20,  21,  22,  23, -20, -21, -22, -23,  40,  42,  44,  46]]],\n",
       "      dtype=int32)>"
      ]
     },
     "execution_count": 12,
     "metadata": {},
     "output_type": "execute_result"
    }
   ],
   "source": [
    "tf.concat([a,b,c],axis=2)"
   ]
  },
  {
   "cell_type": "markdown",
   "id": "1e5cd1cf-3218-4ea3-b301-9a343bdf4c18",
   "metadata": {},
   "source": [
    "(예시4) (2,3,4), (2,3,4), (2,3,4) $\\to$ (3,2,3,4) # axis=0 "
   ]
  },
  {
   "cell_type": "code",
   "execution_count": 17,
   "id": "ad82346c-fbf9-4da9-b1a4-c6ef224a493f",
   "metadata": {},
   "outputs": [
    {
     "data": {
      "text/plain": [
       "<tf.Tensor: shape=(3, 2, 3, 4), dtype=int32, numpy=\n",
       "array([[[[  0,   1,   2,   3],\n",
       "         [  4,   5,   6,   7],\n",
       "         [  8,   9,  10,  11]],\n",
       "\n",
       "        [[ 12,  13,  14,  15],\n",
       "         [ 16,  17,  18,  19],\n",
       "         [ 20,  21,  22,  23]]],\n",
       "\n",
       "\n",
       "       [[[  0,  -1,  -2,  -3],\n",
       "         [ -4,  -5,  -6,  -7],\n",
       "         [ -8,  -9, -10, -11]],\n",
       "\n",
       "        [[-12, -13, -14, -15],\n",
       "         [-16, -17, -18, -19],\n",
       "         [-20, -21, -22, -23]]],\n",
       "\n",
       "\n",
       "       [[[  0,   2,   4,   6],\n",
       "         [  8,  10,  12,  14],\n",
       "         [ 16,  18,  20,  22]],\n",
       "\n",
       "        [[ 24,  26,  28,  30],\n",
       "         [ 32,  34,  36,  38],\n",
       "         [ 40,  42,  44,  46]]]], dtype=int32)>"
      ]
     },
     "execution_count": 17,
     "metadata": {},
     "output_type": "execute_result"
    }
   ],
   "source": [
    "tf.stack([a,b,c],axis=0)"
   ]
  },
  {
   "cell_type": "markdown",
   "id": "a0a57709-7730-4719-8f60-6bc1f4d75e9c",
   "metadata": {},
   "source": [
    "(예시5) (2,3,4), (2,3,4), (2,3,4) $\\to$ (2,3,3,4) # axis=1"
   ]
  },
  {
   "cell_type": "code",
   "execution_count": 18,
   "id": "695ff51c-bcbd-45e2-86dc-e7ada9067205",
   "metadata": {},
   "outputs": [
    {
     "data": {
      "text/plain": [
       "<tf.Tensor: shape=(2, 3, 3, 4), dtype=int32, numpy=\n",
       "array([[[[  0,   1,   2,   3],\n",
       "         [  4,   5,   6,   7],\n",
       "         [  8,   9,  10,  11]],\n",
       "\n",
       "        [[  0,  -1,  -2,  -3],\n",
       "         [ -4,  -5,  -6,  -7],\n",
       "         [ -8,  -9, -10, -11]],\n",
       "\n",
       "        [[  0,   2,   4,   6],\n",
       "         [  8,  10,  12,  14],\n",
       "         [ 16,  18,  20,  22]]],\n",
       "\n",
       "\n",
       "       [[[ 12,  13,  14,  15],\n",
       "         [ 16,  17,  18,  19],\n",
       "         [ 20,  21,  22,  23]],\n",
       "\n",
       "        [[-12, -13, -14, -15],\n",
       "         [-16, -17, -18, -19],\n",
       "         [-20, -21, -22, -23]],\n",
       "\n",
       "        [[ 24,  26,  28,  30],\n",
       "         [ 32,  34,  36,  38],\n",
       "         [ 40,  42,  44,  46]]]], dtype=int32)>"
      ]
     },
     "execution_count": 18,
     "metadata": {},
     "output_type": "execute_result"
    }
   ],
   "source": [
    "tf.stack([a,b,c],axis=1)"
   ]
  },
  {
   "cell_type": "markdown",
   "id": "dacbc0ed-c2c5-4d75-a14d-4605c72ca672",
   "metadata": {},
   "source": [
    "(예시6) (2,3,4), (2,3,4), (2,3,4) $\\to$ (2,3,3,4) # axis=2"
   ]
  },
  {
   "cell_type": "code",
   "execution_count": 21,
   "id": "e4b91852-f464-4e75-ac4f-d20835899ff4",
   "metadata": {},
   "outputs": [
    {
     "data": {
      "text/plain": [
       "<tf.Tensor: shape=(2, 3, 3, 4), dtype=int32, numpy=\n",
       "array([[[[  0,   1,   2,   3],\n",
       "         [  0,  -1,  -2,  -3],\n",
       "         [  0,   2,   4,   6]],\n",
       "\n",
       "        [[  4,   5,   6,   7],\n",
       "         [ -4,  -5,  -6,  -7],\n",
       "         [  8,  10,  12,  14]],\n",
       "\n",
       "        [[  8,   9,  10,  11],\n",
       "         [ -8,  -9, -10, -11],\n",
       "         [ 16,  18,  20,  22]]],\n",
       "\n",
       "\n",
       "       [[[ 12,  13,  14,  15],\n",
       "         [-12, -13, -14, -15],\n",
       "         [ 24,  26,  28,  30]],\n",
       "\n",
       "        [[ 16,  17,  18,  19],\n",
       "         [-16, -17, -18, -19],\n",
       "         [ 32,  34,  36,  38]],\n",
       "\n",
       "        [[ 20,  21,  22,  23],\n",
       "         [-20, -21, -22, -23],\n",
       "         [ 40,  42,  44,  46]]]], dtype=int32)>"
      ]
     },
     "execution_count": 21,
     "metadata": {},
     "output_type": "execute_result"
    }
   ],
   "source": [
    "tf.stack([a,b,c],axis=2)"
   ]
  },
  {
   "cell_type": "markdown",
   "id": "62e59896-b9b9-45d6-8c37-2a26d43ae6dd",
   "metadata": {},
   "source": [
    "(예시7) (2,3,4), (2,3,4), (2,3,4) $\\to$ (2,3,4,3) # axis=3"
   ]
  },
  {
   "cell_type": "code",
   "execution_count": 22,
   "id": "3feb3986-dadb-4a9b-8437-c69b566c31fd",
   "metadata": {},
   "outputs": [
    {
     "data": {
      "text/plain": [
       "<tf.Tensor: shape=(2, 3, 4, 3), dtype=int32, numpy=\n",
       "array([[[[  0,   0,   0],\n",
       "         [  1,  -1,   2],\n",
       "         [  2,  -2,   4],\n",
       "         [  3,  -3,   6]],\n",
       "\n",
       "        [[  4,  -4,   8],\n",
       "         [  5,  -5,  10],\n",
       "         [  6,  -6,  12],\n",
       "         [  7,  -7,  14]],\n",
       "\n",
       "        [[  8,  -8,  16],\n",
       "         [  9,  -9,  18],\n",
       "         [ 10, -10,  20],\n",
       "         [ 11, -11,  22]]],\n",
       "\n",
       "\n",
       "       [[[ 12, -12,  24],\n",
       "         [ 13, -13,  26],\n",
       "         [ 14, -14,  28],\n",
       "         [ 15, -15,  30]],\n",
       "\n",
       "        [[ 16, -16,  32],\n",
       "         [ 17, -17,  34],\n",
       "         [ 18, -18,  36],\n",
       "         [ 19, -19,  38]],\n",
       "\n",
       "        [[ 20, -20,  40],\n",
       "         [ 21, -21,  42],\n",
       "         [ 22, -22,  44],\n",
       "         [ 23, -23,  46]]]], dtype=int32)>"
      ]
     },
     "execution_count": 22,
     "metadata": {},
     "output_type": "execute_result"
    }
   ],
   "source": [
    "tf.stack([a,b,c],axis=3)"
   ]
  },
  {
   "cell_type": "markdown",
   "id": "3f6939a1-c76b-4c03-b11e-7f76281a168a",
   "metadata": {},
   "source": [
    "`-` 예제: (2,3,4) (4,3,4) $\\to$ (6,3,4) "
   ]
  },
  {
   "cell_type": "code",
   "execution_count": 23,
   "id": "4cdc070b-85b8-4c62-91f4-9cca4f903860",
   "metadata": {},
   "outputs": [],
   "source": [
    "a=tf.reshape(tf.constant(range(2*3*4)),(2,3,4))\n",
    "b=tf.reshape(-tf.constant(range(4*3*4)),(4,3,4)) "
   ]
  },
  {
   "cell_type": "code",
   "execution_count": 29,
   "id": "a7f18f7a-bd3b-4b14-85c5-3b824f0774e6",
   "metadata": {},
   "outputs": [
    {
     "data": {
      "text/plain": [
       "<tf.Tensor: shape=(6, 3, 4), dtype=int32, numpy=\n",
       "array([[[  0,   1,   2,   3],\n",
       "        [  4,   5,   6,   7],\n",
       "        [  8,   9,  10,  11]],\n",
       "\n",
       "       [[ 12,  13,  14,  15],\n",
       "        [ 16,  17,  18,  19],\n",
       "        [ 20,  21,  22,  23]],\n",
       "\n",
       "       [[  0,  -1,  -2,  -3],\n",
       "        [ -4,  -5,  -6,  -7],\n",
       "        [ -8,  -9, -10, -11]],\n",
       "\n",
       "       [[-12, -13, -14, -15],\n",
       "        [-16, -17, -18, -19],\n",
       "        [-20, -21, -22, -23]],\n",
       "\n",
       "       [[-24, -25, -26, -27],\n",
       "        [-28, -29, -30, -31],\n",
       "        [-32, -33, -34, -35]],\n",
       "\n",
       "       [[-36, -37, -38, -39],\n",
       "        [-40, -41, -42, -43],\n",
       "        [-44, -45, -46, -47]]], dtype=int32)>"
      ]
     },
     "execution_count": 29,
     "metadata": {},
     "output_type": "execute_result"
    }
   ],
   "source": [
    "tf.concat([a,b],axis=0)"
   ]
  },
  {
   "cell_type": "code",
   "execution_count": 30,
   "id": "ec7df3eb-416d-417c-8680-87edf3a6d200",
   "metadata": {},
   "outputs": [
    {
     "ename": "InvalidArgumentError",
     "evalue": "ConcatOp : Dimensions of inputs should match: shape[0] = [2,3,4] vs. shape[1] = [4,3,4] [Op:ConcatV2] name: concat",
     "output_type": "error",
     "traceback": [
      "\u001b[0;31m---------------------------------------------------------------------------\u001b[0m",
      "\u001b[0;31mInvalidArgumentError\u001b[0m                      Traceback (most recent call last)",
      "Input \u001b[0;32mIn [30]\u001b[0m, in \u001b[0;36m<cell line: 1>\u001b[0;34m()\u001b[0m\n\u001b[0;32m----> 1\u001b[0m \u001b[43mtf\u001b[49m\u001b[38;5;241;43m.\u001b[39;49m\u001b[43mconcat\u001b[49m\u001b[43m(\u001b[49m\u001b[43m[\u001b[49m\u001b[43ma\u001b[49m\u001b[43m,\u001b[49m\u001b[43mb\u001b[49m\u001b[43m]\u001b[49m\u001b[43m,\u001b[49m\u001b[43maxis\u001b[49m\u001b[38;5;241;43m=\u001b[39;49m\u001b[38;5;241;43m1\u001b[39;49m\u001b[43m)\u001b[49m\n",
      "File \u001b[0;32m~/anaconda3/envs/py310/lib/python3.10/site-packages/tensorflow/python/util/traceback_utils.py:153\u001b[0m, in \u001b[0;36mfilter_traceback.<locals>.error_handler\u001b[0;34m(*args, **kwargs)\u001b[0m\n\u001b[1;32m    151\u001b[0m \u001b[38;5;28;01mexcept\u001b[39;00m \u001b[38;5;167;01mException\u001b[39;00m \u001b[38;5;28;01mas\u001b[39;00m e:\n\u001b[1;32m    152\u001b[0m   filtered_tb \u001b[38;5;241m=\u001b[39m _process_traceback_frames(e\u001b[38;5;241m.\u001b[39m__traceback__)\n\u001b[0;32m--> 153\u001b[0m   \u001b[38;5;28;01mraise\u001b[39;00m e\u001b[38;5;241m.\u001b[39mwith_traceback(filtered_tb) \u001b[38;5;28;01mfrom\u001b[39;00m \u001b[38;5;28mNone\u001b[39m\n\u001b[1;32m    154\u001b[0m \u001b[38;5;28;01mfinally\u001b[39;00m:\n\u001b[1;32m    155\u001b[0m   \u001b[38;5;28;01mdel\u001b[39;00m filtered_tb\n",
      "File \u001b[0;32m~/anaconda3/envs/py310/lib/python3.10/site-packages/tensorflow/python/framework/ops.py:7107\u001b[0m, in \u001b[0;36mraise_from_not_ok_status\u001b[0;34m(e, name)\u001b[0m\n\u001b[1;32m   7105\u001b[0m \u001b[38;5;28;01mdef\u001b[39;00m \u001b[38;5;21mraise_from_not_ok_status\u001b[39m(e, name):\n\u001b[1;32m   7106\u001b[0m   e\u001b[38;5;241m.\u001b[39mmessage \u001b[38;5;241m+\u001b[39m\u001b[38;5;241m=\u001b[39m (\u001b[38;5;124m\"\u001b[39m\u001b[38;5;124m name: \u001b[39m\u001b[38;5;124m\"\u001b[39m \u001b[38;5;241m+\u001b[39m name \u001b[38;5;28;01mif\u001b[39;00m name \u001b[38;5;129;01mis\u001b[39;00m \u001b[38;5;129;01mnot\u001b[39;00m \u001b[38;5;28;01mNone\u001b[39;00m \u001b[38;5;28;01melse\u001b[39;00m \u001b[38;5;124m\"\u001b[39m\u001b[38;5;124m\"\u001b[39m)\n\u001b[0;32m-> 7107\u001b[0m   \u001b[38;5;28;01mraise\u001b[39;00m core\u001b[38;5;241m.\u001b[39m_status_to_exception(e) \u001b[38;5;28;01mfrom\u001b[39;00m \u001b[38;5;28mNone\u001b[39m\n",
      "\u001b[0;31mInvalidArgumentError\u001b[0m: ConcatOp : Dimensions of inputs should match: shape[0] = [2,3,4] vs. shape[1] = [4,3,4] [Op:ConcatV2] name: concat"
     ]
    }
   ],
   "source": [
    "tf.concat([a,b],axis=1) # 에러"
   ]
  },
  {
   "cell_type": "code",
   "execution_count": 31,
   "id": "e2185036-3eaa-4cba-b1ad-1f3bd9238b3e",
   "metadata": {},
   "outputs": [
    {
     "ename": "InvalidArgumentError",
     "evalue": "ConcatOp : Dimensions of inputs should match: shape[0] = [2,3,4] vs. shape[1] = [4,3,4] [Op:ConcatV2] name: concat",
     "output_type": "error",
     "traceback": [
      "\u001b[0;31m---------------------------------------------------------------------------\u001b[0m",
      "\u001b[0;31mInvalidArgumentError\u001b[0m                      Traceback (most recent call last)",
      "Input \u001b[0;32mIn [31]\u001b[0m, in \u001b[0;36m<cell line: 1>\u001b[0;34m()\u001b[0m\n\u001b[0;32m----> 1\u001b[0m \u001b[43mtf\u001b[49m\u001b[38;5;241;43m.\u001b[39;49m\u001b[43mconcat\u001b[49m\u001b[43m(\u001b[49m\u001b[43m[\u001b[49m\u001b[43ma\u001b[49m\u001b[43m,\u001b[49m\u001b[43mb\u001b[49m\u001b[43m]\u001b[49m\u001b[43m,\u001b[49m\u001b[43maxis\u001b[49m\u001b[38;5;241;43m=\u001b[39;49m\u001b[38;5;241;43m2\u001b[39;49m\u001b[43m)\u001b[49m\n",
      "File \u001b[0;32m~/anaconda3/envs/py310/lib/python3.10/site-packages/tensorflow/python/util/traceback_utils.py:153\u001b[0m, in \u001b[0;36mfilter_traceback.<locals>.error_handler\u001b[0;34m(*args, **kwargs)\u001b[0m\n\u001b[1;32m    151\u001b[0m \u001b[38;5;28;01mexcept\u001b[39;00m \u001b[38;5;167;01mException\u001b[39;00m \u001b[38;5;28;01mas\u001b[39;00m e:\n\u001b[1;32m    152\u001b[0m   filtered_tb \u001b[38;5;241m=\u001b[39m _process_traceback_frames(e\u001b[38;5;241m.\u001b[39m__traceback__)\n\u001b[0;32m--> 153\u001b[0m   \u001b[38;5;28;01mraise\u001b[39;00m e\u001b[38;5;241m.\u001b[39mwith_traceback(filtered_tb) \u001b[38;5;28;01mfrom\u001b[39;00m \u001b[38;5;28mNone\u001b[39m\n\u001b[1;32m    154\u001b[0m \u001b[38;5;28;01mfinally\u001b[39;00m:\n\u001b[1;32m    155\u001b[0m   \u001b[38;5;28;01mdel\u001b[39;00m filtered_tb\n",
      "File \u001b[0;32m~/anaconda3/envs/py310/lib/python3.10/site-packages/tensorflow/python/framework/ops.py:7107\u001b[0m, in \u001b[0;36mraise_from_not_ok_status\u001b[0;34m(e, name)\u001b[0m\n\u001b[1;32m   7105\u001b[0m \u001b[38;5;28;01mdef\u001b[39;00m \u001b[38;5;21mraise_from_not_ok_status\u001b[39m(e, name):\n\u001b[1;32m   7106\u001b[0m   e\u001b[38;5;241m.\u001b[39mmessage \u001b[38;5;241m+\u001b[39m\u001b[38;5;241m=\u001b[39m (\u001b[38;5;124m\"\u001b[39m\u001b[38;5;124m name: \u001b[39m\u001b[38;5;124m\"\u001b[39m \u001b[38;5;241m+\u001b[39m name \u001b[38;5;28;01mif\u001b[39;00m name \u001b[38;5;129;01mis\u001b[39;00m \u001b[38;5;129;01mnot\u001b[39;00m \u001b[38;5;28;01mNone\u001b[39;00m \u001b[38;5;28;01melse\u001b[39;00m \u001b[38;5;124m\"\u001b[39m\u001b[38;5;124m\"\u001b[39m)\n\u001b[0;32m-> 7107\u001b[0m   \u001b[38;5;28;01mraise\u001b[39;00m core\u001b[38;5;241m.\u001b[39m_status_to_exception(e) \u001b[38;5;28;01mfrom\u001b[39;00m \u001b[38;5;28mNone\u001b[39m\n",
      "\u001b[0;31mInvalidArgumentError\u001b[0m: ConcatOp : Dimensions of inputs should match: shape[0] = [2,3,4] vs. shape[1] = [4,3,4] [Op:ConcatV2] name: concat"
     ]
    }
   ],
   "source": [
    "tf.concat([a,b],axis=2) # 에러"
   ]
  },
  {
   "cell_type": "markdown",
   "id": "f24a8551-6245-4428-b316-4ace195981ec",
   "metadata": {},
   "source": [
    "`-` tf.random"
   ]
  }
 ],
 "metadata": {
  "kernelspec": {
   "display_name": "Python 3 (ipykernel)",
   "language": "python",
   "name": "python3"
  },
  "language_info": {
   "codemirror_mode": {
    "name": "ipython",
    "version": 3
   },
   "file_extension": ".py",
   "mimetype": "text/x-python",
   "name": "python",
   "nbconvert_exporter": "python",
   "pygments_lexer": "ipython3",
   "version": "3.10.0"
  }
 },
 "nbformat": 4,
 "nbformat_minor": 5
}
