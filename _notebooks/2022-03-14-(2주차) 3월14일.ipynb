{
 "cells": [
  {
   "cell_type": "markdown",
   "id": "904c2d8f-accf-4a4a-86b3-e9a6361ba29a",
   "metadata": {},
   "source": [
    "# (2주차) 3월14일, draft\n",
    "\n",
    "- toc:true\n",
    "- branch: master\n",
    "- badges: true\n",
    "- comments: true\n",
    "- author: 최규빈"
   ]
  },
  {
   "cell_type": "code",
   "execution_count": 1,
   "id": "e18d4288-4668-45c2-a66f-5bb76f5b9ca2",
   "metadata": {},
   "outputs": [],
   "source": [
    "import tensorflow as tf\n",
    "import numpy as np"
   ]
  },
  {
   "cell_type": "code",
   "execution_count": 2,
   "id": "c4a78936-73df-4a20-8041-0d76aa07fd0f",
   "metadata": {},
   "outputs": [
    {
     "name": "stderr",
     "output_type": "stream",
     "text": [
      "2022-03-14 15:21:15.520866: I tensorflow/stream_executor/cuda/cuda_gpu_executor.cc:939] successful NUMA node read from SysFS had negative value (-1), but there must be at least one NUMA node, so returning NUMA node zero\n"
     ]
    },
    {
     "data": {
      "text/plain": [
       "[PhysicalDevice(name='/physical_device:GPU:0', device_type='GPU')]"
      ]
     },
     "execution_count": 2,
     "metadata": {},
     "output_type": "execute_result"
    }
   ],
   "source": [
    "tf.config.experimental.list_physical_devices('GPU')"
   ]
  },
  {
   "cell_type": "markdown",
   "id": "1f7d8172-8b82-4777-b922-aa46ea9e5a48",
   "metadata": {},
   "source": [
    "### tf.constant "
   ]
  },
  {
   "cell_type": "markdown",
   "id": "19d1b4f6-91ae-4638-b332-103dadaf6473",
   "metadata": {},
   "source": [
    "#### 예비학습: 중첩리스트 "
   ]
  },
  {
   "cell_type": "markdown",
   "id": "4ed85775-15de-4083-b409-7e241162330d",
   "metadata": {},
   "source": [
    "`-` (2,) vector"
   ]
  },
  {
   "cell_type": "code",
   "execution_count": 3,
   "id": "c9a36cad-f95d-4191-a8f9-988075b6bd1d",
   "metadata": {},
   "outputs": [],
   "source": [
    "lst = [1,2] "
   ]
  },
  {
   "cell_type": "code",
   "execution_count": 4,
   "id": "6d776ad3-0ad8-47ee-b2df-921281c6a556",
   "metadata": {},
   "outputs": [
    {
     "data": {
      "text/plain": [
       "[1, 2]"
      ]
     },
     "execution_count": 4,
     "metadata": {},
     "output_type": "execute_result"
    }
   ],
   "source": [
    "lst"
   ]
  },
  {
   "cell_type": "code",
   "execution_count": 5,
   "id": "691f22fd-61a2-4891-a194-f9aa2e7e0d68",
   "metadata": {},
   "outputs": [
    {
     "data": {
      "text/plain": [
       "1"
      ]
     },
     "execution_count": 5,
     "metadata": {},
     "output_type": "execute_result"
    }
   ],
   "source": [
    "lst[0] # "
   ]
  },
  {
   "cell_type": "code",
   "execution_count": 6,
   "id": "19d2627a-9165-4ae3-81a7-4df71c9c9e19",
   "metadata": {},
   "outputs": [
    {
     "data": {
      "text/plain": [
       "2"
      ]
     },
     "execution_count": 6,
     "metadata": {},
     "output_type": "execute_result"
    }
   ],
   "source": [
    "lst[1]"
   ]
  },
  {
   "cell_type": "markdown",
   "id": "075764cd-85d6-4d9b-984f-de562c2d16e1",
   "metadata": {},
   "source": [
    "`-` (2,2) matrix  "
   ]
  },
  {
   "cell_type": "code",
   "execution_count": 7,
   "id": "2296d4ea-c83b-42b0-9af8-91dcca7f2e10",
   "metadata": {},
   "outputs": [],
   "source": [
    "lst = [[1,2],[3,4]]"
   ]
  },
  {
   "cell_type": "code",
   "execution_count": 8,
   "id": "a609b64c-a73d-4809-9952-9c7f49bb27ad",
   "metadata": {},
   "outputs": [
    {
     "data": {
      "text/plain": [
       "1"
      ]
     },
     "execution_count": 8,
     "metadata": {},
     "output_type": "execute_result"
    }
   ],
   "source": [
    "lst[0][0]"
   ]
  },
  {
   "cell_type": "code",
   "execution_count": 9,
   "id": "fa989951-9d08-4227-b3dc-e44dd03bc4c2",
   "metadata": {},
   "outputs": [
    {
     "data": {
      "text/plain": [
       "4"
      ]
     },
     "execution_count": 9,
     "metadata": {},
     "output_type": "execute_result"
    }
   ],
   "source": [
    "lst[1][1]"
   ]
  },
  {
   "cell_type": "markdown",
   "id": "be257e0b-5e56-4a92-a0ec-00320550fcdf",
   "metadata": {},
   "source": [
    "```\n",
    "1 2 \n",
    "3 4 \n",
    "```"
   ]
  },
  {
   "cell_type": "code",
   "execution_count": 10,
   "id": "489e7819-1d88-40cb-b2bd-a60093ba3e7d",
   "metadata": {},
   "outputs": [
    {
     "name": "stdout",
     "output_type": "stream",
     "text": [
      "1\n",
      "2\n",
      "3\n",
      "4\n"
     ]
    }
   ],
   "source": [
    "print(lst[0][0]) # (1,1) \n",
    "print(lst[0][1]) # (1,2)\n",
    "print(lst[1][0]) # (2,1) \n",
    "print(lst[1][1]) # (2,2) "
   ]
  },
  {
   "cell_type": "markdown",
   "id": "02ef37b5-11bc-4059-a859-d53e8fc40aee",
   "metadata": {},
   "source": [
    "매트릭스는 아니지만 매트릭스 같음 "
   ]
  },
  {
   "cell_type": "markdown",
   "id": "99845fad-e14b-4a90-9460-c05ae957843e",
   "metadata": {},
   "source": [
    "`-` (4,1) matrix "
   ]
  },
  {
   "cell_type": "code",
   "execution_count": 11,
   "id": "4212ce3f-4b4e-4d63-9231-ffa2143d1759",
   "metadata": {},
   "outputs": [
    {
     "data": {
      "text/plain": [
       "[[1, 2], [3, 4], [5, 6], [7, 8]]"
      ]
     },
     "execution_count": 11,
     "metadata": {},
     "output_type": "execute_result"
    }
   ],
   "source": [
    "lst = [[1,2],[3,4],[5,6],[7,8]]\n",
    "lst # (4,2) "
   ]
  },
  {
   "cell_type": "code",
   "execution_count": 12,
   "id": "e848a4fa-6b62-40f5-bdc4-3e82ea87d058",
   "metadata": {},
   "outputs": [
    {
     "data": {
      "text/plain": [
       "[[1], [3], [5], [7]]"
      ]
     },
     "execution_count": 12,
     "metadata": {},
     "output_type": "execute_result"
    }
   ],
   "source": [
    "lst = [[1],[3],[5],[7]]\n",
    "lst # (4,1) matrix = 길이가 4인 col-vector "
   ]
  },
  {
   "cell_type": "markdown",
   "id": "69227544-25e7-4c43-a5ec-f41e418ffbf1",
   "metadata": {},
   "source": [
    "`-` (1,4) matrix "
   ]
  },
  {
   "cell_type": "code",
   "execution_count": 13,
   "id": "aa0c6581-c387-4481-8832-2412585d9b24",
   "metadata": {},
   "outputs": [
    {
     "data": {
      "text/plain": [
       "[[1, 2, 3, 4], [5, 6, 7, 8]]"
      ]
     },
     "execution_count": 13,
     "metadata": {},
     "output_type": "execute_result"
    }
   ],
   "source": [
    "lst = [[1,2,3,4],[5,6,7,8]]\n",
    "lst # (2,4) matrix  "
   ]
  },
  {
   "cell_type": "code",
   "execution_count": 14,
   "id": "74c23cfa-e5c0-4121-b031-5f6b0c5080c6",
   "metadata": {},
   "outputs": [
    {
     "data": {
      "text/plain": [
       "[[1, 2, 3, 4]]"
      ]
     },
     "execution_count": 14,
     "metadata": {},
     "output_type": "execute_result"
    }
   ],
   "source": [
    "lst = [[1,2,3,4]]\n",
    "lst # (1,4) matrix = 길이가 4인 row-vector  "
   ]
  },
  {
   "cell_type": "markdown",
   "id": "36ff8b1b-0c01-4d8c-ac7e-bce6a2e9ccf3",
   "metadata": {},
   "source": [
    "`-` 3차원 "
   ]
  },
  {
   "cell_type": "code",
   "execution_count": 15,
   "id": "147005b2-358d-423b-b8ea-4d66386ec47e",
   "metadata": {},
   "outputs": [
    {
     "data": {
      "text/plain": [
       "[[[1, 2], [3, 4]], [[5, 6], [7, 8]]]"
      ]
     },
     "execution_count": 15,
     "metadata": {},
     "output_type": "execute_result"
    }
   ],
   "source": [
    "lst = [[[1,2],[3,4]], [[5,6],[7,8]]]\n",
    "lst "
   ]
  },
  {
   "cell_type": "code",
   "execution_count": 16,
   "id": "0104a249-37c1-4e50-b024-7d664cdcca08",
   "metadata": {},
   "outputs": [
    {
     "name": "stdout",
     "output_type": "stream",
     "text": [
      "1\n",
      "2\n",
      "3\n",
      "4\n",
      "5\n",
      "6\n",
      "7\n",
      "8\n"
     ]
    }
   ],
   "source": [
    "print(lst[0][0][0])\n",
    "print(lst[0][0][1])\n",
    "print(lst[0][1][0])\n",
    "print(lst[0][1][1])\n",
    "print(lst[1][0][0])\n",
    "print(lst[1][0][1])\n",
    "print(lst[1][1][0])\n",
    "print(lst[1][1][1])"
   ]
  },
  {
   "cell_type": "markdown",
   "id": "6a4dd379-e9c5-4e5d-a3ec-c2383ae1ac56",
   "metadata": {},
   "source": [
    "#### 선언"
   ]
  },
  {
   "cell_type": "markdown",
   "id": "a516c823-05f3-4eca-8338-6162d2d9ce76",
   "metadata": {},
   "source": [
    "`-` 스칼라 "
   ]
  },
  {
   "cell_type": "code",
   "execution_count": 17,
   "id": "d343a2e0-c094-42e5-ab55-f300a5b2e757",
   "metadata": {},
   "outputs": [
    {
     "data": {
      "text/plain": [
       "<tf.Tensor: shape=(), dtype=int32, numpy=1>"
      ]
     },
     "execution_count": 17,
     "metadata": {},
     "output_type": "execute_result"
    }
   ],
   "source": [
    "_scalar =tf.constant(1)\n",
    "_scalar"
   ]
  },
  {
   "cell_type": "markdown",
   "id": "42a38ce7-a0c0-4862-a4d8-c4b2cca839e0",
   "metadata": {},
   "source": [
    "`-` 벡터"
   ]
  },
  {
   "cell_type": "code",
   "execution_count": 18,
   "id": "976c770a-72f6-4a91-8e7e-a41cbca7f912",
   "metadata": {},
   "outputs": [
    {
     "data": {
      "text/plain": [
       "<tf.Tensor: shape=(3,), dtype=int32, numpy=array([1, 2, 3], dtype=int32)>"
      ]
     },
     "execution_count": 18,
     "metadata": {},
     "output_type": "execute_result"
    }
   ],
   "source": [
    "_vector=tf.constant([1,2,3])\n",
    "_vector"
   ]
  },
  {
   "cell_type": "code",
   "execution_count": 19,
   "id": "8656e79b-21cf-4f39-8386-c2f16dad3a78",
   "metadata": {},
   "outputs": [
    {
     "data": {
      "text/plain": [
       "<tf.Tensor: shape=(), dtype=int32, numpy=2>"
      ]
     },
     "execution_count": 19,
     "metadata": {},
     "output_type": "execute_result"
    }
   ],
   "source": [
    "_vector[-2]"
   ]
  },
  {
   "cell_type": "markdown",
   "id": "d058a873-3471-4746-9e38-b45bc9ebc0cd",
   "metadata": {},
   "source": [
    "`-` 매트릭스 "
   ]
  },
  {
   "cell_type": "code",
   "execution_count": 20,
   "id": "e3e7a446-0073-42a8-b601-3750308e7cab",
   "metadata": {},
   "outputs": [
    {
     "data": {
      "text/plain": [
       "<tf.Tensor: shape=(2, 2), dtype=int32, numpy=\n",
       "array([[1, 2],\n",
       "       [3, 4]], dtype=int32)>"
      ]
     },
     "execution_count": 20,
     "metadata": {},
     "output_type": "execute_result"
    }
   ],
   "source": [
    "_matrix=tf.constant([[1,2],[3,4]])\n",
    "_matrix"
   ]
  },
  {
   "cell_type": "code",
   "execution_count": 21,
   "id": "72020bd7-e2a8-42e9-b1c6-495103d6c999",
   "metadata": {},
   "outputs": [
    {
     "data": {
      "text/plain": [
       "<tf.Tensor: shape=(), dtype=int32, numpy=2>"
      ]
     },
     "execution_count": 21,
     "metadata": {},
     "output_type": "execute_result"
    }
   ],
   "source": [
    "_matrix[0,1]"
   ]
  },
  {
   "cell_type": "markdown",
   "id": "db79211f-706f-4388-9e10-6b057ec840fb",
   "metadata": {
    "tags": []
   },
   "source": [
    "#### 타입"
   ]
  },
  {
   "cell_type": "code",
   "execution_count": 22,
   "id": "5ddba5f0-5399-4fcb-90c3-0eda646005a7",
   "metadata": {},
   "outputs": [
    {
     "data": {
      "text/plain": [
       "tensorflow.python.framework.ops.EagerTensor"
      ]
     },
     "execution_count": 22,
     "metadata": {},
     "output_type": "execute_result"
    }
   ],
   "source": [
    "type(_scalar)"
   ]
  },
  {
   "cell_type": "markdown",
   "id": "f06b1e19-16d1-4667-b881-5aabf63c84d9",
   "metadata": {},
   "source": [
    "#### 인덱싱 "
   ]
  },
  {
   "cell_type": "code",
   "execution_count": 23,
   "id": "d5f13e65-4171-4678-87dc-8d2833aeb4fd",
   "metadata": {},
   "outputs": [
    {
     "data": {
      "text/plain": [
       "<tf.Tensor: shape=(2, 3), dtype=int32, numpy=\n",
       "array([[1, 2, 3],\n",
       "       [3, 4, 5]], dtype=int32)>"
      ]
     },
     "execution_count": 23,
     "metadata": {},
     "output_type": "execute_result"
    }
   ],
   "source": [
    "_matrix=tf.constant([[1,2,3],[3,4,5]])\n",
    "_matrix"
   ]
  },
  {
   "cell_type": "code",
   "execution_count": 24,
   "id": "c6c20be3-756e-4570-bd80-11e77ffe5e4f",
   "metadata": {},
   "outputs": [
    {
     "data": {
      "text/plain": [
       "<tf.Tensor: shape=(3,), dtype=int32, numpy=array([1, 2, 3], dtype=int32)>"
      ]
     },
     "execution_count": 24,
     "metadata": {},
     "output_type": "execute_result"
    }
   ],
   "source": [
    "_matrix[0,:] "
   ]
  },
  {
   "cell_type": "code",
   "execution_count": 25,
   "id": "598c8147-768f-4c89-a7bd-b47199d7d5f4",
   "metadata": {},
   "outputs": [
    {
     "data": {
      "text/plain": [
       "<tf.Tensor: shape=(2,), dtype=int32, numpy=array([1, 3], dtype=int32)>"
      ]
     },
     "execution_count": 25,
     "metadata": {},
     "output_type": "execute_result"
    }
   ],
   "source": [
    "_matrix[:,0] "
   ]
  },
  {
   "cell_type": "code",
   "execution_count": 26,
   "id": "d0567bf1-5316-45c3-a359-bc381b2121f1",
   "metadata": {},
   "outputs": [
    {
     "data": {
      "text/plain": [
       "<tf.Tensor: shape=(2,), dtype=int32, numpy=array([3, 5], dtype=int32)>"
      ]
     },
     "execution_count": 26,
     "metadata": {},
     "output_type": "execute_result"
    }
   ],
   "source": [
    "_matrix[:,-1] "
   ]
  },
  {
   "cell_type": "markdown",
   "id": "cebc2e49-6c71-47bf-a884-e8556c3198cf",
   "metadata": {},
   "source": [
    "#### tf.constant는 불편하다. "
   ]
  },
  {
   "cell_type": "markdown",
   "id": "246aea58-79dd-441f-a797-6bf8c616547f",
   "metadata": {},
   "source": [
    "`-` 불편한점 \n",
    "1. dtype이 모든 원소가 똑같아야한다. (그럴수 있음) \n",
    "2. 값을 바꿀 수가 없다. \n",
    "3. dtype이 다르면 연산이 불가능함. "
   ]
  },
  {
   "cell_type": "markdown",
   "id": "ea7f82ed-00aa-456d-bc36-f137de46f356",
   "metadata": {},
   "source": [
    "`-` 값을 바꿀 수 없다. "
   ]
  },
  {
   "cell_type": "code",
   "execution_count": 27,
   "id": "38b68510-9054-4aef-82b9-520cd0c301a9",
   "metadata": {},
   "outputs": [
    {
     "data": {
      "text/plain": [
       "<tf.Tensor: shape=(2, 3), dtype=int32, numpy=\n",
       "array([[1, 2, 3],\n",
       "       [3, 4, 5]], dtype=int32)>"
      ]
     },
     "execution_count": 27,
     "metadata": {},
     "output_type": "execute_result"
    }
   ],
   "source": [
    "_matrix=tf.constant([[1,2,3],[3,4,5]])\n",
    "_matrix"
   ]
  },
  {
   "cell_type": "code",
   "execution_count": 28,
   "id": "e243ed20-a463-47df-9ea3-c677a47dbe5b",
   "metadata": {},
   "outputs": [
    {
     "ename": "TypeError",
     "evalue": "'tensorflow.python.framework.ops.EagerTensor' object does not support item assignment",
     "output_type": "error",
     "traceback": [
      "\u001b[0;31m---------------------------------------------------------------------------\u001b[0m",
      "\u001b[0;31mTypeError\u001b[0m                                 Traceback (most recent call last)",
      "Input \u001b[0;32mIn [28]\u001b[0m, in \u001b[0;36m<cell line: 1>\u001b[0;34m()\u001b[0m\n\u001b[0;32m----> 1\u001b[0m _matrix[\u001b[38;5;241m0\u001b[39m,\u001b[38;5;241m0\u001b[39m]\u001b[38;5;241m=\u001b[39m\u001b[38;5;241m22\u001b[39m\n",
      "\u001b[0;31mTypeError\u001b[0m: 'tensorflow.python.framework.ops.EagerTensor' object does not support item assignment"
     ]
    }
   ],
   "source": [
    "_matrix[0,0]=22"
   ]
  },
  {
   "cell_type": "markdown",
   "id": "a9283be4-5a59-43ed-be0f-63dd4e7ea59d",
   "metadata": {},
   "source": [
    "`-` dtype이 다르면 연산이 불가능함 "
   ]
  },
  {
   "cell_type": "code",
   "execution_count": 29,
   "id": "530164cf-ec0d-44d2-99db-408891c3ea06",
   "metadata": {},
   "outputs": [
    {
     "ename": "InvalidArgumentError",
     "evalue": "cannot compute AddV2 as input #1(zero-based) was expected to be a float tensor but is a int32 tensor [Op:AddV2]",
     "output_type": "error",
     "traceback": [
      "\u001b[0;31m---------------------------------------------------------------------------\u001b[0m",
      "\u001b[0;31mInvalidArgumentError\u001b[0m                      Traceback (most recent call last)",
      "Input \u001b[0;32mIn [29]\u001b[0m, in \u001b[0;36m<cell line: 1>\u001b[0;34m()\u001b[0m\n\u001b[0;32m----> 1\u001b[0m \u001b[43mtf\u001b[49m\u001b[38;5;241;43m.\u001b[39;49m\u001b[43mconstant\u001b[49m\u001b[43m(\u001b[49m\u001b[43m[\u001b[49m\u001b[38;5;241;43m1.1\u001b[39;49m\u001b[43m,\u001b[49m\u001b[38;5;241;43m2\u001b[39;49m\u001b[43m]\u001b[49m\u001b[43m)\u001b[49m\u001b[38;5;241;43m+\u001b[39;49m\u001b[43mtf\u001b[49m\u001b[38;5;241;43m.\u001b[39;49m\u001b[43mconstant\u001b[49m\u001b[43m(\u001b[49m\u001b[43m[\u001b[49m\u001b[38;5;241;43m3\u001b[39;49m\u001b[43m,\u001b[49m\u001b[38;5;241;43m4\u001b[39;49m\u001b[43m]\u001b[49m\u001b[43m)\u001b[49m\n",
      "File \u001b[0;32m~/anaconda3/envs/py310/lib/python3.10/site-packages/tensorflow/python/util/traceback_utils.py:153\u001b[0m, in \u001b[0;36mfilter_traceback.<locals>.error_handler\u001b[0;34m(*args, **kwargs)\u001b[0m\n\u001b[1;32m    151\u001b[0m \u001b[38;5;28;01mexcept\u001b[39;00m \u001b[38;5;167;01mException\u001b[39;00m \u001b[38;5;28;01mas\u001b[39;00m e:\n\u001b[1;32m    152\u001b[0m   filtered_tb \u001b[38;5;241m=\u001b[39m _process_traceback_frames(e\u001b[38;5;241m.\u001b[39m__traceback__)\n\u001b[0;32m--> 153\u001b[0m   \u001b[38;5;28;01mraise\u001b[39;00m e\u001b[38;5;241m.\u001b[39mwith_traceback(filtered_tb) \u001b[38;5;28;01mfrom\u001b[39;00m \u001b[38;5;28mNone\u001b[39m\n\u001b[1;32m    154\u001b[0m \u001b[38;5;28;01mfinally\u001b[39;00m:\n\u001b[1;32m    155\u001b[0m   \u001b[38;5;28;01mdel\u001b[39;00m filtered_tb\n",
      "File \u001b[0;32m~/anaconda3/envs/py310/lib/python3.10/site-packages/tensorflow/python/framework/ops.py:7107\u001b[0m, in \u001b[0;36mraise_from_not_ok_status\u001b[0;34m(e, name)\u001b[0m\n\u001b[1;32m   7105\u001b[0m \u001b[38;5;28;01mdef\u001b[39;00m \u001b[38;5;21mraise_from_not_ok_status\u001b[39m(e, name):\n\u001b[1;32m   7106\u001b[0m   e\u001b[38;5;241m.\u001b[39mmessage \u001b[38;5;241m+\u001b[39m\u001b[38;5;241m=\u001b[39m (\u001b[38;5;124m\"\u001b[39m\u001b[38;5;124m name: \u001b[39m\u001b[38;5;124m\"\u001b[39m \u001b[38;5;241m+\u001b[39m name \u001b[38;5;28;01mif\u001b[39;00m name \u001b[38;5;129;01mis\u001b[39;00m \u001b[38;5;129;01mnot\u001b[39;00m \u001b[38;5;28;01mNone\u001b[39;00m \u001b[38;5;28;01melse\u001b[39;00m \u001b[38;5;124m\"\u001b[39m\u001b[38;5;124m\"\u001b[39m)\n\u001b[0;32m-> 7107\u001b[0m   \u001b[38;5;28;01mraise\u001b[39;00m core\u001b[38;5;241m.\u001b[39m_status_to_exception(e) \u001b[38;5;28;01mfrom\u001b[39;00m \u001b[38;5;28mNone\u001b[39m\n",
      "\u001b[0;31mInvalidArgumentError\u001b[0m: cannot compute AddV2 as input #1(zero-based) was expected to be a float tensor but is a int32 tensor [Op:AddV2]"
     ]
    }
   ],
   "source": [
    "tf.constant([1.1,2])+tf.constant([3,4])"
   ]
  },
  {
   "cell_type": "code",
   "execution_count": null,
   "id": "f3ba4b27-2068-4e45-b7e5-e224d995284a",
   "metadata": {},
   "outputs": [],
   "source": [
    "tf.constant([1.1,2])+tf.constant([3.0,4.0])"
   ]
  },
  {
   "cell_type": "markdown",
   "id": "7b251bd9-0556-4426-8b03-bbf0a3304cce",
   "metadata": {},
   "source": [
    "`-` 같은 float형이라도 불가능할 때가 있음 "
   ]
  },
  {
   "cell_type": "code",
   "execution_count": 30,
   "id": "848dde9d-cd9c-4381-8e92-9c5090000346",
   "metadata": {},
   "outputs": [
    {
     "data": {
      "text/plain": [
       "<tf.Tensor: shape=(2,), dtype=float32, numpy=array([1.1, 2. ], dtype=float32)>"
      ]
     },
     "execution_count": 30,
     "metadata": {},
     "output_type": "execute_result"
    }
   ],
   "source": [
    "tf.constant([1.1,2])"
   ]
  },
  {
   "cell_type": "code",
   "execution_count": 31,
   "id": "d4e5ad1b-7dd9-4a42-9796-8d085f3dbc04",
   "metadata": {},
   "outputs": [
    {
     "data": {
      "text/plain": [
       "<tf.Tensor: shape=(2,), dtype=float64, numpy=array([3., 4.])>"
      ]
     },
     "execution_count": 31,
     "metadata": {},
     "output_type": "execute_result"
    }
   ],
   "source": [
    "tf.constant([3.0,4.0],dtype=tf.float64)"
   ]
  },
  {
   "cell_type": "code",
   "execution_count": 32,
   "id": "f770c8b1-5eb8-453c-a456-30a2d4a9f21e",
   "metadata": {},
   "outputs": [
    {
     "ename": "InvalidArgumentError",
     "evalue": "cannot compute AddV2 as input #1(zero-based) was expected to be a float tensor but is a double tensor [Op:AddV2]",
     "output_type": "error",
     "traceback": [
      "\u001b[0;31m---------------------------------------------------------------------------\u001b[0m",
      "\u001b[0;31mInvalidArgumentError\u001b[0m                      Traceback (most recent call last)",
      "Input \u001b[0;32mIn [32]\u001b[0m, in \u001b[0;36m<cell line: 1>\u001b[0;34m()\u001b[0m\n\u001b[0;32m----> 1\u001b[0m \u001b[43mtf\u001b[49m\u001b[38;5;241;43m.\u001b[39;49m\u001b[43mconstant\u001b[49m\u001b[43m(\u001b[49m\u001b[43m[\u001b[49m\u001b[38;5;241;43m1.1\u001b[39;49m\u001b[43m,\u001b[49m\u001b[38;5;241;43m2\u001b[39;49m\u001b[43m]\u001b[49m\u001b[43m)\u001b[49m\u001b[38;5;241;43m+\u001b[39;49m\u001b[43mtf\u001b[49m\u001b[38;5;241;43m.\u001b[39;49m\u001b[43mconstant\u001b[49m\u001b[43m(\u001b[49m\u001b[43m[\u001b[49m\u001b[38;5;241;43m3.0\u001b[39;49m\u001b[43m,\u001b[49m\u001b[38;5;241;43m4.0\u001b[39;49m\u001b[43m]\u001b[49m\u001b[43m,\u001b[49m\u001b[43mdtype\u001b[49m\u001b[38;5;241;43m=\u001b[39;49m\u001b[43mtf\u001b[49m\u001b[38;5;241;43m.\u001b[39;49m\u001b[43mfloat64\u001b[49m\u001b[43m)\u001b[49m\n",
      "File \u001b[0;32m~/anaconda3/envs/py310/lib/python3.10/site-packages/tensorflow/python/util/traceback_utils.py:153\u001b[0m, in \u001b[0;36mfilter_traceback.<locals>.error_handler\u001b[0;34m(*args, **kwargs)\u001b[0m\n\u001b[1;32m    151\u001b[0m \u001b[38;5;28;01mexcept\u001b[39;00m \u001b[38;5;167;01mException\u001b[39;00m \u001b[38;5;28;01mas\u001b[39;00m e:\n\u001b[1;32m    152\u001b[0m   filtered_tb \u001b[38;5;241m=\u001b[39m _process_traceback_frames(e\u001b[38;5;241m.\u001b[39m__traceback__)\n\u001b[0;32m--> 153\u001b[0m   \u001b[38;5;28;01mraise\u001b[39;00m e\u001b[38;5;241m.\u001b[39mwith_traceback(filtered_tb) \u001b[38;5;28;01mfrom\u001b[39;00m \u001b[38;5;28mNone\u001b[39m\n\u001b[1;32m    154\u001b[0m \u001b[38;5;28;01mfinally\u001b[39;00m:\n\u001b[1;32m    155\u001b[0m   \u001b[38;5;28;01mdel\u001b[39;00m filtered_tb\n",
      "File \u001b[0;32m~/anaconda3/envs/py310/lib/python3.10/site-packages/tensorflow/python/framework/ops.py:7107\u001b[0m, in \u001b[0;36mraise_from_not_ok_status\u001b[0;34m(e, name)\u001b[0m\n\u001b[1;32m   7105\u001b[0m \u001b[38;5;28;01mdef\u001b[39;00m \u001b[38;5;21mraise_from_not_ok_status\u001b[39m(e, name):\n\u001b[1;32m   7106\u001b[0m   e\u001b[38;5;241m.\u001b[39mmessage \u001b[38;5;241m+\u001b[39m\u001b[38;5;241m=\u001b[39m (\u001b[38;5;124m\"\u001b[39m\u001b[38;5;124m name: \u001b[39m\u001b[38;5;124m\"\u001b[39m \u001b[38;5;241m+\u001b[39m name \u001b[38;5;28;01mif\u001b[39;00m name \u001b[38;5;129;01mis\u001b[39;00m \u001b[38;5;129;01mnot\u001b[39;00m \u001b[38;5;28;01mNone\u001b[39;00m \u001b[38;5;28;01melse\u001b[39;00m \u001b[38;5;124m\"\u001b[39m\u001b[38;5;124m\"\u001b[39m)\n\u001b[0;32m-> 7107\u001b[0m   \u001b[38;5;28;01mraise\u001b[39;00m core\u001b[38;5;241m.\u001b[39m_status_to_exception(e) \u001b[38;5;28;01mfrom\u001b[39;00m \u001b[38;5;28mNone\u001b[39m\n",
      "\u001b[0;31mInvalidArgumentError\u001b[0m: cannot compute AddV2 as input #1(zero-based) was expected to be a float tensor but is a double tensor [Op:AddV2]"
     ]
    }
   ],
   "source": [
    "tf.constant([1.1,2])+tf.constant([3.0,4.0],dtype=tf.float64)"
   ]
  },
  {
   "cell_type": "markdown",
   "id": "0f7a75ed-b984-4f27-9440-d57253cb89bd",
   "metadata": {},
   "source": [
    "#### tf.constant $\\to$ 넘파이 "
   ]
  },
  {
   "cell_type": "code",
   "execution_count": 33,
   "id": "91c6747f-b1ef-4dd5-950c-6cb05fcd9a49",
   "metadata": {},
   "outputs": [
    {
     "data": {
      "text/plain": [
       "<tf.Tensor: shape=(4,), dtype=int32, numpy=array([1, 2, 3, 4], dtype=int32)>"
      ]
     },
     "execution_count": 33,
     "metadata": {},
     "output_type": "execute_result"
    }
   ],
   "source": [
    "_vector = tf.constant([1,2,3,4])\n",
    "_vector"
   ]
  },
  {
   "cell_type": "code",
   "execution_count": 34,
   "id": "23f58098-e7c3-47ab-b19c-510f3b5b4304",
   "metadata": {},
   "outputs": [
    {
     "data": {
      "text/plain": [
       "array([1, 2, 3, 4], dtype=int32)"
      ]
     },
     "execution_count": 34,
     "metadata": {},
     "output_type": "execute_result"
    }
   ],
   "source": [
    "np.array(_vector) # 방법1"
   ]
  },
  {
   "cell_type": "code",
   "execution_count": 35,
   "id": "1837f1ce-b02c-491c-a608-493c39c5f5b9",
   "metadata": {},
   "outputs": [
    {
     "data": {
      "text/plain": [
       "array([1, 2, 3, 4], dtype=int32)"
      ]
     },
     "execution_count": 35,
     "metadata": {},
     "output_type": "execute_result"
    }
   ],
   "source": [
    "_vector.numpy()"
   ]
  },
  {
   "cell_type": "markdown",
   "id": "b1e11f1e-122d-4de3-95e8-e8eda9dac045",
   "metadata": {},
   "source": [
    "#### 연산"
   ]
  },
  {
   "cell_type": "markdown",
   "id": "398b692f-7dfa-41d4-8f1f-bc1678ded6e4",
   "metadata": {},
   "source": [
    "`-` 더하기 "
   ]
  },
  {
   "cell_type": "code",
   "execution_count": 36,
   "id": "c1e1f10a-4f76-47e1-8c52-dacee220e995",
   "metadata": {},
   "outputs": [
    {
     "data": {
      "text/plain": [
       "<tf.Tensor: shape=(3,), dtype=int32, numpy=array([5, 7, 9], dtype=int32)>"
      ]
     },
     "execution_count": 36,
     "metadata": {},
     "output_type": "execute_result"
    }
   ],
   "source": [
    "a=tf.constant([1,2,3])\n",
    "b=tf.constant([4,5,6])\n",
    "a+b"
   ]
  },
  {
   "cell_type": "code",
   "execution_count": 37,
   "id": "23ccf399-66c1-4f90-a3e1-62db10f74410",
   "metadata": {},
   "outputs": [
    {
     "data": {
      "text/plain": [
       "<tf.Tensor: shape=(3,), dtype=int32, numpy=array([5, 7, 9], dtype=int32)>"
      ]
     },
     "execution_count": 37,
     "metadata": {},
     "output_type": "execute_result"
    }
   ],
   "source": [
    "tf.add(a,b)"
   ]
  },
  {
   "cell_type": "markdown",
   "id": "e97c744f-cc9b-4c70-a5f6-7db9980da19f",
   "metadata": {},
   "source": [
    "`-` 곱하기 "
   ]
  },
  {
   "cell_type": "code",
   "execution_count": 38,
   "id": "f7eb9276-b80e-4218-b237-769fd94e23f2",
   "metadata": {},
   "outputs": [
    {
     "data": {
      "text/plain": [
       "<tf.Tensor: shape=(2, 2), dtype=int32, numpy=\n",
       "array([[ 4, 10],\n",
       "       [18, 28]], dtype=int32)>"
      ]
     },
     "execution_count": 38,
     "metadata": {},
     "output_type": "execute_result"
    }
   ],
   "source": [
    "a=tf.constant([[1,2],[3,4]])\n",
    "b=tf.constant([[4,5],[6,7]])\n",
    "a*b"
   ]
  },
  {
   "cell_type": "code",
   "execution_count": 39,
   "id": "59705147-7ad3-4837-863b-00d83d7a1cb7",
   "metadata": {},
   "outputs": [
    {
     "data": {
      "text/plain": [
       "(<tf.Tensor: shape=(2, 2), dtype=int32, numpy=\n",
       " array([[1, 2],\n",
       "        [3, 4]], dtype=int32)>,\n",
       " <tf.Tensor: shape=(2, 2), dtype=int32, numpy=\n",
       " array([[4, 5],\n",
       "        [6, 7]], dtype=int32)>)"
      ]
     },
     "execution_count": 39,
     "metadata": {},
     "output_type": "execute_result"
    }
   ],
   "source": [
    "a,b"
   ]
  },
  {
   "cell_type": "code",
   "execution_count": 40,
   "id": "38dea54e-5fba-4e51-8f74-b68932b021ef",
   "metadata": {},
   "outputs": [
    {
     "data": {
      "text/plain": [
       "<tf.Tensor: shape=(2, 2), dtype=int32, numpy=\n",
       "array([[ 4, 10],\n",
       "       [18, 28]], dtype=int32)>"
      ]
     },
     "execution_count": 40,
     "metadata": {},
     "output_type": "execute_result"
    }
   ],
   "source": [
    "tf.multiply(a,b)"
   ]
  },
  {
   "cell_type": "markdown",
   "id": "6ce3e40c-abcc-467b-8555-c3544c514247",
   "metadata": {},
   "source": [
    "`-` 행렬곱 "
   ]
  },
  {
   "cell_type": "code",
   "execution_count": 41,
   "id": "b401c20f-76e4-4480-8c95-2fb6db23cbe1",
   "metadata": {},
   "outputs": [],
   "source": [
    "a=tf.constant([[1,0],[0,1]]) \n",
    "b= tf.constant([[1],[22]]) "
   ]
  },
  {
   "cell_type": "code",
   "execution_count": 42,
   "id": "12fe0448-3e0f-4a02-89a9-a4f2f8be4085",
   "metadata": {},
   "outputs": [
    {
     "data": {
      "text/plain": [
       "<tf.Tensor: shape=(2, 1), dtype=int32, numpy=\n",
       "array([[ 1],\n",
       "       [22]], dtype=int32)>"
      ]
     },
     "execution_count": 42,
     "metadata": {},
     "output_type": "execute_result"
    }
   ],
   "source": [
    "a @ b # (2,2) matrix @ (2,1) matrix "
   ]
  },
  {
   "cell_type": "code",
   "execution_count": 43,
   "id": "8adaa538-64c9-4eb4-81ff-bb8bfbcca097",
   "metadata": {},
   "outputs": [
    {
     "ename": "InvalidArgumentError",
     "evalue": "Matrix size-incompatible: In[0]: [2,1], In[1]: [2,2] [Op:MatMul]",
     "output_type": "error",
     "traceback": [
      "\u001b[0;31m---------------------------------------------------------------------------\u001b[0m",
      "\u001b[0;31mInvalidArgumentError\u001b[0m                      Traceback (most recent call last)",
      "Input \u001b[0;32mIn [43]\u001b[0m, in \u001b[0;36m<cell line: 1>\u001b[0;34m()\u001b[0m\n\u001b[0;32m----> 1\u001b[0m \u001b[43mb\u001b[49m\u001b[43m \u001b[49m\u001b[38;5;241;43m@\u001b[39;49m\u001b[43m \u001b[49m\u001b[43ma\u001b[49m\n",
      "File \u001b[0;32m~/anaconda3/envs/py310/lib/python3.10/site-packages/tensorflow/python/util/traceback_utils.py:153\u001b[0m, in \u001b[0;36mfilter_traceback.<locals>.error_handler\u001b[0;34m(*args, **kwargs)\u001b[0m\n\u001b[1;32m    151\u001b[0m \u001b[38;5;28;01mexcept\u001b[39;00m \u001b[38;5;167;01mException\u001b[39;00m \u001b[38;5;28;01mas\u001b[39;00m e:\n\u001b[1;32m    152\u001b[0m   filtered_tb \u001b[38;5;241m=\u001b[39m _process_traceback_frames(e\u001b[38;5;241m.\u001b[39m__traceback__)\n\u001b[0;32m--> 153\u001b[0m   \u001b[38;5;28;01mraise\u001b[39;00m e\u001b[38;5;241m.\u001b[39mwith_traceback(filtered_tb) \u001b[38;5;28;01mfrom\u001b[39;00m \u001b[38;5;28mNone\u001b[39m\n\u001b[1;32m    154\u001b[0m \u001b[38;5;28;01mfinally\u001b[39;00m:\n\u001b[1;32m    155\u001b[0m   \u001b[38;5;28;01mdel\u001b[39;00m filtered_tb\n",
      "File \u001b[0;32m~/anaconda3/envs/py310/lib/python3.10/site-packages/tensorflow/python/framework/ops.py:7107\u001b[0m, in \u001b[0;36mraise_from_not_ok_status\u001b[0;34m(e, name)\u001b[0m\n\u001b[1;32m   7105\u001b[0m \u001b[38;5;28;01mdef\u001b[39;00m \u001b[38;5;21mraise_from_not_ok_status\u001b[39m(e, name):\n\u001b[1;32m   7106\u001b[0m   e\u001b[38;5;241m.\u001b[39mmessage \u001b[38;5;241m+\u001b[39m\u001b[38;5;241m=\u001b[39m (\u001b[38;5;124m\"\u001b[39m\u001b[38;5;124m name: \u001b[39m\u001b[38;5;124m\"\u001b[39m \u001b[38;5;241m+\u001b[39m name \u001b[38;5;28;01mif\u001b[39;00m name \u001b[38;5;129;01mis\u001b[39;00m \u001b[38;5;129;01mnot\u001b[39;00m \u001b[38;5;28;01mNone\u001b[39;00m \u001b[38;5;28;01melse\u001b[39;00m \u001b[38;5;124m\"\u001b[39m\u001b[38;5;124m\"\u001b[39m)\n\u001b[0;32m-> 7107\u001b[0m   \u001b[38;5;28;01mraise\u001b[39;00m core\u001b[38;5;241m.\u001b[39m_status_to_exception(e) \u001b[38;5;28;01mfrom\u001b[39;00m \u001b[38;5;28mNone\u001b[39m\n",
      "\u001b[0;31mInvalidArgumentError\u001b[0m: Matrix size-incompatible: In[0]: [2,1], In[1]: [2,2] [Op:MatMul]"
     ]
    }
   ],
   "source": [
    "b @ a # (2,1) matrix @ (2,2) matrix"
   ]
  },
  {
   "cell_type": "code",
   "execution_count": 44,
   "id": "55d9cc69-4e98-4e31-8c29-128cd16fc184",
   "metadata": {},
   "outputs": [
    {
     "data": {
      "text/plain": [
       "<tf.Tensor: shape=(2, 1), dtype=int32, numpy=\n",
       "array([[ 1],\n",
       "       [22]], dtype=int32)>"
      ]
     },
     "execution_count": 44,
     "metadata": {},
     "output_type": "execute_result"
    }
   ],
   "source": [
    "tf.matmul(a,b)"
   ]
  },
  {
   "cell_type": "markdown",
   "id": "05867c92-bfba-4bea-8f12-4ac9573a821d",
   "metadata": {},
   "source": [
    "`-` 역행렬"
   ]
  },
  {
   "cell_type": "code",
   "execution_count": 45,
   "id": "c05cecd6-92e5-4b10-a13c-63a7e93adc6a",
   "metadata": {},
   "outputs": [
    {
     "data": {
      "text/plain": [
       "<tf.Tensor: shape=(2, 2), dtype=int32, numpy=\n",
       "array([[1, 0],\n",
       "       [0, 2]], dtype=int32)>"
      ]
     },
     "execution_count": 45,
     "metadata": {},
     "output_type": "execute_result"
    }
   ],
   "source": [
    "a= tf.constant([[1,0],[0,2]]) \n",
    "a"
   ]
  },
  {
   "cell_type": "code",
   "execution_count": 46,
   "id": "04b91add-5f03-40aa-8e72-dd33f039591e",
   "metadata": {},
   "outputs": [
    {
     "ename": "InvalidArgumentError",
     "evalue": "Value for attr 'T' of int32 is not in the list of allowed values: double, float, half, complex64, complex128\n\t; NodeDef: {{node MatrixInverse}}; Op<name=MatrixInverse; signature=input:T -> output:T; attr=adjoint:bool,default=false; attr=T:type,allowed=[DT_DOUBLE, DT_FLOAT, DT_HALF, DT_COMPLEX64, DT_COMPLEX128]> [Op:MatrixInverse]",
     "output_type": "error",
     "traceback": [
      "\u001b[0;31m---------------------------------------------------------------------------\u001b[0m",
      "\u001b[0;31mInvalidArgumentError\u001b[0m                      Traceback (most recent call last)",
      "Input \u001b[0;32mIn [46]\u001b[0m, in \u001b[0;36m<cell line: 1>\u001b[0;34m()\u001b[0m\n\u001b[0;32m----> 1\u001b[0m \u001b[43mtf\u001b[49m\u001b[38;5;241;43m.\u001b[39;49m\u001b[43mlinalg\u001b[49m\u001b[38;5;241;43m.\u001b[39;49m\u001b[43minv\u001b[49m\u001b[43m(\u001b[49m\u001b[43ma\u001b[49m\u001b[43m)\u001b[49m\n",
      "File \u001b[0;32m~/anaconda3/envs/py310/lib/python3.10/site-packages/tensorflow/python/ops/gen_linalg_ops.py:1506\u001b[0m, in \u001b[0;36mmatrix_inverse\u001b[0;34m(input, adjoint, name)\u001b[0m\n\u001b[1;32m   1504\u001b[0m   \u001b[38;5;28;01mreturn\u001b[39;00m _result\n\u001b[1;32m   1505\u001b[0m \u001b[38;5;28;01mexcept\u001b[39;00m _core\u001b[38;5;241m.\u001b[39m_NotOkStatusException \u001b[38;5;28;01mas\u001b[39;00m e:\n\u001b[0;32m-> 1506\u001b[0m   \u001b[43m_ops\u001b[49m\u001b[38;5;241;43m.\u001b[39;49m\u001b[43mraise_from_not_ok_status\u001b[49m\u001b[43m(\u001b[49m\u001b[43me\u001b[49m\u001b[43m,\u001b[49m\u001b[43m \u001b[49m\u001b[43mname\u001b[49m\u001b[43m)\u001b[49m\n\u001b[1;32m   1507\u001b[0m \u001b[38;5;28;01mexcept\u001b[39;00m _core\u001b[38;5;241m.\u001b[39m_FallbackException:\n\u001b[1;32m   1508\u001b[0m   \u001b[38;5;28;01mpass\u001b[39;00m\n",
      "File \u001b[0;32m~/anaconda3/envs/py310/lib/python3.10/site-packages/tensorflow/python/framework/ops.py:7107\u001b[0m, in \u001b[0;36mraise_from_not_ok_status\u001b[0;34m(e, name)\u001b[0m\n\u001b[1;32m   7105\u001b[0m \u001b[38;5;28;01mdef\u001b[39;00m \u001b[38;5;21mraise_from_not_ok_status\u001b[39m(e, name):\n\u001b[1;32m   7106\u001b[0m   e\u001b[38;5;241m.\u001b[39mmessage \u001b[38;5;241m+\u001b[39m\u001b[38;5;241m=\u001b[39m (\u001b[38;5;124m\"\u001b[39m\u001b[38;5;124m name: \u001b[39m\u001b[38;5;124m\"\u001b[39m \u001b[38;5;241m+\u001b[39m name \u001b[38;5;28;01mif\u001b[39;00m name \u001b[38;5;129;01mis\u001b[39;00m \u001b[38;5;129;01mnot\u001b[39;00m \u001b[38;5;28;01mNone\u001b[39;00m \u001b[38;5;28;01melse\u001b[39;00m \u001b[38;5;124m\"\u001b[39m\u001b[38;5;124m\"\u001b[39m)\n\u001b[0;32m-> 7107\u001b[0m   \u001b[38;5;28;01mraise\u001b[39;00m core\u001b[38;5;241m.\u001b[39m_status_to_exception(e) \u001b[38;5;28;01mfrom\u001b[39;00m \u001b[38;5;28mNone\u001b[39m\n",
      "\u001b[0;31mInvalidArgumentError\u001b[0m: Value for attr 'T' of int32 is not in the list of allowed values: double, float, half, complex64, complex128\n\t; NodeDef: {{node MatrixInverse}}; Op<name=MatrixInverse; signature=input:T -> output:T; attr=adjoint:bool,default=false; attr=T:type,allowed=[DT_DOUBLE, DT_FLOAT, DT_HALF, DT_COMPLEX64, DT_COMPLEX128]> [Op:MatrixInverse]"
     ]
    }
   ],
   "source": [
    "tf.linalg.inv(a)"
   ]
  },
  {
   "cell_type": "code",
   "execution_count": 47,
   "id": "ef4a6574-51f2-46c6-86d9-8e60d20732e0",
   "metadata": {},
   "outputs": [
    {
     "data": {
      "text/plain": [
       "<tf.Tensor: shape=(2, 2), dtype=float32, numpy=\n",
       "array([[1., 2.],\n",
       "       [3., 4.]], dtype=float32)>"
      ]
     },
     "execution_count": 47,
     "metadata": {},
     "output_type": "execute_result"
    }
   ],
   "source": [
    "a= tf.constant([[1.0,2.0],[3.0,4.0]]) \n",
    "a"
   ]
  },
  {
   "cell_type": "code",
   "execution_count": 48,
   "id": "aff0031a-bdc7-450e-993e-5ac492e32353",
   "metadata": {},
   "outputs": [
    {
     "data": {
      "text/plain": [
       "<tf.Tensor: shape=(2, 2), dtype=float32, numpy=\n",
       "array([[-2. ,  1. ],\n",
       "       [ 1.5, -0.5]], dtype=float32)>"
      ]
     },
     "execution_count": 48,
     "metadata": {},
     "output_type": "execute_result"
    }
   ],
   "source": [
    "tf.linalg.inv(a)"
   ]
  },
  {
   "cell_type": "code",
   "execution_count": 49,
   "id": "dc0acd88-0cec-4a86-8348-ff4187c88789",
   "metadata": {},
   "outputs": [
    {
     "data": {
      "text/plain": [
       "<tf.Tensor: shape=(2, 2), dtype=float32, numpy=\n",
       "array([[1., 0.],\n",
       "       [0., 1.]], dtype=float32)>"
      ]
     },
     "execution_count": 49,
     "metadata": {},
     "output_type": "execute_result"
    }
   ],
   "source": [
    "a @ tf.linalg.inv(a)"
   ]
  },
  {
   "cell_type": "markdown",
   "id": "22e3bc51-514e-4a6b-91e3-ee663adcde48",
   "metadata": {},
   "source": [
    "`-` `tf.linalg. + tab`을 누르면 쓸만한게 조금 나온다. "
   ]
  },
  {
   "cell_type": "code",
   "execution_count": 50,
   "id": "76f24a5e-2faf-4ad8-a22d-7878632ca170",
   "metadata": {},
   "outputs": [
    {
     "data": {
      "text/plain": [
       "<tf.Tensor: shape=(2, 2), dtype=float32, numpy=\n",
       "array([[1., 2.],\n",
       "       [3., 4.]], dtype=float32)>"
      ]
     },
     "execution_count": 50,
     "metadata": {},
     "output_type": "execute_result"
    }
   ],
   "source": [
    "a=tf.constant([[1.0,2.0],[3.0,4.0]])\n",
    "a"
   ]
  },
  {
   "cell_type": "code",
   "execution_count": 51,
   "id": "d3b0c1c6-d13a-49e6-8a8d-407427486d91",
   "metadata": {},
   "outputs": [
    {
     "data": {
      "text/plain": [
       "<tf.Tensor: shape=(), dtype=float32, numpy=-2.0>"
      ]
     },
     "execution_count": 51,
     "metadata": {},
     "output_type": "execute_result"
    }
   ],
   "source": [
    "tf.linalg.det(a)"
   ]
  },
  {
   "cell_type": "code",
   "execution_count": 52,
   "id": "e6f1a68d-1fda-4b86-97c2-866c1bbf3cd4",
   "metadata": {},
   "outputs": [
    {
     "data": {
      "text/plain": [
       "<tf.Tensor: shape=(), dtype=float32, numpy=5.0>"
      ]
     },
     "execution_count": 52,
     "metadata": {},
     "output_type": "execute_result"
    }
   ],
   "source": [
    "tf.linalg.trace(a)"
   ]
  },
  {
   "cell_type": "markdown",
   "id": "3f97e48b-b1bc-4456-b055-0d5dad578812",
   "metadata": {},
   "source": [
    "`-` 단순한 집계함수들 "
   ]
  },
  {
   "cell_type": "code",
   "execution_count": 55,
   "id": "dcd92c71-414e-4dda-acfe-ac441de305ea",
   "metadata": {},
   "outputs": [
    {
     "data": {
      "text/plain": [
       "<tf.Tensor: shape=(2, 3), dtype=int32, numpy=\n",
       "array([[1, 2, 3],\n",
       "       [4, 5, 6]], dtype=int32)>"
      ]
     },
     "execution_count": 55,
     "metadata": {},
     "output_type": "execute_result"
    }
   ],
   "source": [
    "a=tf.constant([[1,2,3],[4,5,6]])\n",
    "a"
   ]
  },
  {
   "cell_type": "code",
   "execution_count": 56,
   "id": "2a5a2310-53f5-457f-956e-abb5b4fa5408",
   "metadata": {},
   "outputs": [
    {
     "data": {
      "text/plain": [
       "<tf.Tensor: shape=(), dtype=int32, numpy=21>"
      ]
     },
     "execution_count": 56,
     "metadata": {},
     "output_type": "execute_result"
    }
   ],
   "source": [
    "tf.reduce_sum(a)"
   ]
  },
  {
   "cell_type": "code",
   "execution_count": 59,
   "id": "d7f4ea11-86fa-42c8-b610-9aef2bcc192e",
   "metadata": {},
   "outputs": [
    {
     "data": {
      "text/plain": [
       "<tf.Tensor: shape=(), dtype=int32, numpy=6>"
      ]
     },
     "execution_count": 59,
     "metadata": {},
     "output_type": "execute_result"
    }
   ],
   "source": [
    "tf.reduce_max(a)"
   ]
  },
  {
   "cell_type": "markdown",
   "id": "d29f9d85-544f-4571-a364-000fab319e94",
   "metadata": {},
   "source": [
    "`-` 행렬곱 고급 "
   ]
  },
  {
   "cell_type": "code",
   "execution_count": 62,
   "id": "ab24c6d6-2dfa-48cf-a4eb-72331de16ed9",
   "metadata": {},
   "outputs": [
    {
     "data": {
      "text/plain": [
       "<tf.Tensor: shape=(2, 2), dtype=float32, numpy=\n",
       "array([[1., 0.],\n",
       "       [0., 1.]], dtype=float32)>"
      ]
     },
     "execution_count": 62,
     "metadata": {},
     "output_type": "execute_result"
    }
   ],
   "source": [
    "_I=tf.constant([[1.0,0.0],[0.0,1.0]])\n",
    "_I"
   ]
  },
  {
   "cell_type": "code",
   "execution_count": 71,
   "id": "821cd531-cc12-40db-81ef-d253d1b9018d",
   "metadata": {},
   "outputs": [
    {
     "data": {
      "text/plain": [
       "<tf.Tensor: shape=(2,), dtype=float32, numpy=array([22., 33.], dtype=float32)>"
      ]
     },
     "execution_count": 71,
     "metadata": {},
     "output_type": "execute_result"
    }
   ],
   "source": [
    "_x = tf.constant([22.0,33.0])\n",
    "_x"
   ]
  },
  {
   "cell_type": "markdown",
   "id": "2e0f448c-ce10-440f-98f0-ca7b95029ed1",
   "metadata": {},
   "source": [
    "(상황1)"
   ]
  },
  {
   "cell_type": "code",
   "execution_count": 72,
   "id": "abb97718-e151-4502-bfc8-452e9255f16d",
   "metadata": {},
   "outputs": [
    {
     "ename": "InvalidArgumentError",
     "evalue": "In[0] and In[1] has different ndims: [2,2] vs. [2] [Op:MatMul]",
     "output_type": "error",
     "traceback": [
      "\u001b[0;31m---------------------------------------------------------------------------\u001b[0m",
      "\u001b[0;31mInvalidArgumentError\u001b[0m                      Traceback (most recent call last)",
      "Input \u001b[0;32mIn [72]\u001b[0m, in \u001b[0;36m<cell line: 1>\u001b[0;34m()\u001b[0m\n\u001b[0;32m----> 1\u001b[0m \u001b[43m_I\u001b[49m\u001b[43m \u001b[49m\u001b[38;5;241;43m@\u001b[39;49m\u001b[43m \u001b[49m\u001b[43m_x\u001b[49m\n",
      "File \u001b[0;32m~/anaconda3/envs/py310/lib/python3.10/site-packages/tensorflow/python/util/traceback_utils.py:153\u001b[0m, in \u001b[0;36mfilter_traceback.<locals>.error_handler\u001b[0;34m(*args, **kwargs)\u001b[0m\n\u001b[1;32m    151\u001b[0m \u001b[38;5;28;01mexcept\u001b[39;00m \u001b[38;5;167;01mException\u001b[39;00m \u001b[38;5;28;01mas\u001b[39;00m e:\n\u001b[1;32m    152\u001b[0m   filtered_tb \u001b[38;5;241m=\u001b[39m _process_traceback_frames(e\u001b[38;5;241m.\u001b[39m__traceback__)\n\u001b[0;32m--> 153\u001b[0m   \u001b[38;5;28;01mraise\u001b[39;00m e\u001b[38;5;241m.\u001b[39mwith_traceback(filtered_tb) \u001b[38;5;28;01mfrom\u001b[39;00m \u001b[38;5;28mNone\u001b[39m\n\u001b[1;32m    154\u001b[0m \u001b[38;5;28;01mfinally\u001b[39;00m:\n\u001b[1;32m    155\u001b[0m   \u001b[38;5;28;01mdel\u001b[39;00m filtered_tb\n",
      "File \u001b[0;32m~/anaconda3/envs/py310/lib/python3.10/site-packages/tensorflow/python/framework/ops.py:7107\u001b[0m, in \u001b[0;36mraise_from_not_ok_status\u001b[0;34m(e, name)\u001b[0m\n\u001b[1;32m   7105\u001b[0m \u001b[38;5;28;01mdef\u001b[39;00m \u001b[38;5;21mraise_from_not_ok_status\u001b[39m(e, name):\n\u001b[1;32m   7106\u001b[0m   e\u001b[38;5;241m.\u001b[39mmessage \u001b[38;5;241m+\u001b[39m\u001b[38;5;241m=\u001b[39m (\u001b[38;5;124m\"\u001b[39m\u001b[38;5;124m name: \u001b[39m\u001b[38;5;124m\"\u001b[39m \u001b[38;5;241m+\u001b[39m name \u001b[38;5;28;01mif\u001b[39;00m name \u001b[38;5;129;01mis\u001b[39;00m \u001b[38;5;129;01mnot\u001b[39;00m \u001b[38;5;28;01mNone\u001b[39;00m \u001b[38;5;28;01melse\u001b[39;00m \u001b[38;5;124m\"\u001b[39m\u001b[38;5;124m\"\u001b[39m)\n\u001b[0;32m-> 7107\u001b[0m   \u001b[38;5;28;01mraise\u001b[39;00m core\u001b[38;5;241m.\u001b[39m_status_to_exception(e) \u001b[38;5;28;01mfrom\u001b[39;00m \u001b[38;5;28mNone\u001b[39m\n",
      "\u001b[0;31mInvalidArgumentError\u001b[0m: In[0] and In[1] has different ndims: [2,2] vs. [2] [Op:MatMul]"
     ]
    }
   ],
   "source": [
    "_I @ _x"
   ]
  },
  {
   "cell_type": "code",
   "execution_count": 73,
   "id": "7180dc97-0ed4-43a2-8c7a-44d86aae6b25",
   "metadata": {},
   "outputs": [
    {
     "ename": "InvalidArgumentError",
     "evalue": "In[0] and In[1] has different ndims: [2] vs. [2,2] [Op:MatMul]",
     "output_type": "error",
     "traceback": [
      "\u001b[0;31m---------------------------------------------------------------------------\u001b[0m",
      "\u001b[0;31mInvalidArgumentError\u001b[0m                      Traceback (most recent call last)",
      "Input \u001b[0;32mIn [73]\u001b[0m, in \u001b[0;36m<cell line: 1>\u001b[0;34m()\u001b[0m\n\u001b[0;32m----> 1\u001b[0m \u001b[43m_x\u001b[49m\u001b[43m \u001b[49m\u001b[38;5;241;43m@\u001b[39;49m\u001b[43m \u001b[49m\u001b[43m_I\u001b[49m\n",
      "File \u001b[0;32m~/anaconda3/envs/py310/lib/python3.10/site-packages/tensorflow/python/util/traceback_utils.py:153\u001b[0m, in \u001b[0;36mfilter_traceback.<locals>.error_handler\u001b[0;34m(*args, **kwargs)\u001b[0m\n\u001b[1;32m    151\u001b[0m \u001b[38;5;28;01mexcept\u001b[39;00m \u001b[38;5;167;01mException\u001b[39;00m \u001b[38;5;28;01mas\u001b[39;00m e:\n\u001b[1;32m    152\u001b[0m   filtered_tb \u001b[38;5;241m=\u001b[39m _process_traceback_frames(e\u001b[38;5;241m.\u001b[39m__traceback__)\n\u001b[0;32m--> 153\u001b[0m   \u001b[38;5;28;01mraise\u001b[39;00m e\u001b[38;5;241m.\u001b[39mwith_traceback(filtered_tb) \u001b[38;5;28;01mfrom\u001b[39;00m \u001b[38;5;28mNone\u001b[39m\n\u001b[1;32m    154\u001b[0m \u001b[38;5;28;01mfinally\u001b[39;00m:\n\u001b[1;32m    155\u001b[0m   \u001b[38;5;28;01mdel\u001b[39;00m filtered_tb\n",
      "File \u001b[0;32m~/anaconda3/envs/py310/lib/python3.10/site-packages/tensorflow/python/framework/ops.py:7107\u001b[0m, in \u001b[0;36mraise_from_not_ok_status\u001b[0;34m(e, name)\u001b[0m\n\u001b[1;32m   7105\u001b[0m \u001b[38;5;28;01mdef\u001b[39;00m \u001b[38;5;21mraise_from_not_ok_status\u001b[39m(e, name):\n\u001b[1;32m   7106\u001b[0m   e\u001b[38;5;241m.\u001b[39mmessage \u001b[38;5;241m+\u001b[39m\u001b[38;5;241m=\u001b[39m (\u001b[38;5;124m\"\u001b[39m\u001b[38;5;124m name: \u001b[39m\u001b[38;5;124m\"\u001b[39m \u001b[38;5;241m+\u001b[39m name \u001b[38;5;28;01mif\u001b[39;00m name \u001b[38;5;129;01mis\u001b[39;00m \u001b[38;5;129;01mnot\u001b[39;00m \u001b[38;5;28;01mNone\u001b[39;00m \u001b[38;5;28;01melse\u001b[39;00m \u001b[38;5;124m\"\u001b[39m\u001b[38;5;124m\"\u001b[39m)\n\u001b[0;32m-> 7107\u001b[0m   \u001b[38;5;28;01mraise\u001b[39;00m core\u001b[38;5;241m.\u001b[39m_status_to_exception(e) \u001b[38;5;28;01mfrom\u001b[39;00m \u001b[38;5;28mNone\u001b[39m\n",
      "\u001b[0;31mInvalidArgumentError\u001b[0m: In[0] and In[1] has different ndims: [2] vs. [2,2] [Op:MatMul]"
     ]
    }
   ],
   "source": [
    "_x @ _I "
   ]
  },
  {
   "cell_type": "markdown",
   "id": "f06cdceb-79cd-4daa-99e8-89c05a15fa3c",
   "metadata": {},
   "source": [
    "(상황2)"
   ]
  },
  {
   "cell_type": "code",
   "execution_count": 75,
   "id": "18d13d80-7882-464b-a4c5-b13dfbe31f90",
   "metadata": {},
   "outputs": [
    {
     "data": {
      "text/plain": [
       "<tf.Tensor: shape=(2, 1), dtype=float32, numpy=\n",
       "array([[1.],\n",
       "       [2.]], dtype=float32)>"
      ]
     },
     "execution_count": 75,
     "metadata": {},
     "output_type": "execute_result"
    }
   ],
   "source": [
    "_x = tf.constant([[1.0],[2.0]])\n",
    "_x"
   ]
  },
  {
   "cell_type": "code",
   "execution_count": 76,
   "id": "d3c17e0b-e286-4c6f-b8e0-89406354f0a5",
   "metadata": {},
   "outputs": [
    {
     "data": {
      "text/plain": [
       "<tf.Tensor: shape=(2, 1), dtype=float32, numpy=\n",
       "array([[1.],\n",
       "       [2.]], dtype=float32)>"
      ]
     },
     "execution_count": 76,
     "metadata": {},
     "output_type": "execute_result"
    }
   ],
   "source": [
    "_I @ _x "
   ]
  },
  {
   "cell_type": "code",
   "execution_count": 77,
   "id": "7c9120f3-81a7-420c-a855-90dfbf2232dd",
   "metadata": {},
   "outputs": [
    {
     "ename": "InvalidArgumentError",
     "evalue": "Matrix size-incompatible: In[0]: [2,1], In[1]: [2,2] [Op:MatMul]",
     "output_type": "error",
     "traceback": [
      "\u001b[0;31m---------------------------------------------------------------------------\u001b[0m",
      "\u001b[0;31mInvalidArgumentError\u001b[0m                      Traceback (most recent call last)",
      "Input \u001b[0;32mIn [77]\u001b[0m, in \u001b[0;36m<cell line: 1>\u001b[0;34m()\u001b[0m\n\u001b[0;32m----> 1\u001b[0m \u001b[43m_x\u001b[49m\u001b[43m \u001b[49m\u001b[38;5;241;43m@\u001b[39;49m\u001b[43m \u001b[49m\u001b[43m_I\u001b[49m\n",
      "File \u001b[0;32m~/anaconda3/envs/py310/lib/python3.10/site-packages/tensorflow/python/util/traceback_utils.py:153\u001b[0m, in \u001b[0;36mfilter_traceback.<locals>.error_handler\u001b[0;34m(*args, **kwargs)\u001b[0m\n\u001b[1;32m    151\u001b[0m \u001b[38;5;28;01mexcept\u001b[39;00m \u001b[38;5;167;01mException\u001b[39;00m \u001b[38;5;28;01mas\u001b[39;00m e:\n\u001b[1;32m    152\u001b[0m   filtered_tb \u001b[38;5;241m=\u001b[39m _process_traceback_frames(e\u001b[38;5;241m.\u001b[39m__traceback__)\n\u001b[0;32m--> 153\u001b[0m   \u001b[38;5;28;01mraise\u001b[39;00m e\u001b[38;5;241m.\u001b[39mwith_traceback(filtered_tb) \u001b[38;5;28;01mfrom\u001b[39;00m \u001b[38;5;28mNone\u001b[39m\n\u001b[1;32m    154\u001b[0m \u001b[38;5;28;01mfinally\u001b[39;00m:\n\u001b[1;32m    155\u001b[0m   \u001b[38;5;28;01mdel\u001b[39;00m filtered_tb\n",
      "File \u001b[0;32m~/anaconda3/envs/py310/lib/python3.10/site-packages/tensorflow/python/framework/ops.py:7107\u001b[0m, in \u001b[0;36mraise_from_not_ok_status\u001b[0;34m(e, name)\u001b[0m\n\u001b[1;32m   7105\u001b[0m \u001b[38;5;28;01mdef\u001b[39;00m \u001b[38;5;21mraise_from_not_ok_status\u001b[39m(e, name):\n\u001b[1;32m   7106\u001b[0m   e\u001b[38;5;241m.\u001b[39mmessage \u001b[38;5;241m+\u001b[39m\u001b[38;5;241m=\u001b[39m (\u001b[38;5;124m\"\u001b[39m\u001b[38;5;124m name: \u001b[39m\u001b[38;5;124m\"\u001b[39m \u001b[38;5;241m+\u001b[39m name \u001b[38;5;28;01mif\u001b[39;00m name \u001b[38;5;129;01mis\u001b[39;00m \u001b[38;5;129;01mnot\u001b[39;00m \u001b[38;5;28;01mNone\u001b[39;00m \u001b[38;5;28;01melse\u001b[39;00m \u001b[38;5;124m\"\u001b[39m\u001b[38;5;124m\"\u001b[39m)\n\u001b[0;32m-> 7107\u001b[0m   \u001b[38;5;28;01mraise\u001b[39;00m core\u001b[38;5;241m.\u001b[39m_status_to_exception(e) \u001b[38;5;28;01mfrom\u001b[39;00m \u001b[38;5;28mNone\u001b[39m\n",
      "\u001b[0;31mInvalidArgumentError\u001b[0m: Matrix size-incompatible: In[0]: [2,1], In[1]: [2,2] [Op:MatMul]"
     ]
    }
   ],
   "source": [
    "_x @ _I"
   ]
  },
  {
   "cell_type": "markdown",
   "id": "d2a2ae9e-16fb-4e8a-bf62-8d27de0d0685",
   "metadata": {},
   "source": [
    "(상황3)"
   ]
  },
  {
   "cell_type": "code",
   "execution_count": 78,
   "id": "5978efda-4aef-45c6-bc55-beb1aa49cb38",
   "metadata": {},
   "outputs": [
    {
     "data": {
      "text/plain": [
       "<tf.Tensor: shape=(1, 2), dtype=float32, numpy=array([[1., 2.]], dtype=float32)>"
      ]
     },
     "execution_count": 78,
     "metadata": {},
     "output_type": "execute_result"
    }
   ],
   "source": [
    "_x = tf.constant([[1.0,2.0]])\n",
    "_x"
   ]
  },
  {
   "cell_type": "code",
   "execution_count": 79,
   "id": "b79e3dbb-cba3-4d60-867b-6a8ee34ebf97",
   "metadata": {},
   "outputs": [
    {
     "ename": "InvalidArgumentError",
     "evalue": "Matrix size-incompatible: In[0]: [2,2], In[1]: [1,2] [Op:MatMul]",
     "output_type": "error",
     "traceback": [
      "\u001b[0;31m---------------------------------------------------------------------------\u001b[0m",
      "\u001b[0;31mInvalidArgumentError\u001b[0m                      Traceback (most recent call last)",
      "Input \u001b[0;32mIn [79]\u001b[0m, in \u001b[0;36m<cell line: 1>\u001b[0;34m()\u001b[0m\n\u001b[0;32m----> 1\u001b[0m \u001b[43m_I\u001b[49m\u001b[43m \u001b[49m\u001b[38;5;241;43m@\u001b[39;49m\u001b[43m \u001b[49m\u001b[43m_x\u001b[49m\n",
      "File \u001b[0;32m~/anaconda3/envs/py310/lib/python3.10/site-packages/tensorflow/python/util/traceback_utils.py:153\u001b[0m, in \u001b[0;36mfilter_traceback.<locals>.error_handler\u001b[0;34m(*args, **kwargs)\u001b[0m\n\u001b[1;32m    151\u001b[0m \u001b[38;5;28;01mexcept\u001b[39;00m \u001b[38;5;167;01mException\u001b[39;00m \u001b[38;5;28;01mas\u001b[39;00m e:\n\u001b[1;32m    152\u001b[0m   filtered_tb \u001b[38;5;241m=\u001b[39m _process_traceback_frames(e\u001b[38;5;241m.\u001b[39m__traceback__)\n\u001b[0;32m--> 153\u001b[0m   \u001b[38;5;28;01mraise\u001b[39;00m e\u001b[38;5;241m.\u001b[39mwith_traceback(filtered_tb) \u001b[38;5;28;01mfrom\u001b[39;00m \u001b[38;5;28mNone\u001b[39m\n\u001b[1;32m    154\u001b[0m \u001b[38;5;28;01mfinally\u001b[39;00m:\n\u001b[1;32m    155\u001b[0m   \u001b[38;5;28;01mdel\u001b[39;00m filtered_tb\n",
      "File \u001b[0;32m~/anaconda3/envs/py310/lib/python3.10/site-packages/tensorflow/python/framework/ops.py:7107\u001b[0m, in \u001b[0;36mraise_from_not_ok_status\u001b[0;34m(e, name)\u001b[0m\n\u001b[1;32m   7105\u001b[0m \u001b[38;5;28;01mdef\u001b[39;00m \u001b[38;5;21mraise_from_not_ok_status\u001b[39m(e, name):\n\u001b[1;32m   7106\u001b[0m   e\u001b[38;5;241m.\u001b[39mmessage \u001b[38;5;241m+\u001b[39m\u001b[38;5;241m=\u001b[39m (\u001b[38;5;124m\"\u001b[39m\u001b[38;5;124m name: \u001b[39m\u001b[38;5;124m\"\u001b[39m \u001b[38;5;241m+\u001b[39m name \u001b[38;5;28;01mif\u001b[39;00m name \u001b[38;5;129;01mis\u001b[39;00m \u001b[38;5;129;01mnot\u001b[39;00m \u001b[38;5;28;01mNone\u001b[39;00m \u001b[38;5;28;01melse\u001b[39;00m \u001b[38;5;124m\"\u001b[39m\u001b[38;5;124m\"\u001b[39m)\n\u001b[0;32m-> 7107\u001b[0m   \u001b[38;5;28;01mraise\u001b[39;00m core\u001b[38;5;241m.\u001b[39m_status_to_exception(e) \u001b[38;5;28;01mfrom\u001b[39;00m \u001b[38;5;28mNone\u001b[39m\n",
      "\u001b[0;31mInvalidArgumentError\u001b[0m: Matrix size-incompatible: In[0]: [2,2], In[1]: [1,2] [Op:MatMul]"
     ]
    }
   ],
   "source": [
    "_I @ _x "
   ]
  },
  {
   "cell_type": "code",
   "execution_count": 80,
   "id": "2ac499c9-cf9e-402b-afcd-3a54ed64bba3",
   "metadata": {},
   "outputs": [
    {
     "data": {
      "text/plain": [
       "<tf.Tensor: shape=(1, 2), dtype=float32, numpy=array([[1., 2.]], dtype=float32)>"
      ]
     },
     "execution_count": 80,
     "metadata": {},
     "output_type": "execute_result"
    }
   ],
   "source": [
    "_x @ _I "
   ]
  },
  {
   "cell_type": "markdown",
   "id": "608520e5-2022-4134-b554-0def3363a827",
   "metadata": {},
   "source": [
    "(넘파이는 다르다..)"
   ]
  },
  {
   "cell_type": "code",
   "execution_count": 88,
   "id": "e8c5ef8e-2360-43d7-8e22-d3341849218e",
   "metadata": {},
   "outputs": [
    {
     "data": {
      "text/plain": [
       "array([22, 33])"
      ]
     },
     "execution_count": 88,
     "metadata": {},
     "output_type": "execute_result"
    }
   ],
   "source": [
    "np.array([22,33]) @ np.diag([1,1]) "
   ]
  },
  {
   "cell_type": "code",
   "execution_count": 89,
   "id": "ad9c2be4-2f8f-463a-ace7-86dbac95ba2a",
   "metadata": {},
   "outputs": [
    {
     "ename": "ValueError",
     "evalue": "matmul: Input operand 1 has a mismatch in its core dimension 0, with gufunc signature (n?,k),(k,m?)->(n?,m?) (size 2 is different from 1)",
     "output_type": "error",
     "traceback": [
      "\u001b[0;31m---------------------------------------------------------------------------\u001b[0m",
      "\u001b[0;31mValueError\u001b[0m                                Traceback (most recent call last)",
      "Input \u001b[0;32mIn [89]\u001b[0m, in \u001b[0;36m<cell line: 1>\u001b[0;34m()\u001b[0m\n\u001b[0;32m----> 1\u001b[0m \u001b[43mnp\u001b[49m\u001b[38;5;241;43m.\u001b[39;49m\u001b[43marray\u001b[49m\u001b[43m(\u001b[49m\u001b[43m[\u001b[49m\u001b[43m[\u001b[49m\u001b[38;5;241;43m22\u001b[39;49m\u001b[43m]\u001b[49m\u001b[43m,\u001b[49m\u001b[43m[\u001b[49m\u001b[38;5;241;43m33\u001b[39;49m\u001b[43m]\u001b[49m\u001b[43m]\u001b[49m\u001b[43m)\u001b[49m\u001b[43m \u001b[49m\u001b[38;5;241;43m@\u001b[39;49m\u001b[43m \u001b[49m\u001b[43mnp\u001b[49m\u001b[38;5;241;43m.\u001b[39;49m\u001b[43mdiag\u001b[49m\u001b[43m(\u001b[49m\u001b[43m[\u001b[49m\u001b[38;5;241;43m1\u001b[39;49m\u001b[43m,\u001b[49m\u001b[38;5;241;43m1\u001b[39;49m\u001b[43m]\u001b[49m\u001b[43m)\u001b[49m\n",
      "\u001b[0;31mValueError\u001b[0m: matmul: Input operand 1 has a mismatch in its core dimension 0, with gufunc signature (n?,k),(k,m?)->(n?,m?) (size 2 is different from 1)"
     ]
    }
   ],
   "source": [
    "np.array([[22],[33]]) @ np.diag([1,1])"
   ]
  },
  {
   "cell_type": "markdown",
   "id": "36eb6964-8d92-469c-b4fd-5e9ae19bf9af",
   "metadata": {
    "tags": []
   },
   "source": [
    "#### 형태변환"
   ]
  },
  {
   "cell_type": "markdown",
   "id": "f8d6a2ff-e6e3-437f-b5ca-49e829c61d85",
   "metadata": {},
   "source": [
    "`-` tf.reshape 기본 "
   ]
  },
  {
   "cell_type": "code",
   "execution_count": 92,
   "id": "4ca438a3-2291-4708-842a-d99d4c19cd75",
   "metadata": {},
   "outputs": [
    {
     "data": {
      "text/plain": [
       "<tf.Tensor: shape=(4,), dtype=int32, numpy=array([1, 2, 3, 4], dtype=int32)>"
      ]
     },
     "execution_count": 92,
     "metadata": {},
     "output_type": "execute_result"
    }
   ],
   "source": [
    "a=tf.constant([1,2,3,4])\n",
    "a"
   ]
  },
  {
   "cell_type": "code",
   "execution_count": 93,
   "id": "6594a457-348d-488b-acb0-ed90078fad6c",
   "metadata": {},
   "outputs": [
    {
     "data": {
      "text/plain": [
       "<tf.Tensor: shape=(2, 2), dtype=int32, numpy=\n",
       "array([[1, 2],\n",
       "       [3, 4]], dtype=int32)>"
      ]
     },
     "execution_count": 93,
     "metadata": {},
     "output_type": "execute_result"
    }
   ],
   "source": [
    "tf.reshape(a,(2,2))"
   ]
  },
  {
   "cell_type": "code",
   "execution_count": 94,
   "id": "edf8dbfa-be11-4cb2-b4d6-2bff62ba4e61",
   "metadata": {},
   "outputs": [
    {
     "data": {
      "text/plain": [
       "<tf.Tensor: shape=(4, 1), dtype=int32, numpy=\n",
       "array([[1],\n",
       "       [2],\n",
       "       [3],\n",
       "       [4]], dtype=int32)>"
      ]
     },
     "execution_count": 94,
     "metadata": {},
     "output_type": "execute_result"
    }
   ],
   "source": [
    "tf.reshape(a,(4,1))"
   ]
  },
  {
   "cell_type": "code",
   "execution_count": 95,
   "id": "19f4b351-ec6f-410f-b0da-9ec8a21e4d61",
   "metadata": {},
   "outputs": [
    {
     "data": {
      "text/plain": [
       "<tf.Tensor: shape=(1, 4), dtype=int32, numpy=array([[1, 2, 3, 4]], dtype=int32)>"
      ]
     },
     "execution_count": 95,
     "metadata": {},
     "output_type": "execute_result"
    }
   ],
   "source": [
    "tf.reshape(a,(1,4))"
   ]
  },
  {
   "cell_type": "markdown",
   "id": "0dfb9a9e-e617-4abb-8bde-1a1d6264a930",
   "metadata": {},
   "source": [
    "`-` tf.reshape 응용 "
   ]
  },
  {
   "cell_type": "code",
   "execution_count": 99,
   "id": "83f589d0-2595-42a5-8729-7b5272f6ed4b",
   "metadata": {},
   "outputs": [
    {
     "data": {
      "text/plain": [
       "<tf.Tensor: shape=(12,), dtype=int32, numpy=array([ 0,  1,  2,  3,  4,  5,  6,  7,  8,  9, 10, 11], dtype=int32)>"
      ]
     },
     "execution_count": 99,
     "metadata": {},
     "output_type": "execute_result"
    }
   ],
   "source": [
    "a= tf.constant([0,1,2,3,4,5,6,7,8,9,10,11]) # length 12 vector\n",
    "a"
   ]
  },
  {
   "cell_type": "code",
   "execution_count": 100,
   "id": "8050bb68-9ed2-4cb9-b947-85aeecb389f1",
   "metadata": {},
   "outputs": [
    {
     "data": {
      "text/plain": [
       "<tf.Tensor: shape=(4, 3), dtype=int32, numpy=\n",
       "array([[ 0,  1,  2],\n",
       "       [ 3,  4,  5],\n",
       "       [ 6,  7,  8],\n",
       "       [ 9, 10, 11]], dtype=int32)>"
      ]
     },
     "execution_count": 100,
     "metadata": {},
     "output_type": "execute_result"
    }
   ],
   "source": [
    "tf.reshape(a,(4,3))"
   ]
  },
  {
   "cell_type": "code",
   "execution_count": 101,
   "id": "c38c14a6-ec3c-4082-80b3-54f69e614f6e",
   "metadata": {},
   "outputs": [
    {
     "data": {
      "text/plain": [
       "<tf.Tensor: shape=(2, 2, 3), dtype=int32, numpy=\n",
       "array([[[ 0,  1,  2],\n",
       "        [ 3,  4,  5]],\n",
       "\n",
       "       [[ 6,  7,  8],\n",
       "        [ 9, 10, 11]]], dtype=int32)>"
      ]
     },
     "execution_count": 101,
     "metadata": {},
     "output_type": "execute_result"
    }
   ],
   "source": [
    "tf.reshape(a,(2,2,3))"
   ]
  },
  {
   "cell_type": "code",
   "execution_count": 102,
   "id": "94debd2d-6109-466f-9b50-e2279927e8cd",
   "metadata": {},
   "outputs": [
    {
     "data": {
      "text/plain": [
       "<tf.Tensor: shape=(3, 4), dtype=int32, numpy=\n",
       "array([[ 0,  1,  2,  3],\n",
       "       [ 4,  5,  6,  7],\n",
       "       [ 8,  9, 10, 11]], dtype=int32)>"
      ]
     },
     "execution_count": 102,
     "metadata": {},
     "output_type": "execute_result"
    }
   ],
   "source": [
    "tf.reshape(a,(3,-1))"
   ]
  },
  {
   "cell_type": "code",
   "execution_count": 103,
   "id": "e3911cd5-c29d-4c11-899c-0256e8c8f4ba",
   "metadata": {},
   "outputs": [
    {
     "data": {
      "text/plain": [
       "<tf.Tensor: shape=(2, 2, 3), dtype=int32, numpy=\n",
       "array([[[ 0,  1,  2],\n",
       "        [ 3,  4,  5]],\n",
       "\n",
       "       [[ 6,  7,  8],\n",
       "        [ 9, 10, 11]]], dtype=int32)>"
      ]
     },
     "execution_count": 103,
     "metadata": {},
     "output_type": "execute_result"
    }
   ],
   "source": [
    "tf.reshape(a,(2,2,-1))"
   ]
  },
  {
   "cell_type": "code",
   "execution_count": 105,
   "id": "3b0c770f-3fd6-4197-b503-226460bd5a11",
   "metadata": {},
   "outputs": [
    {
     "data": {
      "text/plain": [
       "<tf.Tensor: shape=(2, 2, 3), dtype=int32, numpy=\n",
       "array([[[ 0,  1,  2],\n",
       "        [ 3,  4,  5]],\n",
       "\n",
       "       [[ 6,  7,  8],\n",
       "        [ 9, 10, 11]]], dtype=int32)>"
      ]
     },
     "execution_count": 105,
     "metadata": {},
     "output_type": "execute_result"
    }
   ],
   "source": [
    "b=tf.reshape(a,(2,2,-1))\n",
    "b"
   ]
  },
  {
   "cell_type": "code",
   "execution_count": 107,
   "id": "c9284b8f-b8f5-4ce2-8b39-0412bc377a8b",
   "metadata": {},
   "outputs": [
    {
     "data": {
      "text/plain": [
       "<tf.Tensor: shape=(12,), dtype=int32, numpy=array([ 0,  1,  2,  3,  4,  5,  6,  7,  8,  9, 10, 11], dtype=int32)>"
      ]
     },
     "execution_count": 107,
     "metadata": {},
     "output_type": "execute_result"
    }
   ],
   "source": [
    "tf.reshape(b,-1)"
   ]
  },
  {
   "cell_type": "markdown",
   "id": "327eb735-9f41-40d5-8837-1ff630860b58",
   "metadata": {},
   "source": [
    "#### 선언고급 "
   ]
  },
  {
   "cell_type": "markdown",
   "id": "0fa6642c-780c-4638-8776-376becc93073",
   "metadata": {},
   "source": [
    "`-` 대각행렬선언 "
   ]
  },
  {
   "cell_type": "code",
   "execution_count": 110,
   "id": "c854bfb3-7d10-41ec-9abc-00874df14a4c",
   "metadata": {},
   "outputs": [
    {
     "data": {
      "text/plain": [
       "<tf.Tensor: shape=(3, 3), dtype=int64, numpy=\n",
       "array([[1, 0, 0],\n",
       "       [0, 2, 0],\n",
       "       [0, 0, 3]])>"
      ]
     },
     "execution_count": 110,
     "metadata": {},
     "output_type": "execute_result"
    }
   ],
   "source": [
    "tf.constant(np.diag([1,2,3]))"
   ]
  },
  {
   "cell_type": "markdown",
   "id": "725d4e91-aea1-4f60-884c-f98489002078",
   "metadata": {},
   "source": [
    "`-` 1만 포함한 텐서를 만들고 싶음 "
   ]
  },
  {
   "cell_type": "code",
   "execution_count": 113,
   "id": "0fdb8db0-4011-494e-aa9d-5e1b0a5cec5c",
   "metadata": {},
   "outputs": [
    {
     "data": {
      "text/plain": [
       "<tf.Tensor: shape=(3, 4), dtype=float32, numpy=\n",
       "array([[1., 1., 1., 1.],\n",
       "       [1., 1., 1., 1.],\n",
       "       [1., 1., 1., 1.]], dtype=float32)>"
      ]
     },
     "execution_count": 113,
     "metadata": {},
     "output_type": "execute_result"
    }
   ],
   "source": [
    "tf.ones([3,4])"
   ]
  },
  {
   "cell_type": "code",
   "execution_count": 116,
   "id": "c870d706-3894-4ca3-9539-1f1860c28d08",
   "metadata": {},
   "outputs": [
    {
     "data": {
      "text/plain": [
       "<tf.Tensor: shape=(3, 4), dtype=int32, numpy=\n",
       "array([[1, 1, 1, 1],\n",
       "       [1, 1, 1, 1],\n",
       "       [1, 1, 1, 1]], dtype=int32)>"
      ]
     },
     "execution_count": 116,
     "metadata": {},
     "output_type": "execute_result"
    }
   ],
   "source": [
    "tf.reshape(tf.constant([1]*12),(3,4))"
   ]
  },
  {
   "cell_type": "markdown",
   "id": "2d0f27b7-688e-437a-856a-7ebb6d6a4a27",
   "metadata": {},
   "source": [
    "#### tf.concat "
   ]
  },
  {
   "cell_type": "markdown",
   "id": "fd8402bf-ccef-414e-a574-22524b02b593",
   "metadata": {},
   "source": [
    "#### tf.stack "
   ]
  },
  {
   "cell_type": "markdown",
   "id": "57cefe0a-61fa-451a-8b7c-cf27ceb750b6",
   "metadata": {
    "tags": []
   },
   "source": [
    "#### tf.einsum"
   ]
  },
  {
   "cell_type": "markdown",
   "id": "d314cfb7-f3f1-496d-b5cb-ac6f57eaa503",
   "metadata": {},
   "source": [
    "### tnp"
   ]
  },
  {
   "cell_type": "markdown",
   "id": "de010dbc-4294-4a4f-a861-c13799fe1eb6",
   "metadata": {},
   "source": [
    "#### tnp 사용방법 (불만해결방법)"
   ]
  },
  {
   "cell_type": "markdown",
   "id": "a7e4538a-52ff-4f84-8ac9-5381e0970fef",
   "metadata": {},
   "source": [
    "#### 선언, 선언고급"
   ]
  },
  {
   "cell_type": "markdown",
   "id": "c1a84f81-fff4-4a5a-b8b2-8045ba3943fe",
   "metadata": {},
   "source": [
    "#### 타입"
   ]
  },
  {
   "cell_type": "markdown",
   "id": "bb759864-ef75-4ba0-9a11-d10cca6669f3",
   "metadata": {},
   "source": [
    "#### tf.contant로 만들어도 마치 넘파이인듯 쓰는 기능들"
   ]
  },
  {
   "cell_type": "markdown",
   "id": "8426767e-976c-4e35-a390-7f2943ec4e8d",
   "metadata": {},
   "source": [
    "#### 그렇지만 np.array는 아님 "
   ]
  },
  {
   "cell_type": "markdown",
   "id": "134e8dc9-4dcf-4802-b6c8-ca0178d2792d",
   "metadata": {},
   "source": [
    "### tf.Variable"
   ]
  },
  {
   "cell_type": "markdown",
   "id": "da5a80db-9fe7-4c46-b210-dd10a07fef3b",
   "metadata": {},
   "source": [
    "#### 선언 "
   ]
  },
  {
   "cell_type": "markdown",
   "id": "e60dd0db-f157-4def-802d-613b2bd20804",
   "metadata": {},
   "source": [
    "#### 타입"
   ]
  },
  {
   "cell_type": "markdown",
   "id": "ea5946ae-2c9a-4d31-8720-5c136a024eca",
   "metadata": {},
   "source": [
    "#### 인덱싱 "
   ]
  },
  {
   "cell_type": "markdown",
   "id": "7e469d06-98f9-4470-a654-299a97383706",
   "metadata": {},
   "source": [
    "#### tf.Variable $\\to$ 넘파이 "
   ]
  },
  {
   "cell_type": "markdown",
   "id": "065ea0b5-16ea-4884-b640-ac074d0c44ce",
   "metadata": {},
   "source": [
    "#### tf.Variable 도 불편하다. "
   ]
  },
  {
   "cell_type": "markdown",
   "id": "6f802f8d-2562-4af8-b386-199fb01461c5",
   "metadata": {},
   "source": [
    "#### 연산 "
   ]
  },
  {
   "cell_type": "markdown",
   "id": "5ae73107-074f-4c65-8ebb-4bf54e889b4c",
   "metadata": {},
   "source": [
    "#### 형태변환 "
   ]
  },
  {
   "cell_type": "markdown",
   "id": "a9b7e7eb-aeb9-491b-83d7-4a3d26334364",
   "metadata": {},
   "source": [
    "#### 선언고급 "
   ]
  },
  {
   "cell_type": "markdown",
   "id": "ac9fb364-db20-4174-8b1d-5a476436fe77",
   "metadata": {},
   "source": [
    "#### tf.concat "
   ]
  },
  {
   "cell_type": "markdown",
   "id": "fc96fc7a-a57e-4eee-9931-88bca5d3e0f6",
   "metadata": {},
   "source": [
    "#### tf.stack"
   ]
  },
  {
   "cell_type": "markdown",
   "id": "43844a72-d627-49f1-8146-36859459a654",
   "metadata": {},
   "source": [
    "#### 심지어 tf.Variable()로 만들어진 오브젝트는 tnp의 효과(은총)도 받지 못함"
   ]
  }
 ],
 "metadata": {
  "kernelspec": {
   "display_name": "Python 3 (ipykernel)",
   "language": "python",
   "name": "python3"
  },
  "language_info": {
   "codemirror_mode": {
    "name": "ipython",
    "version": 3
   },
   "file_extension": ".py",
   "mimetype": "text/x-python",
   "name": "python",
   "nbconvert_exporter": "python",
   "pygments_lexer": "ipython3",
   "version": "3.10.0"
  },
  "toc-autonumbering": false
 },
 "nbformat": 4,
 "nbformat_minor": 5
}
